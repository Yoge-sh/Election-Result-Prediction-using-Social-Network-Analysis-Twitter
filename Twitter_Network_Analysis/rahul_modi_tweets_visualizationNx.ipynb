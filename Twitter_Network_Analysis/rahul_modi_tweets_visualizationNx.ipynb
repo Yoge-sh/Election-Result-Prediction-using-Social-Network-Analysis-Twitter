{
  "cells": [
    {
      "cell_type": "markdown",
      "metadata": {
        "id": "BJoMZs7-JGH2"
      },
      "source": [
        "### Import"
      ]
    },
    {
      "cell_type": "code",
      "execution_count": null,
      "metadata": {
        "id": "RVdNNiC8JGH3"
      },
      "outputs": [],
      "source": [
        "import pandas as pd\n",
        "import random\n",
        "import networkx as nx\n",
        "import matplotlib.pyplot as plt\n",
        "%matplotlib inline"
      ]
    },
    {
      "cell_type": "markdown",
      "source": [
        "# Final Visualization"
      ],
      "metadata": {
        "id": "aV_cH6ZcJdal"
      }
    },
    {
      "cell_type": "code",
      "execution_count": null,
      "metadata": {
        "id": "8j-VXq3dJGIB"
      },
      "outputs": [],
      "source": [
        "df1 = pd.read_csv(\"data/modi_tweets.csv\")\n",
        "df2=pd.read_csv(\"data/rahul_tweets.csv\")"
      ]
    },
    {
      "cell_type": "code",
      "execution_count": null,
      "metadata": {
        "id": "iVwsXsxFJGIB",
        "outputId": "bd85637a-4665-4e52-cfae-973ceec3311a"
      },
      "outputs": [
        {
          "data": {
            "text/html": [
              "<div>\n",
              "<style scoped>\n",
              "    .dataframe tbody tr th:only-of-type {\n",
              "        vertical-align: middle;\n",
              "    }\n",
              "\n",
              "    .dataframe tbody tr th {\n",
              "        vertical-align: top;\n",
              "    }\n",
              "\n",
              "    .dataframe thead th {\n",
              "        text-align: right;\n",
              "    }\n",
              "</style>\n",
              "<table border=\"1\" class=\"dataframe\">\n",
              "  <thead>\n",
              "    <tr style=\"text-align: right;\">\n",
              "      <th></th>\n",
              "      <th>Unnamed: 0</th>\n",
              "      <th>Date</th>\n",
              "      <th>User</th>\n",
              "      <th>Tweet</th>\n",
              "      <th>Emotion</th>\n",
              "    </tr>\n",
              "  </thead>\n",
              "  <tbody>\n",
              "    <tr>\n",
              "      <th>0</th>\n",
              "      <td>0</td>\n",
              "      <td>2019-05-18 23:50:47+00:00</td>\n",
              "      <td>advosushildixit</td>\n",
              "      <td>@anjanaomkashyap I am seeing you as future #bj...</td>\n",
              "      <td>neg</td>\n",
              "    </tr>\n",
              "    <tr>\n",
              "      <th>1</th>\n",
              "      <td>1</td>\n",
              "      <td>2019-05-18 23:00:03+00:00</td>\n",
              "      <td>jiaeur</td>\n",
              "      <td>#LokSabhaElections2019 \\n23rd May 2019 will re...</td>\n",
              "      <td>neg</td>\n",
              "    </tr>\n",
              "    <tr>\n",
              "      <th>2</th>\n",
              "      <td>2</td>\n",
              "      <td>2019-05-18 22:53:54+00:00</td>\n",
              "      <td>PVenkatGandhi</td>\n",
              "      <td>#LokSabhaElections2019 \\n23rd May 2019 will re...</td>\n",
              "      <td>neg</td>\n",
              "    </tr>\n",
              "    <tr>\n",
              "      <th>3</th>\n",
              "      <td>3</td>\n",
              "      <td>2019-05-18 22:20:48+00:00</td>\n",
              "      <td>TheNirbhay1</td>\n",
              "      <td>PM Modi creates a new record of being the only...</td>\n",
              "      <td>pos</td>\n",
              "    </tr>\n",
              "    <tr>\n",
              "      <th>4</th>\n",
              "      <td>4</td>\n",
              "      <td>2019-05-18 21:22:29+00:00</td>\n",
              "      <td>ShakeChilli</td>\n",
              "      <td>@abhijitmajumder Appointment of Successor! \\n\\...</td>\n",
              "      <td>pos</td>\n",
              "    </tr>\n",
              "    <tr>\n",
              "      <th>...</th>\n",
              "      <td>...</td>\n",
              "      <td>...</td>\n",
              "      <td>...</td>\n",
              "      <td>...</td>\n",
              "      <td>...</td>\n",
              "    </tr>\n",
              "    <tr>\n",
              "      <th>25683</th>\n",
              "      <td>25678</td>\n",
              "      <td>2019-04-09 12:06:31+00:00</td>\n",
              "      <td>shv_indian</td>\n",
              "      <td>#1DDrive #ModiSpeaksToNews18 #LokSabhaElection...</td>\n",
              "      <td>pos</td>\n",
              "    </tr>\n",
              "    <tr>\n",
              "      <th>25684</th>\n",
              "      <td>25679</td>\n",
              "      <td>2019-03-29 15:42:44+00:00</td>\n",
              "      <td>SONUPINKOO</td>\n",
              "      <td>I am seriously worried about future of Indian ...</td>\n",
              "      <td>pos</td>\n",
              "    </tr>\n",
              "    <tr>\n",
              "      <th>25685</th>\n",
              "      <td>25680</td>\n",
              "      <td>2019-03-29 13:28:51+00:00</td>\n",
              "      <td>SONUPINKOO</td>\n",
              "      <td>If @narendramodi is so Bad then Why does @INCI...</td>\n",
              "      <td>neg</td>\n",
              "    </tr>\n",
              "    <tr>\n",
              "      <th>25686</th>\n",
              "      <td>25681</td>\n",
              "      <td>2019-03-23 05:06:36+00:00</td>\n",
              "      <td>SONUPINKOO</td>\n",
              "      <td>On this 23rd March (Pakistan Day), I Urge all ...</td>\n",
              "      <td>neg</td>\n",
              "    </tr>\n",
              "    <tr>\n",
              "      <th>25687</th>\n",
              "      <td>25682</td>\n",
              "      <td>2019-03-19 15:37:34+00:00</td>\n",
              "      <td>parthajit0101</td>\n",
              "      <td>@timesofindia #ArvindKejriwal, #AAP sirji pls ...</td>\n",
              "      <td>neg</td>\n",
              "    </tr>\n",
              "  </tbody>\n",
              "</table>\n",
              "<p>25688 rows × 5 columns</p>\n",
              "</div>"
            ],
            "text/plain": [
              "      Unnamed: 0                       Date             User  \\\n",
              "0              0  2019-05-18 23:50:47+00:00  advosushildixit   \n",
              "1              1  2019-05-18 23:00:03+00:00           jiaeur   \n",
              "2              2  2019-05-18 22:53:54+00:00    PVenkatGandhi   \n",
              "3              3  2019-05-18 22:20:48+00:00      TheNirbhay1   \n",
              "4              4  2019-05-18 21:22:29+00:00      ShakeChilli   \n",
              "...          ...                        ...              ...   \n",
              "25683      25678  2019-04-09 12:06:31+00:00       shv_indian   \n",
              "25684      25679  2019-03-29 15:42:44+00:00       SONUPINKOO   \n",
              "25685      25680  2019-03-29 13:28:51+00:00       SONUPINKOO   \n",
              "25686      25681  2019-03-23 05:06:36+00:00       SONUPINKOO   \n",
              "25687      25682  2019-03-19 15:37:34+00:00    parthajit0101   \n",
              "\n",
              "                                                   Tweet Emotion  \n",
              "0      @anjanaomkashyap I am seeing you as future #bj...     neg  \n",
              "1      #LokSabhaElections2019 \\n23rd May 2019 will re...     neg  \n",
              "2      #LokSabhaElections2019 \\n23rd May 2019 will re...     neg  \n",
              "3      PM Modi creates a new record of being the only...     pos  \n",
              "4      @abhijitmajumder Appointment of Successor! \\n\\...     pos  \n",
              "...                                                  ...     ...  \n",
              "25683  #1DDrive #ModiSpeaksToNews18 #LokSabhaElection...     pos  \n",
              "25684  I am seriously worried about future of Indian ...     pos  \n",
              "25685  If @narendramodi is so Bad then Why does @INCI...     neg  \n",
              "25686  On this 23rd March (Pakistan Day), I Urge all ...     neg  \n",
              "25687  @timesofindia #ArvindKejriwal, #AAP sirji pls ...     neg  \n",
              "\n",
              "[25688 rows x 5 columns]"
            ]
          },
          "execution_count": 146,
          "metadata": {},
          "output_type": "execute_result"
        }
      ],
      "source": [
        "df1"
      ]
    },
    {
      "cell_type": "code",
      "execution_count": null,
      "metadata": {
        "id": "yyuh-QcQJGIB"
      },
      "outputs": [],
      "source": [
        "df1[\"target\"] = pd.Series([\"Narendra Modi\" for x in range(len(df1.index))])"
      ]
    },
    {
      "cell_type": "code",
      "execution_count": null,
      "metadata": {
        "id": "HKrXrj6MJGIB"
      },
      "outputs": [],
      "source": [
        "df1.to_csv(\"modifinal.csv\",index=None)"
      ]
    },
    {
      "cell_type": "code",
      "execution_count": null,
      "metadata": {
        "id": "G2m41_KWJGIB",
        "outputId": "89a83d28-dca5-4df6-baa7-9dc7705fb882"
      },
      "outputs": [
        {
          "data": {
            "text/html": [
              "<div>\n",
              "<style scoped>\n",
              "    .dataframe tbody tr th:only-of-type {\n",
              "        vertical-align: middle;\n",
              "    }\n",
              "\n",
              "    .dataframe tbody tr th {\n",
              "        vertical-align: top;\n",
              "    }\n",
              "\n",
              "    .dataframe thead th {\n",
              "        text-align: right;\n",
              "    }\n",
              "</style>\n",
              "<table border=\"1\" class=\"dataframe\">\n",
              "  <thead>\n",
              "    <tr style=\"text-align: right;\">\n",
              "      <th></th>\n",
              "      <th>Unnamed: 0</th>\n",
              "      <th>Date</th>\n",
              "      <th>User</th>\n",
              "      <th>Tweet</th>\n",
              "      <th>Emotion</th>\n",
              "      <th>target</th>\n",
              "    </tr>\n",
              "  </thead>\n",
              "  <tbody>\n",
              "    <tr>\n",
              "      <th>0</th>\n",
              "      <td>0</td>\n",
              "      <td>2019-05-18 23:50:47+00:00</td>\n",
              "      <td>advosushildixit</td>\n",
              "      <td>@anjanaomkashyap I am seeing you as future #bj...</td>\n",
              "      <td>neg</td>\n",
              "      <td>Narendra Modi</td>\n",
              "    </tr>\n",
              "    <tr>\n",
              "      <th>1</th>\n",
              "      <td>1</td>\n",
              "      <td>2019-05-18 23:00:03+00:00</td>\n",
              "      <td>jiaeur</td>\n",
              "      <td>#LokSabhaElections2019 \\n23rd May 2019 will re...</td>\n",
              "      <td>neg</td>\n",
              "      <td>Narendra Modi</td>\n",
              "    </tr>\n",
              "    <tr>\n",
              "      <th>2</th>\n",
              "      <td>2</td>\n",
              "      <td>2019-05-18 22:53:54+00:00</td>\n",
              "      <td>PVenkatGandhi</td>\n",
              "      <td>#LokSabhaElections2019 \\n23rd May 2019 will re...</td>\n",
              "      <td>neg</td>\n",
              "      <td>Narendra Modi</td>\n",
              "    </tr>\n",
              "    <tr>\n",
              "      <th>3</th>\n",
              "      <td>3</td>\n",
              "      <td>2019-05-18 22:20:48+00:00</td>\n",
              "      <td>TheNirbhay1</td>\n",
              "      <td>PM Modi creates a new record of being the only...</td>\n",
              "      <td>pos</td>\n",
              "      <td>Narendra Modi</td>\n",
              "    </tr>\n",
              "    <tr>\n",
              "      <th>4</th>\n",
              "      <td>4</td>\n",
              "      <td>2019-05-18 21:22:29+00:00</td>\n",
              "      <td>ShakeChilli</td>\n",
              "      <td>@abhijitmajumder Appointment of Successor! \\n\\...</td>\n",
              "      <td>pos</td>\n",
              "      <td>Narendra Modi</td>\n",
              "    </tr>\n",
              "    <tr>\n",
              "      <th>...</th>\n",
              "      <td>...</td>\n",
              "      <td>...</td>\n",
              "      <td>...</td>\n",
              "      <td>...</td>\n",
              "      <td>...</td>\n",
              "      <td>...</td>\n",
              "    </tr>\n",
              "    <tr>\n",
              "      <th>25683</th>\n",
              "      <td>25678</td>\n",
              "      <td>2019-04-09 12:06:31+00:00</td>\n",
              "      <td>shv_indian</td>\n",
              "      <td>#1DDrive #ModiSpeaksToNews18 #LokSabhaElection...</td>\n",
              "      <td>pos</td>\n",
              "      <td>Narendra Modi</td>\n",
              "    </tr>\n",
              "    <tr>\n",
              "      <th>25684</th>\n",
              "      <td>25679</td>\n",
              "      <td>2019-03-29 15:42:44+00:00</td>\n",
              "      <td>SONUPINKOO</td>\n",
              "      <td>I am seriously worried about future of Indian ...</td>\n",
              "      <td>pos</td>\n",
              "      <td>Narendra Modi</td>\n",
              "    </tr>\n",
              "    <tr>\n",
              "      <th>25685</th>\n",
              "      <td>25680</td>\n",
              "      <td>2019-03-29 13:28:51+00:00</td>\n",
              "      <td>SONUPINKOO</td>\n",
              "      <td>If @narendramodi is so Bad then Why does @INCI...</td>\n",
              "      <td>neg</td>\n",
              "      <td>Narendra Modi</td>\n",
              "    </tr>\n",
              "    <tr>\n",
              "      <th>25686</th>\n",
              "      <td>25681</td>\n",
              "      <td>2019-03-23 05:06:36+00:00</td>\n",
              "      <td>SONUPINKOO</td>\n",
              "      <td>On this 23rd March (Pakistan Day), I Urge all ...</td>\n",
              "      <td>neg</td>\n",
              "      <td>Narendra Modi</td>\n",
              "    </tr>\n",
              "    <tr>\n",
              "      <th>25687</th>\n",
              "      <td>25682</td>\n",
              "      <td>2019-03-19 15:37:34+00:00</td>\n",
              "      <td>parthajit0101</td>\n",
              "      <td>@timesofindia #ArvindKejriwal, #AAP sirji pls ...</td>\n",
              "      <td>neg</td>\n",
              "      <td>Narendra Modi</td>\n",
              "    </tr>\n",
              "  </tbody>\n",
              "</table>\n",
              "<p>25688 rows × 6 columns</p>\n",
              "</div>"
            ],
            "text/plain": [
              "      Unnamed: 0                       Date             User  \\\n",
              "0              0  2019-05-18 23:50:47+00:00  advosushildixit   \n",
              "1              1  2019-05-18 23:00:03+00:00           jiaeur   \n",
              "2              2  2019-05-18 22:53:54+00:00    PVenkatGandhi   \n",
              "3              3  2019-05-18 22:20:48+00:00      TheNirbhay1   \n",
              "4              4  2019-05-18 21:22:29+00:00      ShakeChilli   \n",
              "...          ...                        ...              ...   \n",
              "25683      25678  2019-04-09 12:06:31+00:00       shv_indian   \n",
              "25684      25679  2019-03-29 15:42:44+00:00       SONUPINKOO   \n",
              "25685      25680  2019-03-29 13:28:51+00:00       SONUPINKOO   \n",
              "25686      25681  2019-03-23 05:06:36+00:00       SONUPINKOO   \n",
              "25687      25682  2019-03-19 15:37:34+00:00    parthajit0101   \n",
              "\n",
              "                                                   Tweet Emotion  \\\n",
              "0      @anjanaomkashyap I am seeing you as future #bj...     neg   \n",
              "1      #LokSabhaElections2019 \\n23rd May 2019 will re...     neg   \n",
              "2      #LokSabhaElections2019 \\n23rd May 2019 will re...     neg   \n",
              "3      PM Modi creates a new record of being the only...     pos   \n",
              "4      @abhijitmajumder Appointment of Successor! \\n\\...     pos   \n",
              "...                                                  ...     ...   \n",
              "25683  #1DDrive #ModiSpeaksToNews18 #LokSabhaElection...     pos   \n",
              "25684  I am seriously worried about future of Indian ...     pos   \n",
              "25685  If @narendramodi is so Bad then Why does @INCI...     neg   \n",
              "25686  On this 23rd March (Pakistan Day), I Urge all ...     neg   \n",
              "25687  @timesofindia #ArvindKejriwal, #AAP sirji pls ...     neg   \n",
              "\n",
              "              target  \n",
              "0      Narendra Modi  \n",
              "1      Narendra Modi  \n",
              "2      Narendra Modi  \n",
              "3      Narendra Modi  \n",
              "4      Narendra Modi  \n",
              "...              ...  \n",
              "25683  Narendra Modi  \n",
              "25684  Narendra Modi  \n",
              "25685  Narendra Modi  \n",
              "25686  Narendra Modi  \n",
              "25687  Narendra Modi  \n",
              "\n",
              "[25688 rows x 6 columns]"
            ]
          },
          "execution_count": 149,
          "metadata": {},
          "output_type": "execute_result"
        }
      ],
      "source": [
        "df1"
      ]
    },
    {
      "cell_type": "code",
      "execution_count": null,
      "metadata": {
        "id": "H_jntZMSJGIB",
        "outputId": "cfe8a82c-e9fd-4642-fbb0-a0c5716c8c54"
      },
      "outputs": [
        {
          "data": {
            "text/plain": [
              "LaksshyaAdvani     136\n",
              "umakantsingh_IN    134\n",
              "kumardurgesh262    121\n",
              "indiatvnews        111\n",
              "INCdilse           110\n",
              "                  ... \n",
              "LavanyaBallal        1\n",
              "Biswajeet_12         1\n",
              "Rajdeep03039214      1\n",
              "BharaliHirok         1\n",
              "parthajit0101        1\n",
              "Name: User, Length: 14116, dtype: int64"
            ]
          },
          "execution_count": 181,
          "metadata": {},
          "output_type": "execute_result"
        }
      ],
      "source": [
        "df1[\"User\"].value_counts()"
      ]
    },
    {
      "cell_type": "code",
      "execution_count": null,
      "metadata": {
        "id": "RjDbtHKwJGIC"
      },
      "outputs": [],
      "source": [
        "# negative=df1['Emotion']=='neg'\n",
        "# positive=df1['Emotion']=='pos'\n",
        "\n",
        "df1.plot(x=\"User\", y=[\"Emotion\"], kind=\"bar\")\n"
      ]
    },
    {
      "cell_type": "code",
      "execution_count": null,
      "metadata": {
        "id": "zkOvWn-3JGIC"
      },
      "outputs": [],
      "source": [
        "## top10users contains list of top10 users who tweeted the most \n",
        "top10users=df1['User'].value_counts().index.tolist()[:10]\n",
        "\n",
        "top10users\n"
      ]
    },
    {
      "cell_type": "code",
      "execution_count": null,
      "metadata": {
        "id": "t2xWBCebJGIC"
      },
      "outputs": [],
      "source": [
        "rslt_df = df1[df1['User'].isin(top10users)]"
      ]
    },
    {
      "cell_type": "code",
      "execution_count": null,
      "metadata": {
        "id": "fO60gZZGJGIC",
        "outputId": "66390ad0-3d67-4cb8-bfbe-2306b4a31ce7"
      },
      "outputs": [
        {
          "data": {
            "text/html": [
              "<div>\n",
              "<style scoped>\n",
              "    .dataframe tbody tr th:only-of-type {\n",
              "        vertical-align: middle;\n",
              "    }\n",
              "\n",
              "    .dataframe tbody tr th {\n",
              "        vertical-align: top;\n",
              "    }\n",
              "\n",
              "    .dataframe thead th {\n",
              "        text-align: right;\n",
              "    }\n",
              "</style>\n",
              "<table border=\"1\" class=\"dataframe\">\n",
              "  <thead>\n",
              "    <tr style=\"text-align: right;\">\n",
              "      <th></th>\n",
              "      <th>Unnamed: 0</th>\n",
              "      <th>Date</th>\n",
              "      <th>User</th>\n",
              "      <th>Tweet</th>\n",
              "      <th>Emotion</th>\n",
              "      <th>target</th>\n",
              "    </tr>\n",
              "  </thead>\n",
              "  <tbody>\n",
              "    <tr>\n",
              "      <th>84</th>\n",
              "      <td>84</td>\n",
              "      <td>2019-05-18 08:18:40+00:00</td>\n",
              "      <td>pkm1999</td>\n",
              "      <td>@rupasubramanya @narendramodi @AmitShah @Rahul...</td>\n",
              "      <td>neg</td>\n",
              "      <td>Narendra Modi</td>\n",
              "    </tr>\n",
              "    <tr>\n",
              "      <th>85</th>\n",
              "      <td>85</td>\n",
              "      <td>2019-05-18 08:15:59+00:00</td>\n",
              "      <td>pkm1999</td>\n",
              "      <td>@mkvenu1 This was not the PM but the caretaker...</td>\n",
              "      <td>neg</td>\n",
              "      <td>Narendra Modi</td>\n",
              "    </tr>\n",
              "    <tr>\n",
              "      <th>86</th>\n",
              "      <td>86</td>\n",
              "      <td>2019-05-18 08:14:33+00:00</td>\n",
              "      <td>pkm1999</td>\n",
              "      <td>@sumanthraman This was not the PM but the care...</td>\n",
              "      <td>neg</td>\n",
              "      <td>Narendra Modi</td>\n",
              "    </tr>\n",
              "    <tr>\n",
              "      <th>89</th>\n",
              "      <td>89</td>\n",
              "      <td>2019-05-18 08:02:54+00:00</td>\n",
              "      <td>pkm1999</td>\n",
              "      <td>@tjoseph0010 If signifies that if #BJP   does ...</td>\n",
              "      <td>neg</td>\n",
              "      <td>Narendra Modi</td>\n",
              "    </tr>\n",
              "    <tr>\n",
              "      <th>112</th>\n",
              "      <td>112</td>\n",
              "      <td>2019-05-18 04:38:16+00:00</td>\n",
              "      <td>umakantsingh_IN</td>\n",
              "      <td>@MamataOfficial @yadavakhilesh @Mayawati @Arvi...</td>\n",
              "      <td>neg</td>\n",
              "      <td>Narendra Modi</td>\n",
              "    </tr>\n",
              "    <tr>\n",
              "      <th>...</th>\n",
              "      <td>...</td>\n",
              "      <td>...</td>\n",
              "      <td>...</td>\n",
              "      <td>...</td>\n",
              "      <td>...</td>\n",
              "      <td>...</td>\n",
              "    </tr>\n",
              "    <tr>\n",
              "      <th>25565</th>\n",
              "      <td>25560</td>\n",
              "      <td>2019-01-03 11:19:19+00:00</td>\n",
              "      <td>INCdilse</td>\n",
              "      <td>@Nidhi @LangaMahesh What about \"bazaaru\" term ...</td>\n",
              "      <td>neg</td>\n",
              "      <td>Narendra Modi</td>\n",
              "    </tr>\n",
              "    <tr>\n",
              "      <th>25570</th>\n",
              "      <td>25565</td>\n",
              "      <td>2019-01-03 08:26:50+00:00</td>\n",
              "      <td>indiatvnews</td>\n",
              "      <td>I call upon the Prime Minister’s Science, Tech...</td>\n",
              "      <td>pos</td>\n",
              "      <td>Narendra Modi</td>\n",
              "    </tr>\n",
              "    <tr>\n",
              "      <th>25576</th>\n",
              "      <td>25571</td>\n",
              "      <td>2019-01-03 05:47:08+00:00</td>\n",
              "      <td>INCdilse</td>\n",
              "      <td>@SaralPatel_ That #NarendraModi was an interna...</td>\n",
              "      <td>neg</td>\n",
              "      <td>Narendra Modi</td>\n",
              "    </tr>\n",
              "    <tr>\n",
              "      <th>25613</th>\n",
              "      <td>25608</td>\n",
              "      <td>2019-01-02 13:17:12+00:00</td>\n",
              "      <td>indiatvnews</td>\n",
              "      <td>#ManoharParrikar is blackmailing #PMModi over ...</td>\n",
              "      <td>neg</td>\n",
              "      <td>Narendra Modi</td>\n",
              "    </tr>\n",
              "    <tr>\n",
              "      <th>25657</th>\n",
              "      <td>25652</td>\n",
              "      <td>2019-01-01 07:35:09+00:00</td>\n",
              "      <td>indiatvnews</td>\n",
              "      <td>#KaderKhan Ji brightened the screen with his s...</td>\n",
              "      <td>pos</td>\n",
              "      <td>Narendra Modi</td>\n",
              "    </tr>\n",
              "  </tbody>\n",
              "</table>\n",
              "<p>1021 rows × 6 columns</p>\n",
              "</div>"
            ],
            "text/plain": [
              "      Unnamed: 0                       Date             User  \\\n",
              "84            84  2019-05-18 08:18:40+00:00          pkm1999   \n",
              "85            85  2019-05-18 08:15:59+00:00          pkm1999   \n",
              "86            86  2019-05-18 08:14:33+00:00          pkm1999   \n",
              "89            89  2019-05-18 08:02:54+00:00          pkm1999   \n",
              "112          112  2019-05-18 04:38:16+00:00  umakantsingh_IN   \n",
              "...          ...                        ...              ...   \n",
              "25565      25560  2019-01-03 11:19:19+00:00         INCdilse   \n",
              "25570      25565  2019-01-03 08:26:50+00:00      indiatvnews   \n",
              "25576      25571  2019-01-03 05:47:08+00:00         INCdilse   \n",
              "25613      25608  2019-01-02 13:17:12+00:00      indiatvnews   \n",
              "25657      25652  2019-01-01 07:35:09+00:00      indiatvnews   \n",
              "\n",
              "                                                   Tweet Emotion  \\\n",
              "84     @rupasubramanya @narendramodi @AmitShah @Rahul...     neg   \n",
              "85     @mkvenu1 This was not the PM but the caretaker...     neg   \n",
              "86     @sumanthraman This was not the PM but the care...     neg   \n",
              "89     @tjoseph0010 If signifies that if #BJP   does ...     neg   \n",
              "112    @MamataOfficial @yadavakhilesh @Mayawati @Arvi...     neg   \n",
              "...                                                  ...     ...   \n",
              "25565  @Nidhi @LangaMahesh What about \"bazaaru\" term ...     neg   \n",
              "25570  I call upon the Prime Minister’s Science, Tech...     pos   \n",
              "25576  @SaralPatel_ That #NarendraModi was an interna...     neg   \n",
              "25613  #ManoharParrikar is blackmailing #PMModi over ...     neg   \n",
              "25657  #KaderKhan Ji brightened the screen with his s...     pos   \n",
              "\n",
              "              target  \n",
              "84     Narendra Modi  \n",
              "85     Narendra Modi  \n",
              "86     Narendra Modi  \n",
              "89     Narendra Modi  \n",
              "112    Narendra Modi  \n",
              "...              ...  \n",
              "25565  Narendra Modi  \n",
              "25570  Narendra Modi  \n",
              "25576  Narendra Modi  \n",
              "25613  Narendra Modi  \n",
              "25657  Narendra Modi  \n",
              "\n",
              "[1021 rows x 6 columns]"
            ]
          },
          "execution_count": 102,
          "metadata": {},
          "output_type": "execute_result"
        }
      ],
      "source": [
        "rslt_df"
      ]
    },
    {
      "cell_type": "code",
      "execution_count": null,
      "metadata": {
        "id": "8WkFOLAaJGIC"
      },
      "outputs": [],
      "source": [
        "G = nx.from_pandas_edgelist(rslt_df, \n",
        "                            source='User', \n",
        "                            target='target')\n",
        "\n",
        "\n",
        "\n",
        "\n",
        "\n",
        "\n",
        "\n"
      ]
    },
    {
      "cell_type": "code",
      "execution_count": null,
      "metadata": {
        "id": "WQJFbVafJGIC",
        "outputId": "199419b7-4687-48d8-cdaf-044bb65d5b7a"
      },
      "outputs": [
        {
          "data": {
            "image/png": "[encoded data removed]",
            "text/plain": [
              "<Figure size 432x288 with 1 Axes>"
            ]
          },
          "metadata": {},
          "output_type": "display_data"
        }
      ],
      "source": [
        "nx.draw_networkx(G)\n"
      ]
    },
    {
      "cell_type": "code",
      "execution_count": null,
      "metadata": {
        "id": "eXDKMchEJGID"
      },
      "outputs": [],
      "source": [
        "G = nx.from_pandas_edgelist(rslt_df, \n",
        "                            source='User', \n",
        "                            target='Emotion')"
      ]
    },
    {
      "cell_type": "code",
      "execution_count": null,
      "metadata": {
        "id": "KQkXtFimJGID",
        "outputId": "3790f46c-b34b-4248-8421-a6b766dd815c"
      },
      "outputs": [
        {
          "data": {
            "image/png": "[encoded data removed]",
            "text/plain": [
              "<Figure size 432x288 with 1 Axes>"
            ]
          },
          "metadata": {},
          "output_type": "display_data"
        }
      ],
      "source": [
        "nx.draw_networkx(G)"
      ]
    },
    {
      "cell_type": "code",
      "execution_count": null,
      "metadata": {
        "id": "j4ooFdheJGID",
        "outputId": "eb3b01ba-5032-4f11-8571-a1fdc39f4e67"
      },
      "outputs": [
        {
          "data": {
            "text/plain": [
              "NodeView(('pkm1999', 'neg', 'umakantsingh_IN', 'kumardurgesh262', 'pos', 'INCdilse', 'indiatvnews', 'vikram140gulati', 'LaksshyaAdvani', '_umakantsingh', 'iamTapanPandya', 'TOIAhmedabad'))"
            ]
          },
          "execution_count": 55,
          "metadata": {},
          "output_type": "execute_result"
        }
      ],
      "source": [
        "G.nodes()"
      ]
    },
    {
      "cell_type": "code",
      "execution_count": null,
      "metadata": {
        "id": "7BfbjlgpJGID"
      },
      "outputs": [],
      "source": [
        "G = nx.from_pandas_edgelist(rslt_df, \n",
        "                            source='User', \n",
        "                            target='target',edge_attr='Emotion')"
      ]
    },
    {
      "cell_type": "code",
      "execution_count": null,
      "metadata": {
        "id": "xs9fsf_zJGID",
        "outputId": "8684008b-38df-4f40-cead-2c7f30179a70"
      },
      "outputs": [
        {
          "data": {
            "image/png": "[encoded data removed]",
            "text/plain": [
              "<Figure size 432x288 with 1 Axes>"
            ]
          },
          "metadata": {},
          "output_type": "display_data"
        }
      ],
      "source": [
        "nx.draw_networkx(G)"
      ]
    },
    {
      "cell_type": "code",
      "execution_count": null,
      "metadata": {
        "id": "TjA8aS3UJGIE",
        "outputId": "1cd280f5-d497-4f35-c66a-245cfc7a082a"
      },
      "outputs": [
        {
          "data": {
            "text/plain": [
              "EdgeDataView([('pkm1999', 'Narendra Modi', {'Emotion': 'neg'}), ('Narendra Modi', 'umakantsingh_IN', {'Emotion': 'pos'}), ('Narendra Modi', 'kumardurgesh262', {'Emotion': 'neg'}), ('Narendra Modi', 'INCdilse', {'Emotion': 'neg'}), ('Narendra Modi', 'indiatvnews', {'Emotion': 'pos'}), ('Narendra Modi', 'vikram140gulati', {'Emotion': 'neg'}), ('Narendra Modi', 'LaksshyaAdvani', {'Emotion': 'pos'}), ('Narendra Modi', '_umakantsingh', {'Emotion': 'neg'}), ('Narendra Modi', 'iamTapanPandya', {'Emotion': 'pos'}), ('Narendra Modi', 'TOIAhmedabad', {'Emotion': 'pos'})])"
            ]
          },
          "execution_count": 58,
          "metadata": {},
          "output_type": "execute_result"
        }
      ],
      "source": [
        "G.edges(data=True)"
      ]
    },
    {
      "cell_type": "code",
      "execution_count": null,
      "metadata": {
        "id": "MS3PVW4RJGIE",
        "outputId": "58ef35ca-99bb-4473-c496-4dcd69b5fa98"
      },
      "outputs": [
        {
          "data": {
            "text/plain": [
              "{'pkm1999': 0.1,\n",
              " 'Narendra Modi': 1.0,\n",
              " 'umakantsingh_IN': 0.1,\n",
              " 'kumardurgesh262': 0.1,\n",
              " 'INCdilse': 0.1,\n",
              " 'indiatvnews': 0.1,\n",
              " 'vikram140gulati': 0.1,\n",
              " 'LaksshyaAdvani': 0.1,\n",
              " '_umakantsingh': 0.1,\n",
              " 'iamTapanPandya': 0.1,\n",
              " 'TOIAhmedabad': 0.1}"
            ]
          },
          "execution_count": 59,
          "metadata": {},
          "output_type": "execute_result"
        }
      ],
      "source": [
        "nx.degree_centrality(G)"
      ]
    },
    {
      "cell_type": "code",
      "execution_count": null,
      "metadata": {
        "id": "E6blD5GBJGIE"
      },
      "outputs": [],
      "source": [
        "nx.closeness_centrality(G)"
      ]
    },
    {
      "cell_type": "code",
      "execution_count": null,
      "metadata": {
        "id": "ie5mTiPoJGIE",
        "outputId": "8d3704fe-7185-4676-b1fb-772cb245c0a0"
      },
      "outputs": [
        {
          "data": {
            "text/html": [
              "<div>\n",
              "<style scoped>\n",
              "    .dataframe tbody tr th:only-of-type {\n",
              "        vertical-align: middle;\n",
              "    }\n",
              "\n",
              "    .dataframe tbody tr th {\n",
              "        vertical-align: top;\n",
              "    }\n",
              "\n",
              "    .dataframe thead th {\n",
              "        text-align: right;\n",
              "    }\n",
              "</style>\n",
              "<table border=\"1\" class=\"dataframe\">\n",
              "  <thead>\n",
              "    <tr style=\"text-align: right;\">\n",
              "      <th></th>\n",
              "      <th>Unnamed: 0</th>\n",
              "      <th>Date</th>\n",
              "      <th>User</th>\n",
              "      <th>Tweet</th>\n",
              "      <th>Emotion</th>\n",
              "    </tr>\n",
              "  </thead>\n",
              "  <tbody>\n",
              "    <tr>\n",
              "      <th>0</th>\n",
              "      <td>0</td>\n",
              "      <td>2019-05-18 19:49:52+00:00</td>\n",
              "      <td>Sunnysweet16</td>\n",
              "      <td>Wonder why no academic or journalist asks INC ...</td>\n",
              "      <td>pos</td>\n",
              "    </tr>\n",
              "    <tr>\n",
              "      <th>1</th>\n",
              "      <td>1</td>\n",
              "      <td>2019-05-18 18:56:52+00:00</td>\n",
              "      <td>drnitinchaube</td>\n",
              "      <td>Congrats for the change #australiavotes2019 an...</td>\n",
              "      <td>pos</td>\n",
              "    </tr>\n",
              "    <tr>\n",
              "      <th>2</th>\n",
              "      <td>2</td>\n",
              "      <td>2019-05-18 18:54:01+00:00</td>\n",
              "      <td>mrvivek07</td>\n",
              "      <td>Peopel Say “Govt Ne 70 Years Kya kiya”.\\nUnse ...</td>\n",
              "      <td>neg</td>\n",
              "    </tr>\n",
              "    <tr>\n",
              "      <th>3</th>\n",
              "      <td>3</td>\n",
              "      <td>2019-05-18 18:52:03+00:00</td>\n",
              "      <td>JosephPravinP</td>\n",
              "      <td>@ajaymaken @RahulGandhi And as a final touch, ...</td>\n",
              "      <td>pos</td>\n",
              "    </tr>\n",
              "    <tr>\n",
              "      <th>4</th>\n",
              "      <td>4</td>\n",
              "      <td>2019-05-18 18:31:10+00:00</td>\n",
              "      <td>VandanaMegastar</td>\n",
              "      <td>#LokSabhaElections2019 Anyone not having mass ...</td>\n",
              "      <td>pos</td>\n",
              "    </tr>\n",
              "    <tr>\n",
              "      <th>...</th>\n",
              "      <td>...</td>\n",
              "      <td>...</td>\n",
              "      <td>...</td>\n",
              "      <td>...</td>\n",
              "      <td>...</td>\n",
              "    </tr>\n",
              "    <tr>\n",
              "      <th>14256</th>\n",
              "      <td>14256</td>\n",
              "      <td>2019-03-23 04:53:54+00:00</td>\n",
              "      <td>SunjayJK</td>\n",
              "      <td>@quizzicalguy In this #LokSabhaElections2019, ...</td>\n",
              "      <td>pos</td>\n",
              "    </tr>\n",
              "    <tr>\n",
              "      <th>14257</th>\n",
              "      <td>14257</td>\n",
              "      <td>2019-03-17 08:53:28+00:00</td>\n",
              "      <td>SunjayJK</td>\n",
              "      <td>@AnumaVidisha @RahulGandhi @ArvindKejriwal whe...</td>\n",
              "      <td>neg</td>\n",
              "    </tr>\n",
              "    <tr>\n",
              "      <th>14258</th>\n",
              "      <td>14258</td>\n",
              "      <td>2019-03-06 10:20:09+00:00</td>\n",
              "      <td>RAMANKAIRA</td>\n",
              "      <td>@sherryontopp Early morning #political move af...</td>\n",
              "      <td>neg</td>\n",
              "    </tr>\n",
              "    <tr>\n",
              "      <th>14259</th>\n",
              "      <td>14259</td>\n",
              "      <td>2019-03-06 10:18:02+00:00</td>\n",
              "      <td>RAMANKAIRA</td>\n",
              "      <td>@mayankgandhi04 @mallesh_2004 Early morning #p...</td>\n",
              "      <td>neg</td>\n",
              "    </tr>\n",
              "    <tr>\n",
              "      <th>14260</th>\n",
              "      <td>14260</td>\n",
              "      <td>2019-03-06 10:11:43+00:00</td>\n",
              "      <td>RAMANKAIRA</td>\n",
              "      <td>@DrKumarVishwas Early morning #political move ...</td>\n",
              "      <td>neg</td>\n",
              "    </tr>\n",
              "  </tbody>\n",
              "</table>\n",
              "<p>14261 rows × 5 columns</p>\n",
              "</div>"
            ],
            "text/plain": [
              "       Unnamed: 0                       Date             User  \\\n",
              "0               0  2019-05-18 19:49:52+00:00     Sunnysweet16   \n",
              "1               1  2019-05-18 18:56:52+00:00    drnitinchaube   \n",
              "2               2  2019-05-18 18:54:01+00:00        mrvivek07   \n",
              "3               3  2019-05-18 18:52:03+00:00    JosephPravinP   \n",
              "4               4  2019-05-18 18:31:10+00:00  VandanaMegastar   \n",
              "...           ...                        ...              ...   \n",
              "14256       14256  2019-03-23 04:53:54+00:00         SunjayJK   \n",
              "14257       14257  2019-03-17 08:53:28+00:00         SunjayJK   \n",
              "14258       14258  2019-03-06 10:20:09+00:00       RAMANKAIRA   \n",
              "14259       14259  2019-03-06 10:18:02+00:00       RAMANKAIRA   \n",
              "14260       14260  2019-03-06 10:11:43+00:00       RAMANKAIRA   \n",
              "\n",
              "                                                   Tweet Emotion  \n",
              "0      Wonder why no academic or journalist asks INC ...     pos  \n",
              "1      Congrats for the change #australiavotes2019 an...     pos  \n",
              "2      Peopel Say “Govt Ne 70 Years Kya kiya”.\\nUnse ...     neg  \n",
              "3      @ajaymaken @RahulGandhi And as a final touch, ...     pos  \n",
              "4      #LokSabhaElections2019 Anyone not having mass ...     pos  \n",
              "...                                                  ...     ...  \n",
              "14256  @quizzicalguy In this #LokSabhaElections2019, ...     pos  \n",
              "14257  @AnumaVidisha @RahulGandhi @ArvindKejriwal whe...     neg  \n",
              "14258  @sherryontopp Early morning #political move af...     neg  \n",
              "14259  @mayankgandhi04 @mallesh_2004 Early morning #p...     neg  \n",
              "14260  @DrKumarVishwas Early morning #political move ...     neg  \n",
              "\n",
              "[14261 rows x 5 columns]"
            ]
          },
          "execution_count": 60,
          "metadata": {},
          "output_type": "execute_result"
        }
      ],
      "source": [
        "df2"
      ]
    },
    {
      "cell_type": "code",
      "execution_count": null,
      "metadata": {
        "id": "jYaequoXJGIE"
      },
      "outputs": [],
      "source": [
        "df2[\"target\"] = pd.Series([\"Rahul Gandhi\" for x in range(len(df2.index))])"
      ]
    },
    {
      "cell_type": "code",
      "execution_count": null,
      "metadata": {
        "id": "TxsWfFpLJGIF",
        "outputId": "bf1ad38e-acdb-49c3-aff8-919b06e35cdf"
      },
      "outputs": [
        {
          "data": {
            "text/html": [
              "<div>\n",
              "<style scoped>\n",
              "    .dataframe tbody tr th:only-of-type {\n",
              "        vertical-align: middle;\n",
              "    }\n",
              "\n",
              "    .dataframe tbody tr th {\n",
              "        vertical-align: top;\n",
              "    }\n",
              "\n",
              "    .dataframe thead th {\n",
              "        text-align: right;\n",
              "    }\n",
              "</style>\n",
              "<table border=\"1\" class=\"dataframe\">\n",
              "  <thead>\n",
              "    <tr style=\"text-align: right;\">\n",
              "      <th></th>\n",
              "      <th>Unnamed: 0</th>\n",
              "      <th>Date</th>\n",
              "      <th>User</th>\n",
              "      <th>Tweet</th>\n",
              "      <th>Emotion</th>\n",
              "      <th>target</th>\n",
              "    </tr>\n",
              "  </thead>\n",
              "  <tbody>\n",
              "    <tr>\n",
              "      <th>0</th>\n",
              "      <td>0</td>\n",
              "      <td>2019-05-18 19:49:52+00:00</td>\n",
              "      <td>Sunnysweet16</td>\n",
              "      <td>Wonder why no academic or journalist asks INC ...</td>\n",
              "      <td>pos</td>\n",
              "      <td>Rahul Gandhi</td>\n",
              "    </tr>\n",
              "    <tr>\n",
              "      <th>1</th>\n",
              "      <td>1</td>\n",
              "      <td>2019-05-18 18:56:52+00:00</td>\n",
              "      <td>drnitinchaube</td>\n",
              "      <td>Congrats for the change #australiavotes2019 an...</td>\n",
              "      <td>pos</td>\n",
              "      <td>Rahul Gandhi</td>\n",
              "    </tr>\n",
              "    <tr>\n",
              "      <th>2</th>\n",
              "      <td>2</td>\n",
              "      <td>2019-05-18 18:54:01+00:00</td>\n",
              "      <td>mrvivek07</td>\n",
              "      <td>Peopel Say “Govt Ne 70 Years Kya kiya”.\\nUnse ...</td>\n",
              "      <td>neg</td>\n",
              "      <td>Rahul Gandhi</td>\n",
              "    </tr>\n",
              "    <tr>\n",
              "      <th>3</th>\n",
              "      <td>3</td>\n",
              "      <td>2019-05-18 18:52:03+00:00</td>\n",
              "      <td>JosephPravinP</td>\n",
              "      <td>@ajaymaken @RahulGandhi And as a final touch, ...</td>\n",
              "      <td>pos</td>\n",
              "      <td>Rahul Gandhi</td>\n",
              "    </tr>\n",
              "    <tr>\n",
              "      <th>4</th>\n",
              "      <td>4</td>\n",
              "      <td>2019-05-18 18:31:10+00:00</td>\n",
              "      <td>VandanaMegastar</td>\n",
              "      <td>#LokSabhaElections2019 Anyone not having mass ...</td>\n",
              "      <td>pos</td>\n",
              "      <td>Rahul Gandhi</td>\n",
              "    </tr>\n",
              "    <tr>\n",
              "      <th>...</th>\n",
              "      <td>...</td>\n",
              "      <td>...</td>\n",
              "      <td>...</td>\n",
              "      <td>...</td>\n",
              "      <td>...</td>\n",
              "      <td>...</td>\n",
              "    </tr>\n",
              "    <tr>\n",
              "      <th>14256</th>\n",
              "      <td>14256</td>\n",
              "      <td>2019-03-23 04:53:54+00:00</td>\n",
              "      <td>SunjayJK</td>\n",
              "      <td>@quizzicalguy In this #LokSabhaElections2019, ...</td>\n",
              "      <td>pos</td>\n",
              "      <td>Rahul Gandhi</td>\n",
              "    </tr>\n",
              "    <tr>\n",
              "      <th>14257</th>\n",
              "      <td>14257</td>\n",
              "      <td>2019-03-17 08:53:28+00:00</td>\n",
              "      <td>SunjayJK</td>\n",
              "      <td>@AnumaVidisha @RahulGandhi @ArvindKejriwal whe...</td>\n",
              "      <td>neg</td>\n",
              "      <td>Rahul Gandhi</td>\n",
              "    </tr>\n",
              "    <tr>\n",
              "      <th>14258</th>\n",
              "      <td>14258</td>\n",
              "      <td>2019-03-06 10:20:09+00:00</td>\n",
              "      <td>RAMANKAIRA</td>\n",
              "      <td>@sherryontopp Early morning #political move af...</td>\n",
              "      <td>neg</td>\n",
              "      <td>Rahul Gandhi</td>\n",
              "    </tr>\n",
              "    <tr>\n",
              "      <th>14259</th>\n",
              "      <td>14259</td>\n",
              "      <td>2019-03-06 10:18:02+00:00</td>\n",
              "      <td>RAMANKAIRA</td>\n",
              "      <td>@mayankgandhi04 @mallesh_2004 Early morning #p...</td>\n",
              "      <td>neg</td>\n",
              "      <td>Rahul Gandhi</td>\n",
              "    </tr>\n",
              "    <tr>\n",
              "      <th>14260</th>\n",
              "      <td>14260</td>\n",
              "      <td>2019-03-06 10:11:43+00:00</td>\n",
              "      <td>RAMANKAIRA</td>\n",
              "      <td>@DrKumarVishwas Early morning #political move ...</td>\n",
              "      <td>neg</td>\n",
              "      <td>Rahul Gandhi</td>\n",
              "    </tr>\n",
              "  </tbody>\n",
              "</table>\n",
              "<p>14261 rows × 6 columns</p>\n",
              "</div>"
            ],
            "text/plain": [
              "       Unnamed: 0                       Date             User  \\\n",
              "0               0  2019-05-18 19:49:52+00:00     Sunnysweet16   \n",
              "1               1  2019-05-18 18:56:52+00:00    drnitinchaube   \n",
              "2               2  2019-05-18 18:54:01+00:00        mrvivek07   \n",
              "3               3  2019-05-18 18:52:03+00:00    JosephPravinP   \n",
              "4               4  2019-05-18 18:31:10+00:00  VandanaMegastar   \n",
              "...           ...                        ...              ...   \n",
              "14256       14256  2019-03-23 04:53:54+00:00         SunjayJK   \n",
              "14257       14257  2019-03-17 08:53:28+00:00         SunjayJK   \n",
              "14258       14258  2019-03-06 10:20:09+00:00       RAMANKAIRA   \n",
              "14259       14259  2019-03-06 10:18:02+00:00       RAMANKAIRA   \n",
              "14260       14260  2019-03-06 10:11:43+00:00       RAMANKAIRA   \n",
              "\n",
              "                                                   Tweet Emotion        target  \n",
              "0      Wonder why no academic or journalist asks INC ...     pos  Rahul Gandhi  \n",
              "1      Congrats for the change #australiavotes2019 an...     pos  Rahul Gandhi  \n",
              "2      Peopel Say “Govt Ne 70 Years Kya kiya”.\\nUnse ...     neg  Rahul Gandhi  \n",
              "3      @ajaymaken @RahulGandhi And as a final touch, ...     pos  Rahul Gandhi  \n",
              "4      #LokSabhaElections2019 Anyone not having mass ...     pos  Rahul Gandhi  \n",
              "...                                                  ...     ...           ...  \n",
              "14256  @quizzicalguy In this #LokSabhaElections2019, ...     pos  Rahul Gandhi  \n",
              "14257  @AnumaVidisha @RahulGandhi @ArvindKejriwal whe...     neg  Rahul Gandhi  \n",
              "14258  @sherryontopp Early morning #political move af...     neg  Rahul Gandhi  \n",
              "14259  @mayankgandhi04 @mallesh_2004 Early morning #p...     neg  Rahul Gandhi  \n",
              "14260  @DrKumarVishwas Early morning #political move ...     neg  Rahul Gandhi  \n",
              "\n",
              "[14261 rows x 6 columns]"
            ]
          },
          "execution_count": 62,
          "metadata": {},
          "output_type": "execute_result"
        }
      ],
      "source": [
        "df2"
      ]
    },
    {
      "cell_type": "code",
      "execution_count": null,
      "metadata": {
        "id": "7FVQteFhJGIF"
      },
      "outputs": [],
      "source": [
        "df2.to_csv(\"rahulfinal.csv\",index=None)"
      ]
    },
    {
      "cell_type": "code",
      "execution_count": null,
      "metadata": {
        "id": "brSHmcUJJGIF",
        "outputId": "2ac1e449-2da7-42ad-eddd-353d3eefb9c2"
      },
      "outputs": [
        {
          "data": {
            "text/plain": [
              "pkm1999            114\n",
              "kumardurgesh262     79\n",
              "iamTapanPandya      68\n",
              "vikram140gulati     60\n",
              "iamkaranbachani     58\n",
              "                  ... \n",
              "KartikeyaGoel4       1\n",
              "rishabh1123          1\n",
              "MgGuggari            1\n",
              "Lakhimal2            1\n",
              "Sunnysweet16         1\n",
              "Name: User, Length: 7865, dtype: int64"
            ]
          },
          "execution_count": 64,
          "metadata": {},
          "output_type": "execute_result"
        }
      ],
      "source": [
        "df2[\"User\"].value_counts()"
      ]
    },
    {
      "cell_type": "code",
      "execution_count": null,
      "metadata": {
        "id": "Aj9tgJxEJGIF",
        "outputId": "fec557f8-c018-4804-833d-e71342527178"
      },
      "outputs": [
        {
          "data": {
            "text/plain": [
              "['pkm1999',\n",
              " 'kumardurgesh262',\n",
              " 'iamTapanPandya',\n",
              " 'vikram140gulati',\n",
              " 'iamkaranbachani',\n",
              " 'roarDworld',\n",
              " 'umakantsingh_IN',\n",
              " 'stocks_in',\n",
              " 'asarpotar',\n",
              " 'SandipGhose']"
            ]
          },
          "execution_count": 65,
          "metadata": {},
          "output_type": "execute_result"
        }
      ],
      "source": [
        "## top10users contains list of top10 users who tweeted the most \n",
        "top10users=df2['User'].value_counts().index.tolist()[:10]\n",
        "\n",
        "top10users"
      ]
    },
    {
      "cell_type": "code",
      "execution_count": null,
      "metadata": {
        "id": "4lGHOfiXJGIF"
      },
      "outputs": [],
      "source": [
        "rslt_df = df2[df2['User'].isin(top10users)]"
      ]
    },
    {
      "cell_type": "code",
      "execution_count": null,
      "metadata": {
        "id": "fu5ChOb6JGIF",
        "outputId": "1990f87b-4f73-4d26-9790-ea7b8771513f"
      },
      "outputs": [
        {
          "data": {
            "text/html": [
              "<div>\n",
              "<style scoped>\n",
              "    .dataframe tbody tr th:only-of-type {\n",
              "        vertical-align: middle;\n",
              "    }\n",
              "\n",
              "    .dataframe tbody tr th {\n",
              "        vertical-align: top;\n",
              "    }\n",
              "\n",
              "    .dataframe thead th {\n",
              "        text-align: right;\n",
              "    }\n",
              "</style>\n",
              "<table border=\"1\" class=\"dataframe\">\n",
              "  <thead>\n",
              "    <tr style=\"text-align: right;\">\n",
              "      <th></th>\n",
              "      <th>Unnamed: 0</th>\n",
              "      <th>Date</th>\n",
              "      <th>User</th>\n",
              "      <th>Tweet</th>\n",
              "      <th>Emotion</th>\n",
              "      <th>target</th>\n",
              "    </tr>\n",
              "  </thead>\n",
              "  <tbody>\n",
              "    <tr>\n",
              "      <th>6</th>\n",
              "      <td>6</td>\n",
              "      <td>2019-05-18 17:45:45+00:00</td>\n",
              "      <td>SandipGhose</td>\n",
              "      <td>@thakkar_sameet @BDUTT @surjitbhalla 4/n smack...</td>\n",
              "      <td>neg</td>\n",
              "      <td>Rahul Gandhi</td>\n",
              "    </tr>\n",
              "    <tr>\n",
              "      <th>27</th>\n",
              "      <td>27</td>\n",
              "      <td>2019-05-18 08:53:22+00:00</td>\n",
              "      <td>umakantsingh_IN</td>\n",
              "      <td>#MuteModi, it wrong, it  #Modi3.0 for 2024 as ...</td>\n",
              "      <td>neg</td>\n",
              "      <td>Rahul Gandhi</td>\n",
              "    </tr>\n",
              "    <tr>\n",
              "      <th>29</th>\n",
              "      <td>29</td>\n",
              "      <td>2019-05-18 08:18:40+00:00</td>\n",
              "      <td>pkm1999</td>\n",
              "      <td>@rupasubramanya @narendramodi @AmitShah @Rahul...</td>\n",
              "      <td>neg</td>\n",
              "      <td>Rahul Gandhi</td>\n",
              "    </tr>\n",
              "    <tr>\n",
              "      <th>46</th>\n",
              "      <td>46</td>\n",
              "      <td>2019-05-18 04:38:16+00:00</td>\n",
              "      <td>umakantsingh_IN</td>\n",
              "      <td>@MamataOfficial @yadavakhilesh @Mayawati @Arvi...</td>\n",
              "      <td>neg</td>\n",
              "      <td>Rahul Gandhi</td>\n",
              "    </tr>\n",
              "    <tr>\n",
              "      <th>48</th>\n",
              "      <td>48</td>\n",
              "      <td>2019-05-18 04:34:54+00:00</td>\n",
              "      <td>kumardurgesh262</td>\n",
              "      <td>@RahulGandhi Sir, I pray to you as a #BigBroth...</td>\n",
              "      <td>pos</td>\n",
              "      <td>Rahul Gandhi</td>\n",
              "    </tr>\n",
              "    <tr>\n",
              "      <th>...</th>\n",
              "      <td>...</td>\n",
              "      <td>...</td>\n",
              "      <td>...</td>\n",
              "      <td>...</td>\n",
              "      <td>...</td>\n",
              "      <td>...</td>\n",
              "    </tr>\n",
              "    <tr>\n",
              "      <th>14007</th>\n",
              "      <td>14007</td>\n",
              "      <td>2019-01-08 11:59:41+00:00</td>\n",
              "      <td>roarDworld</td>\n",
              "      <td>@RahulGandhi u will not decide if #NarendraMod...</td>\n",
              "      <td>neg</td>\n",
              "      <td>Rahul Gandhi</td>\n",
              "    </tr>\n",
              "    <tr>\n",
              "      <th>14041</th>\n",
              "      <td>14041</td>\n",
              "      <td>2019-01-07 04:58:19+00:00</td>\n",
              "      <td>roarDworld</td>\n",
              "      <td>@kashyap9991 @ads7506 @RahulGandhi @DarshanaJa...</td>\n",
              "      <td>neg</td>\n",
              "      <td>Rahul Gandhi</td>\n",
              "    </tr>\n",
              "    <tr>\n",
              "      <th>14107</th>\n",
              "      <td>14107</td>\n",
              "      <td>2019-01-04 13:40:10+00:00</td>\n",
              "      <td>roarDworld</td>\n",
              "      <td>@INCIndia @nsitharaman @RahulGandhi If guys do...</td>\n",
              "      <td>neg</td>\n",
              "      <td>Rahul Gandhi</td>\n",
              "    </tr>\n",
              "    <tr>\n",
              "      <th>14109</th>\n",
              "      <td>14109</td>\n",
              "      <td>2019-01-04 13:22:51+00:00</td>\n",
              "      <td>roarDworld</td>\n",
              "      <td>@RahulGandhi why u prove urself a buffoon? \\n#...</td>\n",
              "      <td>neg</td>\n",
              "      <td>Rahul Gandhi</td>\n",
              "    </tr>\n",
              "    <tr>\n",
              "      <th>14235</th>\n",
              "      <td>14235</td>\n",
              "      <td>2019-01-01 09:40:46+00:00</td>\n",
              "      <td>roarDworld</td>\n",
              "      <td>@RahulGandhi #HappyNewYear2019 2 U, @INCIndia ...</td>\n",
              "      <td>pos</td>\n",
              "      <td>Rahul Gandhi</td>\n",
              "    </tr>\n",
              "  </tbody>\n",
              "</table>\n",
              "<p>595 rows × 6 columns</p>\n",
              "</div>"
            ],
            "text/plain": [
              "       Unnamed: 0                       Date             User  \\\n",
              "6               6  2019-05-18 17:45:45+00:00      SandipGhose   \n",
              "27             27  2019-05-18 08:53:22+00:00  umakantsingh_IN   \n",
              "29             29  2019-05-18 08:18:40+00:00          pkm1999   \n",
              "46             46  2019-05-18 04:38:16+00:00  umakantsingh_IN   \n",
              "48             48  2019-05-18 04:34:54+00:00  kumardurgesh262   \n",
              "...           ...                        ...              ...   \n",
              "14007       14007  2019-01-08 11:59:41+00:00       roarDworld   \n",
              "14041       14041  2019-01-07 04:58:19+00:00       roarDworld   \n",
              "14107       14107  2019-01-04 13:40:10+00:00       roarDworld   \n",
              "14109       14109  2019-01-04 13:22:51+00:00       roarDworld   \n",
              "14235       14235  2019-01-01 09:40:46+00:00       roarDworld   \n",
              "\n",
              "                                                   Tweet Emotion        target  \n",
              "6      @thakkar_sameet @BDUTT @surjitbhalla 4/n smack...     neg  Rahul Gandhi  \n",
              "27     #MuteModi, it wrong, it  #Modi3.0 for 2024 as ...     neg  Rahul Gandhi  \n",
              "29     @rupasubramanya @narendramodi @AmitShah @Rahul...     neg  Rahul Gandhi  \n",
              "46     @MamataOfficial @yadavakhilesh @Mayawati @Arvi...     neg  Rahul Gandhi  \n",
              "48     @RahulGandhi Sir, I pray to you as a #BigBroth...     pos  Rahul Gandhi  \n",
              "...                                                  ...     ...           ...  \n",
              "14007  @RahulGandhi u will not decide if #NarendraMod...     neg  Rahul Gandhi  \n",
              "14041  @kashyap9991 @ads7506 @RahulGandhi @DarshanaJa...     neg  Rahul Gandhi  \n",
              "14107  @INCIndia @nsitharaman @RahulGandhi If guys do...     neg  Rahul Gandhi  \n",
              "14109  @RahulGandhi why u prove urself a buffoon? \\n#...     neg  Rahul Gandhi  \n",
              "14235  @RahulGandhi #HappyNewYear2019 2 U, @INCIndia ...     pos  Rahul Gandhi  \n",
              "\n",
              "[595 rows x 6 columns]"
            ]
          },
          "execution_count": 67,
          "metadata": {},
          "output_type": "execute_result"
        }
      ],
      "source": [
        "rslt_df"
      ]
    },
    {
      "cell_type": "code",
      "execution_count": null,
      "metadata": {
        "id": "TGoD78pfJGIF"
      },
      "outputs": [],
      "source": [
        "G2 = nx.from_pandas_edgelist(rslt_df, \n",
        "                            source='User', \n",
        "                            target='target')"
      ]
    },
    {
      "cell_type": "code",
      "execution_count": null,
      "metadata": {
        "id": "n0dr6CLmJGIF",
        "outputId": "0c16c23f-e014-458f-bdf7-0673ab904a3d"
      },
      "outputs": [
        {
          "data": {
            "image/png": "[encoded data removed]",
            "text/plain": [
              "<Figure size 432x288 with 1 Axes>"
            ]
          },
          "metadata": {},
          "output_type": "display_data"
        }
      ],
      "source": [
        "nx.draw_networkx(G2)"
      ]
    },
    {
      "cell_type": "code",
      "execution_count": null,
      "metadata": {
        "id": "02BzqR4gJGIG"
      },
      "outputs": [],
      "source": [
        "G2 = nx.from_pandas_edgelist(rslt_df, \n",
        "                            source='User', \n",
        "                            target='Emotion')"
      ]
    },
    {
      "cell_type": "code",
      "execution_count": null,
      "metadata": {
        "id": "SI6dQ-9_JGIG",
        "outputId": "a3d8bc8f-1e07-44e0-8f9c-12feab271da0"
      },
      "outputs": [
        {
          "data": {
            "image/png": "[encoded data removed]",
            "text/plain": [
              "<Figure size 432x288 with 1 Axes>"
            ]
          },
          "metadata": {},
          "output_type": "display_data"
        }
      ],
      "source": [
        "nx.draw_networkx(G2)"
      ]
    },
    {
      "cell_type": "code",
      "execution_count": null,
      "metadata": {
        "id": "EvJ1CpupJGIG",
        "outputId": "18e4a937-385c-4031-dded-6fb4a52ca1e3"
      },
      "outputs": [
        {
          "data": {
            "text/plain": [
              "EdgeDataView([('SandipGhose', 'neg', {}), ('SandipGhose', 'pos', {}), ('neg', 'umakantsingh_IN', {}), ('neg', 'pkm1999', {}), ('neg', 'vikram140gulati', {}), ('neg', 'iamTapanPandya', {}), ('neg', 'roarDworld', {}), ('neg', 'asarpotar', {}), ('neg', 'iamkaranbachani', {}), ('neg', 'kumardurgesh262', {}), ('umakantsingh_IN', 'pos', {}), ('pkm1999', 'pos', {}), ('kumardurgesh262', 'pos', {}), ('pos', 'asarpotar', {}), ('pos', 'iamTapanPandya', {}), ('pos', 'vikram140gulati', {}), ('pos', 'iamkaranbachani', {}), ('pos', 'roarDworld', {}), ('pos', 'stocks_in', {})])"
            ]
          },
          "execution_count": 72,
          "metadata": {},
          "output_type": "execute_result"
        }
      ],
      "source": [
        "G2.edges(data=True)"
      ]
    },
    {
      "cell_type": "code",
      "execution_count": null,
      "metadata": {
        "id": "9rzMin-tJGIG",
        "outputId": "29748b10-34a1-47b6-8fd4-073f38ea64d2"
      },
      "outputs": [
        {
          "data": {
            "text/plain": [
              "{'SandipGhose': 0.18181818181818182,\n",
              " 'neg': 0.8181818181818182,\n",
              " 'umakantsingh_IN': 0.18181818181818182,\n",
              " 'pkm1999': 0.18181818181818182,\n",
              " 'kumardurgesh262': 0.18181818181818182,\n",
              " 'pos': 0.9090909090909092,\n",
              " 'vikram140gulati': 0.18181818181818182,\n",
              " 'asarpotar': 0.18181818181818182,\n",
              " 'iamTapanPandya': 0.18181818181818182,\n",
              " 'roarDworld': 0.18181818181818182,\n",
              " 'iamkaranbachani': 0.18181818181818182,\n",
              " 'stocks_in': 0.09090909090909091}"
            ]
          },
          "execution_count": 73,
          "metadata": {},
          "output_type": "execute_result"
        }
      ],
      "source": [
        "nx.degree_centrality(G2)"
      ]
    },
    {
      "cell_type": "code",
      "execution_count": null,
      "metadata": {
        "id": "x5_-FCedJGIG",
        "outputId": "3c88063b-6558-431c-ac98-72003484f4c7"
      },
      "outputs": [
        {
          "data": {
            "text/plain": [
              "{'SandipGhose': 0.55,\n",
              " 'neg': 0.7857142857142857,\n",
              " 'umakantsingh_IN': 0.55,\n",
              " 'pkm1999': 0.55,\n",
              " 'kumardurgesh262': 0.55,\n",
              " 'pos': 0.9166666666666666,\n",
              " 'vikram140gulati': 0.55,\n",
              " 'asarpotar': 0.55,\n",
              " 'iamTapanPandya': 0.55,\n",
              " 'roarDworld': 0.55,\n",
              " 'iamkaranbachani': 0.55,\n",
              " 'stocks_in': 0.5}"
            ]
          },
          "execution_count": 74,
          "metadata": {},
          "output_type": "execute_result"
        }
      ],
      "source": [
        "nx.closeness_centrality(G2)"
      ]
    }
  ],
  "metadata": {
    "kernelspec": {
      "display_name": "Python 3 (ipykernel)",
      "language": "python",
      "name": "python3"
    },
    "language_info": {
      "codemirror_mode": {
        "name": "ipython",
        "version": 3
      },
      "file_extension": ".py",
      "mimetype": "text/x-python",
      "name": "python",
      "nbconvert_exporter": "python",
      "pygments_lexer": "ipython3",
      "version": "3.9.6"
    },
    "colab": {
      "provenance": []
    }
  },
  "nbformat": 4,
  "nbformat_minor": 0
}