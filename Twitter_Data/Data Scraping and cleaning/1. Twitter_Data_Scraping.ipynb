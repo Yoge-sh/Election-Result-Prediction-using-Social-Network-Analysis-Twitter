{
  "cells": [
    {
      "cell_type": "markdown",
      "source": [
        "---\n",
        "\n",
        "***The data scraping code & saved files with used conditions to get the relevant data***\n",
        "\n",
        "---"
      ],
      "metadata": {
        "id": "PU9jzNvYmUDD"
      },
      "id": "PU9jzNvYmUDD"
    },
    {
      "cell_type": "code",
      "source": [
        "import pandas as pd"
      ],
      "metadata": {
        "id": "4b4_ygjHnc0O"
      },
      "id": "4b4_ygjHnc0O",
      "execution_count": null,
      "outputs": []
    },
    {
      "cell_type": "code",
      "source": [
        "from google.colab import drive\n",
        "drive.mount('/content/drive')"
      ],
      "metadata": {
        "colab": {
          "base_uri": "https://localhost:8080/"
        },
        "id": "IGE5ge9vinh0",
        "outputId": "cbe236b6-bf09-43ed-c530-d9d2cbc5d528"
      },
      "id": "IGE5ge9vinh0",
      "execution_count": null,
      "outputs": [
        {
          "output_type": "stream",
          "name": "stdout",
          "text": [
            "Mounted at /content/drive\n"
          ]
        }
      ]
    },
    {
      "cell_type": "code",
      "source": [
        "import pandas as pd\n",
        "import tweepy\n",
        "from textblob import TextBlob\n",
        "from wordcloud import WordCloud\n",
        "import re\n",
        "\n",
        "import snscrape.modules.twitter as sntwitter"
      ],
      "metadata": {
        "id": "U6yQWW0btqj9"
      },
      "id": "U6yQWW0btqj9",
      "execution_count": null,
      "outputs": []
    },
    {
      "cell_type": "code",
      "execution_count": null,
      "id": "0ca7403e",
      "metadata": {
        "id": "0ca7403e"
      },
      "outputs": [],
      "source": [
        "# THE GENERAL TWEETS WITH COMMON WORDS AND MOST USED HASHTAG Without Replies\n",
        "\n",
        "query = \"(Narendra OR Modi OR Rahul OR Gandhi OR BJP OR INC) (#LokSabhaElections2019 OR #IndianElection2019 OR #NarendraModi OR #RahulGandhi OR #BJP OR #INC) lang:en until:2019-05-19 since:2019-01-01 -filter:links -filter:replies\"\n",
        "tweets = []\n",
        "limit = 1000000\n",
        "\n",
        "for tweet in sntwitter.TwitterSearchScraper(query).get_items():\n",
        "    if len(tweets) == limit:\n",
        "        break\n",
        "    else:\n",
        "        tweets.append([tweet.date, tweet.username, tweet.content])\n",
        "        \n",
        "df = pd.DataFrame(tweets, columns=['Date', 'User', 'Tweet'])\n",
        "# to save to csv\n",
        "df.to_csv('TweetsElections2019.csv')"
      ]
    },
    {
      "cell_type": "code",
      "execution_count": null,
      "id": "2f613c60",
      "metadata": {
        "id": "2f613c60",
        "outputId": "c8b41b36-8bd5-4a71-f8af-ff41f30b7b58",
        "colab": {
          "base_uri": "https://localhost:8080/"
        }
      },
      "outputs": [
        {
          "output_type": "execute_result",
          "data": {
            "text/plain": [
              "(35619, 3)"
            ]
          },
          "metadata": {},
          "execution_count": 8
        }
      ],
      "source": [
        "df=pd.read_csv(\"/content/drive/MyDrive/Graph_theory_and_social_networks/TweetsElections2019.csv\",index_col=0)\n",
        "df.shape"
      ]
    },
    {
      "cell_type": "code",
      "execution_count": null,
      "id": "408cb5e9",
      "metadata": {
        "id": "408cb5e9"
      },
      "outputs": [],
      "source": [
        "# THE GENERAL TWEETS WITH COMMON WORDS AND MOST USED HASHTAG With Replies\n",
        "query = \"(Narendra OR Modi OR Rahul OR Gandhi OR BJP OR INC) (#LokSabhaElections2019 OR #IndianElection2019 OR #NarendraModi OR #RahulGandhi OR #BJP OR #INC) lang:en until:2019-05-19 since:2019-01-01 -filter:links\"\n",
        "tweets = []\n",
        "limit = 1000000\n",
        "\n",
        "for tweet in sntwitter.TwitterSearchScraper(query).get_items():\n",
        "    if len(tweets) == limit:\n",
        "        break\n",
        "    else:\n",
        "        tweets.append([tweet.date, tweet.username, tweet.content])\n",
        "        \n",
        "df = pd.DataFrame(tweets, columns=['Date', 'User', 'Tweet'])\n",
        "# to save to csv\n",
        "df.to_csv('TweetsElections2019_2.csv')"
      ]
    },
    {
      "cell_type": "code",
      "execution_count": null,
      "id": "fdd2e076",
      "metadata": {
        "id": "fdd2e076",
        "outputId": "3e2f3248-473a-40c1-b433-522993c32e60",
        "colab": {
          "base_uri": "https://localhost:8080/"
        }
      },
      "outputs": [
        {
          "output_type": "execute_result",
          "data": {
            "text/plain": [
              "(67148, 3)"
            ]
          },
          "metadata": {},
          "execution_count": 9
        }
      ],
      "source": [
        "df1=pd.read_csv(\"/content/drive/MyDrive/Graph_theory_and_social_networks/TweetsElections2019_2.csv\",index_col=0)\n",
        "df1.shape"
      ]
    },
    {
      "cell_type": "code",
      "source": [
        "#TWEETS WITH POPULAR HASHTAGS\n",
        "\n",
        "query = \"(#LokSabhaElections2019 OR #IndianElection2019 OR #NarendraModi OR #RahulGandhi OR #BJP OR #INC) lang:en until:2019-05-19 since:2019-01-01 -filter:links -filter:replies\"\n",
        "tweets = []\n",
        "limit = 1000000\n",
        "\n",
        "for tweet in sntwitter.TwitterSearchScraper(query).get_items():\n",
        "    if len(tweets) == limit:\n",
        "        break\n",
        "    else:\n",
        "        tweets.append([tweet.date, tweet.username, tweet.content])\n",
        "        \n",
        "df = pd.DataFrame(tweets, columns=['Date', 'User', 'Tweet'])\n",
        "# to save to csv\n",
        "df.to_csv('TweetsElections2019Data2.csv')"
      ],
      "metadata": {
        "id": "ySkhL-cCg-Cc"
      },
      "id": "ySkhL-cCg-Cc",
      "execution_count": null,
      "outputs": []
    },
    {
      "cell_type": "code",
      "source": [
        "df2_hash=pd.read_csv('/content/drive/MyDrive/Graph_theory_and_social_networks/TweetsElections2019Data2.csv')\n",
        "df2_hash.shape"
      ],
      "metadata": {
        "colab": {
          "base_uri": "https://localhost:8080/"
        },
        "id": "cxETKnqqg_ej",
        "outputId": "05c7ce97-8e81-4b22-fb40-046d416f478a"
      },
      "id": "cxETKnqqg_ej",
      "execution_count": null,
      "outputs": [
        {
          "output_type": "execute_result",
          "data": {
            "text/plain": [
              "(82452, 4)"
            ]
          },
          "metadata": {},
          "execution_count": 10
        }
      ]
    },
    {
      "cell_type": "code",
      "source": [
        "#TWEETS WITH POPULAR HASHTAGS with replies\n",
        "\n",
        "query = \"(#LokSabhaElections2019 OR #IndianElection2019 OR #NarendraModi OR #RahulGandhi OR #BJP OR #INC) lang:en until:2019-05-19 since:2019-01-01 -filter:links\"\n",
        "tweets = []\n",
        "limit = 1000000\n",
        "\n",
        "for tweet in sntwitter.TwitterSearchScraper(query).get_items():\n",
        "    if len(tweets) == limit:\n",
        "        break\n",
        "    else:\n",
        "        tweets.append([tweet.date, tweet.username, tweet.content])\n",
        "        \n",
        "df = pd.DataFrame(tweets, columns=['Date', 'User', 'Tweet'])\n",
        "# to save to csv\n",
        "df.to_csv('TweetsElections2019Data2_2.csv')"
      ],
      "metadata": {
        "id": "gFvYRGLJhIcZ"
      },
      "id": "gFvYRGLJhIcZ",
      "execution_count": null,
      "outputs": []
    },
    {
      "cell_type": "code",
      "source": [
        "df2_hash2=pd.read_csv('/content/drive/MyDrive/Graph_theory_and_social_networks/TweetsElections2019Data2_2.csv')\n",
        "df2_hash2.shape"
      ],
      "metadata": {
        "colab": {
          "base_uri": "https://localhost:8080/"
        },
        "id": "O1HY31GzhLyh",
        "outputId": "2a1fb827-8680-4de8-d500-4aed63560dbf"
      },
      "id": "O1HY31GzhLyh",
      "execution_count": null,
      "outputs": [
        {
          "output_type": "execute_result",
          "data": {
            "text/plain": [
              "(145167, 4)"
            ]
          },
          "metadata": {},
          "execution_count": 11
        }
      ]
    },
    {
      "cell_type": "code",
      "source": [
        "#LokSabhaElections2019 with replies\n",
        "\n",
        "query = \"(#LokSabhaElections2019) lang:en until:2019-05-19 since:2019-01-01 -filter:links\"\n",
        "tweets = []\n",
        "limit = 1000000\n",
        "\n",
        "for tweet in sntwitter.TwitterSearchScraper(query).get_items():\n",
        "    \n",
        "    # print(vars(tweet))\n",
        "    # break\n",
        "    if len(tweets) == limit:\n",
        "        break\n",
        "    else:\n",
        "        tweets.append([tweet.date, tweet.username, tweet.content])\n",
        "        \n",
        "df = pd.DataFrame(tweets, columns=['Date', 'User', 'Tweet'])\n",
        "df.to_csv('Tweets#LokSabhaElections2019_2.csv')"
      ],
      "metadata": {
        "id": "4WIGQiMfhLvD"
      },
      "id": "4WIGQiMfhLvD",
      "execution_count": null,
      "outputs": []
    },
    {
      "cell_type": "code",
      "source": [
        "df3_LSE19=pd.read_csv('/content/drive/MyDrive/Graph_theory_and_social_networks/Tweets#LokSabhaElections2019_2.csv')\n",
        "df3_LSE19.shape"
      ],
      "metadata": {
        "colab": {
          "base_uri": "https://localhost:8080/"
        },
        "id": "ZTYXgokqhLKL",
        "outputId": "512348c7-ea0e-473a-a1eb-e6e6625fdb21"
      },
      "id": "ZTYXgokqhLKL",
      "execution_count": null,
      "outputs": [
        {
          "output_type": "execute_result",
          "data": {
            "text/plain": [
              "(64248, 4)"
            ]
          },
          "metadata": {},
          "execution_count": 12
        }
      ]
    },
    {
      "cell_type": "code",
      "source": [],
      "metadata": {
        "id": "ir8cSspEhK_w"
      },
      "id": "ir8cSspEhK_w",
      "execution_count": null,
      "outputs": []
    },
    {
      "cell_type": "code",
      "execution_count": null,
      "id": "6471585a",
      "metadata": {
        "id": "6471585a"
      },
      "outputs": [],
      "source": [
        "# Tweets of Modi\n",
        "\n",
        "query = \"(from:narendramodi) (Elections OR Congress OR BJP OR election OR voting OR vote OR campaign) lang:en until:2019-05-19 since:2019-01-01 -filter:links\" \n",
        "tweets = [] \n",
        "limit = 5000\n",
        "\n",
        "for tweet in sntwitter.TwitterSearchScraper(query).get_items():\n",
        "\n",
        "        if len(tweets) == limit:\n",
        "             break\n",
        "        else:\n",
        "              tweets.append([tweet.date, tweet.username, tweet.content])\n",
        "df = pd.DataFrame(tweets, columns=['Date', 'User', 'Tweet'])\n",
        "\n",
        "#to save to csv\n",
        "df.to_csv('tweetsModi.csv')"
      ]
    },
    {
      "cell_type": "code",
      "source": [
        "df_Modi = pd.read_csv(\"/content/drive/MyDrive/Graph_theory_and_social_networks/tweetsModi.csv\",index_col=0)\n",
        "df_Modi"
      ],
      "metadata": {
        "colab": {
          "base_uri": "https://localhost:8080/",
          "height": 424
        },
        "id": "5IWWmVZah7gl",
        "outputId": "9b6cdbf1-9d95-4de7-fb15-9e8699bb594e"
      },
      "id": "5IWWmVZah7gl",
      "execution_count": null,
      "outputs": [
        {
          "output_type": "execute_result",
          "data": {
            "text/plain": [
              "                         Date          User  \\\n",
              "0   2019-05-12 01:17:12+00:00  narendramodi   \n",
              "1   2019-05-09 02:00:26+00:00  narendramodi   \n",
              "2   2019-05-08 13:41:51+00:00  narendramodi   \n",
              "3   2019-05-06 01:18:46+00:00  narendramodi   \n",
              "4   2019-04-29 01:18:03+00:00  narendramodi   \n",
              "..                        ...           ...   \n",
              "60  2019-02-09 12:23:13+00:00  narendramodi   \n",
              "61  2019-02-08 01:57:45+00:00  narendramodi   \n",
              "62  2019-01-31 11:15:16+00:00  narendramodi   \n",
              "63  2019-01-25 06:31:18+00:00  narendramodi   \n",
              "64  2019-01-19 16:41:47+00:00  narendramodi   \n",
              "\n",
              "                                                Tweet  \n",
              "0   Yet another phase of the 2019 Lok Sabha electi...  \n",
              "1   Will be addressing five rallies today. \\n\\nLoo...  \n",
              "2   Delhi has always given great love and affectio...  \n",
              "3   Requesting all those voting in today’s fifth p...  \n",
              "4   Another phase of the General Elections begins ...  \n",
              "..                                                ...  \n",
              "60  During Congress rule, the headlines from the N...  \n",
              "61  In the afternoon, I will address a public meet...  \n",
              "62  I thank the people of Jind for blessing @BJP4H...  \n",
              "63  I urge people from all walks of life to create...  \n",
              "64  They got together in Kolkata with no agenda bu...  \n",
              "\n",
              "[65 rows x 3 columns]"
            ],
            "text/html": [
              "\n",
              "  <div id=\"df-135aca58-a37f-4a27-bf71-a5d98dcb85cb\">\n",
              "    <div class=\"colab-df-container\">\n",
              "      <div>\n",
              "<style scoped>\n",
              "    .dataframe tbody tr th:only-of-type {\n",
              "        vertical-align: middle;\n",
              "    }\n",
              "\n",
              "    .dataframe tbody tr th {\n",
              "        vertical-align: top;\n",
              "    }\n",
              "\n",
              "    .dataframe thead th {\n",
              "        text-align: right;\n",
              "    }\n",
              "</style>\n",
              "<table border=\"1\" class=\"dataframe\">\n",
              "  <thead>\n",
              "    <tr style=\"text-align: right;\">\n",
              "      <th></th>\n",
              "      <th>Date</th>\n",
              "      <th>User</th>\n",
              "      <th>Tweet</th>\n",
              "    </tr>\n",
              "  </thead>\n",
              "  <tbody>\n",
              "    <tr>\n",
              "      <th>0</th>\n",
              "      <td>2019-05-12 01:17:12+00:00</td>\n",
              "      <td>narendramodi</td>\n",
              "      <td>Yet another phase of the 2019 Lok Sabha electi...</td>\n",
              "    </tr>\n",
              "    <tr>\n",
              "      <th>1</th>\n",
              "      <td>2019-05-09 02:00:26+00:00</td>\n",
              "      <td>narendramodi</td>\n",
              "      <td>Will be addressing five rallies today. \\n\\nLoo...</td>\n",
              "    </tr>\n",
              "    <tr>\n",
              "      <th>2</th>\n",
              "      <td>2019-05-08 13:41:51+00:00</td>\n",
              "      <td>narendramodi</td>\n",
              "      <td>Delhi has always given great love and affectio...</td>\n",
              "    </tr>\n",
              "    <tr>\n",
              "      <th>3</th>\n",
              "      <td>2019-05-06 01:18:46+00:00</td>\n",
              "      <td>narendramodi</td>\n",
              "      <td>Requesting all those voting in today’s fifth p...</td>\n",
              "    </tr>\n",
              "    <tr>\n",
              "      <th>4</th>\n",
              "      <td>2019-04-29 01:18:03+00:00</td>\n",
              "      <td>narendramodi</td>\n",
              "      <td>Another phase of the General Elections begins ...</td>\n",
              "    </tr>\n",
              "    <tr>\n",
              "      <th>...</th>\n",
              "      <td>...</td>\n",
              "      <td>...</td>\n",
              "      <td>...</td>\n",
              "    </tr>\n",
              "    <tr>\n",
              "      <th>60</th>\n",
              "      <td>2019-02-09 12:23:13+00:00</td>\n",
              "      <td>narendramodi</td>\n",
              "      <td>During Congress rule, the headlines from the N...</td>\n",
              "    </tr>\n",
              "    <tr>\n",
              "      <th>61</th>\n",
              "      <td>2019-02-08 01:57:45+00:00</td>\n",
              "      <td>narendramodi</td>\n",
              "      <td>In the afternoon, I will address a public meet...</td>\n",
              "    </tr>\n",
              "    <tr>\n",
              "      <th>62</th>\n",
              "      <td>2019-01-31 11:15:16+00:00</td>\n",
              "      <td>narendramodi</td>\n",
              "      <td>I thank the people of Jind for blessing @BJP4H...</td>\n",
              "    </tr>\n",
              "    <tr>\n",
              "      <th>63</th>\n",
              "      <td>2019-01-25 06:31:18+00:00</td>\n",
              "      <td>narendramodi</td>\n",
              "      <td>I urge people from all walks of life to create...</td>\n",
              "    </tr>\n",
              "    <tr>\n",
              "      <th>64</th>\n",
              "      <td>2019-01-19 16:41:47+00:00</td>\n",
              "      <td>narendramodi</td>\n",
              "      <td>They got together in Kolkata with no agenda bu...</td>\n",
              "    </tr>\n",
              "  </tbody>\n",
              "</table>\n",
              "<p>65 rows × 3 columns</p>\n",
              "</div>\n",
              "      <button class=\"colab-df-convert\" onclick=\"convertToInteractive('df-135aca58-a37f-4a27-bf71-a5d98dcb85cb')\"\n",
              "              title=\"Convert this dataframe to an interactive table.\"\n",
              "              style=\"display:none;\">\n",
              "        \n",
              "  <svg xmlns=\"http://www.w3.org/2000/svg\" height=\"24px\"viewBox=\"0 0 24 24\"\n",
              "       width=\"24px\">\n",
              "    <path d=\"M0 0h24v24H0V0z\" fill=\"none\"/>\n",
              "    <path d=\"M18.56 5.44l.94 2.06.94-2.06 2.06-.94-2.06-.94-.94-2.06-.94 2.06-2.06.94zm-11 1L8.5 8.5l.94-2.06 2.06-.94-2.06-.94L8.5 2.5l-.94 2.06-2.06.94zm10 10l.94 2.06.94-2.06 2.06-.94-2.06-.94-.94-2.06-.94 2.06-2.06.94z\"/><path d=\"M17.41 7.96l-1.37-1.37c-.4-.4-.92-.59-1.43-.59-.52 0-1.04.2-1.43.59L10.3 9.45l-7.72 7.72c-.78.78-.78 2.05 0 2.83L4 21.41c.39.39.9.59 1.41.59.51 0 1.02-.2 1.41-.59l7.78-7.78 2.81-2.81c.8-.78.8-2.07 0-2.86zM5.41 20L4 18.59l7.72-7.72 1.47 1.35L5.41 20z\"/>\n",
              "  </svg>\n",
              "      </button>\n",
              "      \n",
              "  <style>\n",
              "    .colab-df-container {\n",
              "      display:flex;\n",
              "      flex-wrap:wrap;\n",
              "      gap: 12px;\n",
              "    }\n",
              "\n",
              "    .colab-df-convert {\n",
              "      background-color: #E8F0FE;\n",
              "      border: none;\n",
              "      border-radius: 50%;\n",
              "      cursor: pointer;\n",
              "      display: none;\n",
              "      fill: #1967D2;\n",
              "      height: 32px;\n",
              "      padding: 0 0 0 0;\n",
              "      width: 32px;\n",
              "    }\n",
              "\n",
              "    .colab-df-convert:hover {\n",
              "      background-color: #E2EBFA;\n",
              "      box-shadow: 0px 1px 2px rgba(60, 64, 67, 0.3), 0px 1px 3px 1px rgba(60, 64, 67, 0.15);\n",
              "      fill: #174EA6;\n",
              "    }\n",
              "\n",
              "    [theme=dark] .colab-df-convert {\n",
              "      background-color: #3B4455;\n",
              "      fill: #D2E3FC;\n",
              "    }\n",
              "\n",
              "    [theme=dark] .colab-df-convert:hover {\n",
              "      background-color: #434B5C;\n",
              "      box-shadow: 0px 1px 3px 1px rgba(0, 0, 0, 0.15);\n",
              "      filter: drop-shadow(0px 1px 2px rgba(0, 0, 0, 0.3));\n",
              "      fill: #FFFFFF;\n",
              "    }\n",
              "  </style>\n",
              "\n",
              "      <script>\n",
              "        const buttonEl =\n",
              "          document.querySelector('#df-135aca58-a37f-4a27-bf71-a5d98dcb85cb button.colab-df-convert');\n",
              "        buttonEl.style.display =\n",
              "          google.colab.kernel.accessAllowed ? 'block' : 'none';\n",
              "\n",
              "        async function convertToInteractive(key) {\n",
              "          const element = document.querySelector('#df-135aca58-a37f-4a27-bf71-a5d98dcb85cb');\n",
              "          const dataTable =\n",
              "            await google.colab.kernel.invokeFunction('convertToInteractive',\n",
              "                                                     [key], {});\n",
              "          if (!dataTable) return;\n",
              "\n",
              "          const docLinkHtml = 'Like what you see? Visit the ' +\n",
              "            '<a target=\"_blank\" href=https://colab.research.google.com/notebooks/data_table.ipynb>data table notebook</a>'\n",
              "            + ' to learn more about interactive tables.';\n",
              "          element.innerHTML = '';\n",
              "          dataTable['output_type'] = 'display_data';\n",
              "          await google.colab.output.renderOutput(dataTable, element);\n",
              "          const docLink = document.createElement('div');\n",
              "          docLink.innerHTML = docLinkHtml;\n",
              "          element.appendChild(docLink);\n",
              "        }\n",
              "      </script>\n",
              "    </div>\n",
              "  </div>\n",
              "  "
            ]
          },
          "metadata": {},
          "execution_count": 14
        }
      ]
    },
    {
      "cell_type": "code",
      "source": [],
      "metadata": {
        "id": "B6dPdo4kh7dB"
      },
      "id": "B6dPdo4kh7dB",
      "execution_count": null,
      "outputs": []
    },
    {
      "cell_type": "code",
      "source": [
        "# Tweets of Rahul Gandhi\n",
        "\n",
        "query = \"(from:RahulGandhi) lang:en until:2019-05-19 since:2019-01-01 -filter:links\" \n",
        "tweets = [] \n",
        "limit = 5000\n",
        "\n",
        "for tweet in sntwitter.TwitterSearchScraper(query).get_items():\n",
        "\n",
        "        if len(tweets) == limit:\n",
        "             break\n",
        "        else:\n",
        "              tweets.append([tweet.date, tweet.username, tweet.content])\n",
        "df= pd.DataFrame(tweets, columns=['Date', 'User', 'Tweet']) #print(df) df2.head()\n",
        "\n",
        "#to save to csv\n",
        "df.to_csv('tweetsRG.csv')"
      ],
      "metadata": {
        "id": "Fi6pBKefh7Y8"
      },
      "id": "Fi6pBKefh7Y8",
      "execution_count": null,
      "outputs": []
    },
    {
      "cell_type": "code",
      "source": [
        "df_RG = pd.read_csv('/content/drive/MyDrive/Graph_theory_and_social_networks/tweetsRG.csv',index_col=0)\n",
        "df_RG"
      ],
      "metadata": {
        "colab": {
          "base_uri": "https://localhost:8080/",
          "height": 424
        },
        "id": "ADGjhVZch7W0",
        "outputId": "029856e1-2ef1-44cd-bcda-4967f7aba684"
      },
      "id": "ADGjhVZch7W0",
      "execution_count": null,
      "outputs": [
        {
          "output_type": "execute_result",
          "data": {
            "text/plain": [
              "                         Date         User  \\\n",
              "0   2019-05-18 06:59:40+00:00  RahulGandhi   \n",
              "1   2019-05-17 12:39:41+00:00  RahulGandhi   \n",
              "2   2019-05-14 10:11:18+00:00  RahulGandhi   \n",
              "3   2019-05-09 16:01:12+00:00  RahulGandhi   \n",
              "4   2019-05-05 05:45:31+00:00  RahulGandhi   \n",
              "..                        ...          ...   \n",
              "59  2019-01-09 15:29:53+00:00  RahulGandhi   \n",
              "60  2019-01-08 10:02:46+00:00  RahulGandhi   \n",
              "61  2019-01-03 06:41:57+00:00  RahulGandhi   \n",
              "62  2019-01-02 15:21:59+00:00  RahulGandhi   \n",
              "63  2019-01-01 02:55:42+00:00  RahulGandhi   \n",
              "\n",
              "                                                Tweet  \n",
              "0   Greetings &amp; Best Wishes on the auspicious ...  \n",
              "1   Congratulations Modi Ji. Excellent Press Confe...  \n",
              "2   🇮🇳 🇮🇳 🇮🇳 I'm pushing for a new language in pol...  \n",
              "3   Dear Mr Modi,\\n\\nYour recent statements, inter...  \n",
              "4   Modi Ji,\\n\\nThe battle is over. Your Karma awa...  \n",
              "..                                                ...  \n",
              "59  With all due respect Modi Ji, in our culture r...  \n",
              "60  The truth of Rafale will destroy Mr Modi. It’s...  \n",
              "61  So it seems our PM has fled Parliament &amp; h...  \n",
              "62  Tomorrow, the PM faces an Open Book #RafaleDea...  \n",
              "63                  I wish you all, a Happy New Year!  \n",
              "\n",
              "[64 rows x 3 columns]"
            ],
            "text/html": [
              "\n",
              "  <div id=\"df-273ebb1c-fb33-457f-a036-b5a44ddef66e\">\n",
              "    <div class=\"colab-df-container\">\n",
              "      <div>\n",
              "<style scoped>\n",
              "    .dataframe tbody tr th:only-of-type {\n",
              "        vertical-align: middle;\n",
              "    }\n",
              "\n",
              "    .dataframe tbody tr th {\n",
              "        vertical-align: top;\n",
              "    }\n",
              "\n",
              "    .dataframe thead th {\n",
              "        text-align: right;\n",
              "    }\n",
              "</style>\n",
              "<table border=\"1\" class=\"dataframe\">\n",
              "  <thead>\n",
              "    <tr style=\"text-align: right;\">\n",
              "      <th></th>\n",
              "      <th>Date</th>\n",
              "      <th>User</th>\n",
              "      <th>Tweet</th>\n",
              "    </tr>\n",
              "  </thead>\n",
              "  <tbody>\n",
              "    <tr>\n",
              "      <th>0</th>\n",
              "      <td>2019-05-18 06:59:40+00:00</td>\n",
              "      <td>RahulGandhi</td>\n",
              "      <td>Greetings &amp;amp; Best Wishes on the auspicious ...</td>\n",
              "    </tr>\n",
              "    <tr>\n",
              "      <th>1</th>\n",
              "      <td>2019-05-17 12:39:41+00:00</td>\n",
              "      <td>RahulGandhi</td>\n",
              "      <td>Congratulations Modi Ji. Excellent Press Confe...</td>\n",
              "    </tr>\n",
              "    <tr>\n",
              "      <th>2</th>\n",
              "      <td>2019-05-14 10:11:18+00:00</td>\n",
              "      <td>RahulGandhi</td>\n",
              "      <td>🇮🇳 🇮🇳 🇮🇳 I'm pushing for a new language in pol...</td>\n",
              "    </tr>\n",
              "    <tr>\n",
              "      <th>3</th>\n",
              "      <td>2019-05-09 16:01:12+00:00</td>\n",
              "      <td>RahulGandhi</td>\n",
              "      <td>Dear Mr Modi,\\n\\nYour recent statements, inter...</td>\n",
              "    </tr>\n",
              "    <tr>\n",
              "      <th>4</th>\n",
              "      <td>2019-05-05 05:45:31+00:00</td>\n",
              "      <td>RahulGandhi</td>\n",
              "      <td>Modi Ji,\\n\\nThe battle is over. Your Karma awa...</td>\n",
              "    </tr>\n",
              "    <tr>\n",
              "      <th>...</th>\n",
              "      <td>...</td>\n",
              "      <td>...</td>\n",
              "      <td>...</td>\n",
              "    </tr>\n",
              "    <tr>\n",
              "      <th>59</th>\n",
              "      <td>2019-01-09 15:29:53+00:00</td>\n",
              "      <td>RahulGandhi</td>\n",
              "      <td>With all due respect Modi Ji, in our culture r...</td>\n",
              "    </tr>\n",
              "    <tr>\n",
              "      <th>60</th>\n",
              "      <td>2019-01-08 10:02:46+00:00</td>\n",
              "      <td>RahulGandhi</td>\n",
              "      <td>The truth of Rafale will destroy Mr Modi. It’s...</td>\n",
              "    </tr>\n",
              "    <tr>\n",
              "      <th>61</th>\n",
              "      <td>2019-01-03 06:41:57+00:00</td>\n",
              "      <td>RahulGandhi</td>\n",
              "      <td>So it seems our PM has fled Parliament &amp;amp; h...</td>\n",
              "    </tr>\n",
              "    <tr>\n",
              "      <th>62</th>\n",
              "      <td>2019-01-02 15:21:59+00:00</td>\n",
              "      <td>RahulGandhi</td>\n",
              "      <td>Tomorrow, the PM faces an Open Book #RafaleDea...</td>\n",
              "    </tr>\n",
              "    <tr>\n",
              "      <th>63</th>\n",
              "      <td>2019-01-01 02:55:42+00:00</td>\n",
              "      <td>RahulGandhi</td>\n",
              "      <td>I wish you all, a Happy New Year!</td>\n",
              "    </tr>\n",
              "  </tbody>\n",
              "</table>\n",
              "<p>64 rows × 3 columns</p>\n",
              "</div>\n",
              "      <button class=\"colab-df-convert\" onclick=\"convertToInteractive('df-273ebb1c-fb33-457f-a036-b5a44ddef66e')\"\n",
              "              title=\"Convert this dataframe to an interactive table.\"\n",
              "              style=\"display:none;\">\n",
              "        \n",
              "  <svg xmlns=\"http://www.w3.org/2000/svg\" height=\"24px\"viewBox=\"0 0 24 24\"\n",
              "       width=\"24px\">\n",
              "    <path d=\"M0 0h24v24H0V0z\" fill=\"none\"/>\n",
              "    <path d=\"M18.56 5.44l.94 2.06.94-2.06 2.06-.94-2.06-.94-.94-2.06-.94 2.06-2.06.94zm-11 1L8.5 8.5l.94-2.06 2.06-.94-2.06-.94L8.5 2.5l-.94 2.06-2.06.94zm10 10l.94 2.06.94-2.06 2.06-.94-2.06-.94-.94-2.06-.94 2.06-2.06.94z\"/><path d=\"M17.41 7.96l-1.37-1.37c-.4-.4-.92-.59-1.43-.59-.52 0-1.04.2-1.43.59L10.3 9.45l-7.72 7.72c-.78.78-.78 2.05 0 2.83L4 21.41c.39.39.9.59 1.41.59.51 0 1.02-.2 1.41-.59l7.78-7.78 2.81-2.81c.8-.78.8-2.07 0-2.86zM5.41 20L4 18.59l7.72-7.72 1.47 1.35L5.41 20z\"/>\n",
              "  </svg>\n",
              "      </button>\n",
              "      \n",
              "  <style>\n",
              "    .colab-df-container {\n",
              "      display:flex;\n",
              "      flex-wrap:wrap;\n",
              "      gap: 12px;\n",
              "    }\n",
              "\n",
              "    .colab-df-convert {\n",
              "      background-color: #E8F0FE;\n",
              "      border: none;\n",
              "      border-radius: 50%;\n",
              "      cursor: pointer;\n",
              "      display: none;\n",
              "      fill: #1967D2;\n",
              "      height: 32px;\n",
              "      padding: 0 0 0 0;\n",
              "      width: 32px;\n",
              "    }\n",
              "\n",
              "    .colab-df-convert:hover {\n",
              "      background-color: #E2EBFA;\n",
              "      box-shadow: 0px 1px 2px rgba(60, 64, 67, 0.3), 0px 1px 3px 1px rgba(60, 64, 67, 0.15);\n",
              "      fill: #174EA6;\n",
              "    }\n",
              "\n",
              "    [theme=dark] .colab-df-convert {\n",
              "      background-color: #3B4455;\n",
              "      fill: #D2E3FC;\n",
              "    }\n",
              "\n",
              "    [theme=dark] .colab-df-convert:hover {\n",
              "      background-color: #434B5C;\n",
              "      box-shadow: 0px 1px 3px 1px rgba(0, 0, 0, 0.15);\n",
              "      filter: drop-shadow(0px 1px 2px rgba(0, 0, 0, 0.3));\n",
              "      fill: #FFFFFF;\n",
              "    }\n",
              "  </style>\n",
              "\n",
              "      <script>\n",
              "        const buttonEl =\n",
              "          document.querySelector('#df-273ebb1c-fb33-457f-a036-b5a44ddef66e button.colab-df-convert');\n",
              "        buttonEl.style.display =\n",
              "          google.colab.kernel.accessAllowed ? 'block' : 'none';\n",
              "\n",
              "        async function convertToInteractive(key) {\n",
              "          const element = document.querySelector('#df-273ebb1c-fb33-457f-a036-b5a44ddef66e');\n",
              "          const dataTable =\n",
              "            await google.colab.kernel.invokeFunction('convertToInteractive',\n",
              "                                                     [key], {});\n",
              "          if (!dataTable) return;\n",
              "\n",
              "          const docLinkHtml = 'Like what you see? Visit the ' +\n",
              "            '<a target=\"_blank\" href=https://colab.research.google.com/notebooks/data_table.ipynb>data table notebook</a>'\n",
              "            + ' to learn more about interactive tables.';\n",
              "          element.innerHTML = '';\n",
              "          dataTable['output_type'] = 'display_data';\n",
              "          await google.colab.output.renderOutput(dataTable, element);\n",
              "          const docLink = document.createElement('div');\n",
              "          docLink.innerHTML = docLinkHtml;\n",
              "          element.appendChild(docLink);\n",
              "        }\n",
              "      </script>\n",
              "    </div>\n",
              "  </div>\n",
              "  "
            ]
          },
          "metadata": {},
          "execution_count": 15
        }
      ]
    },
    {
      "cell_type": "markdown",
      "source": [
        "\n",
        "\n",
        "---\n",
        "\n",
        "\n",
        "\n",
        "---\n",
        "\n"
      ],
      "metadata": {
        "id": "uPxJAbnwqOAc"
      },
      "id": "uPxJAbnwqOAc"
    }
  ],
  "metadata": {
    "kernelspec": {
      "display_name": "Python 3 (ipykernel)",
      "language": "python",
      "name": "python3"
    },
    "language_info": {
      "codemirror_mode": {
        "name": "ipython",
        "version": 3
      },
      "file_extension": ".py",
      "mimetype": "text/x-python",
      "name": "python",
      "nbconvert_exporter": "python",
      "pygments_lexer": "ipython3",
      "version": "3.7.3"
    },
    "colab": {
      "provenance": []
    }
  },
  "nbformat": 4,
  "nbformat_minor": 5
}
