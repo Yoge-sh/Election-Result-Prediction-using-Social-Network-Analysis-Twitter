{
 "cells": [
  {
   "cell_type": "markdown",
   "metadata": {},
   "source": [
    "# <p style=\"padding:10px;background-color:lightgray;margin:0;color:black;font-family:newtimeroman;font-size:100%;text-align:center;border-radius: 15px 50px;overflow:hidden;font-weight:500\">Twitter Sentiment analysis using R </p>\n",
    "\n",
    "\n",
    "<div style=\"border-radius:10px;\n",
    "        border :#0A0104 solid;\n",
    "        padding: 15px;\n",
    "        background-color:#E9F6E2;\n",
    "       font-size:110%;\n",
    "        text-align: left\">\n",
    " <span style=\"color:'blue' ;\">   \n",
    "    <strong>R Library </strong>: <a href=\"https://www.rdocumentation.org/packages/syuzhet/versions/1.0.6/topics/get_nrc_sentiment\" target=\"_blank\">get_nrc_sentiment</a> </span>\n",
    "    "
   ]
  },
  {
   "cell_type": "markdown",
   "metadata": {},
   "source": [
    "# Import libraries and Data"
   ]
  },
  {
   "cell_type": "code",
   "execution_count": null,
   "metadata": {
    "scrolled": true
   },
   "outputs": [],
   "source": [
    "library('ggplot2') # visualization\n",
    "library('ggthemes') # visualization\n",
    "library('scales') # visualization\n",
    "library('dplyr') # data manipulation\n",
    "library('mice') # imputation\n",
    "library('randomForest') # classification algorithm\n",
    "library('httr')\n",
    "library('syuzhet')"
   ]
  },
  {
   "cell_type": "code",
   "execution_count": 1,
   "metadata": {
    "execution": {
     "iopub.execute_input": "2023-02-09T13:40:02.930680Z",
     "iopub.status.busy": "2023-02-09T13:40:02.928110Z",
     "iopub.status.idle": "2023-02-09T13:40:03.585124Z"
    }
   },
   "outputs": [],
   "source": [
    "dataModi.df <- read.csv(\"ModiRelatedTweetsWithSentiment.csv\")\n",
    "dataRahul.df <- read.csv(\"RahulRelatedTweetsWithSentiment.csv\")"
   ]
  },
  {
   "cell_type": "markdown",
   "metadata": {},
   "source": [
    "# Narendra Modi Related Tweets"
   ]
  },
  {
   "cell_type": "code",
   "execution_count": 5,
   "metadata": {
    "execution": {
     "iopub.execute_input": "2023-02-09T06:43:22.937911Z",
     "iopub.status.busy": "2023-02-09T06:43:22.934599Z",
     "iopub.status.idle": "2023-02-09T06:43:22.976202Z"
    }
   },
   "outputs": [
    {
     "data": {
      "text/html": [
       "<table class=\"dataframe\">\n",
       "<caption>A data.frame: 6 × 5</caption>\n",
       "<thead>\n",
       "\t<tr><th></th><th scope=col>X</th><th scope=col>Date</th><th scope=col>User</th><th scope=col>Tweet</th><th scope=col>Emotion</th></tr>\n",
       "\t<tr><th></th><th scope=col>&lt;chr&gt;</th><th scope=col>&lt;chr&gt;</th><th scope=col>&lt;chr&gt;</th><th scope=col>&lt;chr&gt;</th><th scope=col>&lt;chr&gt;</th></tr>\n",
       "</thead>\n",
       "<tbody>\n",
       "\t<tr><th scope=row>1</th><td>0</td><td>2019-05-18 23:50:47+00:00</td><td>advosushildixit</td><td>@anjanaomkashyap I am seeing you as future #bjp spokesperson..\n",
       "Good luck. Anjana Om Modi oops Kashyap.\n",
       "Journalists like you changed the meaning of journalism. Janta maaf nai karege                                                                                                                       </td><td>neg</td></tr>\n",
       "\t<tr><th scope=row>2</th><td>1</td><td>2019-05-18 23:00:03+00:00</td><td>jiaeur         </td><td>#LokSabhaElections2019 \n",
       "23rd May 2019 will reveal ..\n",
       "Even ECISVEEP could not help Modi Win 🤔\n",
       "\n",
       "Janatab Mann Banaata Hai to\n",
       "Chupke Se Be Jor Se Tappad Deta Hai ..                                                                                                                                       </td><td>neg</td></tr>\n",
       "\t<tr><th scope=row>3</th><td>2</td><td>2019-05-18 22:53:54+00:00</td><td>PVenkatGandhi  </td><td>#LokSabhaElections2019 \n",
       "23rd May 2019 will reveal ..\n",
       "Even @ECISVEEP could not help Modi Win 🤔\n",
       "\n",
       "Janatab Mann Banaata Hai to\n",
       "Chupke Se Be Jor Se Tappad Deta Hai ..                                                                                                                                      </td><td>neg</td></tr>\n",
       "\t<tr><th scope=row>4</th><td>3</td><td>2019-05-18 22:20:48+00:00</td><td>TheNirbhay1    </td><td>PM Modi creates a new record of being the only PM of a democratic country. \n",
       "Congratulations our pm welcome to the Heart of India again 🙏🙏🙏🙏🙏🙏🙏 .#Elections2019 #PMModi #DeshKaGauravModi #2020Election #BJP #India                                                                                   </td><td>pos</td></tr>\n",
       "\t<tr><th scope=row>5</th><td>4</td><td>2019-05-18 21:22:29+00:00</td><td>ShakeChilli    </td><td>@abhijitmajumder Appointment of Successor! \n",
       "\n",
       "God forbid if we allow BJP to stoop so low. That will be end of #RSS ideological high ground \n",
       "\n",
       "Post this election results #BJP will have new president and things will move on. \n",
       "\n",
       "As per bar set within party Modi should not contest LS 2024 @74years age</td><td>pos</td></tr>\n",
       "\t<tr><th scope=row>6</th><td>5</td><td>2019-05-18 21:19:44+00:00</td><td>UttarrPradesh  </td><td>Which of the following should be top priority of Modi Government after #Loksabhaelections2019                                                                                                                                                                                                                </td><td>pos</td></tr>\n",
       "</tbody>\n",
       "</table>\n"
      ],
      "text/latex": [
       "A data.frame: 6 × 5\n",
       "\\begin{tabular}{r|lllll}\n",
       "  & X & Date & User & Tweet & Emotion\\\\\n",
       "  & <chr> & <chr> & <chr> & <chr> & <chr>\\\\\n",
       "\\hline\n",
       "\t1 & 0 & 2019-05-18 23:50:47+00:00 & advosushildixit & @anjanaomkashyap I am seeing you as future \\#bjp spokesperson..\n",
       "Good luck. Anjana Om Modi oops Kashyap.\n",
       "Journalists like you changed the meaning of journalism. Janta maaf nai karege                                                                                                                        & neg\\\\\n",
       "\t2 & 1 & 2019-05-18 23:00:03+00:00 & jiaeur          & \\#LokSabhaElections2019 \n",
       "23rd May 2019 will reveal ..\n",
       "Even ECISVEEP could not help Modi Win 🤔\n",
       "\n",
       "Janatab Mann Banaata Hai to\n",
       "Chupke Se Be Jor Se Tappad Deta Hai ..                                                                                                                                        & neg\\\\\n",
       "\t3 & 2 & 2019-05-18 22:53:54+00:00 & PVenkatGandhi   & \\#LokSabhaElections2019 \n",
       "23rd May 2019 will reveal ..\n",
       "Even @ECISVEEP could not help Modi Win 🤔\n",
       "\n",
       "Janatab Mann Banaata Hai to\n",
       "Chupke Se Be Jor Se Tappad Deta Hai ..                                                                                                                                       & neg\\\\\n",
       "\t4 & 3 & 2019-05-18 22:20:48+00:00 & TheNirbhay1     & PM Modi creates a new record of being the only PM of a democratic country. \n",
       "Congratulations our pm welcome to the Heart of India again 🙏🙏🙏🙏🙏🙏🙏 .\\#Elections2019 \\#PMModi \\#DeshKaGauravModi \\#2020Election \\#BJP \\#India                                                                                    & pos\\\\\n",
       "\t5 & 4 & 2019-05-18 21:22:29+00:00 & ShakeChilli     & @abhijitmajumder Appointment of Successor! \n",
       "\n",
       "God forbid if we allow BJP to stoop so low. That will be end of \\#RSS ideological high ground \n",
       "\n",
       "Post this election results \\#BJP will have new president and things will move on. \n",
       "\n",
       "As per bar set within party Modi should not contest LS 2024 @74years age & pos\\\\\n",
       "\t6 & 5 & 2019-05-18 21:19:44+00:00 & UttarrPradesh   & Which of the following should be top priority of Modi Government after \\#Loksabhaelections2019                                                                                                                                                                                                                 & pos\\\\\n",
       "\\end{tabular}\n"
      ],
      "text/markdown": [
       "\n",
       "A data.frame: 6 × 5\n",
       "\n",
       "| <!--/--> | X &lt;chr&gt; | Date &lt;chr&gt; | User &lt;chr&gt; | Tweet &lt;chr&gt; | Emotion &lt;chr&gt; |\n",
       "|---|---|---|---|---|---|\n",
       "| 1 | 0 | 2019-05-18 23:50:47+00:00 | advosushildixit | @anjanaomkashyap I am seeing you as future #bjp spokesperson..\n",
       "Good luck. Anjana Om Modi oops Kashyap.\n",
       "Journalists like you changed the meaning of journalism. Janta maaf nai karege                                                                                                                        | neg |\n",
       "| 2 | 1 | 2019-05-18 23:00:03+00:00 | jiaeur          | #LokSabhaElections2019 \n",
       "23rd May 2019 will reveal ..\n",
       "Even ECISVEEP could not help Modi Win 🤔\n",
       "\n",
       "Janatab Mann Banaata Hai to\n",
       "Chupke Se Be Jor Se Tappad Deta Hai ..                                                                                                                                        | neg |\n",
       "| 3 | 2 | 2019-05-18 22:53:54+00:00 | PVenkatGandhi   | #LokSabhaElections2019 \n",
       "23rd May 2019 will reveal ..\n",
       "Even @ECISVEEP could not help Modi Win 🤔\n",
       "\n",
       "Janatab Mann Banaata Hai to\n",
       "Chupke Se Be Jor Se Tappad Deta Hai ..                                                                                                                                       | neg |\n",
       "| 4 | 3 | 2019-05-18 22:20:48+00:00 | TheNirbhay1     | PM Modi creates a new record of being the only PM of a democratic country. \n",
       "Congratulations our pm welcome to the Heart of India again 🙏🙏🙏🙏🙏🙏🙏 .#Elections2019 #PMModi #DeshKaGauravModi #2020Election #BJP #India                                                                                    | pos |\n",
       "| 5 | 4 | 2019-05-18 21:22:29+00:00 | ShakeChilli     | @abhijitmajumder Appointment of Successor! \n",
       "\n",
       "God forbid if we allow BJP to stoop so low. That will be end of #RSS ideological high ground \n",
       "\n",
       "Post this election results #BJP will have new president and things will move on. \n",
       "\n",
       "As per bar set within party Modi should not contest LS 2024 @74years age | pos |\n",
       "| 6 | 5 | 2019-05-18 21:19:44+00:00 | UttarrPradesh   | Which of the following should be top priority of Modi Government after #Loksabhaelections2019                                                                                                                                                                                                                 | pos |\n",
       "\n"
      ],
      "text/plain": [
       "  X Date                      User           \n",
       "1 0 2019-05-18 23:50:47+00:00 advosushildixit\n",
       "2 1 2019-05-18 23:00:03+00:00 jiaeur         \n",
       "3 2 2019-05-18 22:53:54+00:00 PVenkatGandhi  \n",
       "4 3 2019-05-18 22:20:48+00:00 TheNirbhay1    \n",
       "5 4 2019-05-18 21:22:29+00:00 ShakeChilli    \n",
       "6 5 2019-05-18 21:19:44+00:00 UttarrPradesh  \n",
       "  Tweet                                                                                                                                                                                                                                                                                                        \n",
       "1 @anjanaomkashyap I am seeing you as future #bjp spokesperson..\\nGood luck. Anjana Om Modi oops Kashyap.\\nJournalists like you changed the meaning of journalism. Janta maaf nai karege                                                                                                                       \n",
       "2 #LokSabhaElections2019 \\n23rd May 2019 will reveal ..\\nEven ECISVEEP could not help Modi Win 🤔\\n\\nJanatab Mann Banaata Hai to\\nChupke Se Be Jor Se Tappad Deta Hai ..                                                                                                                                       \n",
       "3 #LokSabhaElections2019 \\n23rd May 2019 will reveal ..\\nEven @ECISVEEP could not help Modi Win 🤔\\n\\nJanatab Mann Banaata Hai to\\nChupke Se Be Jor Se Tappad Deta Hai ..                                                                                                                                      \n",
       "4 PM Modi creates a new record of being the only PM of a democratic country. \\nCongratulations our pm welcome to the Heart of India again 🙏🙏🙏🙏🙏🙏🙏 .#Elections2019 #PMModi #DeshKaGauravModi #2020Election #BJP #India                                                                                   \n",
       "5 @abhijitmajumder Appointment of Successor! \\n\\nGod forbid if we allow BJP to stoop so low. That will be end of #RSS ideological high ground \\n\\nPost this election results #BJP will have new president and things will move on. \\n\\nAs per bar set within party Modi should not contest LS 2024 @74years age\n",
       "6 Which of the following should be top priority of Modi Government after #Loksabhaelections2019                                                                                                                                                                                                                \n",
       "  Emotion\n",
       "1 neg    \n",
       "2 neg    \n",
       "3 neg    \n",
       "4 pos    \n",
       "5 pos    \n",
       "6 pos    "
      ]
     },
     "metadata": {},
     "output_type": "display_data"
    }
   ],
   "source": [
    "data.df = dataModi.df\n",
    "head(data.df)"
   ]
  },
  {
   "cell_type": "markdown",
   "metadata": {},
   "source": [
    "## Data Cleaning"
   ]
  },
  {
   "cell_type": "code",
   "execution_count": 6,
   "metadata": {
    "execution": {
     "iopub.execute_input": "2023-02-09T06:43:22.982099Z",
     "iopub.status.busy": "2023-02-09T06:43:22.980213Z",
     "iopub.status.idle": "2023-02-09T06:43:25.263905Z"
    }
   },
   "outputs": [],
   "source": [
    "data.df$Tweet = gsub(\"&amp\",\"\", data.df$Tweet)\n",
    "data.df$Tweet = gsub(\"(RT|via)((?:\\\\b\\\\W*@\\\\w+)+)\",\"\", data.df$Tweet)\n",
    "data.df$Tweet = gsub(\"@\\\\w+\",\"\", data.df$Tweet)\n",
    "data.df$Tweet = gsub(\"[[:punct:]]\",\"\", data.df$Tweet)\n",
    "data.df$Tweet = gsub(\"[[:digit:]]\",\"\", data.df$Tweet)\n",
    "data.df$Tweet = gsub(\"http\\\\w+\",\"\", data.df$Tweet)\n",
    "data.df$Tweet = gsub(\"[\\t]{2,}\",\"\", data.df$Tweet)\n",
    "data.df$Tweet = gsub(\"^\\\\s+|\\\\s+$\",\"\", data.df$Tweet)\n",
    "\n",
    "data.df$Tweet <- iconv(data.df$Tweet, \"UTF-8\", \"ASCII\", sub=\"\")"
   ]
  },
  {
   "cell_type": "code",
   "execution_count": null,
   "metadata": {},
   "outputs": [],
   "source": [
    "#Emotion score of each tweet\n",
    "emotions <- get_nrc_sentiment(data.df$Tweet)\n",
    "emo_bar = colSums(emotions)\n",
    "emo_sum = data.frame(count=emo_bar, emotion=names(emo_bar))"
   ]
  },
  {
   "cell_type": "code",
   "execution_count": 9,
   "metadata": {
    "execution": {
     "iopub.execute_input": "2023-02-09T06:58:42.753987Z",
     "iopub.status.busy": "2023-02-09T06:58:42.752322Z",
     "iopub.status.idle": "2023-02-09T06:58:42.766422Z"
    }
   },
   "outputs": [],
   "source": [
    "emo_sum$emotion = factor(emo_sum$emotion, levels=emo_sum$emotion[order(emo_sum$count,decreasing = FALSE)])"
   ]
  },
  {
   "cell_type": "code",
   "execution_count": 16,
   "metadata": {
    "execution": {
     "iopub.execute_input": "2023-02-09T06:58:42.891784Z",
     "iopub.status.busy": "2023-02-09T06:58:42.890151Z",
     "iopub.status.idle": "2023-02-09T06:58:42.904208Z"
    }
   },
   "outputs": [],
   "source": [
    "text_df <- data.df\n",
    "review <- as.character(text_df$Tweet)"
   ]
  },
  {
   "cell_type": "code",
   "execution_count": 17,
   "metadata": {
    "execution": {
     "iopub.execute_input": "2023-02-09T06:58:42.908065Z",
     "iopub.status.busy": "2023-02-09T06:58:42.906677Z",
     "iopub.status.idle": "2023-02-09T06:58:42.987236Z"
    }
   },
   "outputs": [
    {
     "data": {
      "text/html": [
       "<table class=\"dataframe\">\n",
       "<caption>A data.frame: 1 × 10</caption>\n",
       "<thead>\n",
       "\t<tr><th scope=col>anger</th><th scope=col>anticipation</th><th scope=col>disgust</th><th scope=col>fear</th><th scope=col>joy</th><th scope=col>sadness</th><th scope=col>surprise</th><th scope=col>trust</th><th scope=col>negative</th><th scope=col>positive</th></tr>\n",
       "\t<tr><th scope=col>&lt;dbl&gt;</th><th scope=col>&lt;dbl&gt;</th><th scope=col>&lt;dbl&gt;</th><th scope=col>&lt;dbl&gt;</th><th scope=col>&lt;dbl&gt;</th><th scope=col>&lt;dbl&gt;</th><th scope=col>&lt;dbl&gt;</th><th scope=col>&lt;dbl&gt;</th><th scope=col>&lt;dbl&gt;</th><th scope=col>&lt;dbl&gt;</th></tr>\n",
       "</thead>\n",
       "<tbody>\n",
       "\t<tr><td>0</td><td>1</td><td>0</td><td>0</td><td>1</td><td>0</td><td>0</td><td>1</td><td>0</td><td>1</td></tr>\n",
       "</tbody>\n",
       "</table>\n"
      ],
      "text/latex": [
       "A data.frame: 1 × 10\n",
       "\\begin{tabular}{llllllllll}\n",
       " anger & anticipation & disgust & fear & joy & sadness & surprise & trust & negative & positive\\\\\n",
       " <dbl> & <dbl> & <dbl> & <dbl> & <dbl> & <dbl> & <dbl> & <dbl> & <dbl> & <dbl>\\\\\n",
       "\\hline\n",
       "\t 0 & 1 & 0 & 0 & 1 & 0 & 0 & 1 & 0 & 1\\\\\n",
       "\\end{tabular}\n"
      ],
      "text/markdown": [
       "\n",
       "A data.frame: 1 × 10\n",
       "\n",
       "| anger &lt;dbl&gt; | anticipation &lt;dbl&gt; | disgust &lt;dbl&gt; | fear &lt;dbl&gt; | joy &lt;dbl&gt; | sadness &lt;dbl&gt; | surprise &lt;dbl&gt; | trust &lt;dbl&gt; | negative &lt;dbl&gt; | positive &lt;dbl&gt; |\n",
       "|---|---|---|---|---|---|---|---|---|---|\n",
       "| 0 | 1 | 0 | 0 | 1 | 0 | 0 | 1 | 0 | 1 |\n",
       "\n"
      ],
      "text/plain": [
       "  anger anticipation disgust fear joy sadness surprise trust negative positive\n",
       "1 0     1            0       0    1   0       0        1     0        1       "
      ]
     },
     "metadata": {},
     "output_type": "display_data"
    }
   ],
   "source": [
    "# Sentiment scores\n",
    "get_nrc_sentiment('happy')"
   ]
  },
  {
   "cell_type": "code",
   "execution_count": 18,
   "metadata": {
    "execution": {
     "iopub.execute_input": "2023-02-09T06:58:42.992857Z",
     "iopub.status.busy": "2023-02-09T06:58:42.990944Z",
     "iopub.status.idle": "2023-02-09T06:58:43.073415Z"
    }
   },
   "outputs": [
    {
     "data": {
      "text/html": [
       "<table class=\"dataframe\">\n",
       "<caption>A data.frame: 1 × 10</caption>\n",
       "<thead>\n",
       "\t<tr><th scope=col>anger</th><th scope=col>anticipation</th><th scope=col>disgust</th><th scope=col>fear</th><th scope=col>joy</th><th scope=col>sadness</th><th scope=col>surprise</th><th scope=col>trust</th><th scope=col>negative</th><th scope=col>positive</th></tr>\n",
       "\t<tr><th scope=col>&lt;dbl&gt;</th><th scope=col>&lt;dbl&gt;</th><th scope=col>&lt;dbl&gt;</th><th scope=col>&lt;dbl&gt;</th><th scope=col>&lt;dbl&gt;</th><th scope=col>&lt;dbl&gt;</th><th scope=col>&lt;dbl&gt;</th><th scope=col>&lt;dbl&gt;</th><th scope=col>&lt;dbl&gt;</th><th scope=col>&lt;dbl&gt;</th></tr>\n",
       "</thead>\n",
       "<tbody>\n",
       "\t<tr><td>0</td><td>1</td><td>0</td><td>0</td><td>1</td><td>0</td><td>1</td><td>0</td><td>0</td><td>1</td></tr>\n",
       "</tbody>\n",
       "</table>\n"
      ],
      "text/latex": [
       "A data.frame: 1 × 10\n",
       "\\begin{tabular}{llllllllll}\n",
       " anger & anticipation & disgust & fear & joy & sadness & surprise & trust & negative & positive\\\\\n",
       " <dbl> & <dbl> & <dbl> & <dbl> & <dbl> & <dbl> & <dbl> & <dbl> & <dbl> & <dbl>\\\\\n",
       "\\hline\n",
       "\t 0 & 1 & 0 & 0 & 1 & 0 & 1 & 0 & 0 & 1\\\\\n",
       "\\end{tabular}\n"
      ],
      "text/markdown": [
       "\n",
       "A data.frame: 1 × 10\n",
       "\n",
       "| anger &lt;dbl&gt; | anticipation &lt;dbl&gt; | disgust &lt;dbl&gt; | fear &lt;dbl&gt; | joy &lt;dbl&gt; | sadness &lt;dbl&gt; | surprise &lt;dbl&gt; | trust &lt;dbl&gt; | negative &lt;dbl&gt; | positive &lt;dbl&gt; |\n",
       "|---|---|---|---|---|---|---|---|---|---|\n",
       "| 0 | 1 | 0 | 0 | 1 | 0 | 1 | 0 | 0 | 1 |\n",
       "\n"
      ],
      "text/plain": [
       "  anger anticipation disgust fear joy sadness surprise trust negative positive\n",
       "1 0     1            0       0    1   0       1        0     0        1       "
      ]
     },
     "metadata": {},
     "output_type": "display_data"
    }
   ],
   "source": [
    "get_nrc_sentiment('Excitement')"
   ]
  },
  {
   "cell_type": "code",
   "execution_count": 21,
   "metadata": {
    "execution": {
     "iopub.execute_input": "2023-02-09T07:13:41.839086Z",
     "iopub.status.busy": "2023-02-09T07:13:41.837740Z",
     "iopub.status.idle": "2023-02-09T07:13:41.884428Z"
    }
   },
   "outputs": [
    {
     "data": {
      "text/html": [
       "<table class=\"dataframe\">\n",
       "<caption>A data.frame: 6 × 11</caption>\n",
       "<thead>\n",
       "\t<tr><th></th><th scope=col>text_df$Tweet</th><th scope=col>anger</th><th scope=col>anticipation</th><th scope=col>disgust</th><th scope=col>fear</th><th scope=col>joy</th><th scope=col>sadness</th><th scope=col>surprise</th><th scope=col>trust</th><th scope=col>negative</th><th scope=col>positive</th></tr>\n",
       "\t<tr><th></th><th scope=col>&lt;chr&gt;</th><th scope=col>&lt;dbl&gt;</th><th scope=col>&lt;dbl&gt;</th><th scope=col>&lt;dbl&gt;</th><th scope=col>&lt;dbl&gt;</th><th scope=col>&lt;dbl&gt;</th><th scope=col>&lt;dbl&gt;</th><th scope=col>&lt;dbl&gt;</th><th scope=col>&lt;dbl&gt;</th><th scope=col>&lt;dbl&gt;</th><th scope=col>&lt;dbl&gt;</th></tr>\n",
       "</thead>\n",
       "<tbody>\n",
       "\t<tr><th scope=row>1</th><td>I am seeing you as future bjp spokesperson\n",
       "Good luck Anjana Om Modi oops Kashyap\n",
       "Journalists like you changed the meaning of journalism Janta maaf nai karege                                                                                                            </td><td>0</td><td>2</td><td>0</td><td>0</td><td>2</td><td>0</td><td>2</td><td>2</td><td>0</td><td>2</td></tr>\n",
       "\t<tr><th scope=row>2</th><td>LokSabhaElections \n",
       "rd May  will reveal \n",
       "Even ECISVEEP could not help Modi Win \n",
       "\n",
       "Janatab Mann Banaata Hai to\n",
       "Chupke Se Be Jor Se Tappad Deta Hai                                                                                                                       </td><td>0</td><td>0</td><td>0</td><td>0</td><td>0</td><td>0</td><td>0</td><td>0</td><td>0</td><td>0</td></tr>\n",
       "\t<tr><th scope=row>3</th><td>LokSabhaElections \n",
       "rd May  will reveal \n",
       "Even  could not help Modi Win \n",
       "\n",
       "Janatab Mann Banaata Hai to\n",
       "Chupke Se Be Jor Se Tappad Deta Hai                                                                                                                               </td><td>0</td><td>0</td><td>0</td><td>0</td><td>0</td><td>0</td><td>0</td><td>0</td><td>0</td><td>0</td></tr>\n",
       "\t<tr><th scope=row>4</th><td>PM Modi creates a new record of being the only PM of a democratic country \n",
       "Congratulations our pm welcome to the Heart of India again  Elections PMModi DeshKaGauravModi Election BJP India                                                                               </td><td>0</td><td>0</td><td>0</td><td>0</td><td>0</td><td>0</td><td>0</td><td>0</td><td>0</td><td>0</td></tr>\n",
       "\t<tr><th scope=row>5</th><td>Appointment of Successor \n",
       "\n",
       "God forbid if we allow BJP to stoop so low That will be end of RSS ideological high ground \n",
       "\n",
       "Post this election results BJP will have new president and things will move on \n",
       "\n",
       "As per bar set within party Modi should not contest LS   age</td><td>0</td><td>1</td><td>0</td><td>1</td><td>1</td><td>1</td><td>0</td><td>3</td><td>1</td><td>2</td></tr>\n",
       "\t<tr><th scope=row>6</th><td>Which of the following should be top priority of Modi Government after Loksabhaelections                                                                                                                                                                                   </td><td>0</td><td>1</td><td>0</td><td>1</td><td>0</td><td>0</td><td>0</td><td>1</td><td>1</td><td>1</td></tr>\n",
       "</tbody>\n",
       "</table>\n"
      ],
      "text/latex": [
       "A data.frame: 6 × 11\n",
       "\\begin{tabular}{r|lllllllllll}\n",
       "  & text\\_df\\$Tweet & anger & anticipation & disgust & fear & joy & sadness & surprise & trust & negative & positive\\\\\n",
       "  & <chr> & <dbl> & <dbl> & <dbl> & <dbl> & <dbl> & <dbl> & <dbl> & <dbl> & <dbl> & <dbl>\\\\\n",
       "\\hline\n",
       "\t1 & I am seeing you as future bjp spokesperson\n",
       "Good luck Anjana Om Modi oops Kashyap\n",
       "Journalists like you changed the meaning of journalism Janta maaf nai karege                                                                                                             & 0 & 2 & 0 & 0 & 2 & 0 & 2 & 2 & 0 & 2\\\\\n",
       "\t2 & LokSabhaElections \n",
       "rd May  will reveal \n",
       "Even ECISVEEP could not help Modi Win \n",
       "\n",
       "Janatab Mann Banaata Hai to\n",
       "Chupke Se Be Jor Se Tappad Deta Hai                                                                                                                        & 0 & 0 & 0 & 0 & 0 & 0 & 0 & 0 & 0 & 0\\\\\n",
       "\t3 & LokSabhaElections \n",
       "rd May  will reveal \n",
       "Even  could not help Modi Win \n",
       "\n",
       "Janatab Mann Banaata Hai to\n",
       "Chupke Se Be Jor Se Tappad Deta Hai                                                                                                                                & 0 & 0 & 0 & 0 & 0 & 0 & 0 & 0 & 0 & 0\\\\\n",
       "\t4 & PM Modi creates a new record of being the only PM of a democratic country \n",
       "Congratulations our pm welcome to the Heart of India again  Elections PMModi DeshKaGauravModi Election BJP India                                                                                & 0 & 0 & 0 & 0 & 0 & 0 & 0 & 0 & 0 & 0\\\\\n",
       "\t5 & Appointment of Successor \n",
       "\n",
       "God forbid if we allow BJP to stoop so low That will be end of RSS ideological high ground \n",
       "\n",
       "Post this election results BJP will have new president and things will move on \n",
       "\n",
       "As per bar set within party Modi should not contest LS   age & 0 & 1 & 0 & 1 & 1 & 1 & 0 & 3 & 1 & 2\\\\\n",
       "\t6 & Which of the following should be top priority of Modi Government after Loksabhaelections                                                                                                                                                                                    & 0 & 1 & 0 & 1 & 0 & 0 & 0 & 1 & 1 & 1\\\\\n",
       "\\end{tabular}\n"
      ],
      "text/markdown": [
       "\n",
       "A data.frame: 6 × 11\n",
       "\n",
       "| <!--/--> | text_df$Tweet &lt;chr&gt; | anger &lt;dbl&gt; | anticipation &lt;dbl&gt; | disgust &lt;dbl&gt; | fear &lt;dbl&gt; | joy &lt;dbl&gt; | sadness &lt;dbl&gt; | surprise &lt;dbl&gt; | trust &lt;dbl&gt; | negative &lt;dbl&gt; | positive &lt;dbl&gt; |\n",
       "|---|---|---|---|---|---|---|---|---|---|---|---|\n",
       "| 1 | I am seeing you as future bjp spokesperson\n",
       "Good luck Anjana Om Modi oops Kashyap\n",
       "Journalists like you changed the meaning of journalism Janta maaf nai karege                                                                                                             | 0 | 2 | 0 | 0 | 2 | 0 | 2 | 2 | 0 | 2 |\n",
       "| 2 | LokSabhaElections \n",
       "rd May  will reveal \n",
       "Even ECISVEEP could not help Modi Win \n",
       "\n",
       "Janatab Mann Banaata Hai to\n",
       "Chupke Se Be Jor Se Tappad Deta Hai                                                                                                                        | 0 | 0 | 0 | 0 | 0 | 0 | 0 | 0 | 0 | 0 |\n",
       "| 3 | LokSabhaElections \n",
       "rd May  will reveal \n",
       "Even  could not help Modi Win \n",
       "\n",
       "Janatab Mann Banaata Hai to\n",
       "Chupke Se Be Jor Se Tappad Deta Hai                                                                                                                                | 0 | 0 | 0 | 0 | 0 | 0 | 0 | 0 | 0 | 0 |\n",
       "| 4 | PM Modi creates a new record of being the only PM of a democratic country \n",
       "Congratulations our pm welcome to the Heart of India again  Elections PMModi DeshKaGauravModi Election BJP India                                                                                | 0 | 0 | 0 | 0 | 0 | 0 | 0 | 0 | 0 | 0 |\n",
       "| 5 | Appointment of Successor \n",
       "\n",
       "God forbid if we allow BJP to stoop so low That will be end of RSS ideological high ground \n",
       "\n",
       "Post this election results BJP will have new president and things will move on \n",
       "\n",
       "As per bar set within party Modi should not contest LS   age | 0 | 1 | 0 | 1 | 1 | 1 | 0 | 3 | 1 | 2 |\n",
       "| 6 | Which of the following should be top priority of Modi Government after Loksabhaelections                                                                                                                                                                                    | 0 | 1 | 0 | 1 | 0 | 0 | 0 | 1 | 1 | 1 |\n",
       "\n"
      ],
      "text/plain": [
       "  text_df$Tweet                                                                                                                                                                                                                                                              \n",
       "1 I am seeing you as future bjp spokesperson\\nGood luck Anjana Om Modi oops Kashyap\\nJournalists like you changed the meaning of journalism Janta maaf nai karege                                                                                                            \n",
       "2 LokSabhaElections \\nrd May  will reveal \\nEven ECISVEEP could not help Modi Win \\n\\nJanatab Mann Banaata Hai to\\nChupke Se Be Jor Se Tappad Deta Hai                                                                                                                       \n",
       "3 LokSabhaElections \\nrd May  will reveal \\nEven  could not help Modi Win \\n\\nJanatab Mann Banaata Hai to\\nChupke Se Be Jor Se Tappad Deta Hai                                                                                                                               \n",
       "4 PM Modi creates a new record of being the only PM of a democratic country \\nCongratulations our pm welcome to the Heart of India again  Elections PMModi DeshKaGauravModi Election BJP India                                                                               \n",
       "5 Appointment of Successor \\n\\nGod forbid if we allow BJP to stoop so low That will be end of RSS ideological high ground \\n\\nPost this election results BJP will have new president and things will move on \\n\\nAs per bar set within party Modi should not contest LS   age\n",
       "6 Which of the following should be top priority of Modi Government after Loksabhaelections                                                                                                                                                                                   \n",
       "  anger anticipation disgust fear joy sadness surprise trust negative positive\n",
       "1 0     2            0       0    2   0       2        2     0        2       \n",
       "2 0     0            0       0    0   0       0        0     0        0       \n",
       "3 0     0            0       0    0   0       0        0     0        0       \n",
       "4 0     0            0       0    0   0       0        0     0        0       \n",
       "5 0     1            0       1    1   1       0        3     1        2       \n",
       "6 0     1            0       1    0   0       0        1     1        1       "
      ]
     },
     "metadata": {},
     "output_type": "display_data"
    }
   ],
   "source": [
    "s <- get_nrc_sentiment(review)\n",
    "review_sentiment<-cbind(text_df$Tweet,s)\n",
    "head(review_sentiment)"
   ]
  },
  {
   "cell_type": "code",
   "execution_count": null,
   "metadata": {},
   "outputs": [],
   "source": [
    "review_sentiment\n",
    "drop <- c(\"text_df$Tweet\")\n",
    "review_sentiment = review_sentiment[,!(names(review_sentiment) %in% drop)]"
   ]
  },
  {
   "cell_type": "code",
   "execution_count": 25,
   "metadata": {
    "execution": {
     "iopub.execute_input": "2023-02-09T07:13:42.054461Z",
     "iopub.status.busy": "2023-02-09T07:13:42.052569Z",
     "iopub.status.idle": "2023-02-09T07:13:42.080074Z"
    }
   },
   "outputs": [
    {
     "data": {
      "text/html": [
       "<table class=\"dataframe\">\n",
       "<caption>A data.frame: 6 × 10</caption>\n",
       "<thead>\n",
       "\t<tr><th></th><th scope=col>anger</th><th scope=col>anticipation</th><th scope=col>disgust</th><th scope=col>fear</th><th scope=col>joy</th><th scope=col>sadness</th><th scope=col>surprise</th><th scope=col>trust</th><th scope=col>negative</th><th scope=col>positive</th></tr>\n",
       "\t<tr><th></th><th scope=col>&lt;dbl&gt;</th><th scope=col>&lt;dbl&gt;</th><th scope=col>&lt;dbl&gt;</th><th scope=col>&lt;dbl&gt;</th><th scope=col>&lt;dbl&gt;</th><th scope=col>&lt;dbl&gt;</th><th scope=col>&lt;dbl&gt;</th><th scope=col>&lt;dbl&gt;</th><th scope=col>&lt;dbl&gt;</th><th scope=col>&lt;dbl&gt;</th></tr>\n",
       "</thead>\n",
       "<tbody>\n",
       "\t<tr><th scope=row>1</th><td>0</td><td>2</td><td>0</td><td>0</td><td>2</td><td>0</td><td>2</td><td>2</td><td>0</td><td>2</td></tr>\n",
       "\t<tr><th scope=row>2</th><td>0</td><td>0</td><td>0</td><td>0</td><td>0</td><td>0</td><td>0</td><td>0</td><td>0</td><td>0</td></tr>\n",
       "\t<tr><th scope=row>3</th><td>0</td><td>0</td><td>0</td><td>0</td><td>0</td><td>0</td><td>0</td><td>0</td><td>0</td><td>0</td></tr>\n",
       "\t<tr><th scope=row>4</th><td>0</td><td>0</td><td>0</td><td>0</td><td>0</td><td>0</td><td>0</td><td>0</td><td>0</td><td>0</td></tr>\n",
       "\t<tr><th scope=row>5</th><td>0</td><td>1</td><td>0</td><td>1</td><td>1</td><td>1</td><td>0</td><td>3</td><td>1</td><td>2</td></tr>\n",
       "\t<tr><th scope=row>6</th><td>0</td><td>1</td><td>0</td><td>1</td><td>0</td><td>0</td><td>0</td><td>1</td><td>1</td><td>1</td></tr>\n",
       "</tbody>\n",
       "</table>\n"
      ],
      "text/latex": [
       "A data.frame: 6 × 10\n",
       "\\begin{tabular}{r|llllllllll}\n",
       "  & anger & anticipation & disgust & fear & joy & sadness & surprise & trust & negative & positive\\\\\n",
       "  & <dbl> & <dbl> & <dbl> & <dbl> & <dbl> & <dbl> & <dbl> & <dbl> & <dbl> & <dbl>\\\\\n",
       "\\hline\n",
       "\t1 & 0 & 2 & 0 & 0 & 2 & 0 & 2 & 2 & 0 & 2\\\\\n",
       "\t2 & 0 & 0 & 0 & 0 & 0 & 0 & 0 & 0 & 0 & 0\\\\\n",
       "\t3 & 0 & 0 & 0 & 0 & 0 & 0 & 0 & 0 & 0 & 0\\\\\n",
       "\t4 & 0 & 0 & 0 & 0 & 0 & 0 & 0 & 0 & 0 & 0\\\\\n",
       "\t5 & 0 & 1 & 0 & 1 & 1 & 1 & 0 & 3 & 1 & 2\\\\\n",
       "\t6 & 0 & 1 & 0 & 1 & 0 & 0 & 0 & 1 & 1 & 1\\\\\n",
       "\\end{tabular}\n"
      ],
      "text/markdown": [
       "\n",
       "A data.frame: 6 × 10\n",
       "\n",
       "| <!--/--> | anger &lt;dbl&gt; | anticipation &lt;dbl&gt; | disgust &lt;dbl&gt; | fear &lt;dbl&gt; | joy &lt;dbl&gt; | sadness &lt;dbl&gt; | surprise &lt;dbl&gt; | trust &lt;dbl&gt; | negative &lt;dbl&gt; | positive &lt;dbl&gt; |\n",
       "|---|---|---|---|---|---|---|---|---|---|---|\n",
       "| 1 | 0 | 2 | 0 | 0 | 2 | 0 | 2 | 2 | 0 | 2 |\n",
       "| 2 | 0 | 0 | 0 | 0 | 0 | 0 | 0 | 0 | 0 | 0 |\n",
       "| 3 | 0 | 0 | 0 | 0 | 0 | 0 | 0 | 0 | 0 | 0 |\n",
       "| 4 | 0 | 0 | 0 | 0 | 0 | 0 | 0 | 0 | 0 | 0 |\n",
       "| 5 | 0 | 1 | 0 | 1 | 1 | 1 | 0 | 3 | 1 | 2 |\n",
       "| 6 | 0 | 1 | 0 | 1 | 0 | 0 | 0 | 1 | 1 | 1 |\n",
       "\n"
      ],
      "text/plain": [
       "  anger anticipation disgust fear joy sadness surprise trust negative positive\n",
       "1 0     2            0       0    2   0       2        2     0        2       \n",
       "2 0     0            0       0    0   0       0        0     0        0       \n",
       "3 0     0            0       0    0   0       0        0     0        0       \n",
       "4 0     0            0       0    0   0       0        0     0        0       \n",
       "5 0     1            0       1    1   1       0        3     1        2       \n",
       "6 0     1            0       1    0   0       0        1     1        1       "
      ]
     },
     "metadata": {},
     "output_type": "display_data"
    }
   ],
   "source": [
    "head(review_sentiment)"
   ]
  },
  {
   "cell_type": "markdown",
   "metadata": {},
   "source": [
    "# Emotions Plot for Tweets mentioning Narendra Modi"
   ]
  },
  {
   "cell_type": "code",
   "execution_count": 26,
   "metadata": {
    "execution": {
     "iopub.execute_input": "2023-02-09T07:13:42.104367Z",
     "iopub.status.busy": "2023-02-09T07:13:42.082338Z",
     "iopub.status.idle": "2023-02-09T07:13:42.363768Z"
    }
   },
   "outputs": [
    {
     "data": {
      "image/png": "[encoded data removed]"
     },
     "metadata": {
      "image/png": {
       "height": 420,
       "width": 420
      }
     },
     "output_type": "display_data"
    }
   ],
   "source": [
    "barplot(colSums(review_sentiment),col = rainbow(10), ylab = \"count of emotions\")"
   ]
  },
  {
   "cell_type": "markdown",
   "metadata": {},
   "source": [
    "bb"
   ]
  },
  {
   "cell_type": "markdown",
   "metadata": {},
   "source": [
    "# Rahul Gandhi related tweets"
   ]
  },
  {
   "cell_type": "code",
   "execution_count": 12,
   "metadata": {
    "execution": {
     "iopub.execute_input": "2023-02-09T13:50:17.671757Z",
     "iopub.status.busy": "2023-02-09T13:50:17.670385Z",
     "iopub.status.idle": "2023-02-09T13:50:17.683463Z"
    }
   },
   "outputs": [],
   "source": [
    "data.df = dataRahul.df"
   ]
  },
  {
   "cell_type": "code",
   "execution_count": 13,
   "metadata": {
    "execution": {
     "iopub.execute_input": "2023-02-09T13:50:20.035340Z",
     "iopub.status.busy": "2023-02-09T13:50:20.034072Z",
     "iopub.status.idle": "2023-02-09T13:50:20.058401Z"
    }
   },
   "outputs": [
    {
     "data": {
      "text/html": [
       "<table class=\"dataframe\">\n",
       "<caption>A data.frame: 6 × 5</caption>\n",
       "<thead>\n",
       "\t<tr><th></th><th scope=col>X</th><th scope=col>Date</th><th scope=col>User</th><th scope=col>Tweet</th><th scope=col>Emotion</th></tr>\n",
       "\t<tr><th></th><th scope=col>&lt;int&gt;</th><th scope=col>&lt;chr&gt;</th><th scope=col>&lt;chr&gt;</th><th scope=col>&lt;chr&gt;</th><th scope=col>&lt;chr&gt;</th></tr>\n",
       "</thead>\n",
       "<tbody>\n",
       "\t<tr><th scope=row>1</th><td>0</td><td>2019-05-18 19:49:52+00:00</td><td>Sunnysweet16   </td><td>Wonder why no academic or journalist asks INC India and Rahul Gandhi a simple question-what danger was there to the original constitution that they changed it more than 100 times in the course of 55 yrs they ruled? #LokSabhaElections2019                                               </td><td>pos</td></tr>\n",
       "\t<tr><th scope=row>2</th><td>1</td><td>2019-05-18 18:56:52+00:00</td><td>drnitinchaube  </td><td>Congrats for the change #australiavotes2019 and #ScottMorrison sir!\n",
       "\n",
       "Is the same wind of change going to bring in #Congress or #UPA3Coming #LokSabhaElections2019 along with #Rahul @INCIndia @RahulGandhi @DickDarryl @rkhuria @kukk44 @MahilaCongress                                   </td><td>pos</td></tr>\n",
       "\t<tr><th scope=row>3</th><td>2</td><td>2019-05-18 18:54:01+00:00</td><td>mrvivek07      </td><td>Peopel Say “Govt Ne 70 Years Kya kiya”.\n",
       "Unse pucho “70 years Govt kaise Rahi.!??\n",
       "#KaamBoltaHain..#IndianElections2019 #Congress #Bjp @INCIndia @BJP4India @Election2019NG @aajtak @NavbharatTimes @ZeeNews @timesofindia @htTweets @RahulGandhi                                           </td><td>neg</td></tr>\n",
       "\t<tr><th scope=row>4</th><td>3</td><td>2019-05-18 18:52:03+00:00</td><td>JosephPravinP  </td><td>@ajaymaken @RahulGandhi And as a final touch, #Modi ji proved this world that not Rahul but he is the real #Pappu thereby making @RahulGandhi the perfect fit for the future!\n",
       "\n",
       "Thank you Modi ji 😅\n",
       "#BJP #Congress #RahulGandhi #Elections2019                                           </td><td>pos</td></tr>\n",
       "\t<tr><th scope=row>5</th><td>4</td><td>2019-05-18 18:31:10+00:00</td><td>VandanaMegastar</td><td>#LokSabhaElections2019 Anyone not having mass backing can't be a visionary politician. Such netas are destined to work for lobbies. Difference between Rahul &amp;amp; Modi is that Modi has a cow and Rahul doesn't have. Rahul can't hide behind a cow. He will deliver or will have to go....</td><td>pos</td></tr>\n",
       "\t<tr><th scope=row>6</th><td>5</td><td>2019-05-18 18:20:48+00:00</td><td><span style=white-space:pre-wrap>RGspeak        </span></td><td><span style=white-space:pre-wrap>@INCIndia should release a video of @RahulGandhi visiting Kedarnath shrine and that of Modi immediately.... it would be a study in contrast &amp;amp; important for everyone to comprehend.... #KedarnathTemple #Kedarnath #RahulGandhi                                                         </span></td><td>pos</td></tr>\n",
       "</tbody>\n",
       "</table>\n"
      ],
      "text/latex": [
       "A data.frame: 6 × 5\n",
       "\\begin{tabular}{r|lllll}\n",
       "  & X & Date & User & Tweet & Emotion\\\\\n",
       "  & <int> & <chr> & <chr> & <chr> & <chr>\\\\\n",
       "\\hline\n",
       "\t1 & 0 & 2019-05-18 19:49:52+00:00 & Sunnysweet16    & Wonder why no academic or journalist asks INC India and Rahul Gandhi a simple question-what danger was there to the original constitution that they changed it more than 100 times in the course of 55 yrs they ruled? \\#LokSabhaElections2019                                                & pos\\\\\n",
       "\t2 & 1 & 2019-05-18 18:56:52+00:00 & drnitinchaube   & Congrats for the change \\#australiavotes2019 and \\#ScottMorrison sir!\n",
       "\n",
       "Is the same wind of change going to bring in \\#Congress or \\#UPA3Coming \\#LokSabhaElections2019 along with \\#Rahul @INCIndia @RahulGandhi @DickDarryl @rkhuria @kukk44 @MahilaCongress                                    & pos\\\\\n",
       "\t3 & 2 & 2019-05-18 18:54:01+00:00 & mrvivek07       & Peopel Say “Govt Ne 70 Years Kya kiya”.\n",
       "Unse pucho “70 years Govt kaise Rahi.!??\n",
       "\\#KaamBoltaHain..\\#IndianElections2019 \\#Congress \\#Bjp @INCIndia @BJP4India @Election2019NG @aajtak @NavbharatTimes @ZeeNews @timesofindia @htTweets @RahulGandhi                                            & neg\\\\\n",
       "\t4 & 3 & 2019-05-18 18:52:03+00:00 & JosephPravinP   & @ajaymaken @RahulGandhi And as a final touch, \\#Modi ji proved this world that not Rahul but he is the real \\#Pappu thereby making @RahulGandhi the perfect fit for the future!\n",
       "\n",
       "Thank you Modi ji 😅\n",
       "\\#BJP \\#Congress \\#RahulGandhi \\#Elections2019                                            & pos\\\\\n",
       "\t5 & 4 & 2019-05-18 18:31:10+00:00 & VandanaMegastar & \\#LokSabhaElections2019 Anyone not having mass backing can't be a visionary politician. Such netas are destined to work for lobbies. Difference between Rahul \\&amp; Modi is that Modi has a cow and Rahul doesn't have. Rahul can't hide behind a cow. He will deliver or will have to go.... & pos\\\\\n",
       "\t6 & 5 & 2019-05-18 18:20:48+00:00 & RGspeak         & @INCIndia should release a video of @RahulGandhi visiting Kedarnath shrine and that of Modi immediately.... it would be a study in contrast \\&amp; important for everyone to comprehend.... \\#KedarnathTemple \\#Kedarnath \\#RahulGandhi                                                          & pos\\\\\n",
       "\\end{tabular}\n"
      ],
      "text/markdown": [
       "\n",
       "A data.frame: 6 × 5\n",
       "\n",
       "| <!--/--> | X &lt;int&gt; | Date &lt;chr&gt; | User &lt;chr&gt; | Tweet &lt;chr&gt; | Emotion &lt;chr&gt; |\n",
       "|---|---|---|---|---|---|\n",
       "| 1 | 0 | 2019-05-18 19:49:52+00:00 | Sunnysweet16    | Wonder why no academic or journalist asks INC India and Rahul Gandhi a simple question-what danger was there to the original constitution that they changed it more than 100 times in the course of 55 yrs they ruled? #LokSabhaElections2019                                                | pos |\n",
       "| 2 | 1 | 2019-05-18 18:56:52+00:00 | drnitinchaube   | Congrats for the change #australiavotes2019 and #ScottMorrison sir!\n",
       "\n",
       "Is the same wind of change going to bring in #Congress or #UPA3Coming #LokSabhaElections2019 along with #Rahul @INCIndia @RahulGandhi @DickDarryl @rkhuria @kukk44 @MahilaCongress                                    | pos |\n",
       "| 3 | 2 | 2019-05-18 18:54:01+00:00 | mrvivek07       | Peopel Say “Govt Ne 70 Years Kya kiya”.\n",
       "Unse pucho “70 years Govt kaise Rahi.!??\n",
       "#KaamBoltaHain..#IndianElections2019 #Congress #Bjp @INCIndia @BJP4India @Election2019NG @aajtak @NavbharatTimes @ZeeNews @timesofindia @htTweets @RahulGandhi                                            | neg |\n",
       "| 4 | 3 | 2019-05-18 18:52:03+00:00 | JosephPravinP   | @ajaymaken @RahulGandhi And as a final touch, #Modi ji proved this world that not Rahul but he is the real #Pappu thereby making @RahulGandhi the perfect fit for the future!\n",
       "\n",
       "Thank you Modi ji 😅\n",
       "#BJP #Congress #RahulGandhi #Elections2019                                            | pos |\n",
       "| 5 | 4 | 2019-05-18 18:31:10+00:00 | VandanaMegastar | #LokSabhaElections2019 Anyone not having mass backing can't be a visionary politician. Such netas are destined to work for lobbies. Difference between Rahul &amp;amp; Modi is that Modi has a cow and Rahul doesn't have. Rahul can't hide behind a cow. He will deliver or will have to go.... | pos |\n",
       "| 6 | 5 | 2019-05-18 18:20:48+00:00 | RGspeak         | @INCIndia should release a video of @RahulGandhi visiting Kedarnath shrine and that of Modi immediately.... it would be a study in contrast &amp;amp; important for everyone to comprehend.... #KedarnathTemple #Kedarnath #RahulGandhi                                                          | pos |\n",
       "\n"
      ],
      "text/plain": [
       "  X Date                      User           \n",
       "1 0 2019-05-18 19:49:52+00:00 Sunnysweet16   \n",
       "2 1 2019-05-18 18:56:52+00:00 drnitinchaube  \n",
       "3 2 2019-05-18 18:54:01+00:00 mrvivek07      \n",
       "4 3 2019-05-18 18:52:03+00:00 JosephPravinP  \n",
       "5 4 2019-05-18 18:31:10+00:00 VandanaMegastar\n",
       "6 5 2019-05-18 18:20:48+00:00 RGspeak        \n",
       "  Tweet                                                                                                                                                                                                                                                                                       \n",
       "1 Wonder why no academic or journalist asks INC India and Rahul Gandhi a simple question-what danger was there to the original constitution that they changed it more than 100 times in the course of 55 yrs they ruled? #LokSabhaElections2019                                               \n",
       "2 Congrats for the change #australiavotes2019 and #ScottMorrison sir!\\n\\nIs the same wind of change going to bring in #Congress or #UPA3Coming #LokSabhaElections2019 along with #Rahul @INCIndia @RahulGandhi @DickDarryl @rkhuria @kukk44 @MahilaCongress                                   \n",
       "3 Peopel Say “Govt Ne 70 Years Kya kiya”.\\nUnse pucho “70 years Govt kaise Rahi.!??\\n#KaamBoltaHain..#IndianElections2019 #Congress #Bjp @INCIndia @BJP4India @Election2019NG @aajtak @NavbharatTimes @ZeeNews @timesofindia @htTweets @RahulGandhi                                           \n",
       "4 @ajaymaken @RahulGandhi And as a final touch, #Modi ji proved this world that not Rahul but he is the real #Pappu thereby making @RahulGandhi the perfect fit for the future!\\n\\nThank you Modi ji 😅\\n#BJP #Congress #RahulGandhi #Elections2019                                           \n",
       "5 #LokSabhaElections2019 Anyone not having mass backing can't be a visionary politician. Such netas are destined to work for lobbies. Difference between Rahul &amp; Modi is that Modi has a cow and Rahul doesn't have. Rahul can't hide behind a cow. He will deliver or will have to go....\n",
       "6 @INCIndia should release a video of @RahulGandhi visiting Kedarnath shrine and that of Modi immediately.... it would be a study in contrast &amp; important for everyone to comprehend.... #KedarnathTemple #Kedarnath #RahulGandhi                                                         \n",
       "  Emotion\n",
       "1 pos    \n",
       "2 pos    \n",
       "3 neg    \n",
       "4 pos    \n",
       "5 pos    \n",
       "6 pos    "
      ]
     },
     "metadata": {},
     "output_type": "display_data"
    }
   ],
   "source": [
    "head(data.df)"
   ]
  },
  {
   "cell_type": "markdown",
   "metadata": {},
   "source": [
    "## Data Cleaning"
   ]
  },
  {
   "cell_type": "code",
   "execution_count": 14,
   "metadata": {
    "execution": {
     "iopub.execute_input": "2023-02-09T13:50:26.033756Z",
     "iopub.status.busy": "2023-02-09T13:50:26.032288Z",
     "iopub.status.idle": "2023-02-09T13:50:27.017092Z"
    }
   },
   "outputs": [],
   "source": [
    "data.df$Tweet = gsub(\"&amp\",\"\", data.df$Tweet)\n",
    "data.df$Tweet = gsub(\"(RT|via)((?:\\\\b\\\\W*@\\\\w+)+)\",\"\", data.df$Tweet)\n",
    "data.df$Tweet = gsub(\"@\\\\w+\",\"\", data.df$Tweet)\n",
    "data.df$Tweet = gsub(\"[[:punct:]]\",\"\", data.df$Tweet)\n",
    "data.df$Tweet = gsub(\"[[:digit:]]\",\"\", data.df$Tweet)\n",
    "data.df$Tweet = gsub(\"http\\\\w+\",\"\", data.df$Tweet)\n",
    "data.df$Tweet = gsub(\"[\\t]{2,}\",\"\", data.df$Tweet)\n",
    "data.df$Tweet = gsub(\"^\\\\s+|\\\\s+$\",\"\", data.df$Tweet)\n",
    "\n",
    "data.df$Tweet <- iconv(data.df$Tweet, \"UTF-8\", \"ASCII\", sub=\"\")"
   ]
  },
  {
   "cell_type": "code",
   "execution_count": 17,
   "metadata": {
    "execution": {
     "iopub.status.idle": "2023-02-09T13:59:02.144655Z"
    }
   },
   "outputs": [],
   "source": [
    "#Emotion score of each tweet\n",
    "emotions <- get_nrc_sentiment(data.df$Tweet)\n",
    "emo_bar = colSums(emotions)\n",
    "emo_sum = data.frame(count=emo_bar, emotion=names(emo_bar))"
   ]
  },
  {
   "cell_type": "code",
   "execution_count": 18,
   "metadata": {
    "execution": {
     "iopub.execute_input": "2023-02-09T13:59:02.149444Z",
     "iopub.status.busy": "2023-02-09T13:59:02.147890Z",
     "iopub.status.idle": "2023-02-09T13:59:02.160572Z"
    }
   },
   "outputs": [],
   "source": [
    "emo_sum$emotion = factor(emo_sum$emotion, levels=emo_sum$emotion[order(emo_sum$count,decreasing = FALSE)])"
   ]
  },
  {
   "cell_type": "code",
   "execution_count": 19,
   "metadata": {
    "execution": {
     "iopub.execute_input": "2023-02-09T13:59:02.164721Z",
     "iopub.status.busy": "2023-02-09T13:59:02.163390Z",
     "iopub.status.idle": "2023-02-09T13:59:02.176054Z"
    }
   },
   "outputs": [],
   "source": [
    "text_df <- data.df\n",
    "review <- as.character(text_df$Tweet)"
   ]
  },
  {
   "cell_type": "code",
   "execution_count": 20,
   "metadata": {
    "execution": {
     "iopub.execute_input": "2023-02-09T13:59:02.180161Z",
     "iopub.status.busy": "2023-02-09T13:59:02.178821Z",
     "iopub.status.idle": "2023-02-09T13:59:02.262184Z"
    }
   },
   "outputs": [
    {
     "data": {
      "text/html": [
       "<table class=\"dataframe\">\n",
       "<caption>A data.frame: 1 × 10</caption>\n",
       "<thead>\n",
       "\t<tr><th scope=col>anger</th><th scope=col>anticipation</th><th scope=col>disgust</th><th scope=col>fear</th><th scope=col>joy</th><th scope=col>sadness</th><th scope=col>surprise</th><th scope=col>trust</th><th scope=col>negative</th><th scope=col>positive</th></tr>\n",
       "\t<tr><th scope=col>&lt;dbl&gt;</th><th scope=col>&lt;dbl&gt;</th><th scope=col>&lt;dbl&gt;</th><th scope=col>&lt;dbl&gt;</th><th scope=col>&lt;dbl&gt;</th><th scope=col>&lt;dbl&gt;</th><th scope=col>&lt;dbl&gt;</th><th scope=col>&lt;dbl&gt;</th><th scope=col>&lt;dbl&gt;</th><th scope=col>&lt;dbl&gt;</th></tr>\n",
       "</thead>\n",
       "<tbody>\n",
       "\t<tr><td>0</td><td>1</td><td>0</td><td>0</td><td>1</td><td>0</td><td>0</td><td>1</td><td>0</td><td>1</td></tr>\n",
       "</tbody>\n",
       "</table>\n"
      ],
      "text/latex": [
       "A data.frame: 1 × 10\n",
       "\\begin{tabular}{llllllllll}\n",
       " anger & anticipation & disgust & fear & joy & sadness & surprise & trust & negative & positive\\\\\n",
       " <dbl> & <dbl> & <dbl> & <dbl> & <dbl> & <dbl> & <dbl> & <dbl> & <dbl> & <dbl>\\\\\n",
       "\\hline\n",
       "\t 0 & 1 & 0 & 0 & 1 & 0 & 0 & 1 & 0 & 1\\\\\n",
       "\\end{tabular}\n"
      ],
      "text/markdown": [
       "\n",
       "A data.frame: 1 × 10\n",
       "\n",
       "| anger &lt;dbl&gt; | anticipation &lt;dbl&gt; | disgust &lt;dbl&gt; | fear &lt;dbl&gt; | joy &lt;dbl&gt; | sadness &lt;dbl&gt; | surprise &lt;dbl&gt; | trust &lt;dbl&gt; | negative &lt;dbl&gt; | positive &lt;dbl&gt; |\n",
       "|---|---|---|---|---|---|---|---|---|---|\n",
       "| 0 | 1 | 0 | 0 | 1 | 0 | 0 | 1 | 0 | 1 |\n",
       "\n"
      ],
      "text/plain": [
       "  anger anticipation disgust fear joy sadness surprise trust negative positive\n",
       "1 0     1            0       0    1   0       0        1     0        1       "
      ]
     },
     "metadata": {},
     "output_type": "display_data"
    }
   ],
   "source": [
    "# Sentiment scores\n",
    "get_nrc_sentiment('happy')"
   ]
  },
  {
   "cell_type": "code",
   "execution_count": 21,
   "metadata": {
    "execution": {
     "iopub.execute_input": "2023-02-09T13:59:02.266499Z",
     "iopub.status.busy": "2023-02-09T13:59:02.264916Z",
     "iopub.status.idle": "2023-02-09T14:06:00.649177Z"
    }
   },
   "outputs": [
    {
     "data": {
      "text/html": [
       "<table class=\"dataframe\">\n",
       "<caption>A data.frame: 6 × 11</caption>\n",
       "<thead>\n",
       "\t<tr><th></th><th scope=col>text_df$Tweet</th><th scope=col>anger</th><th scope=col>anticipation</th><th scope=col>disgust</th><th scope=col>fear</th><th scope=col>joy</th><th scope=col>sadness</th><th scope=col>surprise</th><th scope=col>trust</th><th scope=col>negative</th><th scope=col>positive</th></tr>\n",
       "\t<tr><th></th><th scope=col>&lt;chr&gt;</th><th scope=col>&lt;dbl&gt;</th><th scope=col>&lt;dbl&gt;</th><th scope=col>&lt;dbl&gt;</th><th scope=col>&lt;dbl&gt;</th><th scope=col>&lt;dbl&gt;</th><th scope=col>&lt;dbl&gt;</th><th scope=col>&lt;dbl&gt;</th><th scope=col>&lt;dbl&gt;</th><th scope=col>&lt;dbl&gt;</th><th scope=col>&lt;dbl&gt;</th></tr>\n",
       "</thead>\n",
       "<tbody>\n",
       "\t<tr><th scope=row>1</th><td>Wonder why no academic or journalist asks INC India and Rahul Gandhi a simple questionwhat danger was there to the original constitution that they changed it more than  times in the course of  yrs they ruled LokSabhaElections                                      </td><td>0</td><td>0</td><td>0</td><td>1</td><td>0</td><td>1</td><td>0</td><td>1</td><td>1</td><td>2</td></tr>\n",
       "\t<tr><th scope=row>2</th><td>Congrats for the change australiavotes and ScottMorrison sir\n",
       "\n",
       "Is the same wind of change going to bring in Congress or UPAComing LokSabhaElections along with Rahul                                                                                                  </td><td>0</td><td>0</td><td>1</td><td>1</td><td>0</td><td>0</td><td>0</td><td>2</td><td>0</td><td>1</td></tr>\n",
       "\t<tr><th scope=row>3</th><td>Peopel Say Govt Ne  Years Kya kiya\n",
       "Unse pucho  years Govt kaise Rahi\n",
       "KaamBoltaHainIndianElections Congress Bjp                                                                                                                                                       </td><td>0</td><td>0</td><td>1</td><td>0</td><td>0</td><td>0</td><td>0</td><td>1</td><td>0</td><td>0</td></tr>\n",
       "\t<tr><th scope=row>4</th><td>And as a final touch Modi ji proved this world that not Rahul but he is the real Pappu thereby making  the perfect fit for the future\n",
       "\n",
       "Thank you Modi ji \n",
       "BJP Congress RahulGandhi Elections                                                                        </td><td>0</td><td>1</td><td>1</td><td>0</td><td>1</td><td>0</td><td>0</td><td>3</td><td>0</td><td>2</td></tr>\n",
       "\t<tr><th scope=row>5</th><td>LokSabhaElections Anyone not having mass backing cant be a visionary politician Such netas are destined to work for lobbies Difference between Rahul  Modi is that Modi has a cow and Rahul doesnt have Rahul cant hide behind a cow He will deliver or will have to go</td><td>0</td><td>2</td><td>0</td><td>1</td><td>1</td><td>0</td><td>0</td><td>1</td><td>0</td><td>1</td></tr>\n",
       "\t<tr><th scope=row>6</th><td>should release a video of  visiting Kedarnath shrine and that of Modi immediately it would be a study in contrast  important for everyone to comprehend KedarnathTemple Kedarnath RahulGandhi                                                                          </td><td>0</td><td>1</td><td>0</td><td>0</td><td>0</td><td>0</td><td>0</td><td>1</td><td>1</td><td>4</td></tr>\n",
       "</tbody>\n",
       "</table>\n"
      ],
      "text/latex": [
       "A data.frame: 6 × 11\n",
       "\\begin{tabular}{r|lllllllllll}\n",
       "  & text\\_df\\$Tweet & anger & anticipation & disgust & fear & joy & sadness & surprise & trust & negative & positive\\\\\n",
       "  & <chr> & <dbl> & <dbl> & <dbl> & <dbl> & <dbl> & <dbl> & <dbl> & <dbl> & <dbl> & <dbl>\\\\\n",
       "\\hline\n",
       "\t1 & Wonder why no academic or journalist asks INC India and Rahul Gandhi a simple questionwhat danger was there to the original constitution that they changed it more than  times in the course of  yrs they ruled LokSabhaElections                                       & 0 & 0 & 0 & 1 & 0 & 1 & 0 & 1 & 1 & 2\\\\\n",
       "\t2 & Congrats for the change australiavotes and ScottMorrison sir\n",
       "\n",
       "Is the same wind of change going to bring in Congress or UPAComing LokSabhaElections along with Rahul                                                                                                   & 0 & 0 & 1 & 1 & 0 & 0 & 0 & 2 & 0 & 1\\\\\n",
       "\t3 & Peopel Say Govt Ne  Years Kya kiya\n",
       "Unse pucho  years Govt kaise Rahi\n",
       "KaamBoltaHainIndianElections Congress Bjp                                                                                                                                                        & 0 & 0 & 1 & 0 & 0 & 0 & 0 & 1 & 0 & 0\\\\\n",
       "\t4 & And as a final touch Modi ji proved this world that not Rahul but he is the real Pappu thereby making  the perfect fit for the future\n",
       "\n",
       "Thank you Modi ji \n",
       "BJP Congress RahulGandhi Elections                                                                         & 0 & 1 & 1 & 0 & 1 & 0 & 0 & 3 & 0 & 2\\\\\n",
       "\t5 & LokSabhaElections Anyone not having mass backing cant be a visionary politician Such netas are destined to work for lobbies Difference between Rahul  Modi is that Modi has a cow and Rahul doesnt have Rahul cant hide behind a cow He will deliver or will have to go & 0 & 2 & 0 & 1 & 1 & 0 & 0 & 1 & 0 & 1\\\\\n",
       "\t6 & should release a video of  visiting Kedarnath shrine and that of Modi immediately it would be a study in contrast  important for everyone to comprehend KedarnathTemple Kedarnath RahulGandhi                                                                           & 0 & 1 & 0 & 0 & 0 & 0 & 0 & 1 & 1 & 4\\\\\n",
       "\\end{tabular}\n"
      ],
      "text/markdown": [
       "\n",
       "A data.frame: 6 × 11\n",
       "\n",
       "| <!--/--> | text_df$Tweet &lt;chr&gt; | anger &lt;dbl&gt; | anticipation &lt;dbl&gt; | disgust &lt;dbl&gt; | fear &lt;dbl&gt; | joy &lt;dbl&gt; | sadness &lt;dbl&gt; | surprise &lt;dbl&gt; | trust &lt;dbl&gt; | negative &lt;dbl&gt; | positive &lt;dbl&gt; |\n",
       "|---|---|---|---|---|---|---|---|---|---|---|---|\n",
       "| 1 | Wonder why no academic or journalist asks INC India and Rahul Gandhi a simple questionwhat danger was there to the original constitution that they changed it more than  times in the course of  yrs they ruled LokSabhaElections                                       | 0 | 0 | 0 | 1 | 0 | 1 | 0 | 1 | 1 | 2 |\n",
       "| 2 | Congrats for the change australiavotes and ScottMorrison sir\n",
       "\n",
       "Is the same wind of change going to bring in Congress or UPAComing LokSabhaElections along with Rahul                                                                                                   | 0 | 0 | 1 | 1 | 0 | 0 | 0 | 2 | 0 | 1 |\n",
       "| 3 | Peopel Say Govt Ne  Years Kya kiya\n",
       "Unse pucho  years Govt kaise Rahi\n",
       "KaamBoltaHainIndianElections Congress Bjp                                                                                                                                                        | 0 | 0 | 1 | 0 | 0 | 0 | 0 | 1 | 0 | 0 |\n",
       "| 4 | And as a final touch Modi ji proved this world that not Rahul but he is the real Pappu thereby making  the perfect fit for the future\n",
       "\n",
       "Thank you Modi ji \n",
       "BJP Congress RahulGandhi Elections                                                                         | 0 | 1 | 1 | 0 | 1 | 0 | 0 | 3 | 0 | 2 |\n",
       "| 5 | LokSabhaElections Anyone not having mass backing cant be a visionary politician Such netas are destined to work for lobbies Difference between Rahul  Modi is that Modi has a cow and Rahul doesnt have Rahul cant hide behind a cow He will deliver or will have to go | 0 | 2 | 0 | 1 | 1 | 0 | 0 | 1 | 0 | 1 |\n",
       "| 6 | should release a video of  visiting Kedarnath shrine and that of Modi immediately it would be a study in contrast  important for everyone to comprehend KedarnathTemple Kedarnath RahulGandhi                                                                           | 0 | 1 | 0 | 0 | 0 | 0 | 0 | 1 | 1 | 4 |\n",
       "\n"
      ],
      "text/plain": [
       "  text_df$Tweet                                                                                                                                                                                                                                                          \n",
       "1 Wonder why no academic or journalist asks INC India and Rahul Gandhi a simple questionwhat danger was there to the original constitution that they changed it more than  times in the course of  yrs they ruled LokSabhaElections                                      \n",
       "2 Congrats for the change australiavotes and ScottMorrison sir\\n\\nIs the same wind of change going to bring in Congress or UPAComing LokSabhaElections along with Rahul                                                                                                  \n",
       "3 Peopel Say Govt Ne  Years Kya kiya\\nUnse pucho  years Govt kaise Rahi\\nKaamBoltaHainIndianElections Congress Bjp                                                                                                                                                       \n",
       "4 And as a final touch Modi ji proved this world that not Rahul but he is the real Pappu thereby making  the perfect fit for the future\\n\\nThank you Modi ji \\nBJP Congress RahulGandhi Elections                                                                        \n",
       "5 LokSabhaElections Anyone not having mass backing cant be a visionary politician Such netas are destined to work for lobbies Difference between Rahul  Modi is that Modi has a cow and Rahul doesnt have Rahul cant hide behind a cow He will deliver or will have to go\n",
       "6 should release a video of  visiting Kedarnath shrine and that of Modi immediately it would be a study in contrast  important for everyone to comprehend KedarnathTemple Kedarnath RahulGandhi                                                                          \n",
       "  anger anticipation disgust fear joy sadness surprise trust negative positive\n",
       "1 0     0            0       1    0   1       0        1     1        2       \n",
       "2 0     0            1       1    0   0       0        2     0        1       \n",
       "3 0     0            1       0    0   0       0        1     0        0       \n",
       "4 0     1            1       0    1   0       0        3     0        2       \n",
       "5 0     2            0       1    1   0       0        1     0        1       \n",
       "6 0     1            0       0    0   0       0        1     1        4       "
      ]
     },
     "metadata": {},
     "output_type": "display_data"
    }
   ],
   "source": [
    "s <- get_nrc_sentiment(review)\n",
    "review_sentiment<-cbind(text_df$Tweet,s)\n",
    "head(review_sentiment)"
   ]
  },
  {
   "cell_type": "code",
   "execution_count": null,
   "metadata": {},
   "outputs": [],
   "source": [
    "review_sentiment\n",
    "drop <- c(\"text_df$Tweet\")\n",
    "review_sentiment = review_sentiment[,!(names(review_sentiment) %in% drop)]"
   ]
  },
  {
   "cell_type": "code",
   "execution_count": 23,
   "metadata": {
    "execution": {
     "iopub.execute_input": "2023-02-09T14:06:00.883721Z",
     "iopub.status.busy": "2023-02-09T14:06:00.879772Z",
     "iopub.status.idle": "2023-02-09T14:06:00.918184Z"
    }
   },
   "outputs": [
    {
     "data": {
      "text/html": [
       "<table class=\"dataframe\">\n",
       "<caption>A data.frame: 6 × 10</caption>\n",
       "<thead>\n",
       "\t<tr><th></th><th scope=col>anger</th><th scope=col>anticipation</th><th scope=col>disgust</th><th scope=col>fear</th><th scope=col>joy</th><th scope=col>sadness</th><th scope=col>surprise</th><th scope=col>trust</th><th scope=col>negative</th><th scope=col>positive</th></tr>\n",
       "\t<tr><th></th><th scope=col>&lt;dbl&gt;</th><th scope=col>&lt;dbl&gt;</th><th scope=col>&lt;dbl&gt;</th><th scope=col>&lt;dbl&gt;</th><th scope=col>&lt;dbl&gt;</th><th scope=col>&lt;dbl&gt;</th><th scope=col>&lt;dbl&gt;</th><th scope=col>&lt;dbl&gt;</th><th scope=col>&lt;dbl&gt;</th><th scope=col>&lt;dbl&gt;</th></tr>\n",
       "</thead>\n",
       "<tbody>\n",
       "\t<tr><th scope=row>1</th><td>0</td><td>0</td><td>0</td><td>1</td><td>0</td><td>1</td><td>0</td><td>1</td><td>1</td><td>2</td></tr>\n",
       "\t<tr><th scope=row>2</th><td>0</td><td>0</td><td>1</td><td>1</td><td>0</td><td>0</td><td>0</td><td>2</td><td>0</td><td>1</td></tr>\n",
       "\t<tr><th scope=row>3</th><td>0</td><td>0</td><td>1</td><td>0</td><td>0</td><td>0</td><td>0</td><td>1</td><td>0</td><td>0</td></tr>\n",
       "\t<tr><th scope=row>4</th><td>0</td><td>1</td><td>1</td><td>0</td><td>1</td><td>0</td><td>0</td><td>3</td><td>0</td><td>2</td></tr>\n",
       "\t<tr><th scope=row>5</th><td>0</td><td>2</td><td>0</td><td>1</td><td>1</td><td>0</td><td>0</td><td>1</td><td>0</td><td>1</td></tr>\n",
       "\t<tr><th scope=row>6</th><td>0</td><td>1</td><td>0</td><td>0</td><td>0</td><td>0</td><td>0</td><td>1</td><td>1</td><td>4</td></tr>\n",
       "</tbody>\n",
       "</table>\n"
      ],
      "text/latex": [
       "A data.frame: 6 × 10\n",
       "\\begin{tabular}{r|llllllllll}\n",
       "  & anger & anticipation & disgust & fear & joy & sadness & surprise & trust & negative & positive\\\\\n",
       "  & <dbl> & <dbl> & <dbl> & <dbl> & <dbl> & <dbl> & <dbl> & <dbl> & <dbl> & <dbl>\\\\\n",
       "\\hline\n",
       "\t1 & 0 & 0 & 0 & 1 & 0 & 1 & 0 & 1 & 1 & 2\\\\\n",
       "\t2 & 0 & 0 & 1 & 1 & 0 & 0 & 0 & 2 & 0 & 1\\\\\n",
       "\t3 & 0 & 0 & 1 & 0 & 0 & 0 & 0 & 1 & 0 & 0\\\\\n",
       "\t4 & 0 & 1 & 1 & 0 & 1 & 0 & 0 & 3 & 0 & 2\\\\\n",
       "\t5 & 0 & 2 & 0 & 1 & 1 & 0 & 0 & 1 & 0 & 1\\\\\n",
       "\t6 & 0 & 1 & 0 & 0 & 0 & 0 & 0 & 1 & 1 & 4\\\\\n",
       "\\end{tabular}\n"
      ],
      "text/markdown": [
       "\n",
       "A data.frame: 6 × 10\n",
       "\n",
       "| <!--/--> | anger &lt;dbl&gt; | anticipation &lt;dbl&gt; | disgust &lt;dbl&gt; | fear &lt;dbl&gt; | joy &lt;dbl&gt; | sadness &lt;dbl&gt; | surprise &lt;dbl&gt; | trust &lt;dbl&gt; | negative &lt;dbl&gt; | positive &lt;dbl&gt; |\n",
       "|---|---|---|---|---|---|---|---|---|---|---|\n",
       "| 1 | 0 | 0 | 0 | 1 | 0 | 1 | 0 | 1 | 1 | 2 |\n",
       "| 2 | 0 | 0 | 1 | 1 | 0 | 0 | 0 | 2 | 0 | 1 |\n",
       "| 3 | 0 | 0 | 1 | 0 | 0 | 0 | 0 | 1 | 0 | 0 |\n",
       "| 4 | 0 | 1 | 1 | 0 | 1 | 0 | 0 | 3 | 0 | 2 |\n",
       "| 5 | 0 | 2 | 0 | 1 | 1 | 0 | 0 | 1 | 0 | 1 |\n",
       "| 6 | 0 | 1 | 0 | 0 | 0 | 0 | 0 | 1 | 1 | 4 |\n",
       "\n"
      ],
      "text/plain": [
       "  anger anticipation disgust fear joy sadness surprise trust negative positive\n",
       "1 0     0            0       1    0   1       0        1     1        2       \n",
       "2 0     0            1       1    0   0       0        2     0        1       \n",
       "3 0     0            1       0    0   0       0        1     0        0       \n",
       "4 0     1            1       0    1   0       0        3     0        2       \n",
       "5 0     2            0       1    1   0       0        1     0        1       \n",
       "6 0     1            0       0    0   0       0        1     1        4       "
      ]
     },
     "metadata": {},
     "output_type": "display_data"
    }
   ],
   "source": [
    "head(review_sentiment)"
   ]
  },
  {
   "cell_type": "markdown",
   "metadata": {},
   "source": [
    "# Emotions Plot for Tweets mentioning Rahul Gandhi"
   ]
  },
  {
   "cell_type": "code",
   "execution_count": 24,
   "metadata": {
    "execution": {
     "iopub.execute_input": "2023-02-09T14:06:00.923141Z",
     "iopub.status.busy": "2023-02-09T14:06:00.921314Z",
     "iopub.status.idle": "2023-02-09T14:06:01.189222Z"
    }
   },
   "outputs": [
    {
     "data": {
      "image/png": "[encoded data removed]"
     },
     "metadata": {
      "image/png": {
       "height": 420,
       "width": 420
      }
     },
     "output_type": "display_data"
    }
   ],
   "source": [
    "barplot(colSums(review_sentiment),col = rainbow(10), ylab = \"count of emotions\")"
   ]
  }
 ],
 "metadata": {
  "kernelspec": {
   "display_name": "Python 3 (ipykernel)",
   "language": "python",
   "name": "python3"
  },
  "language_info": {
   "codemirror_mode": {
    "name": "ipython",
    "version": 3
   },
   "file_extension": ".py",
   "mimetype": "text/x-python",
   "name": "python",
   "nbconvert_exporter": "python",
   "pygments_lexer": "ipython3",
   "version": "3.7.3"
  }
 },
 "nbformat": 4,
 "nbformat_minor": 4
}
