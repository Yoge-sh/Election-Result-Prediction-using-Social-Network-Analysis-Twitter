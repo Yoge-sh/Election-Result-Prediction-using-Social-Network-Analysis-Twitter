{
 "cells": [
  {
   "cell_type": "markdown",
   "metadata": {},
   "source": [
    "# <p style=\"background-color:violet;  border :black solid;font-family:verdana; font-size:200%; text-align:center; border-radius: 20px 30px;\">Twitter Sentiment Analysis</p>\n",
    "\n",
    "<center>\n",
    "<img src=\"https://miro.medium.com/max/1000/1*vp1M37AGMOFwCvLxVm62IA.jpeg\" />\n",
    "</center>"
   ]
  },
  {
   "cell_type": "markdown",
   "metadata": {},
   "source": [
    "<div style=\"border-radius:10px;\n",
    "        border :blue solid;\n",
    "        padding: 15px;\n",
    "        background-color:skyblue;\n",
    "       font-size:110%;\n",
    "        text-align: left\">\n",
    " <span style=\"color:'blue' ;\"><strong>Indian General Lok Sabha Elections</strong> were held in 2019 between the timestamp of 11 April to 19 May. Twitter served as a site for real-time public discussions about the #LokSabhaElections2019. It resulted in more than <strong>396 million</strong> Tweets on the platform from 1 January 2019 to 23 May 2019.\n",
    "\n",
    "Keeping this in mind, twitter being very big part of the campaign we have done the twitter sentiment anlysis so as to get insights for the election result</span>"
   ]
  },
  {
   "cell_type": "markdown",
   "metadata": {},
   "source": [
    "# <p style=\"background-color:orange; border :black solid;font-family:verdana; font-size:200%; text-align:center; border-radius: 20px 30px;\">Goal of this notebook</p>"
   ]
  },
  {
   "cell_type": "markdown",
   "metadata": {
    "id": "SbjqwtvgwkI0"
   },
   "source": [
    "<div style=\"border-radius:10px;\n",
    "        border :#0A0104 solid;\n",
    "        padding: 15px;\n",
    "        background-color:#E9F6E2;\n",
    "       font-size:110%;\n",
    "        text-align: left\">\n",
    " <span style=\"color:'blue' ;\">\n",
    "     🎯 Election Result Prediction based on Sentiment Analysis of\n",
    "\n",
    "*   Individual tweets of PM candidates \n",
    "    * <a href=\"https://www.kaggle.com/code/yogesh239/sentiment-analysis-on-modi-rahul-gandhi-s-tweets\" target=\"_blank\">Sentiment analysis using python </a> \n",
    "    * <a href=\"https://www.kaggle.com/code/yogesh239/sentiment-analysis-with-r-political-tweets/notebook#Emotions-Plot-for-Tweets-mentioning-Rahul-Gandhi\" target=\"_blank\">Sentiment analysis using R</a>\n",
    "*   General public tweets regarding election<br><br>\n",
    "    <strong>Dataset </strong>: <a href=\"https://www.kaggle.com/datasets/yogesh239/twitter-data-about-2019-indian-general-election\" target=\"_blank\">Twitter Data - Indian General Election 2019</a> <br>     \n",
    "</span>\n",
    "    "
   ]
  },
  {
   "cell_type": "markdown",
   "metadata": {},
   "source": [
    "# <p style=\"padding:10px;background-color:lightblue;border :black solid;margin:0;color:blue;font-family:newtimeroman;font-size:150%;text-align:center;border-radius: 25px 50px;overflow:hidden;font-weight:600\">Table Of Content</p>\n",
    "​\n",
    "\n",
    "---\n",
    "* [Importing the Libraries](#h1)\n",
    "   * [Setting up the basic code snippets for sentiment models](#h1.1)<br/>\n",
    "* [Tweets processing & analysis](#h2)<br/>\n",
    "   * [Tweets related to Narendra Modi](#h2.1)\n",
    "   * [Tweets related to Rahul Gandhi](#h2.2)\n",
    "   * [Data Cleaning : Removing Stopwords & Panctuations](#h2.3)\n",
    "* [VadarSentiment Sentiment Analysis](#h3)\n",
    "* [Flair Sentiment Analysis](#h4)\n",
    "* [Tweets Polarity visualization as timeseries](#h5)  \n",
    "* [Result](#h6)\n",
    "---"
   ]
  },
  {
   "cell_type": "markdown",
   "metadata": {},
   "source": [
    "<a id=\"h1\"></a>\n",
    "# <p style=\"padding:10px;background-color:lightblue;border :black solid;margin:0;color:blue;font-family:newtimeroman;font-size:150%;text-align:center;border-radius: 25px 50px;overflow:hidden;font-weight:500\">Importing the libraries</p>"
   ]
  },
  {
   "cell_type": "code",
   "execution_count": 1,
   "metadata": {
    "execution": {
     "iopub.execute_input": "2023-03-30T13:46:47.504896Z",
     "iopub.status.busy": "2023-03-30T13:46:47.504311Z",
     "iopub.status.idle": "2023-03-30T13:46:49.788604Z",
     "shell.execute_reply": "2023-03-30T13:46:49.787633Z",
     "shell.execute_reply.started": "2023-03-30T13:46:47.504778Z"
    },
    "id": "ewYANIGnfFqi"
   },
   "outputs": [],
   "source": [
    "import pandas as pd\n",
    "import numpy as np\n",
    "import matplotlib.pyplot as plt\n",
    "import seaborn as sns\n",
    "import plotly.express as px\n",
    "%matplotlib inline"
   ]
  },
  {
   "cell_type": "code",
   "execution_count": null,
   "metadata": {
    "id": "p5XIVVQSmxp7",
    "outputId": "d0e2e19e-7fd3-4c6a-a86e-c8ebd7b0ad9c"
   },
   "outputs": [],
   "source": [
    "!pip install vaderSentiment\n",
    "!pip install transformers"
   ]
  },
  {
   "cell_type": "code",
   "execution_count": 3,
   "metadata": {
    "execution": {
     "iopub.execute_input": "2023-03-30T13:47:10.247819Z",
     "iopub.status.busy": "2023-03-30T13:47:10.247416Z",
     "iopub.status.idle": "2023-03-30T13:47:11.924189Z",
     "shell.execute_reply": "2023-03-30T13:47:11.923213Z",
     "shell.execute_reply.started": "2023-03-30T13:47:10.247776Z"
    },
    "id": "KK_wzGHtWKw6"
   },
   "outputs": [],
   "source": [
    "from transformers import AutoTokenizer, AutoModelForSequenceClassification\n",
    "import torch"
   ]
  },
  {
   "cell_type": "markdown",
   "metadata": {},
   "source": [
    "<a id=\"h1.1\"></a>\n",
    "### <p style=\"padding:10px;border :black solid;text-align:center;background-color:yellow;margin:0;color:blue;font-family:newtimeroman;font-size:150%;border-radius: 25px 50px;overflow:hidden;font-weight:500\"> Setting up the basic code snippets for sentiment models</p>"
   ]
  },
  {
   "cell_type": "code",
   "execution_count": null,
   "metadata": {
    "id": "b1fbJ1PXWe3D",
    "outputId": "244416b3-3251-4ade-a57e-52b9050fc2bd"
   },
   "outputs": [],
   "source": [
    "#for bert \n",
    "\"\"\"\n",
    "    We are using pretrained 'bert-base-multilingual-uncased-sentiment' model \n",
    "    for predicting the sentiment of the review as a number of stars (between 1 and 5)\n",
    "    \"\"\";\n",
    "tokenizer = AutoTokenizer.from_pretrained('nlptown/bert-base-multilingual-uncased-sentiment')\n",
    "\n",
    "model = AutoModelForSequenceClassification.from_pretrained('nlptown/bert-base-multilingual-uncased-sentiment')\n",
    "\n",
    "def sentiment_score(review):\n",
    "    tokens = tokenizer.encode(review, return_tensors='pt')\n",
    "    result = model(tokens)\n",
    "    return int(torch.argmax(result.logits))+1"
   ]
  },
  {
   "cell_type": "code",
   "execution_count": 5,
   "metadata": {
    "execution": {
     "iopub.execute_input": "2023-03-30T13:47:40.966002Z",
     "iopub.status.busy": "2023-03-30T13:47:40.964850Z",
     "iopub.status.idle": "2023-03-30T13:47:40.987587Z",
     "shell.execute_reply": "2023-03-30T13:47:40.986734Z",
     "shell.execute_reply.started": "2023-03-30T13:47:40.965956Z"
    },
    "id": "TrWAM14FpKlR"
   },
   "outputs": [],
   "source": [
    "# Vader sentiment Analyzer\n",
    "from vaderSentiment.vaderSentiment import SentimentIntensityAnalyzer # for polarity score\n",
    "analyser = SentimentIntensityAnalyzer()\n",
    "\n",
    "\"\"\"\n",
    "   following functions returns positive, negative, neutral emotion score of the text respectively. \n",
    "    \"\"\";\n",
    "def pos(tweet):\n",
    "    SentDict = analyser.polarity_scores(tweet)\n",
    "    return SentDict['pos']\n",
    "\n",
    "def neg(tweet):\n",
    "    SentDict = analyser.polarity_scores(tweet)\n",
    "    return SentDict['neg']\n",
    "\n",
    "def neu(tweet):\n",
    "    SentDict = analyser.polarity_scores(tweet)\n",
    "    return SentDict['neu']"
   ]
  },
  {
   "cell_type": "markdown",
   "metadata": {
    "id": "1kZN68cIm-fc"
   },
   "source": [
    "<a id=\"h2\"></a>\n",
    "# <p style=\"padding:10px;border :black solid;background-color:lightblue;margin:0;color:blue;font-family:newtimeroman;font-size:150%;text-align:center;border-radius: 25px 50px;overflow:hidden;font-weight:500\">Tweets processing & analysis</p>"
   ]
  },
  {
   "cell_type": "markdown",
   "metadata": {},
   "source": [
    "<center>\n",
    "<img src=\"https://media.giphy.com/media/k4ZItrTKDPnSU/giphy.gif\" />\n",
    "</center>"
   ]
  },
  {
   "cell_type": "code",
   "execution_count": 6,
   "metadata": {
    "execution": {
     "iopub.execute_input": "2023-03-30T13:47:40.989362Z",
     "iopub.status.busy": "2023-03-30T13:47:40.988908Z",
     "iopub.status.idle": "2023-03-30T13:47:41.976699Z",
     "shell.execute_reply": "2023-03-30T13:47:41.975615Z",
     "shell.execute_reply.started": "2023-03-30T13:47:40.989321Z"
    },
    "id": "QzX_nlh5fNKe",
    "outputId": "a6e9f087-e136-45ae-bb97-bafa4046dff6"
   },
   "outputs": [
    {
     "data": {
      "text/html": [
       "<div>\n",
       "<style scoped>\n",
       "    .dataframe tbody tr th:only-of-type {\n",
       "        vertical-align: middle;\n",
       "    }\n",
       "\n",
       "    .dataframe tbody tr th {\n",
       "        vertical-align: top;\n",
       "    }\n",
       "\n",
       "    .dataframe thead th {\n",
       "        text-align: right;\n",
       "    }\n",
       "</style>\n",
       "<table border=\"1\" class=\"dataframe\">\n",
       "  <thead>\n",
       "    <tr style=\"text-align: right;\">\n",
       "      <th></th>\n",
       "      <th>Date</th>\n",
       "      <th>User</th>\n",
       "      <th>Tweet</th>\n",
       "    </tr>\n",
       "  </thead>\n",
       "  <tbody>\n",
       "    <tr>\n",
       "      <th>0</th>\n",
       "      <td>2019-05-18 23:50:47+00:00</td>\n",
       "      <td>advosushildixit</td>\n",
       "      <td>@anjanaomkashyap I am seeing you as future #bj...</td>\n",
       "    </tr>\n",
       "    <tr>\n",
       "      <th>1</th>\n",
       "      <td>2019-05-18 23:20:00+00:00</td>\n",
       "      <td>airnewsalerts</td>\n",
       "      <td>Trinamool Congress Sitting MP Abhishek Banerje...</td>\n",
       "    </tr>\n",
       "    <tr>\n",
       "      <th>2</th>\n",
       "      <td>2019-05-18 23:00:03+00:00</td>\n",
       "      <td>jiaeur</td>\n",
       "      <td>#LokSabhaElections2019 \\n23rd May 2019 will re...</td>\n",
       "    </tr>\n",
       "    <tr>\n",
       "      <th>3</th>\n",
       "      <td>2019-05-18 22:53:54+00:00</td>\n",
       "      <td>PVenkatGandhi</td>\n",
       "      <td>#LokSabhaElections2019 \\n23rd May 2019 will re...</td>\n",
       "    </tr>\n",
       "    <tr>\n",
       "      <th>4</th>\n",
       "      <td>2019-05-18 22:20:48+00:00</td>\n",
       "      <td>TheNirbhay1</td>\n",
       "      <td>PM Modi creates a new record of being the only...</td>\n",
       "    </tr>\n",
       "    <tr>\n",
       "      <th>...</th>\n",
       "      <td>...</td>\n",
       "      <td>...</td>\n",
       "      <td>...</td>\n",
       "    </tr>\n",
       "    <tr>\n",
       "      <th>142561</th>\n",
       "      <td>2019-03-06 10:18:02+00:00</td>\n",
       "      <td>RAMANKAIRA</td>\n",
       "      <td>@mayankgandhi04 @mallesh_2004 Early morning #p...</td>\n",
       "    </tr>\n",
       "    <tr>\n",
       "      <th>142562</th>\n",
       "      <td>2019-03-06 10:11:43+00:00</td>\n",
       "      <td>RAMANKAIRA</td>\n",
       "      <td>@DrKumarVishwas Early morning #political move ...</td>\n",
       "    </tr>\n",
       "    <tr>\n",
       "      <th>142563</th>\n",
       "      <td>2019-01-24 12:57:48+00:00</td>\n",
       "      <td>thota_J</td>\n",
       "      <td>CVoter predicts seat share for upcoming #LokSa...</td>\n",
       "    </tr>\n",
       "    <tr>\n",
       "      <th>142564</th>\n",
       "      <td>2019-01-24 12:48:37+00:00</td>\n",
       "      <td>thota_J</td>\n",
       "      <td>CVoter predicts seat share for upcoming #LokSa...</td>\n",
       "    </tr>\n",
       "    <tr>\n",
       "      <th>142565</th>\n",
       "      <td>2019-01-24 12:47:55+00:00</td>\n",
       "      <td>thota_J</td>\n",
       "      <td>CVoter predicts seat share for upcoming #LokSa...</td>\n",
       "    </tr>\n",
       "  </tbody>\n",
       "</table>\n",
       "<p>142566 rows × 3 columns</p>\n",
       "</div>"
      ],
      "text/plain": [
       "                             Date             User  \\\n",
       "0       2019-05-18 23:50:47+00:00  advosushildixit   \n",
       "1       2019-05-18 23:20:00+00:00    airnewsalerts   \n",
       "2       2019-05-18 23:00:03+00:00           jiaeur   \n",
       "3       2019-05-18 22:53:54+00:00    PVenkatGandhi   \n",
       "4       2019-05-18 22:20:48+00:00      TheNirbhay1   \n",
       "...                           ...              ...   \n",
       "142561  2019-03-06 10:18:02+00:00       RAMANKAIRA   \n",
       "142562  2019-03-06 10:11:43+00:00       RAMANKAIRA   \n",
       "142563  2019-01-24 12:57:48+00:00          thota_J   \n",
       "142564  2019-01-24 12:48:37+00:00          thota_J   \n",
       "142565  2019-01-24 12:47:55+00:00          thota_J   \n",
       "\n",
       "                                                    Tweet  \n",
       "0       @anjanaomkashyap I am seeing you as future #bj...  \n",
       "1       Trinamool Congress Sitting MP Abhishek Banerje...  \n",
       "2       #LokSabhaElections2019 \\n23rd May 2019 will re...  \n",
       "3       #LokSabhaElections2019 \\n23rd May 2019 will re...  \n",
       "4       PM Modi creates a new record of being the only...  \n",
       "...                                                   ...  \n",
       "142561  @mayankgandhi04 @mallesh_2004 Early morning #p...  \n",
       "142562  @DrKumarVishwas Early morning #political move ...  \n",
       "142563  CVoter predicts seat share for upcoming #LokSa...  \n",
       "142564  CVoter predicts seat share for upcoming #LokSa...  \n",
       "142565  CVoter predicts seat share for upcoming #LokSa...  \n",
       "\n",
       "[142566 rows x 3 columns]"
      ]
     },
     "execution_count": 6,
     "metadata": {},
     "output_type": "execute_result"
    }
   ],
   "source": [
    "df=pd.read_csv('Final_data/IndianElection19TwitterData.csv',index_col=0)\n",
    "df"
   ]
  },
  {
   "cell_type": "markdown",
   "metadata": {},
   "source": [
    "<a id=\"h2.1\"></a>\n",
    "## <p style=\"padding:10px;border :black solid;text-align:center;background-color:yellow;margin:0;color:blue;font-family:newtimeroman;font-size:150%;border-radius: 25px 50px;overflow:hidden;font-weight:500\"> Tweets related to Narendra Modi</p>"
   ]
  },
  {
   "cell_type": "markdown",
   "metadata": {},
   "source": [
    "<center>\n",
    "<img src=\"https://i0.wp.com/www.opindia.com/wp-content/uploads/2021/12/twitter.jpg?resize=1068%2C601&ssl=1\" />\n",
    "</center>\n",
    "<center>\n",
    "    Narendra Modi\n",
    "    </center>"
   ]
  },
  {
   "cell_type": "markdown",
   "metadata": {},
   "source": [
    "<div style=\"border-radius:10px;\n",
    "        border :#0A0104 solid;\n",
    "        padding: 15px;\n",
    "        background-color:lightgreen;\n",
    "       font-size:110%;\n",
    "        text-align: left\">\n",
    " <span style=\"color:'blue' ;\"></span>\n",
    "    We are given the general public tweets of about 142566<br>\n",
    "    Now to know public reaction towards Narendra Modi we need to find the tweets particularly mentioning Narendra Modi<br>    \n",
    "    Hence here we are filtering that tweets."
   ]
  },
  {
   "cell_type": "code",
   "execution_count": 7,
   "metadata": {
    "execution": {
     "iopub.execute_input": "2023-03-30T13:47:41.978606Z",
     "iopub.status.busy": "2023-03-30T13:47:41.978235Z",
     "iopub.status.idle": "2023-03-30T13:48:36.881617Z",
     "shell.execute_reply": "2023-03-30T13:48:36.880646Z",
     "shell.execute_reply.started": "2023-03-30T13:47:41.978569Z"
    },
    "id": "vKAzAAr3g8ui",
    "outputId": "cc6dda86-72b7-408e-d17e-88e9ec79ba9f"
   },
   "outputs": [
    {
     "data": {
      "text/html": [
       "<div>\n",
       "<style scoped>\n",
       "    .dataframe tbody tr th:only-of-type {\n",
       "        vertical-align: middle;\n",
       "    }\n",
       "\n",
       "    .dataframe tbody tr th {\n",
       "        vertical-align: top;\n",
       "    }\n",
       "\n",
       "    .dataframe thead th {\n",
       "        text-align: right;\n",
       "    }\n",
       "</style>\n",
       "<table border=\"1\" class=\"dataframe\">\n",
       "  <thead>\n",
       "    <tr style=\"text-align: right;\">\n",
       "      <th></th>\n",
       "      <th>Date</th>\n",
       "      <th>User</th>\n",
       "      <th>Tweet</th>\n",
       "    </tr>\n",
       "  </thead>\n",
       "  <tbody>\n",
       "    <tr>\n",
       "      <th>0</th>\n",
       "      <td>2019-05-18 23:50:47+00:00</td>\n",
       "      <td>advosushildixit</td>\n",
       "      <td>@anjanaomkashyap I am seeing you as future #bj...</td>\n",
       "    </tr>\n",
       "    <tr>\n",
       "      <th>1</th>\n",
       "      <td>2019-05-18 23:00:03+00:00</td>\n",
       "      <td>jiaeur</td>\n",
       "      <td>#LokSabhaElections2019 \\n23rd May 2019 will re...</td>\n",
       "    </tr>\n",
       "    <tr>\n",
       "      <th>2</th>\n",
       "      <td>2019-05-18 22:53:54+00:00</td>\n",
       "      <td>PVenkatGandhi</td>\n",
       "      <td>#LokSabhaElections2019 \\n23rd May 2019 will re...</td>\n",
       "    </tr>\n",
       "    <tr>\n",
       "      <th>3</th>\n",
       "      <td>2019-05-18 22:20:48+00:00</td>\n",
       "      <td>TheNirbhay1</td>\n",
       "      <td>PM Modi creates a new record of being the only...</td>\n",
       "    </tr>\n",
       "    <tr>\n",
       "      <th>4</th>\n",
       "      <td>2019-05-18 21:22:29+00:00</td>\n",
       "      <td>ShakeChilli</td>\n",
       "      <td>@abhijitmajumder Appointment of Successor! \\n\\...</td>\n",
       "    </tr>\n",
       "    <tr>\n",
       "      <th>...</th>\n",
       "      <td>...</td>\n",
       "      <td>...</td>\n",
       "      <td>...</td>\n",
       "    </tr>\n",
       "    <tr>\n",
       "      <th>25678</th>\n",
       "      <td>2019-04-09 12:06:31+00:00</td>\n",
       "      <td>shv_indian</td>\n",
       "      <td>#1DDrive #ModiSpeaksToNews18 #LokSabhaElection...</td>\n",
       "    </tr>\n",
       "    <tr>\n",
       "      <th>25679</th>\n",
       "      <td>2019-03-29 15:42:44+00:00</td>\n",
       "      <td>SONUPINKOO</td>\n",
       "      <td>I am seriously worried about future of Indian ...</td>\n",
       "    </tr>\n",
       "    <tr>\n",
       "      <th>25680</th>\n",
       "      <td>2019-03-29 13:28:51+00:00</td>\n",
       "      <td>SONUPINKOO</td>\n",
       "      <td>If @narendramodi is so Bad then Why does @INCI...</td>\n",
       "    </tr>\n",
       "    <tr>\n",
       "      <th>25681</th>\n",
       "      <td>2019-03-23 05:06:36+00:00</td>\n",
       "      <td>SONUPINKOO</td>\n",
       "      <td>On this 23rd March (Pakistan Day), I Urge all ...</td>\n",
       "    </tr>\n",
       "    <tr>\n",
       "      <th>25682</th>\n",
       "      <td>2019-03-19 15:37:34+00:00</td>\n",
       "      <td>parthajit0101</td>\n",
       "      <td>@timesofindia #ArvindKejriwal, #AAP sirji pls ...</td>\n",
       "    </tr>\n",
       "  </tbody>\n",
       "</table>\n",
       "<p>25683 rows × 3 columns</p>\n",
       "</div>"
      ],
      "text/plain": [
       "                            Date             User  \\\n",
       "0      2019-05-18 23:50:47+00:00  advosushildixit   \n",
       "1      2019-05-18 23:00:03+00:00           jiaeur   \n",
       "2      2019-05-18 22:53:54+00:00    PVenkatGandhi   \n",
       "3      2019-05-18 22:20:48+00:00      TheNirbhay1   \n",
       "4      2019-05-18 21:22:29+00:00      ShakeChilli   \n",
       "...                          ...              ...   \n",
       "25678  2019-04-09 12:06:31+00:00       shv_indian   \n",
       "25679  2019-03-29 15:42:44+00:00       SONUPINKOO   \n",
       "25680  2019-03-29 13:28:51+00:00       SONUPINKOO   \n",
       "25681  2019-03-23 05:06:36+00:00       SONUPINKOO   \n",
       "25682  2019-03-19 15:37:34+00:00    parthajit0101   \n",
       "\n",
       "                                                   Tweet  \n",
       "0      @anjanaomkashyap I am seeing you as future #bj...  \n",
       "1      #LokSabhaElections2019 \\n23rd May 2019 will re...  \n",
       "2      #LokSabhaElections2019 \\n23rd May 2019 will re...  \n",
       "3      PM Modi creates a new record of being the only...  \n",
       "4      @abhijitmajumder Appointment of Successor! \\n\\...  \n",
       "...                                                  ...  \n",
       "25678  #1DDrive #ModiSpeaksToNews18 #LokSabhaElection...  \n",
       "25679  I am seriously worried about future of Indian ...  \n",
       "25680  If @narendramodi is so Bad then Why does @INCI...  \n",
       "25681  On this 23rd March (Pakistan Day), I Urge all ...  \n",
       "25682  @timesofindia #ArvindKejriwal, #AAP sirji pls ...  \n",
       "\n",
       "[25683 rows x 3 columns]"
      ]
     },
     "execution_count": 7,
     "metadata": {},
     "output_type": "execute_result"
    }
   ],
   "source": [
    "\"\"\"\n",
    " Filtering out tweets with some keywords and hashtags in it \n",
    " referring to Narendra Modi that are commonly used on twitter\n",
    "    \"\"\";\n",
    "\n",
    "modi = [\"Modi\",\"PM\",\"modi\", \"#PMModi\",\"modi ji\", \"narendra modi\", \"@narendramodi\",\"#Vote4Modi\"]\n",
    "modi_df = pd.DataFrame(columns=[\"Date\", \"User\",\"Tweet\"])\n",
    "\n",
    "def ismodi(tweet):\n",
    "    t = tweet.split()\n",
    "    for i in modi:\n",
    "        if i in t:\n",
    "            return True\n",
    "\n",
    "# Here df is the main data\n",
    "for row in df.values:\n",
    "    if ismodi(str(row[2])):\n",
    "         modi_df = modi_df.append({\"Date\":row[0], \"User\":row[1],\"Tweet\":row[2]}, ignore_index=True)\n",
    "\n",
    "modi_df"
   ]
  },
  {
   "cell_type": "code",
   "execution_count": 8,
   "metadata": {
    "execution": {
     "iopub.execute_input": "2023-03-30T13:48:36.883561Z",
     "iopub.status.busy": "2023-03-30T13:48:36.883019Z",
     "iopub.status.idle": "2023-03-30T13:48:36.917883Z",
     "shell.execute_reply": "2023-03-30T13:48:36.916603Z",
     "shell.execute_reply.started": "2023-03-30T13:48:36.883525Z"
    },
    "id": "fRrBixF6OSlM",
    "outputId": "eed61dde-8ad2-4366-c676-e6e4e595cd46"
   },
   "outputs": [
    {
     "data": {
      "text/plain": [
       "25683"
      ]
     },
     "execution_count": 8,
     "metadata": {},
     "output_type": "execute_result"
    }
   ],
   "source": [
    "modi_df['Tweet'].nunique()"
   ]
  },
  {
   "cell_type": "markdown",
   "metadata": {},
   "source": [
    "<a id=\"h2.2\"></a>\n",
    "## <p style=\"padding:10px;border :black solid;background-color:yellow;margin:0;color:blue;font-family:newtimeroman;font-size:150%;border-radius: 25px 50px;overflow:hidden;font-weight:500\">Tweets related to Rahul Gandhi</p>"
   ]
  },
  {
   "cell_type": "markdown",
   "metadata": {},
   "source": [
    "<center>\n",
    "<img src=\"https://img.republicworld.com/republic-prod/stories/promolarge/xhdpi/j3sm366eoiytn6ro_1643259040.jpeg\" />\n",
    "</center>\n",
    "<center>\n",
    "    Rahul Gandhi\n",
    "    </center>"
   ]
  },
  {
   "cell_type": "markdown",
   "metadata": {},
   "source": [
    "<div style=\"border-radius:10px;\n",
    "        border :#0A0104 solid;\n",
    "        padding: 15px;\n",
    "        background-color:lightgreen;\n",
    "       font-size:110%;\n",
    "        text-align: left\">\n",
    " <span style=\"color:'blue' ;\"></span>\n",
    "    We are given the general public tweets of about 142566<br>\n",
    "    For the same purpose as stated above, here we are filtering tweets related to Rahul Gandhi."
   ]
  },
  {
   "cell_type": "code",
   "execution_count": 9,
   "metadata": {
    "execution": {
     "iopub.execute_input": "2023-03-30T13:48:36.920555Z",
     "iopub.status.busy": "2023-03-30T13:48:36.919710Z",
     "iopub.status.idle": "2023-03-30T13:49:05.064334Z",
     "shell.execute_reply": "2023-03-30T13:49:05.063394Z",
     "shell.execute_reply.started": "2023-03-30T13:48:36.920518Z"
    },
    "id": "7noCFrdglP4P",
    "outputId": "04af01cf-101a-4c9f-ac36-f2da2b9c8b78"
   },
   "outputs": [
    {
     "data": {
      "text/html": [
       "<div>\n",
       "<style scoped>\n",
       "    .dataframe tbody tr th:only-of-type {\n",
       "        vertical-align: middle;\n",
       "    }\n",
       "\n",
       "    .dataframe tbody tr th {\n",
       "        vertical-align: top;\n",
       "    }\n",
       "\n",
       "    .dataframe thead th {\n",
       "        text-align: right;\n",
       "    }\n",
       "</style>\n",
       "<table border=\"1\" class=\"dataframe\">\n",
       "  <thead>\n",
       "    <tr style=\"text-align: right;\">\n",
       "      <th></th>\n",
       "      <th>Date</th>\n",
       "      <th>User</th>\n",
       "      <th>Tweet</th>\n",
       "    </tr>\n",
       "  </thead>\n",
       "  <tbody>\n",
       "    <tr>\n",
       "      <th>0</th>\n",
       "      <td>2019-05-18 19:49:52+00:00</td>\n",
       "      <td>Sunnysweet16</td>\n",
       "      <td>Wonder why no academic or journalist asks INC ...</td>\n",
       "    </tr>\n",
       "    <tr>\n",
       "      <th>1</th>\n",
       "      <td>2019-05-18 18:56:52+00:00</td>\n",
       "      <td>drnitinchaube</td>\n",
       "      <td>Congrats for the change #australiavotes2019 an...</td>\n",
       "    </tr>\n",
       "    <tr>\n",
       "      <th>2</th>\n",
       "      <td>2019-05-18 18:54:01+00:00</td>\n",
       "      <td>mrvivek07</td>\n",
       "      <td>Peopel Say “Govt Ne 70 Years Kya kiya”.\\nUnse ...</td>\n",
       "    </tr>\n",
       "    <tr>\n",
       "      <th>3</th>\n",
       "      <td>2019-05-18 18:52:03+00:00</td>\n",
       "      <td>JosephPravinP</td>\n",
       "      <td>@ajaymaken @RahulGandhi And as a final touch, ...</td>\n",
       "    </tr>\n",
       "    <tr>\n",
       "      <th>4</th>\n",
       "      <td>2019-05-18 18:31:10+00:00</td>\n",
       "      <td>VandanaMegastar</td>\n",
       "      <td>#LokSabhaElections2019 Anyone not having mass ...</td>\n",
       "    </tr>\n",
       "    <tr>\n",
       "      <th>...</th>\n",
       "      <td>...</td>\n",
       "      <td>...</td>\n",
       "      <td>...</td>\n",
       "    </tr>\n",
       "    <tr>\n",
       "      <th>14143</th>\n",
       "      <td>2019-03-23 04:53:54+00:00</td>\n",
       "      <td>SunjayJK</td>\n",
       "      <td>@quizzicalguy In this #LokSabhaElections2019, ...</td>\n",
       "    </tr>\n",
       "    <tr>\n",
       "      <th>14144</th>\n",
       "      <td>2019-03-17 08:53:28+00:00</td>\n",
       "      <td>SunjayJK</td>\n",
       "      <td>@AnumaVidisha @RahulGandhi @ArvindKejriwal whe...</td>\n",
       "    </tr>\n",
       "    <tr>\n",
       "      <th>14145</th>\n",
       "      <td>2019-03-06 10:20:09+00:00</td>\n",
       "      <td>RAMANKAIRA</td>\n",
       "      <td>@sherryontopp Early morning #political move af...</td>\n",
       "    </tr>\n",
       "    <tr>\n",
       "      <th>14146</th>\n",
       "      <td>2019-03-06 10:18:02+00:00</td>\n",
       "      <td>RAMANKAIRA</td>\n",
       "      <td>@mayankgandhi04 @mallesh_2004 Early morning #p...</td>\n",
       "    </tr>\n",
       "    <tr>\n",
       "      <th>14147</th>\n",
       "      <td>2019-03-06 10:11:43+00:00</td>\n",
       "      <td>RAMANKAIRA</td>\n",
       "      <td>@DrKumarVishwas Early morning #political move ...</td>\n",
       "    </tr>\n",
       "  </tbody>\n",
       "</table>\n",
       "<p>14148 rows × 3 columns</p>\n",
       "</div>"
      ],
      "text/plain": [
       "                            Date             User  \\\n",
       "0      2019-05-18 19:49:52+00:00     Sunnysweet16   \n",
       "1      2019-05-18 18:56:52+00:00    drnitinchaube   \n",
       "2      2019-05-18 18:54:01+00:00        mrvivek07   \n",
       "3      2019-05-18 18:52:03+00:00    JosephPravinP   \n",
       "4      2019-05-18 18:31:10+00:00  VandanaMegastar   \n",
       "...                          ...              ...   \n",
       "14143  2019-03-23 04:53:54+00:00         SunjayJK   \n",
       "14144  2019-03-17 08:53:28+00:00         SunjayJK   \n",
       "14145  2019-03-06 10:20:09+00:00       RAMANKAIRA   \n",
       "14146  2019-03-06 10:18:02+00:00       RAMANKAIRA   \n",
       "14147  2019-03-06 10:11:43+00:00       RAMANKAIRA   \n",
       "\n",
       "                                                   Tweet  \n",
       "0      Wonder why no academic or journalist asks INC ...  \n",
       "1      Congrats for the change #australiavotes2019 an...  \n",
       "2      Peopel Say “Govt Ne 70 Years Kya kiya”.\\nUnse ...  \n",
       "3      @ajaymaken @RahulGandhi And as a final touch, ...  \n",
       "4      #LokSabhaElections2019 Anyone not having mass ...  \n",
       "...                                                  ...  \n",
       "14143  @quizzicalguy In this #LokSabhaElections2019, ...  \n",
       "14144  @AnumaVidisha @RahulGandhi @ArvindKejriwal whe...  \n",
       "14145  @sherryontopp Early morning #political move af...  \n",
       "14146  @mayankgandhi04 @mallesh_2004 Early morning #p...  \n",
       "14147  @DrKumarVishwas Early morning #political move ...  \n",
       "\n",
       "[14148 rows x 3 columns]"
      ]
     },
     "execution_count": 9,
     "metadata": {},
     "output_type": "execute_result"
    }
   ],
   "source": [
    "\"\"\"\n",
    " Filtering out tweets with some keywords and hashtags in it \n",
    " referring to Rahul Gandhi that are commonly used on twitter\n",
    "    \"\"\";\n",
    "\n",
    "rahul = [\"rahul\", \"Rahul\",\"RahulGandhi\", \"gandhi\",\"@RahulGandhi\",\"Gandhi\",\n",
    "         \"#Vote4Rahul\",\"#Vote4Gandhi\",\"#Vote4RahulGandhi\"]\n",
    "\n",
    "rahul_df = pd.DataFrame(columns=[\"Date\", \"User\",\"Tweet\"])\n",
    "\n",
    "def israhul(tweet):\n",
    "    t = tweet.split()\n",
    "    for i in rahul:\n",
    "        if i in t:\n",
    "            return True\n",
    "\n",
    "for row in df.values:\n",
    "    if israhul(str(row[2])):\n",
    "         rahul_df = rahul_df.append({\"Date\":row[0], \"User\":row[1],\"Tweet\":row[2]}, ignore_index=True)\n",
    "\n",
    "rahul_df"
   ]
  },
  {
   "cell_type": "markdown",
   "metadata": {},
   "source": [
    "<a id=\"h2.3\"></a>\n",
    "## <p style=\"padding:10px;border :black solid;background-color:yellow;margin:0;color:blue;font-family:newtimeroman;font-size:150%;border-radius: 25px 50px;overflow:hidden;font-weight:500\">Data Cleaning : Removing Stopwords & Panctuations</p>"
   ]
  },
  {
   "cell_type": "code",
   "execution_count": 10,
   "metadata": {
    "execution": {
     "iopub.execute_input": "2023-03-30T13:49:05.070169Z",
     "iopub.status.busy": "2023-03-30T13:49:05.068750Z",
     "iopub.status.idle": "2023-03-30T13:49:05.757384Z",
     "shell.execute_reply": "2023-03-30T13:49:05.756436Z",
     "shell.execute_reply.started": "2023-03-30T13:49:05.070131Z"
    },
    "id": "34lbooL6p18r"
   },
   "outputs": [],
   "source": [
    "from sklearn.feature_extraction import text\n",
    "import string\n",
    "stop = text.ENGLISH_STOP_WORDS\n",
    "\n",
    "\"\"\"\n",
    " Removing stopwords (as in sklearn library) from tweets so as to get good polarity scores\n",
    "    \"\"\";\n",
    "modi_df['Tweet'] = modi_df['Tweet'].apply(lambda x: ' '.join([word for word in x.split() if word not in (stop)]))\n",
    "rahul_df['Tweet'] = rahul_df['Tweet'].apply(lambda x: ' '.join([word for word in x.split() if word not in (stop)]))\n",
    "\n",
    "def remove_punctuations(text):\n",
    "    for punctuation in string.punctuation:\n",
    "        text = text.replace(punctuation, '')\n",
    "    return text\n",
    "\n",
    "\"\"\"\n",
    " Removing panctuations from tweets\n",
    "    \"\"\";\n",
    "modi_df['Tweet'] = modi_df['Tweet'].apply(remove_punctuations)\n",
    "rahul_df['Tweet'] = rahul_df['Tweet'].apply(remove_punctuations)"
   ]
  },
  {
   "cell_type": "markdown",
   "metadata": {
    "id": "BftSsqwl2Qpu"
   },
   "source": [
    "---"
   ]
  },
  {
   "cell_type": "markdown",
   "metadata": {
    "id": "Xepov13pnkUd"
   },
   "source": [
    "<a id=\"h3\"></a>\n",
    "# <p style=\"padding:10px;background-color:lightblue;border :black solid;margin:0;color:blue;font-family:newtimeroman;font-size:150%;text-align:center;border-radius: 25px 50px;overflow:hidden;font-weight:500\">VadarSentiment Sentiment Analysis</p>"
   ]
  },
  {
   "cell_type": "markdown",
   "metadata": {},
   "source": [
    "## <p style=\"padding:10px;background-color:yellow;text-align:center;border :black solid;margin:0;color:blue;font-family:newtimeroman;font-size:150%;border-radius: 25px 50px;overflow:hidden;font-weight:500\">Tweets related to Modi</p>"
   ]
  },
  {
   "cell_type": "code",
   "execution_count": 11,
   "metadata": {
    "execution": {
     "iopub.execute_input": "2023-03-30T13:49:05.759351Z",
     "iopub.status.busy": "2023-03-30T13:49:05.758974Z",
     "iopub.status.idle": "2023-03-30T13:49:20.038235Z",
     "shell.execute_reply": "2023-03-30T13:49:20.037244Z",
     "shell.execute_reply.started": "2023-03-30T13:49:05.759309Z"
    },
    "id": "HdK4wHj4nMFD"
   },
   "outputs": [],
   "source": [
    "\"\"\"\n",
    " Calculating the polarity scores with help of code snippets mentioned at the importing libraries section\n",
    "    \"\"\";\n",
    "modi_df['pos'] = modi_df['Tweet'].apply(lambda x :pos(x))\n",
    "modi_df['neg'] = modi_df['Tweet'].apply(lambda x :neg(x))\n",
    "modi_df['neu'] = modi_df['Tweet'].apply(lambda x :neu(x))"
   ]
  },
  {
   "cell_type": "code",
   "execution_count": 12,
   "metadata": {
    "execution": {
     "iopub.execute_input": "2023-03-30T13:49:20.040359Z",
     "iopub.status.busy": "2023-03-30T13:49:20.039972Z",
     "iopub.status.idle": "2023-03-30T13:49:21.572490Z",
     "shell.execute_reply": "2023-03-30T13:49:21.571343Z",
     "shell.execute_reply.started": "2023-03-30T13:49:20.040321Z"
    },
    "id": "SvNPGf9znO7C",
    "outputId": "22bdcf63-6adf-433e-eaa1-67aec9abb84b"
   },
   "outputs": [
    {
     "name": "stderr",
     "output_type": "stream",
     "text": [
      "/opt/conda/lib/python3.7/site-packages/ipykernel_launcher.py:17: SettingWithCopyWarning: \n",
      "A value is trying to be set on a copy of a slice from a DataFrame\n",
      "\n",
      "See the caveats in the documentation: https://pandas.pydata.org/pandas-docs/stable/user_guide/indexing.html#returning-a-view-versus-a-copy\n",
      "  app.launch_new_instance()\n",
      "/opt/conda/lib/python3.7/site-packages/pandas/core/indexing.py:1732: SettingWithCopyWarning: \n",
      "A value is trying to be set on a copy of a slice from a DataFrame\n",
      "\n",
      "See the caveats in the documentation: https://pandas.pydata.org/pandas-docs/stable/user_guide/indexing.html#returning-a-view-versus-a-copy\n",
      "  self._setitem_single_block(indexer, value, name)\n"
     ]
    },
    {
     "data": {
      "text/html": [
       "<div>\n",
       "<style scoped>\n",
       "    .dataframe tbody tr th:only-of-type {\n",
       "        vertical-align: middle;\n",
       "    }\n",
       "\n",
       "    .dataframe tbody tr th {\n",
       "        vertical-align: top;\n",
       "    }\n",
       "\n",
       "    .dataframe thead th {\n",
       "        text-align: right;\n",
       "    }\n",
       "</style>\n",
       "<table border=\"1\" class=\"dataframe\">\n",
       "  <thead>\n",
       "    <tr style=\"text-align: right;\">\n",
       "      <th></th>\n",
       "      <th>Date</th>\n",
       "      <th>User</th>\n",
       "      <th>Tweet</th>\n",
       "      <th>pos</th>\n",
       "      <th>neg</th>\n",
       "      <th>neu</th>\n",
       "      <th>FinalEmotion</th>\n",
       "    </tr>\n",
       "  </thead>\n",
       "  <tbody>\n",
       "    <tr>\n",
       "      <th>0</th>\n",
       "      <td>2019-05-18 23:50:47+00:00</td>\n",
       "      <td>advosushildixit</td>\n",
       "      <td>anjanaomkashyap I seeing future bjp spokespers...</td>\n",
       "      <td>0.307</td>\n",
       "      <td>0.000</td>\n",
       "      <td>0.693</td>\n",
       "      <td>neutral</td>\n",
       "    </tr>\n",
       "    <tr>\n",
       "      <th>1</th>\n",
       "      <td>2019-05-18 23:00:03+00:00</td>\n",
       "      <td>jiaeur</td>\n",
       "      <td>LokSabhaElections2019 23rd May 2019 reveal  Ev...</td>\n",
       "      <td>0.228</td>\n",
       "      <td>0.000</td>\n",
       "      <td>0.772</td>\n",
       "      <td>neutral</td>\n",
       "    </tr>\n",
       "    <tr>\n",
       "      <th>2</th>\n",
       "      <td>2019-05-18 22:53:54+00:00</td>\n",
       "      <td>PVenkatGandhi</td>\n",
       "      <td>LokSabhaElections2019 23rd May 2019 reveal  Ev...</td>\n",
       "      <td>0.228</td>\n",
       "      <td>0.000</td>\n",
       "      <td>0.772</td>\n",
       "      <td>neutral</td>\n",
       "    </tr>\n",
       "    <tr>\n",
       "      <th>3</th>\n",
       "      <td>2019-05-18 22:20:48+00:00</td>\n",
       "      <td>TheNirbhay1</td>\n",
       "      <td>PM Modi creates new record PM democratic count...</td>\n",
       "      <td>0.313</td>\n",
       "      <td>0.000</td>\n",
       "      <td>0.687</td>\n",
       "      <td>neutral</td>\n",
       "    </tr>\n",
       "    <tr>\n",
       "      <th>4</th>\n",
       "      <td>2019-05-18 21:22:29+00:00</td>\n",
       "      <td>ShakeChilli</td>\n",
       "      <td>abhijitmajumder Appointment Successor God forb...</td>\n",
       "      <td>0.215</td>\n",
       "      <td>0.110</td>\n",
       "      <td>0.675</td>\n",
       "      <td>neutral</td>\n",
       "    </tr>\n",
       "    <tr>\n",
       "      <th>...</th>\n",
       "      <td>...</td>\n",
       "      <td>...</td>\n",
       "      <td>...</td>\n",
       "      <td>...</td>\n",
       "      <td>...</td>\n",
       "      <td>...</td>\n",
       "      <td>...</td>\n",
       "    </tr>\n",
       "    <tr>\n",
       "      <th>25678</th>\n",
       "      <td>2019-04-09 12:06:31+00:00</td>\n",
       "      <td>shv_indian</td>\n",
       "      <td>1DDrive ModiSpeaksToNews18 LokSabhaElections20...</td>\n",
       "      <td>0.000</td>\n",
       "      <td>0.136</td>\n",
       "      <td>0.864</td>\n",
       "      <td>neutral</td>\n",
       "    </tr>\n",
       "    <tr>\n",
       "      <th>25679</th>\n",
       "      <td>2019-03-29 15:42:44+00:00</td>\n",
       "      <td>SONUPINKOO</td>\n",
       "      <td>I seriously worried future Indian democracy na...</td>\n",
       "      <td>0.276</td>\n",
       "      <td>0.109</td>\n",
       "      <td>0.615</td>\n",
       "      <td>neutral</td>\n",
       "    </tr>\n",
       "    <tr>\n",
       "      <th>25680</th>\n",
       "      <td>2019-03-29 13:28:51+00:00</td>\n",
       "      <td>SONUPINKOO</td>\n",
       "      <td>If narendramodi Bad Why does INCIndia needs Ma...</td>\n",
       "      <td>0.000</td>\n",
       "      <td>0.156</td>\n",
       "      <td>0.844</td>\n",
       "      <td>neutral</td>\n",
       "    </tr>\n",
       "    <tr>\n",
       "      <th>25681</th>\n",
       "      <td>2019-03-23 05:06:36+00:00</td>\n",
       "      <td>SONUPINKOO</td>\n",
       "      <td>On 23rd March Pakistan Day I Urge Indians Dere...</td>\n",
       "      <td>0.000</td>\n",
       "      <td>0.000</td>\n",
       "      <td>1.000</td>\n",
       "      <td>neutral</td>\n",
       "    </tr>\n",
       "    <tr>\n",
       "      <th>25682</th>\n",
       "      <td>2019-03-19 15:37:34+00:00</td>\n",
       "      <td>parthajit0101</td>\n",
       "      <td>timesofindia ArvindKejriwal AAP sirji pls deci...</td>\n",
       "      <td>0.184</td>\n",
       "      <td>0.166</td>\n",
       "      <td>0.650</td>\n",
       "      <td>neutral</td>\n",
       "    </tr>\n",
       "  </tbody>\n",
       "</table>\n",
       "<p>25683 rows × 7 columns</p>\n",
       "</div>"
      ],
      "text/plain": [
       "                            Date             User  \\\n",
       "0      2019-05-18 23:50:47+00:00  advosushildixit   \n",
       "1      2019-05-18 23:00:03+00:00           jiaeur   \n",
       "2      2019-05-18 22:53:54+00:00    PVenkatGandhi   \n",
       "3      2019-05-18 22:20:48+00:00      TheNirbhay1   \n",
       "4      2019-05-18 21:22:29+00:00      ShakeChilli   \n",
       "...                          ...              ...   \n",
       "25678  2019-04-09 12:06:31+00:00       shv_indian   \n",
       "25679  2019-03-29 15:42:44+00:00       SONUPINKOO   \n",
       "25680  2019-03-29 13:28:51+00:00       SONUPINKOO   \n",
       "25681  2019-03-23 05:06:36+00:00       SONUPINKOO   \n",
       "25682  2019-03-19 15:37:34+00:00    parthajit0101   \n",
       "\n",
       "                                                   Tweet    pos    neg    neu  \\\n",
       "0      anjanaomkashyap I seeing future bjp spokespers...  0.307  0.000  0.693   \n",
       "1      LokSabhaElections2019 23rd May 2019 reveal  Ev...  0.228  0.000  0.772   \n",
       "2      LokSabhaElections2019 23rd May 2019 reveal  Ev...  0.228  0.000  0.772   \n",
       "3      PM Modi creates new record PM democratic count...  0.313  0.000  0.687   \n",
       "4      abhijitmajumder Appointment Successor God forb...  0.215  0.110  0.675   \n",
       "...                                                  ...    ...    ...    ...   \n",
       "25678  1DDrive ModiSpeaksToNews18 LokSabhaElections20...  0.000  0.136  0.864   \n",
       "25679  I seriously worried future Indian democracy na...  0.276  0.109  0.615   \n",
       "25680  If narendramodi Bad Why does INCIndia needs Ma...  0.000  0.156  0.844   \n",
       "25681  On 23rd March Pakistan Day I Urge Indians Dere...  0.000  0.000  1.000   \n",
       "25682  timesofindia ArvindKejriwal AAP sirji pls deci...  0.184  0.166  0.650   \n",
       "\n",
       "      FinalEmotion  \n",
       "0          neutral  \n",
       "1          neutral  \n",
       "2          neutral  \n",
       "3          neutral  \n",
       "4          neutral  \n",
       "...            ...  \n",
       "25678      neutral  \n",
       "25679      neutral  \n",
       "25680      neutral  \n",
       "25681      neutral  \n",
       "25682      neutral  \n",
       "\n",
       "[25683 rows x 7 columns]"
      ]
     },
     "execution_count": 12,
     "metadata": {},
     "output_type": "execute_result"
    }
   ],
   "source": [
    "emotion=[]\n",
    "for i in range(0,25683):\n",
    "    emotion.append(max(modi_df['pos'][i],modi_df['neu'][i],modi_df['neg'][i]))\n",
    "\n",
    "modi_df['FinalEmotion']=emotion\n",
    "\n",
    "\"\"\"\n",
    " Traversing through the polarity scores for each tweet and\n",
    " assigning the Final Emotion as per the highest score among positive, negative, neutral\n",
    "    \"\"\";\n",
    "for i in range(0,25683):\n",
    "    if modi_df['FinalEmotion'][i]==modi_df['pos'][i]:\n",
    "        modi_df['FinalEmotion'][i]='positive'\n",
    "    elif modi_df['FinalEmotion'][i]==modi_df['neg'][i]:\n",
    "        modi_df['FinalEmotion'][i]='negative' \n",
    "    elif modi_df['FinalEmotion'][i]==modi_df['neu'][i]:\n",
    "        modi_df['FinalEmotion'][i]='neutral'\n",
    "modi_df"
   ]
  },
  {
   "cell_type": "markdown",
   "metadata": {},
   "source": [
    "### Total different emotion count"
   ]
  },
  {
   "cell_type": "code",
   "execution_count": 13,
   "metadata": {
    "execution": {
     "iopub.execute_input": "2023-03-30T13:49:21.574719Z",
     "iopub.status.busy": "2023-03-30T13:49:21.574304Z",
     "iopub.status.idle": "2023-03-30T13:49:21.584268Z",
     "shell.execute_reply": "2023-03-30T13:49:21.583286Z",
     "shell.execute_reply.started": "2023-03-30T13:49:21.574664Z"
    },
    "id": "StGzxsvvq5Mw",
    "outputId": "a4bbe64f-34bf-405e-a9a2-f67d43f31a22"
   },
   "outputs": [
    {
     "data": {
      "text/plain": [
       "neutral     24994\n",
       "positive      532\n",
       "negative      157\n",
       "Name: FinalEmotion, dtype: int64"
      ]
     },
     "execution_count": 13,
     "metadata": {},
     "output_type": "execute_result"
    }
   ],
   "source": [
    "modi_df['FinalEmotion'].value_counts()"
   ]
  },
  {
   "cell_type": "code",
   "execution_count": 14,
   "metadata": {
    "execution": {
     "iopub.execute_input": "2023-03-30T13:49:21.586504Z",
     "iopub.status.busy": "2023-03-30T13:49:21.585873Z",
     "iopub.status.idle": "2023-03-30T13:49:21.848589Z",
     "shell.execute_reply": "2023-03-30T13:49:21.847617Z",
     "shell.execute_reply.started": "2023-03-30T13:49:21.586465Z"
    }
   },
   "outputs": [
    {
     "data": {
      "image/png": "[encoded data removed]",
      "text/plain": [
       "<Figure size 1080x720 with 1 Axes>"
      ]
     },
     "metadata": {
      "needs_background": "light"
     },
     "output_type": "display_data"
    }
   ],
   "source": [
    "# Plot visualizing the counts of emotions of all the tweets\n",
    "plt.figure(figsize=(15,10))\n",
    "sns.set_style(\"darkgrid\")\n",
    "ax = sns.countplot(x=modi_df['FinalEmotion'],palette=['#36454F','#89CFF0'])\n",
    "ax.set_title('Sentiments scores of Tweets about Modi')\n",
    "plt.show()"
   ]
  },
  {
   "cell_type": "markdown",
   "metadata": {
    "id": "YD1jCJU50JFz"
   },
   "source": [
    "## <p style=\"padding:10px;border :black solid;background-color:yellow;margin:0;color:blue;font-family:newtimeroman;font-size:150%;border-radius: 25px 50px;overflow:hidden;font-weight:500\">Tweets related to Rahul Gandhi</p>"
   ]
  },
  {
   "cell_type": "code",
   "execution_count": 15,
   "metadata": {
    "execution": {
     "iopub.execute_input": "2023-03-30T13:49:21.850787Z",
     "iopub.status.busy": "2023-03-30T13:49:21.850391Z",
     "iopub.status.idle": "2023-03-30T13:49:29.627881Z",
     "shell.execute_reply": "2023-03-30T13:49:29.626914Z",
     "shell.execute_reply.started": "2023-03-30T13:49:21.850749Z"
    },
    "id": "75Z4mRMh0O-A"
   },
   "outputs": [],
   "source": [
    "\"\"\"\n",
    " Calculating the polarity scores with help of code snippets mentioned at the importing libraries section\n",
    "    \"\"\";\n",
    "rahul_df['pos'] = rahul_df['Tweet'].apply(lambda x :pos(x))\n",
    "rahul_df['neg'] = rahul_df['Tweet'].apply(lambda x :neg(x))\n",
    "rahul_df['neu'] = rahul_df['Tweet'].apply(lambda x :neu(x))"
   ]
  },
  {
   "cell_type": "code",
   "execution_count": 16,
   "metadata": {
    "execution": {
     "iopub.execute_input": "2023-03-30T13:49:29.629831Z",
     "iopub.status.busy": "2023-03-30T13:49:29.629042Z",
     "iopub.status.idle": "2023-03-30T13:49:29.648547Z",
     "shell.execute_reply": "2023-03-30T13:49:29.647611Z",
     "shell.execute_reply.started": "2023-03-30T13:49:29.629790Z"
    }
   },
   "outputs": [
    {
     "data": {
      "text/html": [
       "<div>\n",
       "<style scoped>\n",
       "    .dataframe tbody tr th:only-of-type {\n",
       "        vertical-align: middle;\n",
       "    }\n",
       "\n",
       "    .dataframe tbody tr th {\n",
       "        vertical-align: top;\n",
       "    }\n",
       "\n",
       "    .dataframe thead th {\n",
       "        text-align: right;\n",
       "    }\n",
       "</style>\n",
       "<table border=\"1\" class=\"dataframe\">\n",
       "  <thead>\n",
       "    <tr style=\"text-align: right;\">\n",
       "      <th></th>\n",
       "      <th>Date</th>\n",
       "      <th>User</th>\n",
       "      <th>Tweet</th>\n",
       "      <th>pos</th>\n",
       "      <th>neg</th>\n",
       "      <th>neu</th>\n",
       "    </tr>\n",
       "  </thead>\n",
       "  <tbody>\n",
       "    <tr>\n",
       "      <th>0</th>\n",
       "      <td>2019-05-18 19:49:52+00:00</td>\n",
       "      <td>Sunnysweet16</td>\n",
       "      <td>Wonder academic journalist asks INC India Rahu...</td>\n",
       "      <td>0.093</td>\n",
       "      <td>0.138</td>\n",
       "      <td>0.769</td>\n",
       "    </tr>\n",
       "    <tr>\n",
       "      <th>1</th>\n",
       "      <td>2019-05-18 18:56:52+00:00</td>\n",
       "      <td>drnitinchaube</td>\n",
       "      <td>Congrats change australiavotes2019 ScottMorris...</td>\n",
       "      <td>0.152</td>\n",
       "      <td>0.000</td>\n",
       "      <td>0.848</td>\n",
       "    </tr>\n",
       "    <tr>\n",
       "      <th>2</th>\n",
       "      <td>2019-05-18 18:54:01+00:00</td>\n",
       "      <td>mrvivek07</td>\n",
       "      <td>Peopel Say “Govt Ne 70 Years Kya kiya” Unse pu...</td>\n",
       "      <td>0.000</td>\n",
       "      <td>0.000</td>\n",
       "      <td>1.000</td>\n",
       "    </tr>\n",
       "    <tr>\n",
       "      <th>3</th>\n",
       "      <td>2019-05-18 18:52:03+00:00</td>\n",
       "      <td>JosephPravinP</td>\n",
       "      <td>ajaymaken RahulGandhi And final touch Modi ji ...</td>\n",
       "      <td>0.318</td>\n",
       "      <td>0.000</td>\n",
       "      <td>0.682</td>\n",
       "    </tr>\n",
       "    <tr>\n",
       "      <th>4</th>\n",
       "      <td>2019-05-18 18:31:10+00:00</td>\n",
       "      <td>VandanaMegastar</td>\n",
       "      <td>LokSabhaElections2019 Anyone having mass backi...</td>\n",
       "      <td>0.083</td>\n",
       "      <td>0.088</td>\n",
       "      <td>0.828</td>\n",
       "    </tr>\n",
       "    <tr>\n",
       "      <th>...</th>\n",
       "      <td>...</td>\n",
       "      <td>...</td>\n",
       "      <td>...</td>\n",
       "      <td>...</td>\n",
       "      <td>...</td>\n",
       "      <td>...</td>\n",
       "    </tr>\n",
       "    <tr>\n",
       "      <th>14143</th>\n",
       "      <td>2019-03-23 04:53:54+00:00</td>\n",
       "      <td>SunjayJK</td>\n",
       "      <td>quizzicalguy In LokSabhaElections2019 India Ec...</td>\n",
       "      <td>0.194</td>\n",
       "      <td>0.000</td>\n",
       "      <td>0.806</td>\n",
       "    </tr>\n",
       "    <tr>\n",
       "      <th>14144</th>\n",
       "      <td>2019-03-17 08:53:28+00:00</td>\n",
       "      <td>SunjayJK</td>\n",
       "      <td>AnumaVidisha RahulGandhi ArvindKejriwal Spokes...</td>\n",
       "      <td>0.196</td>\n",
       "      <td>0.068</td>\n",
       "      <td>0.737</td>\n",
       "    </tr>\n",
       "    <tr>\n",
       "      <th>14145</th>\n",
       "      <td>2019-03-06 10:20:09+00:00</td>\n",
       "      <td>RAMANKAIRA</td>\n",
       "      <td>sherryontopp Early morning political detailed ...</td>\n",
       "      <td>0.097</td>\n",
       "      <td>0.000</td>\n",
       "      <td>0.903</td>\n",
       "    </tr>\n",
       "    <tr>\n",
       "      <th>14146</th>\n",
       "      <td>2019-03-06 10:18:02+00:00</td>\n",
       "      <td>RAMANKAIRA</td>\n",
       "      <td>mayankgandhi04 mallesh2004 Early morning polit...</td>\n",
       "      <td>0.094</td>\n",
       "      <td>0.000</td>\n",
       "      <td>0.906</td>\n",
       "    </tr>\n",
       "    <tr>\n",
       "      <th>14147</th>\n",
       "      <td>2019-03-06 10:11:43+00:00</td>\n",
       "      <td>RAMANKAIRA</td>\n",
       "      <td>DrKumarVishwas Early morning political detaile...</td>\n",
       "      <td>0.097</td>\n",
       "      <td>0.000</td>\n",
       "      <td>0.903</td>\n",
       "    </tr>\n",
       "  </tbody>\n",
       "</table>\n",
       "<p>14148 rows × 6 columns</p>\n",
       "</div>"
      ],
      "text/plain": [
       "                            Date             User  \\\n",
       "0      2019-05-18 19:49:52+00:00     Sunnysweet16   \n",
       "1      2019-05-18 18:56:52+00:00    drnitinchaube   \n",
       "2      2019-05-18 18:54:01+00:00        mrvivek07   \n",
       "3      2019-05-18 18:52:03+00:00    JosephPravinP   \n",
       "4      2019-05-18 18:31:10+00:00  VandanaMegastar   \n",
       "...                          ...              ...   \n",
       "14143  2019-03-23 04:53:54+00:00         SunjayJK   \n",
       "14144  2019-03-17 08:53:28+00:00         SunjayJK   \n",
       "14145  2019-03-06 10:20:09+00:00       RAMANKAIRA   \n",
       "14146  2019-03-06 10:18:02+00:00       RAMANKAIRA   \n",
       "14147  2019-03-06 10:11:43+00:00       RAMANKAIRA   \n",
       "\n",
       "                                                   Tweet    pos    neg    neu  \n",
       "0      Wonder academic journalist asks INC India Rahu...  0.093  0.138  0.769  \n",
       "1      Congrats change australiavotes2019 ScottMorris...  0.152  0.000  0.848  \n",
       "2      Peopel Say “Govt Ne 70 Years Kya kiya” Unse pu...  0.000  0.000  1.000  \n",
       "3      ajaymaken RahulGandhi And final touch Modi ji ...  0.318  0.000  0.682  \n",
       "4      LokSabhaElections2019 Anyone having mass backi...  0.083  0.088  0.828  \n",
       "...                                                  ...    ...    ...    ...  \n",
       "14143  quizzicalguy In LokSabhaElections2019 India Ec...  0.194  0.000  0.806  \n",
       "14144  AnumaVidisha RahulGandhi ArvindKejriwal Spokes...  0.196  0.068  0.737  \n",
       "14145  sherryontopp Early morning political detailed ...  0.097  0.000  0.903  \n",
       "14146  mayankgandhi04 mallesh2004 Early morning polit...  0.094  0.000  0.906  \n",
       "14147  DrKumarVishwas Early morning political detaile...  0.097  0.000  0.903  \n",
       "\n",
       "[14148 rows x 6 columns]"
      ]
     },
     "execution_count": 16,
     "metadata": {},
     "output_type": "execute_result"
    }
   ],
   "source": [
    "rahul_df"
   ]
  },
  {
   "cell_type": "code",
   "execution_count": 17,
   "metadata": {
    "execution": {
     "iopub.execute_input": "2023-03-30T13:49:29.650555Z",
     "iopub.status.busy": "2023-03-30T13:49:29.649776Z",
     "iopub.status.idle": "2023-03-30T13:49:30.502862Z",
     "shell.execute_reply": "2023-03-30T13:49:30.501485Z",
     "shell.execute_reply.started": "2023-03-30T13:49:29.650519Z"
    },
    "id": "Yek-JW2c0PD1",
    "outputId": "90a435ff-7483-41c4-9486-b9a77eb41608"
   },
   "outputs": [
    {
     "name": "stderr",
     "output_type": "stream",
     "text": [
      "/opt/conda/lib/python3.7/site-packages/ipykernel_launcher.py:17: SettingWithCopyWarning: \n",
      "A value is trying to be set on a copy of a slice from a DataFrame\n",
      "\n",
      "See the caveats in the documentation: https://pandas.pydata.org/pandas-docs/stable/user_guide/indexing.html#returning-a-view-versus-a-copy\n",
      "  app.launch_new_instance()\n",
      "/opt/conda/lib/python3.7/site-packages/pandas/core/indexing.py:1732: SettingWithCopyWarning: \n",
      "A value is trying to be set on a copy of a slice from a DataFrame\n",
      "\n",
      "See the caveats in the documentation: https://pandas.pydata.org/pandas-docs/stable/user_guide/indexing.html#returning-a-view-versus-a-copy\n",
      "  self._setitem_single_block(indexer, value, name)\n"
     ]
    },
    {
     "data": {
      "text/html": [
       "<div>\n",
       "<style scoped>\n",
       "    .dataframe tbody tr th:only-of-type {\n",
       "        vertical-align: middle;\n",
       "    }\n",
       "\n",
       "    .dataframe tbody tr th {\n",
       "        vertical-align: top;\n",
       "    }\n",
       "\n",
       "    .dataframe thead th {\n",
       "        text-align: right;\n",
       "    }\n",
       "</style>\n",
       "<table border=\"1\" class=\"dataframe\">\n",
       "  <thead>\n",
       "    <tr style=\"text-align: right;\">\n",
       "      <th></th>\n",
       "      <th>Date</th>\n",
       "      <th>User</th>\n",
       "      <th>Tweet</th>\n",
       "      <th>pos</th>\n",
       "      <th>neg</th>\n",
       "      <th>neu</th>\n",
       "      <th>FinalEmotion</th>\n",
       "    </tr>\n",
       "  </thead>\n",
       "  <tbody>\n",
       "    <tr>\n",
       "      <th>0</th>\n",
       "      <td>2019-05-18 19:49:52+00:00</td>\n",
       "      <td>Sunnysweet16</td>\n",
       "      <td>Wonder academic journalist asks INC India Rahu...</td>\n",
       "      <td>0.093</td>\n",
       "      <td>0.138</td>\n",
       "      <td>0.769</td>\n",
       "      <td>neutral</td>\n",
       "    </tr>\n",
       "    <tr>\n",
       "      <th>1</th>\n",
       "      <td>2019-05-18 18:56:52+00:00</td>\n",
       "      <td>drnitinchaube</td>\n",
       "      <td>Congrats change australiavotes2019 ScottMorris...</td>\n",
       "      <td>0.152</td>\n",
       "      <td>0.000</td>\n",
       "      <td>0.848</td>\n",
       "      <td>neutral</td>\n",
       "    </tr>\n",
       "    <tr>\n",
       "      <th>2</th>\n",
       "      <td>2019-05-18 18:54:01+00:00</td>\n",
       "      <td>mrvivek07</td>\n",
       "      <td>Peopel Say “Govt Ne 70 Years Kya kiya” Unse pu...</td>\n",
       "      <td>0.000</td>\n",
       "      <td>0.000</td>\n",
       "      <td>1.000</td>\n",
       "      <td>neutral</td>\n",
       "    </tr>\n",
       "    <tr>\n",
       "      <th>3</th>\n",
       "      <td>2019-05-18 18:52:03+00:00</td>\n",
       "      <td>JosephPravinP</td>\n",
       "      <td>ajaymaken RahulGandhi And final touch Modi ji ...</td>\n",
       "      <td>0.318</td>\n",
       "      <td>0.000</td>\n",
       "      <td>0.682</td>\n",
       "      <td>neutral</td>\n",
       "    </tr>\n",
       "    <tr>\n",
       "      <th>4</th>\n",
       "      <td>2019-05-18 18:31:10+00:00</td>\n",
       "      <td>VandanaMegastar</td>\n",
       "      <td>LokSabhaElections2019 Anyone having mass backi...</td>\n",
       "      <td>0.083</td>\n",
       "      <td>0.088</td>\n",
       "      <td>0.828</td>\n",
       "      <td>neutral</td>\n",
       "    </tr>\n",
       "    <tr>\n",
       "      <th>...</th>\n",
       "      <td>...</td>\n",
       "      <td>...</td>\n",
       "      <td>...</td>\n",
       "      <td>...</td>\n",
       "      <td>...</td>\n",
       "      <td>...</td>\n",
       "      <td>...</td>\n",
       "    </tr>\n",
       "    <tr>\n",
       "      <th>14143</th>\n",
       "      <td>2019-03-23 04:53:54+00:00</td>\n",
       "      <td>SunjayJK</td>\n",
       "      <td>quizzicalguy In LokSabhaElections2019 India Ec...</td>\n",
       "      <td>0.194</td>\n",
       "      <td>0.000</td>\n",
       "      <td>0.806</td>\n",
       "      <td>neutral</td>\n",
       "    </tr>\n",
       "    <tr>\n",
       "      <th>14144</th>\n",
       "      <td>2019-03-17 08:53:28+00:00</td>\n",
       "      <td>SunjayJK</td>\n",
       "      <td>AnumaVidisha RahulGandhi ArvindKejriwal Spokes...</td>\n",
       "      <td>0.196</td>\n",
       "      <td>0.068</td>\n",
       "      <td>0.737</td>\n",
       "      <td>neutral</td>\n",
       "    </tr>\n",
       "    <tr>\n",
       "      <th>14145</th>\n",
       "      <td>2019-03-06 10:20:09+00:00</td>\n",
       "      <td>RAMANKAIRA</td>\n",
       "      <td>sherryontopp Early morning political detailed ...</td>\n",
       "      <td>0.097</td>\n",
       "      <td>0.000</td>\n",
       "      <td>0.903</td>\n",
       "      <td>neutral</td>\n",
       "    </tr>\n",
       "    <tr>\n",
       "      <th>14146</th>\n",
       "      <td>2019-03-06 10:18:02+00:00</td>\n",
       "      <td>RAMANKAIRA</td>\n",
       "      <td>mayankgandhi04 mallesh2004 Early morning polit...</td>\n",
       "      <td>0.094</td>\n",
       "      <td>0.000</td>\n",
       "      <td>0.906</td>\n",
       "      <td>neutral</td>\n",
       "    </tr>\n",
       "    <tr>\n",
       "      <th>14147</th>\n",
       "      <td>2019-03-06 10:11:43+00:00</td>\n",
       "      <td>RAMANKAIRA</td>\n",
       "      <td>DrKumarVishwas Early morning political detaile...</td>\n",
       "      <td>0.097</td>\n",
       "      <td>0.000</td>\n",
       "      <td>0.903</td>\n",
       "      <td>neutral</td>\n",
       "    </tr>\n",
       "  </tbody>\n",
       "</table>\n",
       "<p>14148 rows × 7 columns</p>\n",
       "</div>"
      ],
      "text/plain": [
       "                            Date             User  \\\n",
       "0      2019-05-18 19:49:52+00:00     Sunnysweet16   \n",
       "1      2019-05-18 18:56:52+00:00    drnitinchaube   \n",
       "2      2019-05-18 18:54:01+00:00        mrvivek07   \n",
       "3      2019-05-18 18:52:03+00:00    JosephPravinP   \n",
       "4      2019-05-18 18:31:10+00:00  VandanaMegastar   \n",
       "...                          ...              ...   \n",
       "14143  2019-03-23 04:53:54+00:00         SunjayJK   \n",
       "14144  2019-03-17 08:53:28+00:00         SunjayJK   \n",
       "14145  2019-03-06 10:20:09+00:00       RAMANKAIRA   \n",
       "14146  2019-03-06 10:18:02+00:00       RAMANKAIRA   \n",
       "14147  2019-03-06 10:11:43+00:00       RAMANKAIRA   \n",
       "\n",
       "                                                   Tweet    pos    neg    neu  \\\n",
       "0      Wonder academic journalist asks INC India Rahu...  0.093  0.138  0.769   \n",
       "1      Congrats change australiavotes2019 ScottMorris...  0.152  0.000  0.848   \n",
       "2      Peopel Say “Govt Ne 70 Years Kya kiya” Unse pu...  0.000  0.000  1.000   \n",
       "3      ajaymaken RahulGandhi And final touch Modi ji ...  0.318  0.000  0.682   \n",
       "4      LokSabhaElections2019 Anyone having mass backi...  0.083  0.088  0.828   \n",
       "...                                                  ...    ...    ...    ...   \n",
       "14143  quizzicalguy In LokSabhaElections2019 India Ec...  0.194  0.000  0.806   \n",
       "14144  AnumaVidisha RahulGandhi ArvindKejriwal Spokes...  0.196  0.068  0.737   \n",
       "14145  sherryontopp Early morning political detailed ...  0.097  0.000  0.903   \n",
       "14146  mayankgandhi04 mallesh2004 Early morning polit...  0.094  0.000  0.906   \n",
       "14147  DrKumarVishwas Early morning political detaile...  0.097  0.000  0.903   \n",
       "\n",
       "      FinalEmotion  \n",
       "0          neutral  \n",
       "1          neutral  \n",
       "2          neutral  \n",
       "3          neutral  \n",
       "4          neutral  \n",
       "...            ...  \n",
       "14143      neutral  \n",
       "14144      neutral  \n",
       "14145      neutral  \n",
       "14146      neutral  \n",
       "14147      neutral  \n",
       "\n",
       "[14148 rows x 7 columns]"
      ]
     },
     "execution_count": 17,
     "metadata": {},
     "output_type": "execute_result"
    }
   ],
   "source": [
    "emotion=[]\n",
    "for i in range(0,14148):\n",
    "    emotion.append(max(rahul_df['pos'][i],rahul_df['neu'][i],rahul_df['neg'][i]))\n",
    "\n",
    "rahul_df['FinalEmotion']=emotion\n",
    "\n",
    "\"\"\"\n",
    " Traversing through the polarity scores for each tweet and\n",
    " assigning the Final Emotion as per the highest score among positive, negative, neutral\n",
    "    \"\"\";\n",
    "for i in range(0,14148):\n",
    "    if rahul_df['FinalEmotion'][i]==rahul_df['pos'][i]:\n",
    "        rahul_df['FinalEmotion'][i]='positive'\n",
    "    elif rahul_df['FinalEmotion'][i]==rahul_df['neg'][i]:\n",
    "        rahul_df['FinalEmotion'][i]='negative'\n",
    "    elif rahul_df['FinalEmotion'][i]==rahul_df['neu'][i]:\n",
    "        rahul_df['FinalEmotion'][i]='neutral'\n",
    "rahul_df"
   ]
  },
  {
   "cell_type": "markdown",
   "metadata": {},
   "source": [
    "### Total different emotion count"
   ]
  },
  {
   "cell_type": "code",
   "execution_count": 18,
   "metadata": {
    "execution": {
     "iopub.execute_input": "2023-03-30T13:49:30.505459Z",
     "iopub.status.busy": "2023-03-30T13:49:30.504747Z",
     "iopub.status.idle": "2023-03-30T13:49:30.518549Z",
     "shell.execute_reply": "2023-03-30T13:49:30.517387Z",
     "shell.execute_reply.started": "2023-03-30T13:49:30.505416Z"
    },
    "id": "PXMskuPzrYeX",
    "outputId": "9f8d4394-33d2-4a1d-8224-4db95d3f1452"
   },
   "outputs": [
    {
     "data": {
      "text/plain": [
       "neutral     13817\n",
       "positive      225\n",
       "negative      106\n",
       "Name: FinalEmotion, dtype: int64"
      ]
     },
     "execution_count": 18,
     "metadata": {},
     "output_type": "execute_result"
    }
   ],
   "source": [
    "rahul_df['FinalEmotion'].value_counts()"
   ]
  },
  {
   "cell_type": "code",
   "execution_count": 19,
   "metadata": {
    "execution": {
     "iopub.execute_input": "2023-03-30T13:49:30.522309Z",
     "iopub.status.busy": "2023-03-30T13:49:30.522000Z",
     "iopub.status.idle": "2023-03-30T13:49:30.759563Z",
     "shell.execute_reply": "2023-03-30T13:49:30.758581Z",
     "shell.execute_reply.started": "2023-03-30T13:49:30.522280Z"
    }
   },
   "outputs": [
    {
     "data": {
      "image/png": "[encoded data removed]",
      "text/plain": [
       "<Figure size 1080x720 with 1 Axes>"
      ]
     },
     "metadata": {},
     "output_type": "display_data"
    }
   ],
   "source": [
    "# Plot visualizing the counts of emotions of all the tweets\n",
    "plt.figure(figsize=(15,10))\n",
    "sns.set_style(\"darkgrid\")\n",
    "ax = sns.countplot(x=rahul_df['FinalEmotion'],palette=['#36454F','#89CFF0'])\n",
    "ax.set_title('Count of Emotions of Tweets about Rahul Gandhi')\n",
    "plt.show()"
   ]
  },
  {
   "cell_type": "markdown",
   "metadata": {
    "id": "od37q7GMQsEG"
   },
   "source": [
    "<a id=\"h4\"></a>\n",
    "# <p style=\"padding:10px;border :black solid;background-color:lightblue;margin:0;color:blue;font-family:newtimeroman;font-size:150%;text-align:center;border-radius: 25px 50px;overflow:hidden;font-weight:500\">Flair Sentiment Analysis</p>"
   ]
  },
  {
   "cell_type": "code",
   "execution_count": null,
   "metadata": {
    "scrolled": true
   },
   "outputs": [],
   "source": [
    "!pip install flair\n",
    "from flair.models import TextClassifier\n",
    "from flair.data import Sentence\n",
    "sia = TextClassifier.load('en-sentiment')"
   ]
  },
  {
   "cell_type": "code",
   "execution_count": 21,
   "metadata": {
    "execution": {
     "iopub.execute_input": "2023-03-30T13:50:56.703626Z",
     "iopub.status.busy": "2023-03-30T13:50:56.702612Z",
     "iopub.status.idle": "2023-03-30T13:50:56.710382Z",
     "shell.execute_reply": "2023-03-30T13:50:56.709183Z",
     "shell.execute_reply.started": "2023-03-30T13:50:56.703581Z"
    }
   },
   "outputs": [],
   "source": [
    "\"\"\"\n",
    " Flair text classifier model code snippet to get the emotion of tweet\n",
    "    \"\"\";\n",
    "def flair_prediction(x):\n",
    "    sentence = Sentence(x)\n",
    "    sia.predict(sentence)\n",
    "    score = sentence.labels[0]\n",
    "    if \"POSITIVE\" in str(score):\n",
    "        return \"pos\"\n",
    "    elif \"NEGATIVE\" in str(score):\n",
    "        return \"neg\"\n",
    "    else:\n",
    "        return \"neu\""
   ]
  },
  {
   "cell_type": "code",
   "execution_count": 22,
   "metadata": {
    "execution": {
     "iopub.execute_input": "2023-03-30T13:50:56.712528Z",
     "iopub.status.busy": "2023-03-30T13:50:56.712155Z",
     "iopub.status.idle": "2023-03-30T13:50:56.740599Z",
     "shell.execute_reply": "2023-03-30T13:50:56.739739Z",
     "shell.execute_reply.started": "2023-03-30T13:50:56.712491Z"
    },
    "id": "oj6YT2FjQ_zs"
   },
   "outputs": [],
   "source": [
    "#Just to clear the previous sentiments by vaderSentiment, we need to drop that columns for using Flair on it\n",
    "rahul_df.drop(['pos', 'neg', 'neu', 'FinalEmotion'],axis=1,inplace=True)\n",
    "modi_df.drop(['pos', 'neg', 'neu', 'FinalEmotion'],axis=1,inplace=True)"
   ]
  },
  {
   "cell_type": "code",
   "execution_count": 23,
   "metadata": {
    "execution": {
     "iopub.execute_input": "2023-03-30T13:50:56.742466Z",
     "iopub.status.busy": "2023-03-30T13:50:56.742106Z",
     "iopub.status.idle": "2023-03-30T13:50:56.755464Z",
     "shell.execute_reply": "2023-03-30T13:50:56.754538Z",
     "shell.execute_reply.started": "2023-03-30T13:50:56.742430Z"
    },
    "id": "ZeAICMtKQxt0",
    "outputId": "9664cda8-a76e-477c-bd84-f5dc29f1c33f"
   },
   "outputs": [
    {
     "data": {
      "text/html": [
       "<div>\n",
       "<style scoped>\n",
       "    .dataframe tbody tr th:only-of-type {\n",
       "        vertical-align: middle;\n",
       "    }\n",
       "\n",
       "    .dataframe tbody tr th {\n",
       "        vertical-align: top;\n",
       "    }\n",
       "\n",
       "    .dataframe thead th {\n",
       "        text-align: right;\n",
       "    }\n",
       "</style>\n",
       "<table border=\"1\" class=\"dataframe\">\n",
       "  <thead>\n",
       "    <tr style=\"text-align: right;\">\n",
       "      <th></th>\n",
       "      <th>Date</th>\n",
       "      <th>User</th>\n",
       "      <th>Tweet</th>\n",
       "    </tr>\n",
       "  </thead>\n",
       "  <tbody>\n",
       "    <tr>\n",
       "      <th>0</th>\n",
       "      <td>2019-05-18 19:49:52+00:00</td>\n",
       "      <td>Sunnysweet16</td>\n",
       "      <td>Wonder academic journalist asks INC India Rahu...</td>\n",
       "    </tr>\n",
       "    <tr>\n",
       "      <th>1</th>\n",
       "      <td>2019-05-18 18:56:52+00:00</td>\n",
       "      <td>drnitinchaube</td>\n",
       "      <td>Congrats change australiavotes2019 ScottMorris...</td>\n",
       "    </tr>\n",
       "    <tr>\n",
       "      <th>2</th>\n",
       "      <td>2019-05-18 18:54:01+00:00</td>\n",
       "      <td>mrvivek07</td>\n",
       "      <td>Peopel Say “Govt Ne 70 Years Kya kiya” Unse pu...</td>\n",
       "    </tr>\n",
       "    <tr>\n",
       "      <th>3</th>\n",
       "      <td>2019-05-18 18:52:03+00:00</td>\n",
       "      <td>JosephPravinP</td>\n",
       "      <td>ajaymaken RahulGandhi And final touch Modi ji ...</td>\n",
       "    </tr>\n",
       "    <tr>\n",
       "      <th>4</th>\n",
       "      <td>2019-05-18 18:31:10+00:00</td>\n",
       "      <td>VandanaMegastar</td>\n",
       "      <td>LokSabhaElections2019 Anyone having mass backi...</td>\n",
       "    </tr>\n",
       "    <tr>\n",
       "      <th>...</th>\n",
       "      <td>...</td>\n",
       "      <td>...</td>\n",
       "      <td>...</td>\n",
       "    </tr>\n",
       "    <tr>\n",
       "      <th>14143</th>\n",
       "      <td>2019-03-23 04:53:54+00:00</td>\n",
       "      <td>SunjayJK</td>\n",
       "      <td>quizzicalguy In LokSabhaElections2019 India Ec...</td>\n",
       "    </tr>\n",
       "    <tr>\n",
       "      <th>14144</th>\n",
       "      <td>2019-03-17 08:53:28+00:00</td>\n",
       "      <td>SunjayJK</td>\n",
       "      <td>AnumaVidisha RahulGandhi ArvindKejriwal Spokes...</td>\n",
       "    </tr>\n",
       "    <tr>\n",
       "      <th>14145</th>\n",
       "      <td>2019-03-06 10:20:09+00:00</td>\n",
       "      <td>RAMANKAIRA</td>\n",
       "      <td>sherryontopp Early morning political detailed ...</td>\n",
       "    </tr>\n",
       "    <tr>\n",
       "      <th>14146</th>\n",
       "      <td>2019-03-06 10:18:02+00:00</td>\n",
       "      <td>RAMANKAIRA</td>\n",
       "      <td>mayankgandhi04 mallesh2004 Early morning polit...</td>\n",
       "    </tr>\n",
       "    <tr>\n",
       "      <th>14147</th>\n",
       "      <td>2019-03-06 10:11:43+00:00</td>\n",
       "      <td>RAMANKAIRA</td>\n",
       "      <td>DrKumarVishwas Early morning political detaile...</td>\n",
       "    </tr>\n",
       "  </tbody>\n",
       "</table>\n",
       "<p>14148 rows × 3 columns</p>\n",
       "</div>"
      ],
      "text/plain": [
       "                            Date             User  \\\n",
       "0      2019-05-18 19:49:52+00:00     Sunnysweet16   \n",
       "1      2019-05-18 18:56:52+00:00    drnitinchaube   \n",
       "2      2019-05-18 18:54:01+00:00        mrvivek07   \n",
       "3      2019-05-18 18:52:03+00:00    JosephPravinP   \n",
       "4      2019-05-18 18:31:10+00:00  VandanaMegastar   \n",
       "...                          ...              ...   \n",
       "14143  2019-03-23 04:53:54+00:00         SunjayJK   \n",
       "14144  2019-03-17 08:53:28+00:00         SunjayJK   \n",
       "14145  2019-03-06 10:20:09+00:00       RAMANKAIRA   \n",
       "14146  2019-03-06 10:18:02+00:00       RAMANKAIRA   \n",
       "14147  2019-03-06 10:11:43+00:00       RAMANKAIRA   \n",
       "\n",
       "                                                   Tweet  \n",
       "0      Wonder academic journalist asks INC India Rahu...  \n",
       "1      Congrats change australiavotes2019 ScottMorris...  \n",
       "2      Peopel Say “Govt Ne 70 Years Kya kiya” Unse pu...  \n",
       "3      ajaymaken RahulGandhi And final touch Modi ji ...  \n",
       "4      LokSabhaElections2019 Anyone having mass backi...  \n",
       "...                                                  ...  \n",
       "14143  quizzicalguy In LokSabhaElections2019 India Ec...  \n",
       "14144  AnumaVidisha RahulGandhi ArvindKejriwal Spokes...  \n",
       "14145  sherryontopp Early morning political detailed ...  \n",
       "14146  mayankgandhi04 mallesh2004 Early morning polit...  \n",
       "14147  DrKumarVishwas Early morning political detaile...  \n",
       "\n",
       "[14148 rows x 3 columns]"
      ]
     },
     "execution_count": 23,
     "metadata": {},
     "output_type": "execute_result"
    }
   ],
   "source": [
    "rahul_df"
   ]
  },
  {
   "cell_type": "code",
   "execution_count": 24,
   "metadata": {
    "execution": {
     "iopub.execute_input": "2023-03-30T13:50:56.757615Z",
     "iopub.status.busy": "2023-03-30T13:50:56.757011Z",
     "iopub.status.idle": "2023-03-30T13:54:28.722988Z",
     "shell.execute_reply": "2023-03-30T13:54:28.721977Z",
     "shell.execute_reply.started": "2023-03-30T13:50:56.757578Z"
    },
    "id": "Ijbys4RyDfTM"
   },
   "outputs": [],
   "source": [
    "# Applying flair on both the dataframes\n",
    "rahul_df['Emotion']=rahul_df['Tweet'].apply(flair_prediction)\n",
    "modi_df['Emotion']=modi_df['Tweet'].apply(flair_prediction)"
   ]
  },
  {
   "cell_type": "code",
   "execution_count": 25,
   "metadata": {
    "execution": {
     "iopub.execute_input": "2023-03-30T13:54:28.725160Z",
     "iopub.status.busy": "2023-03-30T13:54:28.724517Z",
     "iopub.status.idle": "2023-03-30T13:54:28.954548Z",
     "shell.execute_reply": "2023-03-30T13:54:28.953598Z",
     "shell.execute_reply.started": "2023-03-30T13:54:28.725124Z"
    },
    "id": "lvSMvQv3H_4B",
    "outputId": "0e1836f7-d125-480e-cab7-ea61322dbdc8"
   },
   "outputs": [
    {
     "data": {
      "text/plain": [
       "Text(0.5, 1.0, 'Sentiments scores of Tweets about Modi')"
      ]
     },
     "execution_count": 25,
     "metadata": {},
     "output_type": "execute_result"
    },
    {
     "data": {
      "image/png": "[encoded data removed]",
      "text/plain": [
       "<Figure size 1080x720 with 1 Axes>"
      ]
     },
     "metadata": {},
     "output_type": "display_data"
    }
   ],
   "source": [
    "# Sentiments for Narendra Modi\n",
    "plt.figure(figsize=(15,10))\n",
    "sns.set_style(\"darkgrid\")\n",
    "ax = sns.countplot(x=modi_df['Emotion'],palette=['#36454F','#89CFF0'])\n",
    "ax.set_title('Sentiments scores of Tweets about Modi')"
   ]
  },
  {
   "cell_type": "code",
   "execution_count": 26,
   "metadata": {
    "execution": {
     "iopub.execute_input": "2023-03-30T13:54:28.956968Z",
     "iopub.status.busy": "2023-03-30T13:54:28.956303Z",
     "iopub.status.idle": "2023-03-30T13:54:29.166584Z",
     "shell.execute_reply": "2023-03-30T13:54:29.165678Z",
     "shell.execute_reply.started": "2023-03-30T13:54:28.956931Z"
    },
    "id": "NLvtPUA3H_1p",
    "outputId": "73d07bbd-c764-47c4-e4c3-eca344e8a267"
   },
   "outputs": [
    {
     "data": {
      "text/plain": [
       "Text(0.5, 1.0, 'Sentiments scores of Tweets about Rahul Gandhi')"
      ]
     },
     "execution_count": 26,
     "metadata": {},
     "output_type": "execute_result"
    },
    {
     "data": {
      "image/png": "[encoded data removed]",
      "text/plain": [
       "<Figure size 1080x720 with 1 Axes>"
      ]
     },
     "metadata": {},
     "output_type": "display_data"
    }
   ],
   "source": [
    "# Sentiments for Rahul Gandhi\n",
    "plt.figure(figsize=(15,10))\n",
    "sns.set_style(\"darkgrid\")\n",
    "ax = sns.countplot(x=rahul_df['Emotion'],palette=['#89CFF0','#36454F'])\n",
    "ax.set_title('Sentiments scores of Tweets about Rahul Gandhi')"
   ]
  },
  {
   "cell_type": "markdown",
   "metadata": {
    "id": "AnEDq6H2pcrt"
   },
   "source": [
    "<a id=\"h5\"></a>\n",
    "# <p style=\"padding:10px;border :black solid;background-color:lightblue;margin:0;color:blue;font-family:newtimeroman;font-size:150%;text-align:center;border-radius: 25px 50px;overflow:hidden;font-weight:500\">Tweets Polarity visualization as timeseries</p>"
   ]
  },
  {
   "cell_type": "markdown",
   "metadata": {},
   "source": [
    "<div style=\"border-radius:10px;\n",
    "        border :#0A0104 solid;\n",
    "        padding: 15px;\n",
    "        background-color:lightgreen;\n",
    "       font-size:110%;\n",
    "        text-align: left\">\n",
    " <span style=\"color:'blue' ;\"></span>\n",
    "    Lets do the timeseries analysis<br>\n",
    "    As we are given a timestamp of the tweets, lets see the polarity change of tweets with time"
   ]
  },
  {
   "cell_type": "code",
   "execution_count": 27,
   "metadata": {
    "execution": {
     "iopub.execute_input": "2023-03-30T13:54:29.168678Z",
     "iopub.status.busy": "2023-03-30T13:54:29.168241Z",
     "iopub.status.idle": "2023-03-30T13:54:29.182092Z",
     "shell.execute_reply": "2023-03-30T13:54:29.181076Z",
     "shell.execute_reply.started": "2023-03-30T13:54:29.168642Z"
    },
    "id": "iiPz019opbpz",
    "outputId": "c0efe5c2-d4be-46e7-8c09-fba25fbe5d45"
   },
   "outputs": [
    {
     "data": {
      "text/html": [
       "<div>\n",
       "<style scoped>\n",
       "    .dataframe tbody tr th:only-of-type {\n",
       "        vertical-align: middle;\n",
       "    }\n",
       "\n",
       "    .dataframe tbody tr th {\n",
       "        vertical-align: top;\n",
       "    }\n",
       "\n",
       "    .dataframe thead th {\n",
       "        text-align: right;\n",
       "    }\n",
       "</style>\n",
       "<table border=\"1\" class=\"dataframe\">\n",
       "  <thead>\n",
       "    <tr style=\"text-align: right;\">\n",
       "      <th></th>\n",
       "      <th>Date</th>\n",
       "      <th>User</th>\n",
       "      <th>Tweet</th>\n",
       "    </tr>\n",
       "  </thead>\n",
       "  <tbody>\n",
       "    <tr>\n",
       "      <th>0</th>\n",
       "      <td>2019-05-18 23:50:47+00:00</td>\n",
       "      <td>advosushildixit</td>\n",
       "      <td>@anjanaomkashyap I am seeing you as future #bj...</td>\n",
       "    </tr>\n",
       "    <tr>\n",
       "      <th>1</th>\n",
       "      <td>2019-05-18 23:20:00+00:00</td>\n",
       "      <td>airnewsalerts</td>\n",
       "      <td>Trinamool Congress Sitting MP Abhishek Banerje...</td>\n",
       "    </tr>\n",
       "    <tr>\n",
       "      <th>2</th>\n",
       "      <td>2019-05-18 23:00:03+00:00</td>\n",
       "      <td>jiaeur</td>\n",
       "      <td>#LokSabhaElections2019 \\n23rd May 2019 will re...</td>\n",
       "    </tr>\n",
       "    <tr>\n",
       "      <th>3</th>\n",
       "      <td>2019-05-18 22:53:54+00:00</td>\n",
       "      <td>PVenkatGandhi</td>\n",
       "      <td>#LokSabhaElections2019 \\n23rd May 2019 will re...</td>\n",
       "    </tr>\n",
       "    <tr>\n",
       "      <th>4</th>\n",
       "      <td>2019-05-18 22:20:48+00:00</td>\n",
       "      <td>TheNirbhay1</td>\n",
       "      <td>PM Modi creates a new record of being the only...</td>\n",
       "    </tr>\n",
       "    <tr>\n",
       "      <th>...</th>\n",
       "      <td>...</td>\n",
       "      <td>...</td>\n",
       "      <td>...</td>\n",
       "    </tr>\n",
       "    <tr>\n",
       "      <th>142561</th>\n",
       "      <td>2019-03-06 10:18:02+00:00</td>\n",
       "      <td>RAMANKAIRA</td>\n",
       "      <td>@mayankgandhi04 @mallesh_2004 Early morning #p...</td>\n",
       "    </tr>\n",
       "    <tr>\n",
       "      <th>142562</th>\n",
       "      <td>2019-03-06 10:11:43+00:00</td>\n",
       "      <td>RAMANKAIRA</td>\n",
       "      <td>@DrKumarVishwas Early morning #political move ...</td>\n",
       "    </tr>\n",
       "    <tr>\n",
       "      <th>142563</th>\n",
       "      <td>2019-01-24 12:57:48+00:00</td>\n",
       "      <td>thota_J</td>\n",
       "      <td>CVoter predicts seat share for upcoming #LokSa...</td>\n",
       "    </tr>\n",
       "    <tr>\n",
       "      <th>142564</th>\n",
       "      <td>2019-01-24 12:48:37+00:00</td>\n",
       "      <td>thota_J</td>\n",
       "      <td>CVoter predicts seat share for upcoming #LokSa...</td>\n",
       "    </tr>\n",
       "    <tr>\n",
       "      <th>142565</th>\n",
       "      <td>2019-01-24 12:47:55+00:00</td>\n",
       "      <td>thota_J</td>\n",
       "      <td>CVoter predicts seat share for upcoming #LokSa...</td>\n",
       "    </tr>\n",
       "  </tbody>\n",
       "</table>\n",
       "<p>142566 rows × 3 columns</p>\n",
       "</div>"
      ],
      "text/plain": [
       "                             Date             User  \\\n",
       "0       2019-05-18 23:50:47+00:00  advosushildixit   \n",
       "1       2019-05-18 23:20:00+00:00    airnewsalerts   \n",
       "2       2019-05-18 23:00:03+00:00           jiaeur   \n",
       "3       2019-05-18 22:53:54+00:00    PVenkatGandhi   \n",
       "4       2019-05-18 22:20:48+00:00      TheNirbhay1   \n",
       "...                           ...              ...   \n",
       "142561  2019-03-06 10:18:02+00:00       RAMANKAIRA   \n",
       "142562  2019-03-06 10:11:43+00:00       RAMANKAIRA   \n",
       "142563  2019-01-24 12:57:48+00:00          thota_J   \n",
       "142564  2019-01-24 12:48:37+00:00          thota_J   \n",
       "142565  2019-01-24 12:47:55+00:00          thota_J   \n",
       "\n",
       "                                                    Tweet  \n",
       "0       @anjanaomkashyap I am seeing you as future #bj...  \n",
       "1       Trinamool Congress Sitting MP Abhishek Banerje...  \n",
       "2       #LokSabhaElections2019 \\n23rd May 2019 will re...  \n",
       "3       #LokSabhaElections2019 \\n23rd May 2019 will re...  \n",
       "4       PM Modi creates a new record of being the only...  \n",
       "...                                                   ...  \n",
       "142561  @mayankgandhi04 @mallesh_2004 Early morning #p...  \n",
       "142562  @DrKumarVishwas Early morning #political move ...  \n",
       "142563  CVoter predicts seat share for upcoming #LokSa...  \n",
       "142564  CVoter predicts seat share for upcoming #LokSa...  \n",
       "142565  CVoter predicts seat share for upcoming #LokSa...  \n",
       "\n",
       "[142566 rows x 3 columns]"
      ]
     },
     "execution_count": 27,
     "metadata": {},
     "output_type": "execute_result"
    }
   ],
   "source": [
    "# Let's load the original dataset\n",
    "df"
   ]
  },
  {
   "cell_type": "code",
   "execution_count": 28,
   "metadata": {
    "execution": {
     "iopub.execute_input": "2023-03-30T13:54:29.189029Z",
     "iopub.status.busy": "2023-03-30T13:54:29.188471Z",
     "iopub.status.idle": "2023-03-30T13:54:29.194786Z",
     "shell.execute_reply": "2023-03-30T13:54:29.193849Z",
     "shell.execute_reply.started": "2023-03-30T13:54:29.189001Z"
    },
    "id": "LVuPnIORuIIB"
   },
   "outputs": [],
   "source": [
    "# Keywords mentioning Modi and Rahul respectively\n",
    "NaMo_ref = [\"Modi\",\"PM\",\"modi\", \"#PMModi\",\"modi ji\", \"narendra modi\", \"@narendramodi\",\"#Vote4Modi\"]\n",
    "RaGa_ref = [\"rahul\", \"Rahul\",\"RahulGandhi\", \"gandhi\",\"@RahulGandhi\",\"Gandhi\",\"#Vote4Rahul\",\"#Vote4Gandhi\",\"#Vote4RahulGandhi\"]"
   ]
  },
  {
   "cell_type": "code",
   "execution_count": 29,
   "metadata": {
    "execution": {
     "iopub.execute_input": "2023-03-30T13:54:29.197066Z",
     "iopub.status.busy": "2023-03-30T13:54:29.196050Z",
     "iopub.status.idle": "2023-03-30T13:54:30.092484Z",
     "shell.execute_reply": "2023-03-30T13:54:30.091551Z",
     "shell.execute_reply.started": "2023-03-30T13:54:29.197031Z"
    },
    "id": "ZfLkvVpeuJwo",
    "outputId": "9365338e-4be4-4d57-db93-911d90193206"
   },
   "outputs": [
    {
     "data": {
      "text/html": [
       "<div>\n",
       "<style scoped>\n",
       "    .dataframe tbody tr th:only-of-type {\n",
       "        vertical-align: middle;\n",
       "    }\n",
       "\n",
       "    .dataframe tbody tr th {\n",
       "        vertical-align: top;\n",
       "    }\n",
       "\n",
       "    .dataframe thead th {\n",
       "        text-align: right;\n",
       "    }\n",
       "</style>\n",
       "<table border=\"1\" class=\"dataframe\">\n",
       "  <thead>\n",
       "    <tr style=\"text-align: right;\">\n",
       "      <th></th>\n",
       "      <th>Date</th>\n",
       "      <th>User</th>\n",
       "      <th>Tweet</th>\n",
       "      <th>NaModi</th>\n",
       "      <th>RaGandhi</th>\n",
       "    </tr>\n",
       "  </thead>\n",
       "  <tbody>\n",
       "    <tr>\n",
       "      <th>0</th>\n",
       "      <td>2019-05-18 23:50:47+00:00</td>\n",
       "      <td>advosushildixit</td>\n",
       "      <td>@anjanaomkashyap I am seeing you as future #bj...</td>\n",
       "      <td>1</td>\n",
       "      <td>0</td>\n",
       "    </tr>\n",
       "    <tr>\n",
       "      <th>1</th>\n",
       "      <td>2019-05-18 23:20:00+00:00</td>\n",
       "      <td>airnewsalerts</td>\n",
       "      <td>Trinamool Congress Sitting MP Abhishek Banerje...</td>\n",
       "      <td>1</td>\n",
       "      <td>0</td>\n",
       "    </tr>\n",
       "    <tr>\n",
       "      <th>2</th>\n",
       "      <td>2019-05-18 23:00:03+00:00</td>\n",
       "      <td>jiaeur</td>\n",
       "      <td>#LokSabhaElections2019 \\n23rd May 2019 will re...</td>\n",
       "      <td>1</td>\n",
       "      <td>0</td>\n",
       "    </tr>\n",
       "    <tr>\n",
       "      <th>3</th>\n",
       "      <td>2019-05-18 22:53:54+00:00</td>\n",
       "      <td>PVenkatGandhi</td>\n",
       "      <td>#LokSabhaElections2019 \\n23rd May 2019 will re...</td>\n",
       "      <td>1</td>\n",
       "      <td>0</td>\n",
       "    </tr>\n",
       "    <tr>\n",
       "      <th>4</th>\n",
       "      <td>2019-05-18 22:20:48+00:00</td>\n",
       "      <td>TheNirbhay1</td>\n",
       "      <td>PM Modi creates a new record of being the only...</td>\n",
       "      <td>1</td>\n",
       "      <td>0</td>\n",
       "    </tr>\n",
       "    <tr>\n",
       "      <th>5</th>\n",
       "      <td>2019-05-18 22:16:26+00:00</td>\n",
       "      <td>ankitgarg20</td>\n",
       "      <td>My somewhat biased exit poll for India electio...</td>\n",
       "      <td>1</td>\n",
       "      <td>0</td>\n",
       "    </tr>\n",
       "    <tr>\n",
       "      <th>6</th>\n",
       "      <td>2019-05-18 21:51:56+00:00</td>\n",
       "      <td>pkm1999</td>\n",
       "      <td>@rupasubramanya Even assuming statistical erro...</td>\n",
       "      <td>0</td>\n",
       "      <td>0</td>\n",
       "    </tr>\n",
       "    <tr>\n",
       "      <th>7</th>\n",
       "      <td>2019-05-18 21:43:15+00:00</td>\n",
       "      <td>rohanmodi</td>\n",
       "      <td>@abhijitmajumder Small correction. Nobody gets...</td>\n",
       "      <td>1</td>\n",
       "      <td>0</td>\n",
       "    </tr>\n",
       "    <tr>\n",
       "      <th>8</th>\n",
       "      <td>2019-05-18 21:36:20+00:00</td>\n",
       "      <td>Jmend124</td>\n",
       "      <td>We still fucking dancing 🕺🏼 ♏️ #INC</td>\n",
       "      <td>0</td>\n",
       "      <td>0</td>\n",
       "    </tr>\n",
       "    <tr>\n",
       "      <th>9</th>\n",
       "      <td>2019-05-18 21:22:29+00:00</td>\n",
       "      <td>ShakeChilli</td>\n",
       "      <td>@abhijitmajumder Appointment of Successor! \\n\\...</td>\n",
       "      <td>1</td>\n",
       "      <td>0</td>\n",
       "    </tr>\n",
       "  </tbody>\n",
       "</table>\n",
       "</div>"
      ],
      "text/plain": [
       "                        Date             User  \\\n",
       "0  2019-05-18 23:50:47+00:00  advosushildixit   \n",
       "1  2019-05-18 23:20:00+00:00    airnewsalerts   \n",
       "2  2019-05-18 23:00:03+00:00           jiaeur   \n",
       "3  2019-05-18 22:53:54+00:00    PVenkatGandhi   \n",
       "4  2019-05-18 22:20:48+00:00      TheNirbhay1   \n",
       "5  2019-05-18 22:16:26+00:00      ankitgarg20   \n",
       "6  2019-05-18 21:51:56+00:00          pkm1999   \n",
       "7  2019-05-18 21:43:15+00:00        rohanmodi   \n",
       "8  2019-05-18 21:36:20+00:00         Jmend124   \n",
       "9  2019-05-18 21:22:29+00:00      ShakeChilli   \n",
       "\n",
       "                                               Tweet  NaModi  RaGandhi  \n",
       "0  @anjanaomkashyap I am seeing you as future #bj...       1         0  \n",
       "1  Trinamool Congress Sitting MP Abhishek Banerje...       1         0  \n",
       "2  #LokSabhaElections2019 \\n23rd May 2019 will re...       1         0  \n",
       "3  #LokSabhaElections2019 \\n23rd May 2019 will re...       1         0  \n",
       "4  PM Modi creates a new record of being the only...       1         0  \n",
       "5  My somewhat biased exit poll for India electio...       1         0  \n",
       "6  @rupasubramanya Even assuming statistical erro...       0         0  \n",
       "7  @abhijitmajumder Small correction. Nobody gets...       1         0  \n",
       "8                We still fucking dancing 🕺🏼 ♏️ #INC       0         0  \n",
       "9  @abhijitmajumder Appointment of Successor! \\n\\...       1         0  "
      ]
     },
     "execution_count": 29,
     "metadata": {},
     "output_type": "execute_result"
    }
   ],
   "source": [
    "# method to refer whether contains perticular words in tweets \n",
    "def identify_subject(tweet, refs):\n",
    "    flag = 0 \n",
    "    for ref in refs:\n",
    "        if tweet.find(ref) != -1:\n",
    "            flag = 1\n",
    "    return flag\n",
    "\n",
    "\"\"\"\n",
    " finding whether the tweet referred about Modi or Rahul\n",
    "    \"\"\";\n",
    "df['NaModi'] = df['Tweet'].apply(lambda x: identify_subject(x, NaMo_ref))\n",
    "df['RaGandhi'] = df['Tweet'].apply(lambda x: identify_subject(x, RaGa_ref))\n",
    "df.head(10)"
   ]
  },
  {
   "cell_type": "code",
   "execution_count": 30,
   "metadata": {
    "execution": {
     "iopub.execute_input": "2023-03-30T13:54:30.094731Z",
     "iopub.status.busy": "2023-03-30T13:54:30.094071Z",
     "iopub.status.idle": "2023-03-30T13:54:30.110162Z",
     "shell.execute_reply": "2023-03-30T13:54:30.109136Z",
     "shell.execute_reply.started": "2023-03-30T13:54:30.094677Z"
    },
    "id": "XiK_K3iQv1v9"
   },
   "outputs": [],
   "source": [
    "\"\"\"\n",
    " Filtering tweets mentioning either one of the pm candidate or both\n",
    " assigning 1 for NaModi and RaGandhi variables where there is a mention of them in the tweets \n",
    " which was already decide by looking the keywords in tweets\n",
    "    \"\"\";\n",
    "df=df[(df['NaModi']==1) | (df['RaGandhi']==1)]"
   ]
  },
  {
   "cell_type": "code",
   "execution_count": 31,
   "metadata": {
    "execution": {
     "iopub.execute_input": "2023-03-30T13:54:30.111980Z",
     "iopub.status.busy": "2023-03-30T13:54:30.111596Z",
     "iopub.status.idle": "2023-03-30T13:54:30.126722Z",
     "shell.execute_reply": "2023-03-30T13:54:30.125763Z",
     "shell.execute_reply.started": "2023-03-30T13:54:30.111936Z"
    },
    "id": "jR27darZuJ4M",
    "outputId": "2b2248b6-ef17-4646-d81c-c4aa2a5acefa"
   },
   "outputs": [
    {
     "data": {
      "text/html": [
       "<div>\n",
       "<style scoped>\n",
       "    .dataframe tbody tr th:only-of-type {\n",
       "        vertical-align: middle;\n",
       "    }\n",
       "\n",
       "    .dataframe tbody tr th {\n",
       "        vertical-align: top;\n",
       "    }\n",
       "\n",
       "    .dataframe thead th {\n",
       "        text-align: right;\n",
       "    }\n",
       "</style>\n",
       "<table border=\"1\" class=\"dataframe\">\n",
       "  <thead>\n",
       "    <tr style=\"text-align: right;\">\n",
       "      <th></th>\n",
       "      <th>Date</th>\n",
       "      <th>User</th>\n",
       "      <th>Tweet</th>\n",
       "      <th>NaModi</th>\n",
       "      <th>RaGandhi</th>\n",
       "    </tr>\n",
       "  </thead>\n",
       "  <tbody>\n",
       "    <tr>\n",
       "      <th>0</th>\n",
       "      <td>2019-05-18 23:50:47+00:00</td>\n",
       "      <td>advosushildixit</td>\n",
       "      <td>@anjanaomkashyap I am seeing you as future #bj...</td>\n",
       "      <td>1</td>\n",
       "      <td>0</td>\n",
       "    </tr>\n",
       "    <tr>\n",
       "      <th>1</th>\n",
       "      <td>2019-05-18 23:20:00+00:00</td>\n",
       "      <td>airnewsalerts</td>\n",
       "      <td>Trinamool Congress Sitting MP Abhishek Banerje...</td>\n",
       "      <td>1</td>\n",
       "      <td>0</td>\n",
       "    </tr>\n",
       "    <tr>\n",
       "      <th>2</th>\n",
       "      <td>2019-05-18 23:00:03+00:00</td>\n",
       "      <td>jiaeur</td>\n",
       "      <td>#LokSabhaElections2019 \\n23rd May 2019 will re...</td>\n",
       "      <td>1</td>\n",
       "      <td>0</td>\n",
       "    </tr>\n",
       "    <tr>\n",
       "      <th>3</th>\n",
       "      <td>2019-05-18 22:53:54+00:00</td>\n",
       "      <td>PVenkatGandhi</td>\n",
       "      <td>#LokSabhaElections2019 \\n23rd May 2019 will re...</td>\n",
       "      <td>1</td>\n",
       "      <td>0</td>\n",
       "    </tr>\n",
       "    <tr>\n",
       "      <th>4</th>\n",
       "      <td>2019-05-18 22:20:48+00:00</td>\n",
       "      <td>TheNirbhay1</td>\n",
       "      <td>PM Modi creates a new record of being the only...</td>\n",
       "      <td>1</td>\n",
       "      <td>0</td>\n",
       "    </tr>\n",
       "    <tr>\n",
       "      <th>...</th>\n",
       "      <td>...</td>\n",
       "      <td>...</td>\n",
       "      <td>...</td>\n",
       "      <td>...</td>\n",
       "      <td>...</td>\n",
       "    </tr>\n",
       "    <tr>\n",
       "      <th>142555</th>\n",
       "      <td>2019-03-19 15:37:34+00:00</td>\n",
       "      <td>parthajit0101</td>\n",
       "      <td>@timesofindia #ArvindKejriwal, #AAP sirji pls ...</td>\n",
       "      <td>1</td>\n",
       "      <td>0</td>\n",
       "    </tr>\n",
       "    <tr>\n",
       "      <th>142556</th>\n",
       "      <td>2019-03-17 08:53:28+00:00</td>\n",
       "      <td>SunjayJK</td>\n",
       "      <td>@AnumaVidisha @RahulGandhi @ArvindKejriwal whe...</td>\n",
       "      <td>1</td>\n",
       "      <td>1</td>\n",
       "    </tr>\n",
       "    <tr>\n",
       "      <th>142560</th>\n",
       "      <td>2019-03-06 10:20:09+00:00</td>\n",
       "      <td>RAMANKAIRA</td>\n",
       "      <td>@sherryontopp Early morning #political move af...</td>\n",
       "      <td>0</td>\n",
       "      <td>1</td>\n",
       "    </tr>\n",
       "    <tr>\n",
       "      <th>142561</th>\n",
       "      <td>2019-03-06 10:18:02+00:00</td>\n",
       "      <td>RAMANKAIRA</td>\n",
       "      <td>@mayankgandhi04 @mallesh_2004 Early morning #p...</td>\n",
       "      <td>0</td>\n",
       "      <td>1</td>\n",
       "    </tr>\n",
       "    <tr>\n",
       "      <th>142562</th>\n",
       "      <td>2019-03-06 10:11:43+00:00</td>\n",
       "      <td>RAMANKAIRA</td>\n",
       "      <td>@DrKumarVishwas Early morning #political move ...</td>\n",
       "      <td>0</td>\n",
       "      <td>1</td>\n",
       "    </tr>\n",
       "  </tbody>\n",
       "</table>\n",
       "<p>78059 rows × 5 columns</p>\n",
       "</div>"
      ],
      "text/plain": [
       "                             Date             User  \\\n",
       "0       2019-05-18 23:50:47+00:00  advosushildixit   \n",
       "1       2019-05-18 23:20:00+00:00    airnewsalerts   \n",
       "2       2019-05-18 23:00:03+00:00           jiaeur   \n",
       "3       2019-05-18 22:53:54+00:00    PVenkatGandhi   \n",
       "4       2019-05-18 22:20:48+00:00      TheNirbhay1   \n",
       "...                           ...              ...   \n",
       "142555  2019-03-19 15:37:34+00:00    parthajit0101   \n",
       "142556  2019-03-17 08:53:28+00:00         SunjayJK   \n",
       "142560  2019-03-06 10:20:09+00:00       RAMANKAIRA   \n",
       "142561  2019-03-06 10:18:02+00:00       RAMANKAIRA   \n",
       "142562  2019-03-06 10:11:43+00:00       RAMANKAIRA   \n",
       "\n",
       "                                                    Tweet  NaModi  RaGandhi  \n",
       "0       @anjanaomkashyap I am seeing you as future #bj...       1         0  \n",
       "1       Trinamool Congress Sitting MP Abhishek Banerje...       1         0  \n",
       "2       #LokSabhaElections2019 \\n23rd May 2019 will re...       1         0  \n",
       "3       #LokSabhaElections2019 \\n23rd May 2019 will re...       1         0  \n",
       "4       PM Modi creates a new record of being the only...       1         0  \n",
       "...                                                   ...     ...       ...  \n",
       "142555  @timesofindia #ArvindKejriwal, #AAP sirji pls ...       1         0  \n",
       "142556  @AnumaVidisha @RahulGandhi @ArvindKejriwal whe...       1         1  \n",
       "142560  @sherryontopp Early morning #political move af...       0         1  \n",
       "142561  @mayankgandhi04 @mallesh_2004 Early morning #p...       0         1  \n",
       "142562  @DrKumarVishwas Early morning #political move ...       0         1  \n",
       "\n",
       "[78059 rows x 5 columns]"
      ]
     },
     "execution_count": 31,
     "metadata": {},
     "output_type": "execute_result"
    }
   ],
   "source": [
    "df"
   ]
  },
  {
   "cell_type": "markdown",
   "metadata": {
    "id": "Z07JoNPZysmA"
   },
   "source": [
    "### <p style=\"padding:10px;border :black solid;background-color:yellow;margin:0;color:blue;font-family:newtimeroman;font-size:150%;text-align:center;border-radius: 25px 50px;overflow:hidden;font-weight:500\">Preprocessing</p>"
   ]
  },
  {
   "cell_type": "code",
   "execution_count": 32,
   "metadata": {
    "execution": {
     "iopub.execute_input": "2023-03-30T13:54:30.130111Z",
     "iopub.status.busy": "2023-03-30T13:54:30.128102Z",
     "iopub.status.idle": "2023-03-30T13:54:30.156749Z",
     "shell.execute_reply": "2023-03-30T13:54:30.155716Z",
     "shell.execute_reply.started": "2023-03-30T13:54:30.130082Z"
    },
    "id": "ld1nRNZ4y4X6",
    "outputId": "0e977f20-a623-4cd2-8645-5d6b74edc5fe"
   },
   "outputs": [
    {
     "data": {
      "text/html": [
       "<div>\n",
       "<style scoped>\n",
       "    .dataframe tbody tr th:only-of-type {\n",
       "        vertical-align: middle;\n",
       "    }\n",
       "\n",
       "    .dataframe tbody tr th {\n",
       "        vertical-align: top;\n",
       "    }\n",
       "\n",
       "    .dataframe thead th {\n",
       "        text-align: right;\n",
       "    }\n",
       "</style>\n",
       "<table border=\"1\" class=\"dataframe\">\n",
       "  <thead>\n",
       "    <tr style=\"text-align: right;\">\n",
       "      <th></th>\n",
       "      <th>Date</th>\n",
       "      <th>User</th>\n",
       "      <th>Tweet</th>\n",
       "      <th>NaModi</th>\n",
       "      <th>RaGandhi</th>\n",
       "    </tr>\n",
       "  </thead>\n",
       "  <tbody>\n",
       "    <tr>\n",
       "      <th>0</th>\n",
       "      <td>2019-05-18 23:50:47+00:00</td>\n",
       "      <td>advosushildixit</td>\n",
       "      <td>@anjanaomkashyap I am seeing you as future #bj...</td>\n",
       "      <td>1</td>\n",
       "      <td>0</td>\n",
       "    </tr>\n",
       "    <tr>\n",
       "      <th>1</th>\n",
       "      <td>2019-05-18 23:20:00+00:00</td>\n",
       "      <td>airnewsalerts</td>\n",
       "      <td>Trinamool Congress Sitting MP Abhishek Banerje...</td>\n",
       "      <td>1</td>\n",
       "      <td>0</td>\n",
       "    </tr>\n",
       "    <tr>\n",
       "      <th>2</th>\n",
       "      <td>2019-05-18 23:00:03+00:00</td>\n",
       "      <td>jiaeur</td>\n",
       "      <td>#LokSabhaElections2019 \\n23rd May 2019 will re...</td>\n",
       "      <td>1</td>\n",
       "      <td>0</td>\n",
       "    </tr>\n",
       "    <tr>\n",
       "      <th>3</th>\n",
       "      <td>2019-05-18 22:53:54+00:00</td>\n",
       "      <td>PVenkatGandhi</td>\n",
       "      <td>#LokSabhaElections2019 \\n23rd May 2019 will re...</td>\n",
       "      <td>1</td>\n",
       "      <td>0</td>\n",
       "    </tr>\n",
       "    <tr>\n",
       "      <th>4</th>\n",
       "      <td>2019-05-18 22:20:48+00:00</td>\n",
       "      <td>TheNirbhay1</td>\n",
       "      <td>PM Modi creates a new record of being the only...</td>\n",
       "      <td>1</td>\n",
       "      <td>0</td>\n",
       "    </tr>\n",
       "    <tr>\n",
       "      <th>...</th>\n",
       "      <td>...</td>\n",
       "      <td>...</td>\n",
       "      <td>...</td>\n",
       "      <td>...</td>\n",
       "      <td>...</td>\n",
       "    </tr>\n",
       "    <tr>\n",
       "      <th>78054</th>\n",
       "      <td>2019-03-19 15:37:34+00:00</td>\n",
       "      <td>parthajit0101</td>\n",
       "      <td>@timesofindia #ArvindKejriwal, #AAP sirji pls ...</td>\n",
       "      <td>1</td>\n",
       "      <td>0</td>\n",
       "    </tr>\n",
       "    <tr>\n",
       "      <th>78055</th>\n",
       "      <td>2019-03-17 08:53:28+00:00</td>\n",
       "      <td>SunjayJK</td>\n",
       "      <td>@AnumaVidisha @RahulGandhi @ArvindKejriwal whe...</td>\n",
       "      <td>1</td>\n",
       "      <td>1</td>\n",
       "    </tr>\n",
       "    <tr>\n",
       "      <th>78056</th>\n",
       "      <td>2019-03-06 10:20:09+00:00</td>\n",
       "      <td>RAMANKAIRA</td>\n",
       "      <td>@sherryontopp Early morning #political move af...</td>\n",
       "      <td>0</td>\n",
       "      <td>1</td>\n",
       "    </tr>\n",
       "    <tr>\n",
       "      <th>78057</th>\n",
       "      <td>2019-03-06 10:18:02+00:00</td>\n",
       "      <td>RAMANKAIRA</td>\n",
       "      <td>@mayankgandhi04 @mallesh_2004 Early morning #p...</td>\n",
       "      <td>0</td>\n",
       "      <td>1</td>\n",
       "    </tr>\n",
       "    <tr>\n",
       "      <th>78058</th>\n",
       "      <td>2019-03-06 10:11:43+00:00</td>\n",
       "      <td>RAMANKAIRA</td>\n",
       "      <td>@DrKumarVishwas Early morning #political move ...</td>\n",
       "      <td>0</td>\n",
       "      <td>1</td>\n",
       "    </tr>\n",
       "  </tbody>\n",
       "</table>\n",
       "<p>78059 rows × 5 columns</p>\n",
       "</div>"
      ],
      "text/plain": [
       "                            Date             User  \\\n",
       "0      2019-05-18 23:50:47+00:00  advosushildixit   \n",
       "1      2019-05-18 23:20:00+00:00    airnewsalerts   \n",
       "2      2019-05-18 23:00:03+00:00           jiaeur   \n",
       "3      2019-05-18 22:53:54+00:00    PVenkatGandhi   \n",
       "4      2019-05-18 22:20:48+00:00      TheNirbhay1   \n",
       "...                          ...              ...   \n",
       "78054  2019-03-19 15:37:34+00:00    parthajit0101   \n",
       "78055  2019-03-17 08:53:28+00:00         SunjayJK   \n",
       "78056  2019-03-06 10:20:09+00:00       RAMANKAIRA   \n",
       "78057  2019-03-06 10:18:02+00:00       RAMANKAIRA   \n",
       "78058  2019-03-06 10:11:43+00:00       RAMANKAIRA   \n",
       "\n",
       "                                                   Tweet  NaModi  RaGandhi  \n",
       "0      @anjanaomkashyap I am seeing you as future #bj...       1         0  \n",
       "1      Trinamool Congress Sitting MP Abhishek Banerje...       1         0  \n",
       "2      #LokSabhaElections2019 \\n23rd May 2019 will re...       1         0  \n",
       "3      #LokSabhaElections2019 \\n23rd May 2019 will re...       1         0  \n",
       "4      PM Modi creates a new record of being the only...       1         0  \n",
       "...                                                  ...     ...       ...  \n",
       "78054  @timesofindia #ArvindKejriwal, #AAP sirji pls ...       1         0  \n",
       "78055  @AnumaVidisha @RahulGandhi @ArvindKejriwal whe...       1         1  \n",
       "78056  @sherryontopp Early morning #political move af...       0         1  \n",
       "78057  @mayankgandhi04 @mallesh_2004 Early morning #p...       0         1  \n",
       "78058  @DrKumarVishwas Early morning #political move ...       0         1  \n",
       "\n",
       "[78059 rows x 5 columns]"
      ]
     },
     "execution_count": 32,
     "metadata": {},
     "output_type": "execute_result"
    }
   ],
   "source": [
    "df=df.reset_index()\n",
    "df.drop('index',axis=1,inplace=True)\n",
    "df"
   ]
  },
  {
   "cell_type": "code",
   "execution_count": null,
   "metadata": {
    "id": "vcs92ob8y4Up",
    "outputId": "ddb2303c-db50-4173-d7f6-4fe48cd7bd81"
   },
   "outputs": [],
   "source": [
    "# Import stopwords\n",
    "import nltk\n",
    "from nltk.corpus import stopwords\n",
    "\n",
    "# Import textblob\n",
    "from textblob import Word, TextBlob\n",
    "import nltk\n",
    "\n",
    "# Downloading imp libraries and packages\n",
    "nltk.download('omw-1.4')\n",
    "nltk.download('stopwords')\n",
    "nltk.download('wordnet')\n",
    "stop_words = stopwords.words('english')\n",
    "!python -m textblob.download_corpora"
   ]
  },
  {
   "cell_type": "code",
   "execution_count": 34,
   "metadata": {
    "execution": {
     "iopub.execute_input": "2023-03-30T13:54:33.676306Z",
     "iopub.status.busy": "2023-03-30T13:54:33.675988Z",
     "iopub.status.idle": "2023-03-30T13:54:50.431593Z",
     "shell.execute_reply": "2023-03-30T13:54:50.430035Z",
     "shell.execute_reply.started": "2023-03-30T13:54:33.676271Z"
    },
    "id": "zCFlplQj5BFb",
    "outputId": "bd98a125-0f8b-4a04-d807-31386734b0bc"
   },
   "outputs": [
    {
     "data": {
      "text/html": [
       "<div>\n",
       "<style scoped>\n",
       "    .dataframe tbody tr th:only-of-type {\n",
       "        vertical-align: middle;\n",
       "    }\n",
       "\n",
       "    .dataframe tbody tr th {\n",
       "        vertical-align: top;\n",
       "    }\n",
       "\n",
       "    .dataframe thead th {\n",
       "        text-align: right;\n",
       "    }\n",
       "</style>\n",
       "<table border=\"1\" class=\"dataframe\">\n",
       "  <thead>\n",
       "    <tr style=\"text-align: right;\">\n",
       "      <th></th>\n",
       "      <th>Date</th>\n",
       "      <th>User</th>\n",
       "      <th>Tweet</th>\n",
       "      <th>NaModi</th>\n",
       "      <th>RaGandhi</th>\n",
       "      <th>Processed Tweet</th>\n",
       "    </tr>\n",
       "  </thead>\n",
       "  <tbody>\n",
       "    <tr>\n",
       "      <th>0</th>\n",
       "      <td>2019-05-18 23:50:47+00:00</td>\n",
       "      <td>advosushildixit</td>\n",
       "      <td>@anjanaomkashyap I am seeing you as future #bj...</td>\n",
       "      <td>1</td>\n",
       "      <td>0</td>\n",
       "      <td>@anjanaomkashyap I seeing future #bjp spokespe...</td>\n",
       "    </tr>\n",
       "    <tr>\n",
       "      <th>1</th>\n",
       "      <td>2019-05-18 23:20:00+00:00</td>\n",
       "      <td>airnewsalerts</td>\n",
       "      <td>Trinamool Congress Sitting MP Abhishek Banerje...</td>\n",
       "      <td>1</td>\n",
       "      <td>0</td>\n",
       "      <td>Trinamool Congress Sitting MP Abhishek Banerje...</td>\n",
       "    </tr>\n",
       "    <tr>\n",
       "      <th>2</th>\n",
       "      <td>2019-05-18 23:00:03+00:00</td>\n",
       "      <td>jiaeur</td>\n",
       "      <td>#LokSabhaElections2019 \\n23rd May 2019 will re...</td>\n",
       "      <td>1</td>\n",
       "      <td>0</td>\n",
       "      <td>#LokSabhaElections2019 23rd May 2019 reveal .....</td>\n",
       "    </tr>\n",
       "    <tr>\n",
       "      <th>3</th>\n",
       "      <td>2019-05-18 22:53:54+00:00</td>\n",
       "      <td>PVenkatGandhi</td>\n",
       "      <td>#LokSabhaElections2019 \\n23rd May 2019 will re...</td>\n",
       "      <td>1</td>\n",
       "      <td>0</td>\n",
       "      <td>#LokSabhaElections2019 23rd May 2019 reveal .....</td>\n",
       "    </tr>\n",
       "    <tr>\n",
       "      <th>4</th>\n",
       "      <td>2019-05-18 22:20:48+00:00</td>\n",
       "      <td>TheNirbhay1</td>\n",
       "      <td>PM Modi creates a new record of being the only...</td>\n",
       "      <td>1</td>\n",
       "      <td>0</td>\n",
       "      <td>PM Modi creates new record PM democratic count...</td>\n",
       "    </tr>\n",
       "  </tbody>\n",
       "</table>\n",
       "</div>"
      ],
      "text/plain": [
       "                        Date             User  \\\n",
       "0  2019-05-18 23:50:47+00:00  advosushildixit   \n",
       "1  2019-05-18 23:20:00+00:00    airnewsalerts   \n",
       "2  2019-05-18 23:00:03+00:00           jiaeur   \n",
       "3  2019-05-18 22:53:54+00:00    PVenkatGandhi   \n",
       "4  2019-05-18 22:20:48+00:00      TheNirbhay1   \n",
       "\n",
       "                                               Tweet  NaModi  RaGandhi  \\\n",
       "0  @anjanaomkashyap I am seeing you as future #bj...       1         0   \n",
       "1  Trinamool Congress Sitting MP Abhishek Banerje...       1         0   \n",
       "2  #LokSabhaElections2019 \\n23rd May 2019 will re...       1         0   \n",
       "3  #LokSabhaElections2019 \\n23rd May 2019 will re...       1         0   \n",
       "4  PM Modi creates a new record of being the only...       1         0   \n",
       "\n",
       "                                     Processed Tweet  \n",
       "0  @anjanaomkashyap I seeing future #bjp spokespe...  \n",
       "1  Trinamool Congress Sitting MP Abhishek Banerje...  \n",
       "2  #LokSabhaElections2019 23rd May 2019 reveal .....  \n",
       "3  #LokSabhaElections2019 23rd May 2019 reveal .....  \n",
       "4  PM Modi creates new record PM democratic count...  "
      ]
     },
     "execution_count": 34,
     "metadata": {},
     "output_type": "execute_result"
    }
   ],
   "source": [
    "\"\"\"\n",
    " Processing tweets by removing stopwords from nltk library\n",
    "    \"\"\";\n",
    "def preprocess_tweets(tweet):\n",
    "    processed_tweet = tweet\n",
    "    processed_tweet.replace('[^\\w\\s]', '')\n",
    "    processed_tweet = \" \".join(word for word in processed_tweet.split() if word not in stop_words)\n",
    "    processed_tweet = \" \".join(Word(word).lemmatize() for word in processed_tweet.split())\n",
    "    return(processed_tweet)\n",
    "\n",
    "df['Processed Tweet'] = df['Tweet'].apply(lambda x: preprocess_tweets(x))\n",
    "df.head()"
   ]
  },
  {
   "cell_type": "code",
   "execution_count": 35,
   "metadata": {
    "execution": {
     "iopub.execute_input": "2023-03-30T13:54:50.434432Z",
     "iopub.status.busy": "2023-03-30T13:54:50.433457Z",
     "iopub.status.idle": "2023-03-30T13:54:50.444977Z",
     "shell.execute_reply": "2023-03-30T13:54:50.443752Z",
     "shell.execute_reply.started": "2023-03-30T13:54:50.434394Z"
    },
    "id": "e0L1CD0f6dd_",
    "outputId": "4aa22653-bc12-4918-c8d6-c941c12af66f"
   },
   "outputs": [
    {
     "name": "stdout",
     "output_type": "stream",
     "text": [
      "Base Tweet\n",
      " @anjanaomkashyap I am seeing you as future #bjp spokesperson..\n",
      "Good luck. Anjana Om Modi oops Kashyap.\n",
      "Journalists like you changed the meaning of journalism. Janta maaf nai karege\n",
      "\n",
      "------------------------------------\n",
      "\n",
      "Cleaned Tweet\n",
      " @anjanaomkashyap I seeing future #bjp spokesperson.. Good luck. Anjana Om Modi oops Kashyap. Journalists like changed meaning journalism. Janta maaf nai karege\n"
     ]
    }
   ],
   "source": [
    "print('Base Tweet\\n', df['Tweet'][0])\n",
    "print('\\n------------------------------------\\n')\n",
    "print('Cleaned Tweet\\n', df['Processed Tweet'][0])"
   ]
  },
  {
   "cell_type": "markdown",
   "metadata": {
    "id": "NXqD3-xV600T"
   },
   "source": [
    "### <p style=\"padding:10px;border :black solid;background-color:yellow;margin:0;color:blue;font-family:newtimeroman;font-size:150%;border-radius: 25px 50px;text-align:center;overflow:hidden;font-weight:500\">Sentiment Calculation Using TextBlob</p>\n"
   ]
  },
  {
   "cell_type": "code",
   "execution_count": 36,
   "metadata": {
    "execution": {
     "iopub.execute_input": "2023-03-30T13:54:50.446721Z",
     "iopub.status.busy": "2023-03-30T13:54:50.446334Z",
     "iopub.status.idle": "2023-03-30T13:55:33.937865Z",
     "shell.execute_reply": "2023-03-30T13:55:33.936770Z",
     "shell.execute_reply.started": "2023-03-30T13:54:50.446648Z"
    },
    "id": "fTt8TC_Z62AO",
    "outputId": "db7439ff-2556-4dea-aaf0-2014ead02ef0"
   },
   "outputs": [
    {
     "data": {
      "text/html": [
       "<div>\n",
       "<style scoped>\n",
       "    .dataframe tbody tr th:only-of-type {\n",
       "        vertical-align: middle;\n",
       "    }\n",
       "\n",
       "    .dataframe tbody tr th {\n",
       "        vertical-align: top;\n",
       "    }\n",
       "\n",
       "    .dataframe thead th {\n",
       "        text-align: right;\n",
       "    }\n",
       "</style>\n",
       "<table border=\"1\" class=\"dataframe\">\n",
       "  <thead>\n",
       "    <tr style=\"text-align: right;\">\n",
       "      <th></th>\n",
       "      <th>Processed Tweet</th>\n",
       "      <th>NaModi</th>\n",
       "      <th>RaGandhi</th>\n",
       "      <th>polarity</th>\n",
       "      <th>subjectivity</th>\n",
       "    </tr>\n",
       "  </thead>\n",
       "  <tbody>\n",
       "    <tr>\n",
       "      <th>0</th>\n",
       "      <td>@anjanaomkashyap I seeing future #bjp spokespe...</td>\n",
       "      <td>1</td>\n",
       "      <td>0</td>\n",
       "      <td>0.350000</td>\n",
       "      <td>0.362500</td>\n",
       "    </tr>\n",
       "    <tr>\n",
       "      <th>1</th>\n",
       "      <td>Trinamool Congress Sitting MP Abhishek Banerje...</td>\n",
       "      <td>1</td>\n",
       "      <td>0</td>\n",
       "      <td>-0.050000</td>\n",
       "      <td>0.083333</td>\n",
       "    </tr>\n",
       "    <tr>\n",
       "      <th>2</th>\n",
       "      <td>#LokSabhaElections2019 23rd May 2019 reveal .....</td>\n",
       "      <td>1</td>\n",
       "      <td>0</td>\n",
       "      <td>0.800000</td>\n",
       "      <td>0.400000</td>\n",
       "    </tr>\n",
       "    <tr>\n",
       "      <th>3</th>\n",
       "      <td>#LokSabhaElections2019 23rd May 2019 reveal .....</td>\n",
       "      <td>1</td>\n",
       "      <td>0</td>\n",
       "      <td>0.800000</td>\n",
       "      <td>0.400000</td>\n",
       "    </tr>\n",
       "    <tr>\n",
       "      <th>4</th>\n",
       "      <td>PM Modi creates new record PM democratic count...</td>\n",
       "      <td>1</td>\n",
       "      <td>0</td>\n",
       "      <td>0.468182</td>\n",
       "      <td>0.677273</td>\n",
       "    </tr>\n",
       "  </tbody>\n",
       "</table>\n",
       "</div>"
      ],
      "text/plain": [
       "                                     Processed Tweet  NaModi  RaGandhi  \\\n",
       "0  @anjanaomkashyap I seeing future #bjp spokespe...       1         0   \n",
       "1  Trinamool Congress Sitting MP Abhishek Banerje...       1         0   \n",
       "2  #LokSabhaElections2019 23rd May 2019 reveal .....       1         0   \n",
       "3  #LokSabhaElections2019 23rd May 2019 reveal .....       1         0   \n",
       "4  PM Modi creates new record PM democratic count...       1         0   \n",
       "\n",
       "   polarity  subjectivity  \n",
       "0  0.350000      0.362500  \n",
       "1 -0.050000      0.083333  \n",
       "2  0.800000      0.400000  \n",
       "3  0.800000      0.400000  \n",
       "4  0.468182      0.677273  "
      ]
     },
     "execution_count": 36,
     "metadata": {},
     "output_type": "execute_result"
    }
   ],
   "source": [
    "# Calculate polarity and subjectivity of the tweet\n",
    "df['polarity'] = df['Processed Tweet'].apply(lambda x: TextBlob(x).sentiment[0])\n",
    "df['subjectivity'] = df['Processed Tweet'].apply(lambda x: TextBlob(x).sentiment[1])\n",
    "df[['Processed Tweet', 'NaModi', 'RaGandhi', 'polarity', 'subjectivity']].head()"
   ]
  },
  {
   "cell_type": "code",
   "execution_count": 37,
   "metadata": {
    "execution": {
     "iopub.execute_input": "2023-03-30T13:55:33.940561Z",
     "iopub.status.busy": "2023-03-30T13:55:33.939449Z",
     "iopub.status.idle": "2023-03-30T13:55:34.014842Z",
     "shell.execute_reply": "2023-03-30T13:55:34.013634Z",
     "shell.execute_reply.started": "2023-03-30T13:55:33.940518Z"
    },
    "id": "-4_SePHu67xd"
   },
   "outputs": [
    {
     "data": {
      "text/html": [
       "<div>\n",
       "<style scoped>\n",
       "    .dataframe tbody tr th:only-of-type {\n",
       "        vertical-align: middle;\n",
       "    }\n",
       "\n",
       "    .dataframe tbody tr th {\n",
       "        vertical-align: top;\n",
       "    }\n",
       "\n",
       "    .dataframe thead tr th {\n",
       "        text-align: left;\n",
       "    }\n",
       "\n",
       "    .dataframe thead tr:last-of-type th {\n",
       "        text-align: right;\n",
       "    }\n",
       "</style>\n",
       "<table border=\"1\" class=\"dataframe\">\n",
       "  <thead>\n",
       "    <tr>\n",
       "      <th></th>\n",
       "      <th colspan=\"4\" halign=\"left\">polarity</th>\n",
       "      <th colspan=\"4\" halign=\"left\">subjectivity</th>\n",
       "    </tr>\n",
       "    <tr>\n",
       "      <th></th>\n",
       "      <th>mean</th>\n",
       "      <th>amax</th>\n",
       "      <th>amin</th>\n",
       "      <th>median</th>\n",
       "      <th>mean</th>\n",
       "      <th>amax</th>\n",
       "      <th>amin</th>\n",
       "      <th>median</th>\n",
       "    </tr>\n",
       "    <tr>\n",
       "      <th>RaGandhi</th>\n",
       "      <th></th>\n",
       "      <th></th>\n",
       "      <th></th>\n",
       "      <th></th>\n",
       "      <th></th>\n",
       "      <th></th>\n",
       "      <th></th>\n",
       "      <th></th>\n",
       "    </tr>\n",
       "  </thead>\n",
       "  <tbody>\n",
       "    <tr>\n",
       "      <th>1</th>\n",
       "      <td>0.068478</td>\n",
       "      <td>1.0</td>\n",
       "      <td>-1.0</td>\n",
       "      <td>0.0</td>\n",
       "      <td>0.346086</td>\n",
       "      <td>1.0</td>\n",
       "      <td>0.0</td>\n",
       "      <td>0.35</td>\n",
       "    </tr>\n",
       "  </tbody>\n",
       "</table>\n",
       "</div>"
      ],
      "text/plain": [
       "          polarity                  subjectivity                 \n",
       "              mean amax amin median         mean amax amin median\n",
       "RaGandhi                                                         \n",
       "1         0.068478  1.0 -1.0    0.0     0.346086  1.0  0.0   0.35"
      ]
     },
     "metadata": {},
     "output_type": "display_data"
    },
    {
     "data": {
      "text/html": [
       "<div>\n",
       "<style scoped>\n",
       "    .dataframe tbody tr th:only-of-type {\n",
       "        vertical-align: middle;\n",
       "    }\n",
       "\n",
       "    .dataframe tbody tr th {\n",
       "        vertical-align: top;\n",
       "    }\n",
       "\n",
       "    .dataframe thead tr th {\n",
       "        text-align: left;\n",
       "    }\n",
       "\n",
       "    .dataframe thead tr:last-of-type th {\n",
       "        text-align: right;\n",
       "    }\n",
       "</style>\n",
       "<table border=\"1\" class=\"dataframe\">\n",
       "  <thead>\n",
       "    <tr>\n",
       "      <th></th>\n",
       "      <th colspan=\"4\" halign=\"left\">polarity</th>\n",
       "      <th colspan=\"4\" halign=\"left\">subjectivity</th>\n",
       "    </tr>\n",
       "    <tr>\n",
       "      <th></th>\n",
       "      <th>mean</th>\n",
       "      <th>amax</th>\n",
       "      <th>amin</th>\n",
       "      <th>median</th>\n",
       "      <th>mean</th>\n",
       "      <th>amax</th>\n",
       "      <th>amin</th>\n",
       "      <th>median</th>\n",
       "    </tr>\n",
       "    <tr>\n",
       "      <th>NaModi</th>\n",
       "      <th></th>\n",
       "      <th></th>\n",
       "      <th></th>\n",
       "      <th></th>\n",
       "      <th></th>\n",
       "      <th></th>\n",
       "      <th></th>\n",
       "      <th></th>\n",
       "    </tr>\n",
       "  </thead>\n",
       "  <tbody>\n",
       "    <tr>\n",
       "      <th>1</th>\n",
       "      <td>0.100709</td>\n",
       "      <td>1.0</td>\n",
       "      <td>-1.0</td>\n",
       "      <td>0.0</td>\n",
       "      <td>0.359328</td>\n",
       "      <td>1.0</td>\n",
       "      <td>0.0</td>\n",
       "      <td>0.366667</td>\n",
       "    </tr>\n",
       "  </tbody>\n",
       "</table>\n",
       "</div>"
      ],
      "text/plain": [
       "        polarity                  subjectivity                    \n",
       "            mean amax amin median         mean amax amin    median\n",
       "NaModi                                                            \n",
       "1       0.100709  1.0 -1.0    0.0     0.359328  1.0  0.0  0.366667"
      ]
     },
     "execution_count": 37,
     "metadata": {},
     "output_type": "execute_result"
    }
   ],
   "source": [
    "display(df[df['RaGandhi']==1][['RaGandhi','polarity','subjectivity']].groupby('RaGandhi').agg([np.mean, np.max, np.min, np.median]))\n",
    "df[df['NaModi']==1][['NaModi','polarity','subjectivity']].groupby('NaModi').agg([np.mean, np.max, np.min, np.median])"
   ]
  },
  {
   "cell_type": "markdown",
   "metadata": {
    "id": "Q1AJiOJG7inN"
   },
   "source": [
    "### <p style=\"padding:10px;border :black solid;background-color:yellow;margin:0;color:blue;font-family:newtimeroman;font-size:150%;border-radius: 25px 50px;text-align:center;overflow:hidden;font-weight:500\">Visualisation</p>"
   ]
  },
  {
   "cell_type": "code",
   "execution_count": 38,
   "metadata": {
    "execution": {
     "iopub.execute_input": "2023-03-30T13:55:34.017297Z",
     "iopub.status.busy": "2023-03-30T13:55:34.016568Z",
     "iopub.status.idle": "2023-03-30T13:55:34.110628Z",
     "shell.execute_reply": "2023-03-30T13:55:34.109566Z",
     "shell.execute_reply.started": "2023-03-30T13:55:34.017254Z"
    },
    "id": "T0uQ090g7kMG"
   },
   "outputs": [],
   "source": [
    "naModi = df[df['NaModi']==1][['Date', 'polarity']]\n",
    "naModi = naModi.sort_values(by='Date', ascending=True)\n",
    "naModi['MA Polarity'] = naModi.polarity.rolling(10, min_periods=3).mean()\n",
    "\n",
    "raGandhi = df[df['RaGandhi']==1][['Date', 'polarity']]\n",
    "raGandhi = raGandhi.sort_values(by='Date', ascending=True)\n",
    "raGandhi['MA Polarity'] = raGandhi.polarity.rolling(10, min_periods=3).mean()"
   ]
  },
  {
   "cell_type": "code",
   "execution_count": 39,
   "metadata": {
    "execution": {
     "iopub.execute_input": "2023-03-30T13:55:34.113001Z",
     "iopub.status.busy": "2023-03-30T13:55:34.112122Z",
     "iopub.status.idle": "2023-03-30T14:50:08.347800Z",
     "shell.execute_reply": "2023-03-30T14:50:08.346765Z",
     "shell.execute_reply.started": "2023-03-30T13:55:34.112953Z"
    },
    "id": "AEyoM8SJ8dsU",
    "outputId": "cad7da08-da2f-4d31-ab02-0dee18e3b861"
   },
   "outputs": [
    {
     "data": {
      "image/png": "[encoded data removed]",
      "text/plain": [
       "<Figure size 936x720 with 2 Axes>"
      ]
     },
     "metadata": {},
     "output_type": "display_data"
    }
   ],
   "source": [
    "fig, axes = plt.subplots(2, 1, figsize=(13, 10))\n",
    "\n",
    "axes[0].plot(naModi['Date'], naModi['MA Polarity'])\n",
    "axes[0].set_title(\"\\n\".join([\"Polarity change of Tweets mentioning Narendra Modi\"]))\n",
    "axes[1].plot(raGandhi['Date'], raGandhi['MA Polarity'], color='red')\n",
    "axes[1].set_title(\"\\n\".join([\"Polarity change of Tweets mentioning Rahul Gandhi\"]))\n",
    "\n",
    "fig.suptitle(\"\\n\".join([\"Analysis of Tweets Polarity about PM Candidates\"]), y=0.98)\n",
    "\n",
    "plt.show()"
   ]
  },
  {
   "cell_type": "markdown",
   "metadata": {},
   "source": [
    "### For Better understanding lets take a smaller portion of tweets and visualize the same"
   ]
  },
  {
   "cell_type": "code",
   "execution_count": 40,
   "metadata": {
    "execution": {
     "iopub.execute_input": "2023-03-30T14:50:08.349271Z",
     "iopub.status.busy": "2023-03-30T14:50:08.348909Z",
     "iopub.status.idle": "2023-03-30T14:51:19.973545Z",
     "shell.execute_reply": "2023-03-30T14:51:19.972655Z",
     "shell.execute_reply.started": "2023-03-30T14:50:08.349234Z"
    }
   },
   "outputs": [
    {
     "data": {
      "image/png": "[encoded data removed]",
      "text/plain": [
       "<Figure size 1080x720 with 2 Axes>"
      ]
     },
     "metadata": {},
     "output_type": "display_data"
    }
   ],
   "source": [
    "fig, axes = plt.subplots(2, 1, figsize=(15, 10))\n",
    "\n",
    "axes[0].plot(naModi['Date'][:1000], naModi['MA Polarity'][:1000])\n",
    "axes[0].set_title(\"\\n\".join([\"Polarity change of Tweets mentioning Narendra Modi\"]))\n",
    "axes[1].plot(raGandhi['Date'][:1000], raGandhi['MA Polarity'][:1000], color='red')\n",
    "axes[1].set_title(\"\\n\".join([\"Polarity change of Tweets mentioning Rahul Gandhi\"]))\n",
    "fig.suptitle(\"\\n\".join([\"Analysis of Tweets Polarity about PM Candidates\"]), y=0.98)\n",
    "plt.show()"
   ]
  },
  {
   "cell_type": "markdown",
   "metadata": {},
   "source": [
    "<a id=\"h6\"></a>\n",
    "# <p style=\"padding:10px;border :black solid;background-color:lightblue;margin:0;color:blue;font-family:newtimeroman;font-size:150%;text-align:center;border-radius: 25px 50px;overflow:hidden;font-weight:500\">Result</p>"
   ]
  },
  {
   "cell_type": "markdown",
   "metadata": {},
   "source": [
    "<center>\n",
    "<img src=\"https://gumlet.assettype.com/bloombergquint%2F2018-05%2F960b802b-0ded-4fe0-b9e9-bf73ba3a0bc0%2FRAGA___MODI___SOURCE_PTI__MERGED_BY_ASIAN_AGE.jpeg?rect=0%2C0%2C796%2C448&auto=format%2Ccompress&fmt=webp&w=1200\" />\n",
    "</center>"
   ]
  },
  {
   "cell_type": "markdown",
   "metadata": {},
   "source": [
    "## From the insights we got from this analysis and some other results from the following notebooks\n",
    "* sentiment-analysis-on-PM-candidate's-tweets-using-Python\n",
    "* sentiment-analysis-on-PM-candidate's-tweets-using-R"
   ]
  },
  {
   "cell_type": "markdown",
   "metadata": {},
   "source": [
    "### The Sentiment Scores percentage comparison :"
   ]
  },
  {
   "cell_type": "code",
   "execution_count": 10,
   "metadata": {},
   "outputs": [
    {
     "ename": "FileNotFoundError",
     "evalue": "No such file or directory: '/Results/result_tsa.png'",
     "output_type": "error",
     "traceback": [
      "\u001b[1;31m---------------------------------------------------------------------------\u001b[0m",
      "\u001b[1;31mTypeError\u001b[0m                                 Traceback (most recent call last)",
      "\u001b[1;32m~\\Anaconda3\\lib\\site-packages\\IPython\\core\\display.py\u001b[0m in \u001b[0;36m_data_and_metadata\u001b[1;34m(self, always_both)\u001b[0m\n\u001b[0;32m   1299\u001b[0m         \u001b[1;32mtry\u001b[0m\u001b[1;33m:\u001b[0m\u001b[1;33m\u001b[0m\u001b[1;33m\u001b[0m\u001b[0m\n\u001b[1;32m-> 1300\u001b[1;33m             \u001b[0mb64_data\u001b[0m \u001b[1;33m=\u001b[0m \u001b[0mb2a_base64\u001b[0m\u001b[1;33m(\u001b[0m\u001b[0mself\u001b[0m\u001b[1;33m.\u001b[0m\u001b[0mdata\u001b[0m\u001b[1;33m)\u001b[0m\u001b[1;33m.\u001b[0m\u001b[0mdecode\u001b[0m\u001b[1;33m(\u001b[0m\u001b[1;34m'ascii'\u001b[0m\u001b[1;33m)\u001b[0m\u001b[1;33m\u001b[0m\u001b[1;33m\u001b[0m\u001b[0m\n\u001b[0m\u001b[0;32m   1301\u001b[0m         \u001b[1;32mexcept\u001b[0m \u001b[0mTypeError\u001b[0m\u001b[1;33m:\u001b[0m\u001b[1;33m\u001b[0m\u001b[1;33m\u001b[0m\u001b[0m\n",
      "\u001b[1;31mTypeError\u001b[0m: a bytes-like object is required, not 'str'",
      "\nDuring handling of the above exception, another exception occurred:\n",
      "\u001b[1;31mFileNotFoundError\u001b[0m                         Traceback (most recent call last)",
      "\u001b[1;32m~\\Anaconda3\\lib\\site-packages\\IPython\\core\\formatters.py\u001b[0m in \u001b[0;36m__call__\u001b[1;34m(self, obj, include, exclude)\u001b[0m\n\u001b[0;32m    968\u001b[0m \u001b[1;33m\u001b[0m\u001b[0m\n\u001b[0;32m    969\u001b[0m             \u001b[1;32mif\u001b[0m \u001b[0mmethod\u001b[0m \u001b[1;32mis\u001b[0m \u001b[1;32mnot\u001b[0m \u001b[1;32mNone\u001b[0m\u001b[1;33m:\u001b[0m\u001b[1;33m\u001b[0m\u001b[1;33m\u001b[0m\u001b[0m\n\u001b[1;32m--> 970\u001b[1;33m                 \u001b[1;32mreturn\u001b[0m \u001b[0mmethod\u001b[0m\u001b[1;33m(\u001b[0m\u001b[0minclude\u001b[0m\u001b[1;33m=\u001b[0m\u001b[0minclude\u001b[0m\u001b[1;33m,\u001b[0m \u001b[0mexclude\u001b[0m\u001b[1;33m=\u001b[0m\u001b[0mexclude\u001b[0m\u001b[1;33m)\u001b[0m\u001b[1;33m\u001b[0m\u001b[1;33m\u001b[0m\u001b[0m\n\u001b[0m\u001b[0;32m    971\u001b[0m             \u001b[1;32mreturn\u001b[0m \u001b[1;32mNone\u001b[0m\u001b[1;33m\u001b[0m\u001b[1;33m\u001b[0m\u001b[0m\n\u001b[0;32m    972\u001b[0m         \u001b[1;32melse\u001b[0m\u001b[1;33m:\u001b[0m\u001b[1;33m\u001b[0m\u001b[1;33m\u001b[0m\u001b[0m\n",
      "\u001b[1;32m~\\Anaconda3\\lib\\site-packages\\IPython\\core\\display.py\u001b[0m in \u001b[0;36m_repr_mimebundle_\u001b[1;34m(self, include, exclude)\u001b[0m\n\u001b[0;32m   1288\u001b[0m         \u001b[1;32mif\u001b[0m \u001b[0mself\u001b[0m\u001b[1;33m.\u001b[0m\u001b[0membed\u001b[0m\u001b[1;33m:\u001b[0m\u001b[1;33m\u001b[0m\u001b[1;33m\u001b[0m\u001b[0m\n\u001b[0;32m   1289\u001b[0m             \u001b[0mmimetype\u001b[0m \u001b[1;33m=\u001b[0m \u001b[0mself\u001b[0m\u001b[1;33m.\u001b[0m\u001b[0m_mimetype\u001b[0m\u001b[1;33m\u001b[0m\u001b[1;33m\u001b[0m\u001b[0m\n\u001b[1;32m-> 1290\u001b[1;33m             \u001b[0mdata\u001b[0m\u001b[1;33m,\u001b[0m \u001b[0mmetadata\u001b[0m \u001b[1;33m=\u001b[0m \u001b[0mself\u001b[0m\u001b[1;33m.\u001b[0m\u001b[0m_data_and_metadata\u001b[0m\u001b[1;33m(\u001b[0m\u001b[0malways_both\u001b[0m\u001b[1;33m=\u001b[0m\u001b[1;32mTrue\u001b[0m\u001b[1;33m)\u001b[0m\u001b[1;33m\u001b[0m\u001b[1;33m\u001b[0m\u001b[0m\n\u001b[0m\u001b[0;32m   1291\u001b[0m             \u001b[1;32mif\u001b[0m \u001b[0mmetadata\u001b[0m\u001b[1;33m:\u001b[0m\u001b[1;33m\u001b[0m\u001b[1;33m\u001b[0m\u001b[0m\n\u001b[0;32m   1292\u001b[0m                 \u001b[0mmetadata\u001b[0m \u001b[1;33m=\u001b[0m \u001b[1;33m{\u001b[0m\u001b[0mmimetype\u001b[0m\u001b[1;33m:\u001b[0m \u001b[0mmetadata\u001b[0m\u001b[1;33m}\u001b[0m\u001b[1;33m\u001b[0m\u001b[1;33m\u001b[0m\u001b[0m\n",
      "\u001b[1;32m~\\Anaconda3\\lib\\site-packages\\IPython\\core\\display.py\u001b[0m in \u001b[0;36m_data_and_metadata\u001b[1;34m(self, always_both)\u001b[0m\n\u001b[0;32m   1301\u001b[0m         \u001b[1;32mexcept\u001b[0m \u001b[0mTypeError\u001b[0m\u001b[1;33m:\u001b[0m\u001b[1;33m\u001b[0m\u001b[1;33m\u001b[0m\u001b[0m\n\u001b[0;32m   1302\u001b[0m             raise FileNotFoundError(\n\u001b[1;32m-> 1303\u001b[1;33m                 \"No such file or directory: '%s'\" % (self.data))\n\u001b[0m\u001b[0;32m   1304\u001b[0m         \u001b[0mmd\u001b[0m \u001b[1;33m=\u001b[0m \u001b[1;33m{\u001b[0m\u001b[1;33m}\u001b[0m\u001b[1;33m\u001b[0m\u001b[1;33m\u001b[0m\u001b[0m\n\u001b[0;32m   1305\u001b[0m         \u001b[1;32mif\u001b[0m \u001b[0mself\u001b[0m\u001b[1;33m.\u001b[0m\u001b[0mmetadata\u001b[0m\u001b[1;33m:\u001b[0m\u001b[1;33m\u001b[0m\u001b[1;33m\u001b[0m\u001b[0m\n",
      "\u001b[1;31mFileNotFoundError\u001b[0m: No such file or directory: '/Results/result_tsa.png'"
     ]
    },
    {
     "ename": "FileNotFoundError",
     "evalue": "No such file or directory: '/Results/result_tsa.png'",
     "output_type": "error",
     "traceback": [
      "\u001b[1;31m---------------------------------------------------------------------------\u001b[0m",
      "\u001b[1;31mTypeError\u001b[0m                                 Traceback (most recent call last)",
      "\u001b[1;32m~\\Anaconda3\\lib\\site-packages\\IPython\\core\\display.py\u001b[0m in \u001b[0;36m_data_and_metadata\u001b[1;34m(self, always_both)\u001b[0m\n\u001b[0;32m   1299\u001b[0m         \u001b[1;32mtry\u001b[0m\u001b[1;33m:\u001b[0m\u001b[1;33m\u001b[0m\u001b[1;33m\u001b[0m\u001b[0m\n\u001b[1;32m-> 1300\u001b[1;33m             \u001b[0mb64_data\u001b[0m \u001b[1;33m=\u001b[0m \u001b[0mb2a_base64\u001b[0m\u001b[1;33m(\u001b[0m\u001b[0mself\u001b[0m\u001b[1;33m.\u001b[0m\u001b[0mdata\u001b[0m\u001b[1;33m)\u001b[0m\u001b[1;33m.\u001b[0m\u001b[0mdecode\u001b[0m\u001b[1;33m(\u001b[0m\u001b[1;34m'ascii'\u001b[0m\u001b[1;33m)\u001b[0m\u001b[1;33m\u001b[0m\u001b[1;33m\u001b[0m\u001b[0m\n\u001b[0m\u001b[0;32m   1301\u001b[0m         \u001b[1;32mexcept\u001b[0m \u001b[0mTypeError\u001b[0m\u001b[1;33m:\u001b[0m\u001b[1;33m\u001b[0m\u001b[1;33m\u001b[0m\u001b[0m\n",
      "\u001b[1;31mTypeError\u001b[0m: a bytes-like object is required, not 'str'",
      "\nDuring handling of the above exception, another exception occurred:\n",
      "\u001b[1;31mFileNotFoundError\u001b[0m                         Traceback (most recent call last)",
      "\u001b[1;32m~\\Anaconda3\\lib\\site-packages\\IPython\\core\\formatters.py\u001b[0m in \u001b[0;36m__call__\u001b[1;34m(self, obj)\u001b[0m\n\u001b[0;32m    343\u001b[0m             \u001b[0mmethod\u001b[0m \u001b[1;33m=\u001b[0m \u001b[0mget_real_method\u001b[0m\u001b[1;33m(\u001b[0m\u001b[0mobj\u001b[0m\u001b[1;33m,\u001b[0m \u001b[0mself\u001b[0m\u001b[1;33m.\u001b[0m\u001b[0mprint_method\u001b[0m\u001b[1;33m)\u001b[0m\u001b[1;33m\u001b[0m\u001b[1;33m\u001b[0m\u001b[0m\n\u001b[0;32m    344\u001b[0m             \u001b[1;32mif\u001b[0m \u001b[0mmethod\u001b[0m \u001b[1;32mis\u001b[0m \u001b[1;32mnot\u001b[0m \u001b[1;32mNone\u001b[0m\u001b[1;33m:\u001b[0m\u001b[1;33m\u001b[0m\u001b[1;33m\u001b[0m\u001b[0m\n\u001b[1;32m--> 345\u001b[1;33m                 \u001b[1;32mreturn\u001b[0m \u001b[0mmethod\u001b[0m\u001b[1;33m(\u001b[0m\u001b[1;33m)\u001b[0m\u001b[1;33m\u001b[0m\u001b[1;33m\u001b[0m\u001b[0m\n\u001b[0m\u001b[0;32m    346\u001b[0m             \u001b[1;32mreturn\u001b[0m \u001b[1;32mNone\u001b[0m\u001b[1;33m\u001b[0m\u001b[1;33m\u001b[0m\u001b[0m\n\u001b[0;32m    347\u001b[0m         \u001b[1;32melse\u001b[0m\u001b[1;33m:\u001b[0m\u001b[1;33m\u001b[0m\u001b[1;33m\u001b[0m\u001b[0m\n",
      "\u001b[1;32m~\\Anaconda3\\lib\\site-packages\\IPython\\core\\display.py\u001b[0m in \u001b[0;36m_repr_png_\u001b[1;34m(self)\u001b[0m\n\u001b[0;32m   1318\u001b[0m     \u001b[1;32mdef\u001b[0m \u001b[0m_repr_png_\u001b[0m\u001b[1;33m(\u001b[0m\u001b[0mself\u001b[0m\u001b[1;33m)\u001b[0m\u001b[1;33m:\u001b[0m\u001b[1;33m\u001b[0m\u001b[1;33m\u001b[0m\u001b[0m\n\u001b[0;32m   1319\u001b[0m         \u001b[1;32mif\u001b[0m \u001b[0mself\u001b[0m\u001b[1;33m.\u001b[0m\u001b[0membed\u001b[0m \u001b[1;32mand\u001b[0m \u001b[0mself\u001b[0m\u001b[1;33m.\u001b[0m\u001b[0mformat\u001b[0m \u001b[1;33m==\u001b[0m \u001b[0mself\u001b[0m\u001b[1;33m.\u001b[0m\u001b[0m_FMT_PNG\u001b[0m\u001b[1;33m:\u001b[0m\u001b[1;33m\u001b[0m\u001b[1;33m\u001b[0m\u001b[0m\n\u001b[1;32m-> 1320\u001b[1;33m             \u001b[1;32mreturn\u001b[0m \u001b[0mself\u001b[0m\u001b[1;33m.\u001b[0m\u001b[0m_data_and_metadata\u001b[0m\u001b[1;33m(\u001b[0m\u001b[1;33m)\u001b[0m\u001b[1;33m\u001b[0m\u001b[1;33m\u001b[0m\u001b[0m\n\u001b[0m\u001b[0;32m   1321\u001b[0m \u001b[1;33m\u001b[0m\u001b[0m\n\u001b[0;32m   1322\u001b[0m     \u001b[1;32mdef\u001b[0m \u001b[0m_repr_jpeg_\u001b[0m\u001b[1;33m(\u001b[0m\u001b[0mself\u001b[0m\u001b[1;33m)\u001b[0m\u001b[1;33m:\u001b[0m\u001b[1;33m\u001b[0m\u001b[1;33m\u001b[0m\u001b[0m\n",
      "\u001b[1;32m~\\Anaconda3\\lib\\site-packages\\IPython\\core\\display.py\u001b[0m in \u001b[0;36m_data_and_metadata\u001b[1;34m(self, always_both)\u001b[0m\n\u001b[0;32m   1301\u001b[0m         \u001b[1;32mexcept\u001b[0m \u001b[0mTypeError\u001b[0m\u001b[1;33m:\u001b[0m\u001b[1;33m\u001b[0m\u001b[1;33m\u001b[0m\u001b[0m\n\u001b[0;32m   1302\u001b[0m             raise FileNotFoundError(\n\u001b[1;32m-> 1303\u001b[1;33m                 \"No such file or directory: '%s'\" % (self.data))\n\u001b[0m\u001b[0;32m   1304\u001b[0m         \u001b[0mmd\u001b[0m \u001b[1;33m=\u001b[0m \u001b[1;33m{\u001b[0m\u001b[1;33m}\u001b[0m\u001b[1;33m\u001b[0m\u001b[1;33m\u001b[0m\u001b[0m\n\u001b[0;32m   1305\u001b[0m         \u001b[1;32mif\u001b[0m \u001b[0mself\u001b[0m\u001b[1;33m.\u001b[0m\u001b[0mmetadata\u001b[0m\u001b[1;33m:\u001b[0m\u001b[1;33m\u001b[0m\u001b[1;33m\u001b[0m\u001b[0m\n",
      "\u001b[1;31mFileNotFoundError\u001b[0m: No such file or directory: '/Results/result_tsa.png'"
     ]
    },
    {
     "data": {
      "text/plain": [
       "<IPython.core.display.Image object>"
      ]
     },
     "execution_count": 10,
     "metadata": {},
     "output_type": "execute_result"
    }
   ],
   "source": [
    "from IPython.display import Image\n",
    "Image('/Results/result_tsa.png')"
   ]
  },
  {
   "cell_type": "code",
   "execution_count": 41,
   "metadata": {
    "_kg_hide-input": true,
    "execution": {
     "iopub.execute_input": "2023-03-30T14:51:19.975914Z",
     "iopub.status.busy": "2023-03-30T14:51:19.975143Z",
     "iopub.status.idle": "2023-03-30T14:51:19.994260Z",
     "shell.execute_reply": "2023-03-30T14:51:19.993228Z",
     "shell.execute_reply.started": "2023-03-30T14:51:19.975869Z"
    }
   },
   "outputs": [
    {
     "data": {
      "image/png": "[encoded data removed]",
      "text/plain": [
       "<IPython.core.display.Image object>"
      ]
     },
     "execution_count": 41,
     "metadata": {},
     "output_type": "execute_result"
    }
   ],
   "source": [
    "from IPython.display import Image\n",
    "Image(\"Results/result_tsa.png\")"
   ]
  },
  {
   "cell_type": "markdown",
   "metadata": {
    "execution": {
     "iopub.execute_input": "2023-02-08T15:42:59.251383Z",
     "iopub.status.busy": "2023-02-08T15:42:59.250852Z",
     "iopub.status.idle": "2023-02-08T15:42:59.285058Z",
     "shell.execute_reply": "2023-02-08T15:42:59.283915Z",
     "shell.execute_reply.started": "2023-02-08T15:42:59.251299Z"
    }
   },
   "source": [
    "<div style=\"border-radius:10px;\n",
    "        border :#0A0104 solid;\n",
    "        padding: 15px;\n",
    "        background-color:#E9F6E2;\n",
    "       font-size:110%;\n",
    "        text-align: left\">\n",
    " <span style=\"color:'blue' ;\"></span>\n",
    "\n",
    "\n",
    " 📌 Both candidate have RELATIVELY same no. of tweets so we can assume somewhat same engagement from both sides.\n",
    "\n",
    " 📌 Though if we see the negative polarity score is more for Rahul Gandhi's tweets than Narendra Modi's tweets, It may be beneficial for both the sides as RG is the leader of opposition and NaMo was present PM, But POSITIVE APPROACH OF MODI'S TWEETS MAY BE SLIGHTLY MORE THAN RAHUL GANDHI'S NEGATIVE TWEETS.\n",
    "  \n",
    " 📌 If we see by using Vader Sentiments on raw data, we see that positive tweets percentage for Narendra Modi is more than Rahul Gandhi (though slightly)\n",
    " \n",
    " 📌 No. of tweets mentioning about Rahul Gandhi (14148) is very less than Narendra Modi(25683)\n",
    "    \n",
    " \n",
    " 📌 If we see analysis with get_nrc_sentiment (R library) we see there is sudden difference between Disgust and joy curve in Narendra Modi but it almost same in case of Rahul Gandhi\n",
    "    \n",
    "    \n",
    "    \n"
   ]
  },
  {
   "cell_type": "markdown",
   "metadata": {},
   "source": [
    "<div style=\"border-radius:10px;\n",
    "        border :#0A0104 solid;\n",
    "        padding: 15px;\n",
    "        background-color:lightgreen;\n",
    "       font-size:110%;\n",
    "        text-align: left\">\n",
    " <span style=\"color:'blue' ;\"></span>\n",
    "    So if we consider only on the twitter data we can say that Narendra Modi is ahead of Rahul Gandhi in terms of twitter popularity, overall polarity and audience engagement. <br>\n",
    "    So all the way it goes into favor of Narendra Modi.<br>    \n",
    "    <strong>Hence chances of Narendra Modi to win the election was more than Rahul Gandhi.</strong>"
   ]
  },
  {
   "cell_type": "markdown",
   "metadata": {
    "execution": {
     "iopub.execute_input": "2023-02-09T18:27:22.798042Z",
     "iopub.status.busy": "2023-02-09T18:27:22.797616Z",
     "iopub.status.idle": "2023-02-09T18:27:22.807769Z",
     "shell.execute_reply": "2023-02-09T18:27:22.805378Z",
     "shell.execute_reply.started": "2023-02-09T18:27:22.797998Z"
    }
   },
   "source": [
    "---\n",
    "<span style=\"font-family:Comic Sans MS; color:golden; font-size:200%;\"><strong>Hope you like it</strong></span><br>\n",
    "<blockquote><h2><span style=\"color:navy\">T</span><span style=\"color:blue\">h</span><span style=\"color:green\">a</span><span style=\"color:red\">n</span><span style=\"color:red\">k</span> <span style=\"color:green\">y</span><span style=\"color:blue\">o</span><span style=\"color:navy\">u</span> 🙂</h2></blockquote>"
   ]
  }
 ],
 "metadata": {
  "kernelspec": {
   "display_name": "Python 3 (ipykernel)",
   "language": "python",
   "name": "python3"
  },
  "language_info": {
   "codemirror_mode": {
    "name": "ipython",
    "version": 3
   },
   "file_extension": ".py",
   "mimetype": "text/x-python",
   "name": "python",
   "nbconvert_exporter": "python",
   "pygments_lexer": "ipython3",
   "version": "3.7.3"
  }
 },
 "nbformat": 4,
 "nbformat_minor": 4
}
