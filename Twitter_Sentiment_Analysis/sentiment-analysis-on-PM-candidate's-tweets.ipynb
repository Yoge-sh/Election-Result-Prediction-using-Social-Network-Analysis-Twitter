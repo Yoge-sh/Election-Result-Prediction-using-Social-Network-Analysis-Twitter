{
 "cells": [
  {
   "cell_type": "markdown",
   "id": "991d480d",
   "metadata": {
    "execution": {
     "iopub.execute_input": "2023-01-29T04:47:08.510241Z",
     "iopub.status.busy": "2023-01-29T04:47:08.509797Z",
     "iopub.status.idle": "2023-01-29T04:47:08.517767Z",
     "shell.execute_reply": "2023-01-29T04:47:08.516135Z",
     "shell.execute_reply.started": "2023-01-29T04:47:08.510203Z"
    },
    "papermill": {
     "duration": 0.019564,
     "end_time": "2023-06-22T14:25:13.632882",
     "exception": false,
     "start_time": "2023-06-22T14:25:13.613318",
     "status": "completed"
    },
    "tags": []
   },
   "source": [
    "<center>\n",
    "<img src=\"https://gumlet.assettype.com/newslaundry/import/2017/10/Bots-behind-rise-in-Rahul-Gandhis-twitter-popularity.jpg?w=1200&h=750\" width=800>\n",
    "</center>"
   ]
  },
  {
   "cell_type": "markdown",
   "id": "02b4cd2d",
   "metadata": {
    "papermill": {
     "duration": 0.016786,
     "end_time": "2023-06-22T14:25:13.668031",
     "exception": false,
     "start_time": "2023-06-22T14:25:13.651245",
     "status": "completed"
    },
    "tags": []
   },
   "source": [
    "<a id=\"top\"></a>"
   ]
  },
  {
   "cell_type": "markdown",
   "id": "465de342",
   "metadata": {
    "papermill": {
     "duration": 0.016751,
     "end_time": "2023-06-22T14:25:13.704398",
     "exception": false,
     "start_time": "2023-06-22T14:25:13.687647",
     "status": "completed"
    },
    "tags": []
   },
   "source": [
    "___\n",
    "<span style=\"color: purple;\">We are doing sentiment analysis on tweets of two powerful politician of India i.e. Narendra Modi & Rahul Gandhi. <br/>\n",
    "    <a href=\"https://www.kaggle.com/datasets/yogesh239/twitter-data-about-2019-indian-general-election\" target=\"_blank\">Tweets Data</a> that we are using covers the tweets between  1st Jan, 2019 to 19th May, 2019 which is the period of <b>General Election in India</b> which are held in every 5 years. So Narendra Modi was the PM at that moment and Rahul Gandhi was leader of opposition & the PM candidate of opposition party.  \n",
    "     So we are doing the sentiment analysis of the tweets from PM candidate related to elections so as to come up with some insights.\n",
    "     Lets jump into it.</span>\n",
    "___"
   ]
  },
  {
   "cell_type": "markdown",
   "id": "cf19190b",
   "metadata": {
    "papermill": {
     "duration": 0.018144,
     "end_time": "2023-06-22T14:25:13.739748",
     "exception": false,
     "start_time": "2023-06-22T14:25:13.721604",
     "status": "completed"
    },
    "tags": []
   },
   "source": [
    "# <p style=\"background-color:skyblue;font-family:newtimeroman;font-size:200%;text-align:center;border-style: solid;border-color: black;border-radius: 15px 15px;\">🧾INDEX</p>"
   ]
  },
  {
   "cell_type": "markdown",
   "id": "d2ad29c7",
   "metadata": {
    "papermill": {
     "duration": 0.016828,
     "end_time": "2023-06-22T14:25:13.775220",
     "exception": false,
     "start_time": "2023-06-22T14:25:13.758392",
     "status": "completed"
    },
    "tags": []
   },
   "source": [
    "​\n",
    "* [Importing the Libraries](#h1)\n",
    "   * [Setting up the basic code snippets for sentiment models](#h1.1)<br/>\n",
    "* [Data Loading & Cleaning](#h2)<br/>\n",
    "   * [Remove stopwords from tweets](#h2.1)\n",
    "* [Sentiment For Modi's Tweets](#h3)\n",
    "   * [Using Bert](#h3.1)<br/>\n",
    "   * [Using Vader Sentiment](#h3.2)<br/>\n",
    "   * [Using TextBlob](#h3.3)<br/>\n",
    "* [Sentiment For Rahul Gandhi's Tweets](#h4)\n",
    "   * [Using Bert](#h4.1)<br/>\n",
    "   * [Using Vader Sentiment](#h4.2)<br/>\n",
    "   * [Using TextBlob](#h4.3)<br/>\n",
    "* [Comparative Study of Tweets sentiments of tweets from Narendra Modi & Rahul Gandhi](#h5)  \n",
    "* [Conclusion](#h6)\n",
    "---"
   ]
  },
  {
   "cell_type": "markdown",
   "id": "025c30a6",
   "metadata": {
    "papermill": {
     "duration": 0.016879,
     "end_time": "2023-06-22T14:25:13.810013",
     "exception": false,
     "start_time": "2023-06-22T14:25:13.793134",
     "status": "completed"
    },
    "tags": []
   },
   "source": [
    "<div style=\"border-radius:10px;\n",
    "            border :#0A0104 solid;\n",
    "            padding: 15px;\n",
    "            background-color:#FFF0F5   ;\n",
    "           font-size:110%;\n",
    "            text-align: left\">\n",
    "Different libraries used for sentiment analysis\n",
    "<ul>\n",
    "    <li>Bert</li>\n",
    "    <li>TextBlob</li>\n",
    "    <li>Vader Sentiment</li>\n",
    "</ul>"
   ]
  },
  {
   "cell_type": "markdown",
   "id": "7789523e",
   "metadata": {
    "papermill": {
     "duration": 0.016831,
     "end_time": "2023-06-22T14:25:13.844153",
     "exception": false,
     "start_time": "2023-06-22T14:25:13.827322",
     "status": "completed"
    },
    "tags": []
   },
   "source": [
    "<div style=\"border-radius:10px;\n",
    "        border :#0A0104 solid;\n",
    "        padding: 15px;\n",
    "        background-color:#E9F6E2;\n",
    "       font-size:110%;\n",
    "        text-align: left\">\n",
    " <span style=\"color:'blue' ;\"><center>BERT (Bidirectional Encoder Representations from Transformers) is a cutting-edge machine learning model used for NLP tasks such as text classification, sentiment analysis, text summarization, and so on.</center><br><center>TextBlob is a simple library which supports complex analysis and operations on textual data.</center><br>\n",
    "    <center>VADER (Valence Aware Dictionary and sEntiment Reasoner) is a lexicon and rule-based sentiment analysis tool that is tuned to social media sentiments but also works well on texts from other domains.</center>\n",
    "    </span>"
   ]
  },
  {
   "cell_type": "markdown",
   "id": "d08955d3",
   "metadata": {
    "papermill": {
     "duration": 0.017588,
     "end_time": "2023-06-22T14:25:13.879896",
     "exception": false,
     "start_time": "2023-06-22T14:25:13.862308",
     "status": "completed"
    },
    "tags": []
   },
   "source": [
    "<a id=\"h1\"></a>"
   ]
  },
  {
   "cell_type": "markdown",
   "id": "ba066912",
   "metadata": {
    "papermill": {
     "duration": 0.016895,
     "end_time": "2023-06-22T14:25:13.914151",
     "exception": false,
     "start_time": "2023-06-22T14:25:13.897256",
     "status": "completed"
    },
    "tags": []
   },
   "source": [
    "# <p style=\"background-color:skyblue;font-family:newtimeroman;font-size:180%;text-align:center;border-style: solid;border-color: black;border-radius: 15px 15px;\">1. Importing the Libraries 📚</p>"
   ]
  },
  {
   "cell_type": "markdown",
   "id": "1b61b9a6",
   "metadata": {
    "papermill": {
     "duration": 0.01692,
     "end_time": "2023-06-22T14:25:13.948424",
     "exception": false,
     "start_time": "2023-06-22T14:25:13.931504",
     "status": "completed"
    },
    "tags": []
   },
   "source": [
    "## <span style=\"font-family:Comic Sans MS; color:blue\">Setting the notebook theme</span>"
   ]
  },
  {
   "cell_type": "code",
   "execution_count": 1,
   "id": "04760d3b",
   "metadata": {
    "_kg_hide-output": true,
    "execution": {
     "iopub.execute_input": "2023-06-22T14:25:13.987301Z",
     "iopub.status.busy": "2023-06-22T14:25:13.986731Z",
     "iopub.status.idle": "2023-06-22T14:25:32.414159Z",
     "shell.execute_reply": "2023-06-22T14:25:32.412370Z"
    },
    "papermill": {
     "duration": 18.45163,
     "end_time": "2023-06-22T14:25:32.417995",
     "exception": false,
     "start_time": "2023-06-22T14:25:13.966365",
     "status": "completed"
    },
    "scrolled": true,
    "tags": []
   },
   "outputs": [
    {
     "name": "stdout",
     "output_type": "stream",
     "text": [
      "Collecting jupyterthemes\r\n",
      "  Downloading jupyterthemes-0.20.0-py2.py3-none-any.whl (7.0 MB)\r\n",
      "\u001b[2K     \u001b[90m━━━━━━━━━━━━━━━━━━━━━━━━━━━━━━━━━━━━━━━━\u001b[0m \u001b[32m7.0/7.0 MB\u001b[0m \u001b[31m42.4 MB/s\u001b[0m eta \u001b[36m0:00:00\u001b[0m\r\n",
      "\u001b[?25hRequirement already satisfied: jupyter-core in /opt/conda/lib/python3.7/site-packages (from jupyterthemes) (4.10.0)\r\n",
      "Requirement already satisfied: notebook>=5.6.0 in /opt/conda/lib/python3.7/site-packages (from jupyterthemes) (6.4.12)\r\n",
      "Requirement already satisfied: ipython>=5.4.1 in /opt/conda/lib/python3.7/site-packages (from jupyterthemes) (7.33.0)\r\n",
      "Requirement already satisfied: matplotlib>=1.4.3 in /opt/conda/lib/python3.7/site-packages (from jupyterthemes) (3.5.2)\r\n",
      "Collecting lesscpy>=0.11.2\r\n",
      "  Downloading lesscpy-0.15.1-py2.py3-none-any.whl (46 kB)\r\n",
      "\u001b[2K     \u001b[90m━━━━━━━━━━━━━━━━━━━━━━━━━━━━━━━━━━━━━━━━\u001b[0m \u001b[32m46.7/46.7 kB\u001b[0m \u001b[31m2.1 MB/s\u001b[0m eta \u001b[36m0:00:00\u001b[0m\r\n",
      "\u001b[?25hRequirement already satisfied: prompt-toolkit!=3.0.0,!=3.0.1,<3.1.0,>=2.0.0 in /opt/conda/lib/python3.7/site-packages (from ipython>=5.4.1->jupyterthemes) (3.0.30)\r\n",
      "Requirement already satisfied: decorator in /opt/conda/lib/python3.7/site-packages (from ipython>=5.4.1->jupyterthemes) (5.1.1)\r\n",
      "Requirement already satisfied: jedi>=0.16 in /opt/conda/lib/python3.7/site-packages (from ipython>=5.4.1->jupyterthemes) (0.18.1)\r\n",
      "Requirement already satisfied: pexpect>4.3 in /opt/conda/lib/python3.7/site-packages (from ipython>=5.4.1->jupyterthemes) (4.8.0)\r\n",
      "Requirement already satisfied: traitlets>=4.2 in /opt/conda/lib/python3.7/site-packages (from ipython>=5.4.1->jupyterthemes) (5.3.0)\r\n",
      "Requirement already satisfied: setuptools>=18.5 in /opt/conda/lib/python3.7/site-packages (from ipython>=5.4.1->jupyterthemes) (59.8.0)\r\n",
      "Requirement already satisfied: pygments in /opt/conda/lib/python3.7/site-packages (from ipython>=5.4.1->jupyterthemes) (2.12.0)\r\n",
      "Requirement already satisfied: backcall in /opt/conda/lib/python3.7/site-packages (from ipython>=5.4.1->jupyterthemes) (0.2.0)\r\n",
      "Requirement already satisfied: pickleshare in /opt/conda/lib/python3.7/site-packages (from ipython>=5.4.1->jupyterthemes) (0.7.5)\r\n",
      "Requirement already satisfied: matplotlib-inline in /opt/conda/lib/python3.7/site-packages (from ipython>=5.4.1->jupyterthemes) (0.1.3)\r\n",
      "Collecting ply\r\n",
      "  Downloading ply-3.11-py2.py3-none-any.whl (49 kB)\r\n",
      "\u001b[2K     \u001b[90m━━━━━━━━━━━━━━━━━━━━━━━━━━━━━━━━━━━━━━━━\u001b[0m \u001b[32m49.6/49.6 kB\u001b[0m \u001b[31m3.6 MB/s\u001b[0m eta \u001b[36m0:00:00\u001b[0m\r\n",
      "\u001b[?25hRequirement already satisfied: packaging>=20.0 in /opt/conda/lib/python3.7/site-packages (from matplotlib>=1.4.3->jupyterthemes) (23.0)\r\n",
      "Requirement already satisfied: kiwisolver>=1.0.1 in /opt/conda/lib/python3.7/site-packages (from matplotlib>=1.4.3->jupyterthemes) (1.4.3)\r\n",
      "Requirement already satisfied: pillow>=6.2.0 in /opt/conda/lib/python3.7/site-packages (from matplotlib>=1.4.3->jupyterthemes) (9.1.1)\r\n",
      "Requirement already satisfied: pyparsing>=2.2.1 in /opt/conda/lib/python3.7/site-packages (from matplotlib>=1.4.3->jupyterthemes) (3.0.9)\r\n",
      "Requirement already satisfied: python-dateutil>=2.7 in /opt/conda/lib/python3.7/site-packages (from matplotlib>=1.4.3->jupyterthemes) (2.8.2)\r\n",
      "Requirement already satisfied: cycler>=0.10 in /opt/conda/lib/python3.7/site-packages (from matplotlib>=1.4.3->jupyterthemes) (0.11.0)\r\n",
      "Requirement already satisfied: fonttools>=4.22.0 in /opt/conda/lib/python3.7/site-packages (from matplotlib>=1.4.3->jupyterthemes) (4.33.3)\r\n",
      "Requirement already satisfied: numpy>=1.17 in /opt/conda/lib/python3.7/site-packages (from matplotlib>=1.4.3->jupyterthemes) (1.21.6)\r\n",
      "Requirement already satisfied: Send2Trash>=1.8.0 in /opt/conda/lib/python3.7/site-packages (from notebook>=5.6.0->jupyterthemes) (1.8.0)\r\n",
      "Requirement already satisfied: ipykernel in /opt/conda/lib/python3.7/site-packages (from notebook>=5.6.0->jupyterthemes) (6.15.0)\r\n",
      "Requirement already satisfied: tornado>=6.1 in /opt/conda/lib/python3.7/site-packages (from notebook>=5.6.0->jupyterthemes) (6.1)\r\n",
      "Requirement already satisfied: terminado>=0.8.3 in /opt/conda/lib/python3.7/site-packages (from notebook>=5.6.0->jupyterthemes) (0.15.0)\r\n",
      "Requirement already satisfied: jinja2 in /opt/conda/lib/python3.7/site-packages (from notebook>=5.6.0->jupyterthemes) (3.1.2)\r\n",
      "Requirement already satisfied: jupyter-client>=5.3.4 in /opt/conda/lib/python3.7/site-packages (from notebook>=5.6.0->jupyterthemes) (7.3.4)\r\n",
      "Requirement already satisfied: nbformat in /opt/conda/lib/python3.7/site-packages (from notebook>=5.6.0->jupyterthemes) (5.4.0)\r\n",
      "Requirement already satisfied: nbconvert>=5 in /opt/conda/lib/python3.7/site-packages (from notebook>=5.6.0->jupyterthemes) (6.4.5)\r\n",
      "Requirement already satisfied: prometheus-client in /opt/conda/lib/python3.7/site-packages (from notebook>=5.6.0->jupyterthemes) (0.14.1)\r\n",
      "Requirement already satisfied: nest-asyncio>=1.5 in /opt/conda/lib/python3.7/site-packages (from notebook>=5.6.0->jupyterthemes) (1.5.5)\r\n",
      "Requirement already satisfied: argon2-cffi in /opt/conda/lib/python3.7/site-packages (from notebook>=5.6.0->jupyterthemes) (21.3.0)\r\n",
      "Requirement already satisfied: ipython-genutils in /opt/conda/lib/python3.7/site-packages (from notebook>=5.6.0->jupyterthemes) (0.2.0)\r\n",
      "Requirement already satisfied: pyzmq>=17 in /opt/conda/lib/python3.7/site-packages (from notebook>=5.6.0->jupyterthemes) (23.2.0)\r\n",
      "Requirement already satisfied: parso<0.9.0,>=0.8.0 in /opt/conda/lib/python3.7/site-packages (from jedi>=0.16->ipython>=5.4.1->jupyterthemes) (0.8.3)\r\n",
      "Requirement already satisfied: entrypoints in /opt/conda/lib/python3.7/site-packages (from jupyter-client>=5.3.4->notebook>=5.6.0->jupyterthemes) (0.4)\r\n",
      "Requirement already satisfied: typing-extensions in /opt/conda/lib/python3.7/site-packages (from kiwisolver>=1.0.1->matplotlib>=1.4.3->jupyterthemes) (4.1.1)\r\n",
      "Requirement already satisfied: jupyterlab-pygments in /opt/conda/lib/python3.7/site-packages (from nbconvert>=5->notebook>=5.6.0->jupyterthemes) (0.2.2)\r\n",
      "Requirement already satisfied: mistune<2,>=0.8.1 in /opt/conda/lib/python3.7/site-packages (from nbconvert>=5->notebook>=5.6.0->jupyterthemes) (0.8.4)\r\n",
      "Requirement already satisfied: testpath in /opt/conda/lib/python3.7/site-packages (from nbconvert>=5->notebook>=5.6.0->jupyterthemes) (0.6.0)\r\n",
      "Requirement already satisfied: beautifulsoup4 in /opt/conda/lib/python3.7/site-packages (from nbconvert>=5->notebook>=5.6.0->jupyterthemes) (4.11.1)\r\n",
      "Requirement already satisfied: bleach in /opt/conda/lib/python3.7/site-packages (from nbconvert>=5->notebook>=5.6.0->jupyterthemes) (5.0.1)\r\n",
      "Requirement already satisfied: nbclient<0.6.0,>=0.5.0 in /opt/conda/lib/python3.7/site-packages (from nbconvert>=5->notebook>=5.6.0->jupyterthemes) (0.5.13)\r\n",
      "Requirement already satisfied: pandocfilters>=1.4.1 in /opt/conda/lib/python3.7/site-packages (from nbconvert>=5->notebook>=5.6.0->jupyterthemes) (1.5.0)\r\n",
      "Requirement already satisfied: MarkupSafe>=2.0 in /opt/conda/lib/python3.7/site-packages (from nbconvert>=5->notebook>=5.6.0->jupyterthemes) (2.1.2)\r\n",
      "Requirement already satisfied: defusedxml in /opt/conda/lib/python3.7/site-packages (from nbconvert>=5->notebook>=5.6.0->jupyterthemes) (0.7.1)\r\n",
      "Requirement already satisfied: fastjsonschema in /opt/conda/lib/python3.7/site-packages (from nbformat->notebook>=5.6.0->jupyterthemes) (2.15.3)\r\n",
      "Requirement already satisfied: jsonschema>=2.6 in /opt/conda/lib/python3.7/site-packages (from nbformat->notebook>=5.6.0->jupyterthemes) (4.6.1)\r\n",
      "Requirement already satisfied: ptyprocess>=0.5 in /opt/conda/lib/python3.7/site-packages (from pexpect>4.3->ipython>=5.4.1->jupyterthemes) (0.7.0)\r\n",
      "Requirement already satisfied: wcwidth in /opt/conda/lib/python3.7/site-packages (from prompt-toolkit!=3.0.0,!=3.0.1,<3.1.0,>=2.0.0->ipython>=5.4.1->jupyterthemes) (0.2.5)\r\n",
      "Requirement already satisfied: six>=1.5 in /opt/conda/lib/python3.7/site-packages (from python-dateutil>=2.7->matplotlib>=1.4.3->jupyterthemes) (1.15.0)\r\n",
      "Requirement already satisfied: argon2-cffi-bindings in /opt/conda/lib/python3.7/site-packages (from argon2-cffi->notebook>=5.6.0->jupyterthemes) (21.2.0)\r\n",
      "Requirement already satisfied: psutil in /opt/conda/lib/python3.7/site-packages (from ipykernel->notebook>=5.6.0->jupyterthemes) (5.9.1)\r\n",
      "Requirement already satisfied: debugpy>=1.0 in /opt/conda/lib/python3.7/site-packages (from ipykernel->notebook>=5.6.0->jupyterthemes) (1.6.0)\r\n",
      "Requirement already satisfied: importlib-resources>=1.4.0 in /opt/conda/lib/python3.7/site-packages (from jsonschema>=2.6->nbformat->notebook>=5.6.0->jupyterthemes) (5.10.2)\r\n",
      "Requirement already satisfied: importlib-metadata in /opt/conda/lib/python3.7/site-packages (from jsonschema>=2.6->nbformat->notebook>=5.6.0->jupyterthemes) (6.0.0)\r\n",
      "Requirement already satisfied: attrs>=17.4.0 in /opt/conda/lib/python3.7/site-packages (from jsonschema>=2.6->nbformat->notebook>=5.6.0->jupyterthemes) (21.4.0)\r\n",
      "Requirement already satisfied: pyrsistent!=0.17.0,!=0.17.1,!=0.17.2,>=0.14.0 in /opt/conda/lib/python3.7/site-packages (from jsonschema>=2.6->nbformat->notebook>=5.6.0->jupyterthemes) (0.18.1)\r\n",
      "Requirement already satisfied: cffi>=1.0.1 in /opt/conda/lib/python3.7/site-packages (from argon2-cffi-bindings->argon2-cffi->notebook>=5.6.0->jupyterthemes) (1.15.0)\r\n",
      "Requirement already satisfied: soupsieve>1.2 in /opt/conda/lib/python3.7/site-packages (from beautifulsoup4->nbconvert>=5->notebook>=5.6.0->jupyterthemes) (2.3.1)\r\n",
      "Requirement already satisfied: webencodings in /opt/conda/lib/python3.7/site-packages (from bleach->nbconvert>=5->notebook>=5.6.0->jupyterthemes) (0.5.1)\r\n",
      "Requirement already satisfied: pycparser in /opt/conda/lib/python3.7/site-packages (from cffi>=1.0.1->argon2-cffi-bindings->argon2-cffi->notebook>=5.6.0->jupyterthemes) (2.21)\r\n",
      "Requirement already satisfied: zipp>=3.1.0 in /opt/conda/lib/python3.7/site-packages (from importlib-resources>=1.4.0->jsonschema>=2.6->nbformat->notebook>=5.6.0->jupyterthemes) (3.8.0)\r\n",
      "Installing collected packages: ply, lesscpy, jupyterthemes\r\n",
      "Successfully installed jupyterthemes-0.20.0 lesscpy-0.15.1 ply-3.11\r\n",
      "\u001b[33mWARNING: Running pip as the 'root' user can result in broken permissions and conflicting behaviour with the system package manager. It is recommended to use a virtual environment instead: https://pip.pypa.io/warnings/venv\u001b[0m\u001b[33m\r\n",
      "\u001b[0m"
     ]
    }
   ],
   "source": [
    "# install jupyterthemes\n",
    "!pip install jupyterthemes"
   ]
  },
  {
   "cell_type": "code",
   "execution_count": 2,
   "id": "58a0c08e",
   "metadata": {
    "execution": {
     "iopub.execute_input": "2023-06-22T14:25:32.461052Z",
     "iopub.status.busy": "2023-06-22T14:25:32.460506Z",
     "iopub.status.idle": "2023-06-22T14:25:35.358883Z",
     "shell.execute_reply": "2023-06-22T14:25:35.357317Z"
    },
    "papermill": {
     "duration": 2.923975,
     "end_time": "2023-06-22T14:25:35.362263",
     "exception": false,
     "start_time": "2023-06-22T14:25:32.438288",
     "status": "completed"
    },
    "tags": []
   },
   "outputs": [],
   "source": [
    "!jt -t solarizedl"
   ]
  },
  {
   "cell_type": "code",
   "execution_count": 3,
   "id": "ffad7ae0",
   "metadata": {
    "_kg_hide-output": true,
    "execution": {
     "iopub.execute_input": "2023-06-22T14:25:35.405036Z",
     "iopub.status.busy": "2023-06-22T14:25:35.404440Z",
     "iopub.status.idle": "2023-06-22T14:25:42.426704Z",
     "shell.execute_reply": "2023-06-22T14:25:42.425491Z"
    },
    "papermill": {
     "duration": 7.047693,
     "end_time": "2023-06-22T14:25:42.430099",
     "exception": false,
     "start_time": "2023-06-22T14:25:35.382406",
     "status": "completed"
    },
    "tags": []
   },
   "outputs": [
    {
     "name": "stderr",
     "output_type": "stream",
     "text": [
      "/opt/conda/lib/python3.7/site-packages/geopandas/_compat.py:115: UserWarning:\n",
      "\n",
      "The Shapely GEOS version (3.9.1-CAPI-1.14.2) is incompatible with the GEOS version PyGEOS was compiled with (3.10.4-CAPI-1.16.2). Conversions between both will be slow.\n",
      "\n"
     ]
    }
   ],
   "source": [
    "import numpy as np \n",
    "import pandas as pd \n",
    "import matplotlib.pyplot as plt\n",
    "import seaborn as sns\n",
    "import plotly.express as px\n",
    "import cufflinks as cf\n",
    "\n",
    "from transformers import AutoTokenizer, AutoModelForSequenceClassification\n",
    "import torch"
   ]
  },
  {
   "cell_type": "code",
   "execution_count": 4,
   "id": "ea8afd96",
   "metadata": {
    "_kg_hide-output": true,
    "execution": {
     "iopub.execute_input": "2023-06-22T14:25:42.473413Z",
     "iopub.status.busy": "2023-06-22T14:25:42.472327Z",
     "iopub.status.idle": "2023-06-22T14:25:58.006636Z",
     "shell.execute_reply": "2023-06-22T14:25:58.005094Z"
    },
    "papermill": {
     "duration": 15.559975,
     "end_time": "2023-06-22T14:25:58.010225",
     "exception": false,
     "start_time": "2023-06-22T14:25:42.450250",
     "status": "completed"
    },
    "tags": []
   },
   "outputs": [
    {
     "name": "stdout",
     "output_type": "stream",
     "text": [
      "Collecting vaderSentiment\r\n",
      "  Downloading vaderSentiment-3.3.2-py2.py3-none-any.whl (125 kB)\r\n",
      "\u001b[2K     \u001b[90m━━━━━━━━━━━━━━━━━━━━━━━━━━━━━━━━━━━━━━━\u001b[0m \u001b[32m126.0/126.0 kB\u001b[0m \u001b[31m4.0 MB/s\u001b[0m eta \u001b[36m0:00:00\u001b[0m\r\n",
      "\u001b[?25hRequirement already satisfied: requests in /opt/conda/lib/python3.7/site-packages (from vaderSentiment) (2.28.1)\r\n",
      "Requirement already satisfied: charset-normalizer<3,>=2 in /opt/conda/lib/python3.7/site-packages (from requests->vaderSentiment) (2.1.0)\r\n",
      "Requirement already satisfied: urllib3<1.27,>=1.21.1 in /opt/conda/lib/python3.7/site-packages (from requests->vaderSentiment) (1.26.14)\r\n",
      "Requirement already satisfied: certifi>=2017.4.17 in /opt/conda/lib/python3.7/site-packages (from requests->vaderSentiment) (2022.12.7)\r\n",
      "Requirement already satisfied: idna<4,>=2.5 in /opt/conda/lib/python3.7/site-packages (from requests->vaderSentiment) (3.3)\r\n",
      "Installing collected packages: vaderSentiment\r\n",
      "Successfully installed vaderSentiment-3.3.2\r\n",
      "\u001b[33mWARNING: Running pip as the 'root' user can result in broken permissions and conflicting behaviour with the system package manager. It is recommended to use a virtual environment instead: https://pip.pypa.io/warnings/venv\u001b[0m\u001b[33m\r\n",
      "\u001b[0m"
     ]
    }
   ],
   "source": [
    "!pip install vaderSentiment\n",
    "from vaderSentiment.vaderSentiment import SentimentIntensityAnalyzer # for polarity score"
   ]
  },
  {
   "cell_type": "markdown",
   "id": "a3ea2b93",
   "metadata": {
    "papermill": {
     "duration": 0.020667,
     "end_time": "2023-06-22T14:25:58.051907",
     "exception": false,
     "start_time": "2023-06-22T14:25:58.031240",
     "status": "completed"
    },
    "tags": []
   },
   "source": [
    "<a id=\"h1.1\"></a>"
   ]
  },
  {
   "cell_type": "markdown",
   "id": "9fe772ea",
   "metadata": {
    "execution": {
     "iopub.execute_input": "2023-01-27T15:39:48.339034Z",
     "iopub.status.busy": "2023-01-27T15:39:48.338487Z",
     "iopub.status.idle": "2023-01-27T15:39:51.074730Z",
     "shell.execute_reply": "2023-01-27T15:39:51.073180Z",
     "shell.execute_reply.started": "2023-01-27T15:39:48.338992Z"
    },
    "papermill": {
     "duration": 0.020179,
     "end_time": "2023-06-22T14:25:58.092715",
     "exception": false,
     "start_time": "2023-06-22T14:25:58.072536",
     "status": "completed"
    },
    "tags": []
   },
   "source": [
    "## <p style=\"background-color:skyblue;font-family:newtimeroman;font-size:200%;text-align:center;border-style: solid;border-color: black;border-radius: 15px 15px;\">1.1 Setting up the basic code snippets for Sentiment models</p>"
   ]
  },
  {
   "cell_type": "code",
   "execution_count": 5,
   "id": "fcd3a4dc",
   "metadata": {
    "execution": {
     "iopub.execute_input": "2023-06-22T14:25:58.137436Z",
     "iopub.status.busy": "2023-06-22T14:25:58.136830Z",
     "iopub.status.idle": "2023-06-22T14:26:26.610118Z",
     "shell.execute_reply": "2023-06-22T14:26:26.607103Z"
    },
    "papermill": {
     "duration": 28.501153,
     "end_time": "2023-06-22T14:26:26.615436",
     "exception": false,
     "start_time": "2023-06-22T14:25:58.114283",
     "status": "completed"
    },
    "tags": []
   },
   "outputs": [
    {
     "data": {
      "application/vnd.jupyter.widget-view+json": {
       "model_id": "1d986a112d2b4523a87822604f8e941f",
       "version_major": 2,
       "version_minor": 0
      },
      "text/plain": [
       "Downloading:   0%|          | 0.00/39.0 [00:00<?, ?B/s]"
      ]
     },
     "metadata": {},
     "output_type": "display_data"
    },
    {
     "data": {
      "application/vnd.jupyter.widget-view+json": {
       "model_id": "26461a26ad244adf8c23fb328cca7e21",
       "version_major": 2,
       "version_minor": 0
      },
      "text/plain": [
       "Downloading:   0%|          | 0.00/953 [00:00<?, ?B/s]"
      ]
     },
     "metadata": {},
     "output_type": "display_data"
    },
    {
     "data": {
      "application/vnd.jupyter.widget-view+json": {
       "model_id": "00e6ec5cd195482abd5ab6343d7fbd63",
       "version_major": 2,
       "version_minor": 0
      },
      "text/plain": [
       "Downloading: 0.00B [00:00, ?B/s]"
      ]
     },
     "metadata": {},
     "output_type": "display_data"
    },
    {
     "data": {
      "application/vnd.jupyter.widget-view+json": {
       "model_id": "a17dbaa0c14b4cb1b5814ee32965e44e",
       "version_major": 2,
       "version_minor": 0
      },
      "text/plain": [
       "Downloading:   0%|          | 0.00/112 [00:00<?, ?B/s]"
      ]
     },
     "metadata": {},
     "output_type": "display_data"
    },
    {
     "data": {
      "application/vnd.jupyter.widget-view+json": {
       "model_id": "c69837aab9e64396b31794f480971418",
       "version_major": 2,
       "version_minor": 0
      },
      "text/plain": [
       "Downloading:   0%|          | 0.00/638M [00:00<?, ?B/s]"
      ]
     },
     "metadata": {},
     "output_type": "display_data"
    }
   ],
   "source": [
    "#for Bert sentiment model \n",
    "\n",
    "tokenizer = AutoTokenizer.from_pretrained('nlptown/bert-base-multilingual-uncased-sentiment')\n",
    "\n",
    "model = AutoModelForSequenceClassification.from_pretrained('nlptown/bert-base-multilingual-uncased-sentiment')\n",
    "\n",
    "def sentiment_score(review):\n",
    "    tokens = tokenizer.encode(review, return_tensors='pt')\n",
    "    result = model(tokens)\n",
    "    return int(torch.argmax(result.logits))+1"
   ]
  },
  {
   "cell_type": "code",
   "execution_count": 6,
   "id": "77413846",
   "metadata": {
    "execution": {
     "iopub.execute_input": "2023-06-22T14:26:26.676982Z",
     "iopub.status.busy": "2023-06-22T14:26:26.676364Z",
     "iopub.status.idle": "2023-06-22T14:26:26.714187Z",
     "shell.execute_reply": "2023-06-22T14:26:26.712177Z"
    },
    "papermill": {
     "duration": 0.071672,
     "end_time": "2023-06-22T14:26:26.717432",
     "exception": false,
     "start_time": "2023-06-22T14:26:26.645760",
     "status": "completed"
    },
    "tags": []
   },
   "outputs": [],
   "source": [
    "# for Vader sentiment Analyzer\n",
    "\n",
    "analyser = SentimentIntensityAnalyzer()\n",
    "\n",
    "def pos(tweet):\n",
    "    SentDict = analyser.polarity_scores(tweet)\n",
    "    return SentDict['pos']\n",
    "\n",
    "def neg(tweet):\n",
    "    SentDict = analyser.polarity_scores(tweet)\n",
    "    return SentDict['neg']\n",
    "\n",
    "def neu(tweet):\n",
    "    SentDict = analyser.polarity_scores(tweet)\n",
    "    return SentDict['neu']"
   ]
  },
  {
   "cell_type": "markdown",
   "id": "21653ddc",
   "metadata": {
    "papermill": {
     "duration": 0.0238,
     "end_time": "2023-06-22T14:26:26.767403",
     "exception": false,
     "start_time": "2023-06-22T14:26:26.743603",
     "status": "completed"
    },
    "tags": []
   },
   "source": [
    "<a id=\"h2\"></a>"
   ]
  },
  {
   "cell_type": "markdown",
   "id": "a9197307",
   "metadata": {
    "papermill": {
     "duration": 0.02238,
     "end_time": "2023-06-22T14:26:26.813037",
     "exception": false,
     "start_time": "2023-06-22T14:26:26.790657",
     "status": "completed"
    },
    "tags": []
   },
   "source": [
    "# <p style=\"background-color:skyblue;font-family:newtimeroman;font-size:180%;text-align:center;border-style: solid;border-color: black;border-radius: 15px 15px;\">2. Data Loading & Cleaning</p>"
   ]
  },
  {
   "cell_type": "markdown",
   "id": "b6654a44",
   "metadata": {
    "papermill": {
     "duration": 0.022408,
     "end_time": "2023-06-22T14:26:26.859115",
     "exception": false,
     "start_time": "2023-06-22T14:26:26.836707",
     "status": "completed"
    },
    "tags": []
   },
   "source": [
    "## <span style=\"font-family:Comic Sans MS; color:blue\">Tweets from Narendra Modi's twitter account</span>"
   ]
  },
  {
   "cell_type": "code",
   "execution_count": 7,
   "id": "ae191f2f",
   "metadata": {
    "execution": {
     "iopub.execute_input": "2023-06-22T14:26:26.910034Z",
     "iopub.status.busy": "2023-06-22T14:26:26.908351Z",
     "iopub.status.idle": "2023-06-22T14:26:27.010658Z",
     "shell.execute_reply": "2023-06-22T14:26:27.008403Z"
    },
    "papermill": {
     "duration": 0.132017,
     "end_time": "2023-06-22T14:26:27.014393",
     "exception": false,
     "start_time": "2023-06-22T14:26:26.882376",
     "status": "completed"
    },
    "tags": []
   },
   "outputs": [
    {
     "data": {
      "text/html": [
       "<div>\n",
       "<style scoped>\n",
       "    .dataframe tbody tr th:only-of-type {\n",
       "        vertical-align: middle;\n",
       "    }\n",
       "\n",
       "    .dataframe tbody tr th {\n",
       "        vertical-align: top;\n",
       "    }\n",
       "\n",
       "    .dataframe thead th {\n",
       "        text-align: right;\n",
       "    }\n",
       "</style>\n",
       "<table border=\"1\" class=\"dataframe\">\n",
       "  <thead>\n",
       "    <tr style=\"text-align: right;\">\n",
       "      <th></th>\n",
       "      <th>Date</th>\n",
       "      <th>User</th>\n",
       "      <th>Tweet</th>\n",
       "    </tr>\n",
       "  </thead>\n",
       "  <tbody>\n",
       "    <tr>\n",
       "      <th>0</th>\n",
       "      <td>2019-05-12 01:17:12+00:00</td>\n",
       "      <td>narendramodi</td>\n",
       "      <td>Yet another phase of the 2019 Lok Sabha electi...</td>\n",
       "    </tr>\n",
       "    <tr>\n",
       "      <th>1</th>\n",
       "      <td>2019-05-09 02:00:26+00:00</td>\n",
       "      <td>narendramodi</td>\n",
       "      <td>Will be addressing five rallies today. \\n\\nLoo...</td>\n",
       "    </tr>\n",
       "    <tr>\n",
       "      <th>2</th>\n",
       "      <td>2019-05-08 13:41:51+00:00</td>\n",
       "      <td>narendramodi</td>\n",
       "      <td>Delhi has always given great love and affectio...</td>\n",
       "    </tr>\n",
       "    <tr>\n",
       "      <th>3</th>\n",
       "      <td>2019-05-06 01:18:46+00:00</td>\n",
       "      <td>narendramodi</td>\n",
       "      <td>Requesting all those voting in today’s fifth p...</td>\n",
       "    </tr>\n",
       "    <tr>\n",
       "      <th>4</th>\n",
       "      <td>2019-04-29 01:18:03+00:00</td>\n",
       "      <td>narendramodi</td>\n",
       "      <td>Another phase of the General Elections begins ...</td>\n",
       "    </tr>\n",
       "    <tr>\n",
       "      <th>...</th>\n",
       "      <td>...</td>\n",
       "      <td>...</td>\n",
       "      <td>...</td>\n",
       "    </tr>\n",
       "    <tr>\n",
       "      <th>60</th>\n",
       "      <td>2019-02-09 12:23:13+00:00</td>\n",
       "      <td>narendramodi</td>\n",
       "      <td>During Congress rule, the headlines from the N...</td>\n",
       "    </tr>\n",
       "    <tr>\n",
       "      <th>61</th>\n",
       "      <td>2019-02-08 01:57:45+00:00</td>\n",
       "      <td>narendramodi</td>\n",
       "      <td>In the afternoon, I will address a public meet...</td>\n",
       "    </tr>\n",
       "    <tr>\n",
       "      <th>62</th>\n",
       "      <td>2019-01-31 11:15:16+00:00</td>\n",
       "      <td>narendramodi</td>\n",
       "      <td>I thank the people of Jind for blessing @BJP4H...</td>\n",
       "    </tr>\n",
       "    <tr>\n",
       "      <th>63</th>\n",
       "      <td>2019-01-25 06:31:18+00:00</td>\n",
       "      <td>narendramodi</td>\n",
       "      <td>I urge people from all walks of life to create...</td>\n",
       "    </tr>\n",
       "    <tr>\n",
       "      <th>64</th>\n",
       "      <td>2019-01-19 16:41:47+00:00</td>\n",
       "      <td>narendramodi</td>\n",
       "      <td>They got together in Kolkata with no agenda bu...</td>\n",
       "    </tr>\n",
       "  </tbody>\n",
       "</table>\n",
       "<p>65 rows × 3 columns</p>\n",
       "</div>"
      ],
      "text/plain": [
       "                         Date          User  \\\n",
       "0   2019-05-12 01:17:12+00:00  narendramodi   \n",
       "1   2019-05-09 02:00:26+00:00  narendramodi   \n",
       "2   2019-05-08 13:41:51+00:00  narendramodi   \n",
       "3   2019-05-06 01:18:46+00:00  narendramodi   \n",
       "4   2019-04-29 01:18:03+00:00  narendramodi   \n",
       "..                        ...           ...   \n",
       "60  2019-02-09 12:23:13+00:00  narendramodi   \n",
       "61  2019-02-08 01:57:45+00:00  narendramodi   \n",
       "62  2019-01-31 11:15:16+00:00  narendramodi   \n",
       "63  2019-01-25 06:31:18+00:00  narendramodi   \n",
       "64  2019-01-19 16:41:47+00:00  narendramodi   \n",
       "\n",
       "                                                Tweet  \n",
       "0   Yet another phase of the 2019 Lok Sabha electi...  \n",
       "1   Will be addressing five rallies today. \\n\\nLoo...  \n",
       "2   Delhi has always given great love and affectio...  \n",
       "3   Requesting all those voting in today’s fifth p...  \n",
       "4   Another phase of the General Elections begins ...  \n",
       "..                                                ...  \n",
       "60  During Congress rule, the headlines from the N...  \n",
       "61  In the afternoon, I will address a public meet...  \n",
       "62  I thank the people of Jind for blessing @BJP4H...  \n",
       "63  I urge people from all walks of life to create...  \n",
       "64  They got together in Kolkata with no agenda bu...  \n",
       "\n",
       "[65 rows x 3 columns]"
      ]
     },
     "execution_count": 7,
     "metadata": {},
     "output_type": "execute_result"
    }
   ],
   "source": [
    "df_Modi = pd.read_csv('/kaggle/input/twitter-data-about-2019-indian-general-election/tweetsModi.csv',index_col=0)\n",
    "df_Modi"
   ]
  },
  {
   "cell_type": "markdown",
   "id": "6ae23f51",
   "metadata": {
    "papermill": {
     "duration": 0.023989,
     "end_time": "2023-06-22T14:26:27.064658",
     "exception": false,
     "start_time": "2023-06-22T14:26:27.040669",
     "status": "completed"
    },
    "tags": []
   },
   "source": [
    "## <span style=\"font-family:Comic Sans MS; color:blue\">Tweets from Rahul Gandhi's twitter account</span>"
   ]
  },
  {
   "cell_type": "code",
   "execution_count": 8,
   "id": "f4b7bae9",
   "metadata": {
    "execution": {
     "iopub.execute_input": "2023-06-22T14:26:27.112825Z",
     "iopub.status.busy": "2023-06-22T14:26:27.111848Z",
     "iopub.status.idle": "2023-06-22T14:26:27.139674Z",
     "shell.execute_reply": "2023-06-22T14:26:27.138118Z"
    },
    "papermill": {
     "duration": 0.055957,
     "end_time": "2023-06-22T14:26:27.143991",
     "exception": false,
     "start_time": "2023-06-22T14:26:27.088034",
     "status": "completed"
    },
    "tags": []
   },
   "outputs": [
    {
     "data": {
      "text/html": [
       "<div>\n",
       "<style scoped>\n",
       "    .dataframe tbody tr th:only-of-type {\n",
       "        vertical-align: middle;\n",
       "    }\n",
       "\n",
       "    .dataframe tbody tr th {\n",
       "        vertical-align: top;\n",
       "    }\n",
       "\n",
       "    .dataframe thead th {\n",
       "        text-align: right;\n",
       "    }\n",
       "</style>\n",
       "<table border=\"1\" class=\"dataframe\">\n",
       "  <thead>\n",
       "    <tr style=\"text-align: right;\">\n",
       "      <th></th>\n",
       "      <th>Date</th>\n",
       "      <th>User</th>\n",
       "      <th>Tweet</th>\n",
       "    </tr>\n",
       "  </thead>\n",
       "  <tbody>\n",
       "    <tr>\n",
       "      <th>0</th>\n",
       "      <td>2019-05-18 06:59:40+00:00</td>\n",
       "      <td>RahulGandhi</td>\n",
       "      <td>Greetings &amp;amp; Best Wishes on the auspicious ...</td>\n",
       "    </tr>\n",
       "    <tr>\n",
       "      <th>1</th>\n",
       "      <td>2019-05-17 12:39:41+00:00</td>\n",
       "      <td>RahulGandhi</td>\n",
       "      <td>Congratulations Modi Ji. Excellent Press Confe...</td>\n",
       "    </tr>\n",
       "    <tr>\n",
       "      <th>2</th>\n",
       "      <td>2019-05-14 10:11:18+00:00</td>\n",
       "      <td>RahulGandhi</td>\n",
       "      <td>🇮🇳 🇮🇳 🇮🇳 I'm pushing for a new language in pol...</td>\n",
       "    </tr>\n",
       "    <tr>\n",
       "      <th>3</th>\n",
       "      <td>2019-05-09 16:01:12+00:00</td>\n",
       "      <td>RahulGandhi</td>\n",
       "      <td>Dear Mr Modi,\\n\\nYour recent statements, inter...</td>\n",
       "    </tr>\n",
       "    <tr>\n",
       "      <th>4</th>\n",
       "      <td>2019-05-05 05:45:31+00:00</td>\n",
       "      <td>RahulGandhi</td>\n",
       "      <td>Modi Ji,\\n\\nThe battle is over. Your Karma awa...</td>\n",
       "    </tr>\n",
       "    <tr>\n",
       "      <th>...</th>\n",
       "      <td>...</td>\n",
       "      <td>...</td>\n",
       "      <td>...</td>\n",
       "    </tr>\n",
       "    <tr>\n",
       "      <th>59</th>\n",
       "      <td>2019-01-09 15:29:53+00:00</td>\n",
       "      <td>RahulGandhi</td>\n",
       "      <td>With all due respect Modi Ji, in our culture r...</td>\n",
       "    </tr>\n",
       "    <tr>\n",
       "      <th>60</th>\n",
       "      <td>2019-01-08 10:02:46+00:00</td>\n",
       "      <td>RahulGandhi</td>\n",
       "      <td>The truth of Rafale will destroy Mr Modi. It’s...</td>\n",
       "    </tr>\n",
       "    <tr>\n",
       "      <th>61</th>\n",
       "      <td>2019-01-03 06:41:57+00:00</td>\n",
       "      <td>RahulGandhi</td>\n",
       "      <td>So it seems our PM has fled Parliament &amp;amp; h...</td>\n",
       "    </tr>\n",
       "    <tr>\n",
       "      <th>62</th>\n",
       "      <td>2019-01-02 15:21:59+00:00</td>\n",
       "      <td>RahulGandhi</td>\n",
       "      <td>Tomorrow, the PM faces an Open Book #RafaleDea...</td>\n",
       "    </tr>\n",
       "    <tr>\n",
       "      <th>63</th>\n",
       "      <td>2019-01-01 02:55:42+00:00</td>\n",
       "      <td>RahulGandhi</td>\n",
       "      <td>I wish you all, a Happy New Year!</td>\n",
       "    </tr>\n",
       "  </tbody>\n",
       "</table>\n",
       "<p>64 rows × 3 columns</p>\n",
       "</div>"
      ],
      "text/plain": [
       "                         Date         User  \\\n",
       "0   2019-05-18 06:59:40+00:00  RahulGandhi   \n",
       "1   2019-05-17 12:39:41+00:00  RahulGandhi   \n",
       "2   2019-05-14 10:11:18+00:00  RahulGandhi   \n",
       "3   2019-05-09 16:01:12+00:00  RahulGandhi   \n",
       "4   2019-05-05 05:45:31+00:00  RahulGandhi   \n",
       "..                        ...          ...   \n",
       "59  2019-01-09 15:29:53+00:00  RahulGandhi   \n",
       "60  2019-01-08 10:02:46+00:00  RahulGandhi   \n",
       "61  2019-01-03 06:41:57+00:00  RahulGandhi   \n",
       "62  2019-01-02 15:21:59+00:00  RahulGandhi   \n",
       "63  2019-01-01 02:55:42+00:00  RahulGandhi   \n",
       "\n",
       "                                                Tweet  \n",
       "0   Greetings &amp; Best Wishes on the auspicious ...  \n",
       "1   Congratulations Modi Ji. Excellent Press Confe...  \n",
       "2   🇮🇳 🇮🇳 🇮🇳 I'm pushing for a new language in pol...  \n",
       "3   Dear Mr Modi,\\n\\nYour recent statements, inter...  \n",
       "4   Modi Ji,\\n\\nThe battle is over. Your Karma awa...  \n",
       "..                                                ...  \n",
       "59  With all due respect Modi Ji, in our culture r...  \n",
       "60  The truth of Rafale will destroy Mr Modi. It’s...  \n",
       "61  So it seems our PM has fled Parliament &amp; h...  \n",
       "62  Tomorrow, the PM faces an Open Book #RafaleDea...  \n",
       "63                  I wish you all, a Happy New Year!  \n",
       "\n",
       "[64 rows x 3 columns]"
      ]
     },
     "execution_count": 8,
     "metadata": {},
     "output_type": "execute_result"
    }
   ],
   "source": [
    "df_Rahul = pd.read_csv('/kaggle/input/twitter-data-about-2019-indian-general-election/tweetsRG.csv',index_col=0)\n",
    "df_Rahul"
   ]
  },
  {
   "cell_type": "markdown",
   "id": "1112bb4d",
   "metadata": {
    "papermill": {
     "duration": 0.022085,
     "end_time": "2023-06-22T14:26:27.188564",
     "exception": false,
     "start_time": "2023-06-22T14:26:27.166479",
     "status": "completed"
    },
    "tags": []
   },
   "source": [
    "<a id=\"h2.1\"></a>"
   ]
  },
  {
   "cell_type": "markdown",
   "id": "65d0fd1c",
   "metadata": {
    "papermill": {
     "duration": 0.02322,
     "end_time": "2023-06-22T14:26:27.234506",
     "exception": false,
     "start_time": "2023-06-22T14:26:27.211286",
     "status": "completed"
    },
    "tags": []
   },
   "source": [
    "## <p style=\"background-color:lightblue;font-family:newtimeroman;font-size:200%;text-align:center;border-style: solid;border-color: black;border-radius: 15px 15px;\">2.1 Remove stopwords from tweets</p>"
   ]
  },
  {
   "cell_type": "code",
   "execution_count": 9,
   "id": "1f4e2e03",
   "metadata": {
    "execution": {
     "iopub.execute_input": "2023-06-22T14:26:27.287498Z",
     "iopub.status.busy": "2023-06-22T14:26:27.286678Z",
     "iopub.status.idle": "2023-06-22T14:26:27.488554Z",
     "shell.execute_reply": "2023-06-22T14:26:27.486509Z"
    },
    "papermill": {
     "duration": 0.233976,
     "end_time": "2023-06-22T14:26:27.492316",
     "exception": false,
     "start_time": "2023-06-22T14:26:27.258340",
     "status": "completed"
    },
    "tags": []
   },
   "outputs": [],
   "source": [
    "from sklearn.feature_extraction import text\n",
    "stop = text.ENGLISH_STOP_WORDS\n",
    "\n",
    "# for Modi's tweets\n",
    "df_Modi['Tweet'] = df_Modi['Tweet'].apply(lambda x: ' '.join([word for word in x.split() if word not in (stop)]))\n",
    "\n",
    "# for Rahul's tweets\n",
    "df_Rahul['Tweet'] = df_Rahul['Tweet'].apply(lambda x: ' '.join([word for word in x.split() if word not in (stop)]))"
   ]
  },
  {
   "cell_type": "markdown",
   "id": "d8734ccf",
   "metadata": {
    "papermill": {
     "duration": 0.02305,
     "end_time": "2023-06-22T14:26:27.537684",
     "exception": false,
     "start_time": "2023-06-22T14:26:27.514634",
     "status": "completed"
    },
    "tags": []
   },
   "source": [
    "<a id=\"h3\"></a>"
   ]
  },
  {
   "cell_type": "markdown",
   "id": "d9b6a00e",
   "metadata": {
    "papermill": {
     "duration": 0.022691,
     "end_time": "2023-06-22T14:26:27.583075",
     "exception": false,
     "start_time": "2023-06-22T14:26:27.560384",
     "status": "completed"
    },
    "tags": []
   },
   "source": [
    "# <p style=\"background-color:skyblue;font-family:newtimeroman;font-size:200%;text-align:center;border-style: solid;border-color: black;border-radius: 15px 15px;\">3. Sentiment For Modi's Tweets</p>"
   ]
  },
  {
   "cell_type": "markdown",
   "id": "cd63fb22",
   "metadata": {
    "papermill": {
     "duration": 0.022681,
     "end_time": "2023-06-22T14:26:27.630435",
     "exception": false,
     "start_time": "2023-06-22T14:26:27.607754",
     "status": "completed"
    },
    "tags": []
   },
   "source": [
    "<a id=\"h3.1\"></a>"
   ]
  },
  {
   "cell_type": "markdown",
   "id": "275d1d0c",
   "metadata": {
    "papermill": {
     "duration": 0.022751,
     "end_time": "2023-06-22T14:26:27.677679",
     "exception": false,
     "start_time": "2023-06-22T14:26:27.654928",
     "status": "completed"
    },
    "tags": []
   },
   "source": [
    "## <p style=\"background-color:lightblue;font-family:newtimeroman;font-size:200%;text-align:center;border-style: solid;border-color: black;border-radius: 15px 15px;\">3.1 Using Bert</p>"
   ]
  },
  {
   "cell_type": "code",
   "execution_count": 10,
   "id": "442dc697",
   "metadata": {
    "execution": {
     "iopub.execute_input": "2023-06-22T14:26:27.726276Z",
     "iopub.status.busy": "2023-06-22T14:26:27.725720Z",
     "iopub.status.idle": "2023-06-22T14:26:37.166971Z",
     "shell.execute_reply": "2023-06-22T14:26:37.165033Z"
    },
    "papermill": {
     "duration": 9.470026,
     "end_time": "2023-06-22T14:26:37.170458",
     "exception": false,
     "start_time": "2023-06-22T14:26:27.700432",
     "status": "completed"
    },
    "tags": []
   },
   "outputs": [
    {
     "data": {
      "text/html": [
       "<div>\n",
       "<style scoped>\n",
       "    .dataframe tbody tr th:only-of-type {\n",
       "        vertical-align: middle;\n",
       "    }\n",
       "\n",
       "    .dataframe tbody tr th {\n",
       "        vertical-align: top;\n",
       "    }\n",
       "\n",
       "    .dataframe thead th {\n",
       "        text-align: right;\n",
       "    }\n",
       "</style>\n",
       "<table border=\"1\" class=\"dataframe\">\n",
       "  <thead>\n",
       "    <tr style=\"text-align: right;\">\n",
       "      <th></th>\n",
       "      <th>Date</th>\n",
       "      <th>User</th>\n",
       "      <th>Tweet</th>\n",
       "      <th>FinalEmotion</th>\n",
       "    </tr>\n",
       "  </thead>\n",
       "  <tbody>\n",
       "    <tr>\n",
       "      <th>0</th>\n",
       "      <td>2019-05-12 01:17:12+00:00</td>\n",
       "      <td>narendramodi</td>\n",
       "      <td>Yet phase 2019 Lok Sabha elections here! Urgin...</td>\n",
       "      <td>Neu</td>\n",
       "    </tr>\n",
       "    <tr>\n",
       "      <th>1</th>\n",
       "      <td>2019-05-09 02:00:26+00:00</td>\n",
       "      <td>narendramodi</td>\n",
       "      <td>Will addressing rallies today. Looking forward...</td>\n",
       "      <td>Pos</td>\n",
       "    </tr>\n",
       "    <tr>\n",
       "      <th>2</th>\n",
       "      <td>2019-05-08 13:41:51+00:00</td>\n",
       "      <td>narendramodi</td>\n",
       "      <td>Delhi given great love affection BJP. In short...</td>\n",
       "      <td>Pos</td>\n",
       "    </tr>\n",
       "    <tr>\n",
       "      <th>3</th>\n",
       "      <td>2019-05-06 01:18:46+00:00</td>\n",
       "      <td>narendramodi</td>\n",
       "      <td>Requesting voting today’s fifth phase 2019 Lok...</td>\n",
       "      <td>Neu</td>\n",
       "    </tr>\n",
       "    <tr>\n",
       "      <th>4</th>\n",
       "      <td>2019-04-29 01:18:03+00:00</td>\n",
       "      <td>narendramodi</td>\n",
       "      <td>Another phase General Elections begins today. ...</td>\n",
       "      <td>Neu</td>\n",
       "    </tr>\n",
       "    <tr>\n",
       "      <th>...</th>\n",
       "      <td>...</td>\n",
       "      <td>...</td>\n",
       "      <td>...</td>\n",
       "      <td>...</td>\n",
       "    </tr>\n",
       "    <tr>\n",
       "      <th>60</th>\n",
       "      <td>2019-02-09 12:23:13+00:00</td>\n",
       "      <td>narendramodi</td>\n",
       "      <td>During Congress rule, headlines Northeast indi...</td>\n",
       "      <td>Neg</td>\n",
       "    </tr>\n",
       "    <tr>\n",
       "      <th>61</th>\n",
       "      <td>2019-02-08 01:57:45+00:00</td>\n",
       "      <td>narendramodi</td>\n",
       "      <td>In afternoon, I address public meeting Mainagu...</td>\n",
       "      <td>Pos</td>\n",
       "    </tr>\n",
       "    <tr>\n",
       "      <th>62</th>\n",
       "      <td>2019-01-31 11:15:16+00:00</td>\n",
       "      <td>narendramodi</td>\n",
       "      <td>I thank people Jind blessing @BJP4Haryana. Thi...</td>\n",
       "      <td>Pos</td>\n",
       "    </tr>\n",
       "    <tr>\n",
       "      <th>63</th>\n",
       "      <td>2019-01-25 06:31:18+00:00</td>\n",
       "      <td>narendramodi</td>\n",
       "      <td>I urge people walks life create awareness vote...</td>\n",
       "      <td>Pos</td>\n",
       "    </tr>\n",
       "    <tr>\n",
       "      <th>64</th>\n",
       "      <td>2019-01-19 16:41:47+00:00</td>\n",
       "      <td>narendramodi</td>\n",
       "      <td>They got Kolkata agenda stop BJP. They talk de...</td>\n",
       "      <td>Neg</td>\n",
       "    </tr>\n",
       "  </tbody>\n",
       "</table>\n",
       "<p>65 rows × 4 columns</p>\n",
       "</div>"
      ],
      "text/plain": [
       "                         Date          User  \\\n",
       "0   2019-05-12 01:17:12+00:00  narendramodi   \n",
       "1   2019-05-09 02:00:26+00:00  narendramodi   \n",
       "2   2019-05-08 13:41:51+00:00  narendramodi   \n",
       "3   2019-05-06 01:18:46+00:00  narendramodi   \n",
       "4   2019-04-29 01:18:03+00:00  narendramodi   \n",
       "..                        ...           ...   \n",
       "60  2019-02-09 12:23:13+00:00  narendramodi   \n",
       "61  2019-02-08 01:57:45+00:00  narendramodi   \n",
       "62  2019-01-31 11:15:16+00:00  narendramodi   \n",
       "63  2019-01-25 06:31:18+00:00  narendramodi   \n",
       "64  2019-01-19 16:41:47+00:00  narendramodi   \n",
       "\n",
       "                                                Tweet FinalEmotion  \n",
       "0   Yet phase 2019 Lok Sabha elections here! Urgin...          Neu  \n",
       "1   Will addressing rallies today. Looking forward...          Pos  \n",
       "2   Delhi given great love affection BJP. In short...          Pos  \n",
       "3   Requesting voting today’s fifth phase 2019 Lok...          Neu  \n",
       "4   Another phase General Elections begins today. ...          Neu  \n",
       "..                                                ...          ...  \n",
       "60  During Congress rule, headlines Northeast indi...          Neg  \n",
       "61  In afternoon, I address public meeting Mainagu...          Pos  \n",
       "62  I thank people Jind blessing @BJP4Haryana. Thi...          Pos  \n",
       "63  I urge people walks life create awareness vote...          Pos  \n",
       "64  They got Kolkata agenda stop BJP. They talk de...          Neg  \n",
       "\n",
       "[65 rows x 4 columns]"
      ]
     },
     "execution_count": 10,
     "metadata": {},
     "output_type": "execute_result"
    }
   ],
   "source": [
    "df_Modi['FinalEmotion'] = df_Modi['Tweet'].apply(lambda x: sentiment_score(x))\n",
    "df_Modi['FinalEmotion']=df_Modi['FinalEmotion'].apply(lambda x : 'Pos' if x==5 else ('Neg' if x==1 else 'Neu'))\n",
    "df_Modi"
   ]
  },
  {
   "cell_type": "code",
   "execution_count": 11,
   "id": "10473b7a",
   "metadata": {
    "execution": {
     "iopub.execute_input": "2023-06-22T14:26:37.220057Z",
     "iopub.status.busy": "2023-06-22T14:26:37.219270Z",
     "iopub.status.idle": "2023-06-22T14:26:37.540159Z",
     "shell.execute_reply": "2023-06-22T14:26:37.538453Z"
    },
    "papermill": {
     "duration": 0.349424,
     "end_time": "2023-06-22T14:26:37.543802",
     "exception": false,
     "start_time": "2023-06-22T14:26:37.194378",
     "status": "completed"
    },
    "tags": []
   },
   "outputs": [
    {
     "data": {
      "image/png": "[encoded data removed]",
      "text/plain": [
       "<Figure size 1080x720 with 1 Axes>"
      ]
     },
     "metadata": {},
     "output_type": "display_data"
    }
   ],
   "source": [
    "# Plot counting total number of positive, negative and neutral emotions\n",
    "sns.set_style(\"darkgrid\")\n",
    "plt.figure(figsize=(15,10))\n",
    "ax = sns.countplot(x=df_Modi['FinalEmotion'],palette=['#808080','#00FF00',\"#FF0000\"])\n",
    "ax.set_title('Narendra Modi\\'s Personal Tweets')\n",
    "plt.show()"
   ]
  },
  {
   "cell_type": "markdown",
   "id": "c7f13f5c",
   "metadata": {
    "papermill": {
     "duration": 0.022646,
     "end_time": "2023-06-22T14:26:37.591429",
     "exception": false,
     "start_time": "2023-06-22T14:26:37.568783",
     "status": "completed"
    },
    "tags": []
   },
   "source": [
    "<a id=\"h3.2\"></a>"
   ]
  },
  {
   "cell_type": "markdown",
   "id": "5de241a9",
   "metadata": {
    "papermill": {
     "duration": 0.02423,
     "end_time": "2023-06-22T14:26:37.640761",
     "exception": false,
     "start_time": "2023-06-22T14:26:37.616531",
     "status": "completed"
    },
    "tags": []
   },
   "source": [
    "## <p style=\"background-color:lightblue;font-family:newtimeroman;font-size:200%;text-align:center;border-style: solid;border-color: black;border-radius: 15px 15px;\">3.2 Using Vader Sentiment</p>"
   ]
  },
  {
   "cell_type": "code",
   "execution_count": 12,
   "id": "39993fc5",
   "metadata": {
    "execution": {
     "iopub.execute_input": "2023-06-22T14:26:37.691762Z",
     "iopub.status.busy": "2023-06-22T14:26:37.689981Z",
     "iopub.status.idle": "2023-06-22T14:26:37.833513Z",
     "shell.execute_reply": "2023-06-22T14:26:37.832474Z"
    },
    "papermill": {
     "duration": 0.171277,
     "end_time": "2023-06-22T14:26:37.836508",
     "exception": false,
     "start_time": "2023-06-22T14:26:37.665231",
     "status": "completed"
    },
    "tags": []
   },
   "outputs": [
    {
     "data": {
      "text/html": [
       "<div>\n",
       "<style scoped>\n",
       "    .dataframe tbody tr th:only-of-type {\n",
       "        vertical-align: middle;\n",
       "    }\n",
       "\n",
       "    .dataframe tbody tr th {\n",
       "        vertical-align: top;\n",
       "    }\n",
       "\n",
       "    .dataframe thead th {\n",
       "        text-align: right;\n",
       "    }\n",
       "</style>\n",
       "<table border=\"1\" class=\"dataframe\">\n",
       "  <thead>\n",
       "    <tr style=\"text-align: right;\">\n",
       "      <th></th>\n",
       "      <th>Date</th>\n",
       "      <th>User</th>\n",
       "      <th>Tweet</th>\n",
       "      <th>pos</th>\n",
       "      <th>neg</th>\n",
       "      <th>neu</th>\n",
       "      <th>FinalEmotion</th>\n",
       "    </tr>\n",
       "  </thead>\n",
       "  <tbody>\n",
       "    <tr>\n",
       "      <th>0</th>\n",
       "      <td>2019-05-12 01:17:12+00:00</td>\n",
       "      <td>narendramodi</td>\n",
       "      <td>Yet phase 2019 Lok Sabha elections here! Urgin...</td>\n",
       "      <td>0.197</td>\n",
       "      <td>0.000</td>\n",
       "      <td>0.803</td>\n",
       "      <td>neutral</td>\n",
       "    </tr>\n",
       "    <tr>\n",
       "      <th>1</th>\n",
       "      <td>2019-05-09 02:00:26+00:00</td>\n",
       "      <td>narendramodi</td>\n",
       "      <td>Will addressing rallies today. Looking forward...</td>\n",
       "      <td>0.304</td>\n",
       "      <td>0.000</td>\n",
       "      <td>0.696</td>\n",
       "      <td>neutral</td>\n",
       "    </tr>\n",
       "    <tr>\n",
       "      <th>2</th>\n",
       "      <td>2019-05-08 13:41:51+00:00</td>\n",
       "      <td>narendramodi</td>\n",
       "      <td>Delhi given great love affection BJP. In short...</td>\n",
       "      <td>0.461</td>\n",
       "      <td>0.000</td>\n",
       "      <td>0.539</td>\n",
       "      <td>neutral</td>\n",
       "    </tr>\n",
       "    <tr>\n",
       "      <th>3</th>\n",
       "      <td>2019-05-06 01:18:46+00:00</td>\n",
       "      <td>narendramodi</td>\n",
       "      <td>Requesting voting today’s fifth phase 2019 Lok...</td>\n",
       "      <td>0.333</td>\n",
       "      <td>0.000</td>\n",
       "      <td>0.667</td>\n",
       "      <td>neutral</td>\n",
       "    </tr>\n",
       "    <tr>\n",
       "      <th>4</th>\n",
       "      <td>2019-04-29 01:18:03+00:00</td>\n",
       "      <td>narendramodi</td>\n",
       "      <td>Another phase General Elections begins today. ...</td>\n",
       "      <td>0.183</td>\n",
       "      <td>0.000</td>\n",
       "      <td>0.817</td>\n",
       "      <td>neutral</td>\n",
       "    </tr>\n",
       "    <tr>\n",
       "      <th>...</th>\n",
       "      <td>...</td>\n",
       "      <td>...</td>\n",
       "      <td>...</td>\n",
       "      <td>...</td>\n",
       "      <td>...</td>\n",
       "      <td>...</td>\n",
       "      <td>...</td>\n",
       "    </tr>\n",
       "    <tr>\n",
       "      <th>60</th>\n",
       "      <td>2019-02-09 12:23:13+00:00</td>\n",
       "      <td>narendramodi</td>\n",
       "      <td>During Congress rule, headlines Northeast indi...</td>\n",
       "      <td>0.246</td>\n",
       "      <td>0.156</td>\n",
       "      <td>0.599</td>\n",
       "      <td>neutral</td>\n",
       "    </tr>\n",
       "    <tr>\n",
       "      <th>61</th>\n",
       "      <td>2019-02-08 01:57:45+00:00</td>\n",
       "      <td>narendramodi</td>\n",
       "      <td>In afternoon, I address public meeting Mainagu...</td>\n",
       "      <td>0.178</td>\n",
       "      <td>0.000</td>\n",
       "      <td>0.822</td>\n",
       "      <td>neutral</td>\n",
       "    </tr>\n",
       "    <tr>\n",
       "      <th>62</th>\n",
       "      <td>2019-01-31 11:15:16+00:00</td>\n",
       "      <td>narendramodi</td>\n",
       "      <td>I thank people Jind blessing @BJP4Haryana. Thi...</td>\n",
       "      <td>0.500</td>\n",
       "      <td>0.000</td>\n",
       "      <td>0.500</td>\n",
       "      <td>positive</td>\n",
       "    </tr>\n",
       "    <tr>\n",
       "      <th>63</th>\n",
       "      <td>2019-01-25 06:31:18+00:00</td>\n",
       "      <td>narendramodi</td>\n",
       "      <td>I urge people walks life create awareness vote...</td>\n",
       "      <td>0.215</td>\n",
       "      <td>0.000</td>\n",
       "      <td>0.785</td>\n",
       "      <td>neutral</td>\n",
       "    </tr>\n",
       "    <tr>\n",
       "      <th>64</th>\n",
       "      <td>2019-01-19 16:41:47+00:00</td>\n",
       "      <td>narendramodi</td>\n",
       "      <td>They got Kolkata agenda stop BJP. They talk de...</td>\n",
       "      <td>0.322</td>\n",
       "      <td>0.062</td>\n",
       "      <td>0.616</td>\n",
       "      <td>neutral</td>\n",
       "    </tr>\n",
       "  </tbody>\n",
       "</table>\n",
       "<p>65 rows × 7 columns</p>\n",
       "</div>"
      ],
      "text/plain": [
       "                         Date          User  \\\n",
       "0   2019-05-12 01:17:12+00:00  narendramodi   \n",
       "1   2019-05-09 02:00:26+00:00  narendramodi   \n",
       "2   2019-05-08 13:41:51+00:00  narendramodi   \n",
       "3   2019-05-06 01:18:46+00:00  narendramodi   \n",
       "4   2019-04-29 01:18:03+00:00  narendramodi   \n",
       "..                        ...           ...   \n",
       "60  2019-02-09 12:23:13+00:00  narendramodi   \n",
       "61  2019-02-08 01:57:45+00:00  narendramodi   \n",
       "62  2019-01-31 11:15:16+00:00  narendramodi   \n",
       "63  2019-01-25 06:31:18+00:00  narendramodi   \n",
       "64  2019-01-19 16:41:47+00:00  narendramodi   \n",
       "\n",
       "                                                Tweet    pos    neg    neu  \\\n",
       "0   Yet phase 2019 Lok Sabha elections here! Urgin...  0.197  0.000  0.803   \n",
       "1   Will addressing rallies today. Looking forward...  0.304  0.000  0.696   \n",
       "2   Delhi given great love affection BJP. In short...  0.461  0.000  0.539   \n",
       "3   Requesting voting today’s fifth phase 2019 Lok...  0.333  0.000  0.667   \n",
       "4   Another phase General Elections begins today. ...  0.183  0.000  0.817   \n",
       "..                                                ...    ...    ...    ...   \n",
       "60  During Congress rule, headlines Northeast indi...  0.246  0.156  0.599   \n",
       "61  In afternoon, I address public meeting Mainagu...  0.178  0.000  0.822   \n",
       "62  I thank people Jind blessing @BJP4Haryana. Thi...  0.500  0.000  0.500   \n",
       "63  I urge people walks life create awareness vote...  0.215  0.000  0.785   \n",
       "64  They got Kolkata agenda stop BJP. They talk de...  0.322  0.062  0.616   \n",
       "\n",
       "   FinalEmotion  \n",
       "0       neutral  \n",
       "1       neutral  \n",
       "2       neutral  \n",
       "3       neutral  \n",
       "4       neutral  \n",
       "..          ...  \n",
       "60      neutral  \n",
       "61      neutral  \n",
       "62     positive  \n",
       "63      neutral  \n",
       "64      neutral  \n",
       "\n",
       "[65 rows x 7 columns]"
      ]
     },
     "execution_count": 12,
     "metadata": {},
     "output_type": "execute_result"
    }
   ],
   "source": [
    "df_Modi.drop('FinalEmotion',axis=1, inplace=True)\n",
    "\n",
    "#  By Using Vader sentiment Analyzer\n",
    "\n",
    "analyser = SentimentIntensityAnalyzer() # For polarity calculation\n",
    "\n",
    "# positive polarity score calculator\n",
    "def pos(tweet):\n",
    "    SentDict = analyser.polarity_scores(tweet)\n",
    "    return SentDict['pos']\n",
    "\n",
    "# negative polarity score calculator\n",
    "def neg(tweet):\n",
    "    SentDict = analyser.polarity_scores(tweet)\n",
    "    return SentDict['neg']\n",
    "\n",
    "# ne polarity score calculator\n",
    "def neu(tweet):\n",
    "    SentDict = analyser.polarity_scores(tweet)\n",
    "    return SentDict['neu']\n",
    "\n",
    "# Applying on tweets\n",
    "df_Modi['pos'] = df_Modi['Tweet'].apply(lambda x :pos(x))\n",
    "df_Modi['neg'] = df_Modi['Tweet'].apply(lambda x :neg(x))\n",
    "df_Modi['neu'] = df_Modi['Tweet'].apply(lambda x :neu(x))\n",
    "\n",
    "# Final Emotions\n",
    "ggez=[]\n",
    "for i in range(0,65):\n",
    "    ggez.append(max(df_Modi['pos'][i],df_Modi['neu'][i],df_Modi['neg'][i]))\n",
    "\n",
    "df_Modi['FinalEmotion']=ggez\n",
    "for i in range(0,65):\n",
    "    if df_Modi['FinalEmotion'][i]==df_Modi['pos'][i]:\n",
    "        df_Modi['FinalEmotion'][i]='positive'\n",
    "    elif df_Modi['FinalEmotion'][i]==df_Modi['neg'][i]:\n",
    "        df_Modi['FinalEmotion'][i]='negative' \n",
    "    elif df_Modi['FinalEmotion'][i]==df_Modi['neu'][i]:\n",
    "        df_Modi['FinalEmotion'][i]='neutral'\n",
    "df_Modi"
   ]
  },
  {
   "cell_type": "code",
   "execution_count": 13,
   "id": "68697830",
   "metadata": {
    "execution": {
     "iopub.execute_input": "2023-06-22T14:26:37.890259Z",
     "iopub.status.busy": "2023-06-22T14:26:37.888532Z",
     "iopub.status.idle": "2023-06-22T14:26:38.149473Z",
     "shell.execute_reply": "2023-06-22T14:26:38.148330Z"
    },
    "papermill": {
     "duration": 0.292305,
     "end_time": "2023-06-22T14:26:38.152541",
     "exception": false,
     "start_time": "2023-06-22T14:26:37.860236",
     "status": "completed"
    },
    "tags": []
   },
   "outputs": [
    {
     "data": {
      "image/png": "[encoded data removed]",
      "text/plain": [
       "<Figure size 864x720 with 1 Axes>"
      ]
     },
     "metadata": {},
     "output_type": "display_data"
    }
   ],
   "source": [
    "# Count of neutral and positive emotions count\n",
    "plt.figure(figsize=(12,10))\n",
    "ax = sns.countplot(x=df_Modi['FinalEmotion'],palette=['#808080','#00FF00',\"#FF0000\"])\n",
    "ax.set_title('Narendra Modi\\'s Personal Tweets')\n",
    "plt.show()"
   ]
  },
  {
   "cell_type": "markdown",
   "id": "ecea7b34",
   "metadata": {
    "papermill": {
     "duration": 0.024222,
     "end_time": "2023-06-22T14:26:38.202882",
     "exception": false,
     "start_time": "2023-06-22T14:26:38.178660",
     "status": "completed"
    },
    "tags": []
   },
   "source": [
    "<a id=\"h3.3\"></a>"
   ]
  },
  {
   "cell_type": "markdown",
   "id": "9f0b7e56",
   "metadata": {
    "papermill": {
     "duration": 0.024573,
     "end_time": "2023-06-22T14:26:38.251864",
     "exception": false,
     "start_time": "2023-06-22T14:26:38.227291",
     "status": "completed"
    },
    "tags": []
   },
   "source": [
    "## <p style=\"background-color:lightblue;font-family:newtimeroman;font-size:200%;text-align:center;border-style: solid;border-color: black;border-radius: 15px 15px;\">3.3 Using TextBlob</p>"
   ]
  },
  {
   "cell_type": "code",
   "execution_count": 14,
   "id": "8c5acbb7",
   "metadata": {
    "_kg_hide-input": false,
    "execution": {
     "iopub.execute_input": "2023-06-22T14:26:38.304222Z",
     "iopub.status.busy": "2023-06-22T14:26:38.303418Z",
     "iopub.status.idle": "2023-06-22T14:26:40.032287Z",
     "shell.execute_reply": "2023-06-22T14:26:40.030523Z"
    },
    "papermill": {
     "duration": 1.758938,
     "end_time": "2023-06-22T14:26:40.035650",
     "exception": false,
     "start_time": "2023-06-22T14:26:38.276712",
     "status": "completed"
    },
    "tags": []
   },
   "outputs": [
    {
     "data": {
      "image/png": "[encoded data removed]",
      "text/plain": [
       "<Figure size 720x720 with 1 Axes>"
      ]
     },
     "metadata": {},
     "output_type": "display_data"
    }
   ],
   "source": [
    "# By Textblob\n",
    "\n",
    "from textblob import TextBlob\n",
    "\n",
    "bloblist_desc = list()\n",
    "\n",
    "twit=df_Modi['Tweet'].astype(str)\n",
    "for row in twit:\n",
    "    blob = TextBlob(row)\n",
    "    bloblist_desc.append((row,blob.sentiment.polarity, blob.sentiment.subjectivity))\n",
    "    twit_polarity_desc = pd.DataFrame(bloblist_desc, columns = ['sentence','sentiment','polarity'])\n",
    "    \n",
    "def f(twit_polarity_desc):\n",
    "    if twit_polarity_desc['sentiment'] > 0:\n",
    "        val = \"Positive\"\n",
    "    elif twit_polarity_desc['sentiment'] == 0:\n",
    "        val = \"Neutral\"\n",
    "    else:\n",
    "        val = \"Negative\"\n",
    "    return val\n",
    "\n",
    "twit_polarity_desc['Sentiment_Type'] = twit_polarity_desc.apply(f, axis=1)\n",
    "\n",
    "plt.figure(figsize=(10,10))\n",
    "ax = sns.countplot(x=\"Sentiment_Type\", data=twit_polarity_desc)\n",
    "ax.set_title('Narendra Modi\\'s Personal Tweets')\n",
    "plt.show()"
   ]
  },
  {
   "cell_type": "markdown",
   "id": "68942a0c",
   "metadata": {
    "papermill": {
     "duration": 0.026044,
     "end_time": "2023-06-22T14:26:40.091274",
     "exception": false,
     "start_time": "2023-06-22T14:26:40.065230",
     "status": "completed"
    },
    "tags": []
   },
   "source": [
    "<a id=\"h4\"></a>"
   ]
  },
  {
   "cell_type": "markdown",
   "id": "cfdfe060",
   "metadata": {
    "papermill": {
     "duration": 0.024611,
     "end_time": "2023-06-22T14:26:40.140375",
     "exception": false,
     "start_time": "2023-06-22T14:26:40.115764",
     "status": "completed"
    },
    "tags": []
   },
   "source": [
    "# <p style=\"background-color:skyblue;font-family:newtimeroman;font-size:200%;text-align:center;border-style: solid;border-color: black;border-radius: 15px 15px;\">4. Sentiment For Rahul Gandhi's Tweets</p>"
   ]
  },
  {
   "cell_type": "markdown",
   "id": "16bf8fc0",
   "metadata": {
    "papermill": {
     "duration": 0.025267,
     "end_time": "2023-06-22T14:26:40.191985",
     "exception": false,
     "start_time": "2023-06-22T14:26:40.166718",
     "status": "completed"
    },
    "tags": []
   },
   "source": [
    "<a id=\"h4.1\"></a>"
   ]
  },
  {
   "cell_type": "markdown",
   "id": "50a040f9",
   "metadata": {
    "papermill": {
     "duration": 0.024512,
     "end_time": "2023-06-22T14:26:40.241736",
     "exception": false,
     "start_time": "2023-06-22T14:26:40.217224",
     "status": "completed"
    },
    "tags": []
   },
   "source": [
    "## <p style=\"background-color:lightblue;font-family:newtimeroman;font-size:200%;text-align:center;border-style: solid;border-color: black;border-radius: 15px 15px;\">4.1 Using Bert</p>"
   ]
  },
  {
   "cell_type": "code",
   "execution_count": 15,
   "id": "bc3b006d",
   "metadata": {
    "execution": {
     "iopub.execute_input": "2023-06-22T14:26:40.296761Z",
     "iopub.status.busy": "2023-06-22T14:26:40.295721Z",
     "iopub.status.idle": "2023-06-22T14:26:48.520316Z",
     "shell.execute_reply": "2023-06-22T14:26:48.518787Z"
    },
    "papermill": {
     "duration": 8.255837,
     "end_time": "2023-06-22T14:26:48.523611",
     "exception": false,
     "start_time": "2023-06-22T14:26:40.267774",
     "status": "completed"
    },
    "tags": []
   },
   "outputs": [
    {
     "data": {
      "text/html": [
       "<div>\n",
       "<style scoped>\n",
       "    .dataframe tbody tr th:only-of-type {\n",
       "        vertical-align: middle;\n",
       "    }\n",
       "\n",
       "    .dataframe tbody tr th {\n",
       "        vertical-align: top;\n",
       "    }\n",
       "\n",
       "    .dataframe thead th {\n",
       "        text-align: right;\n",
       "    }\n",
       "</style>\n",
       "<table border=\"1\" class=\"dataframe\">\n",
       "  <thead>\n",
       "    <tr style=\"text-align: right;\">\n",
       "      <th></th>\n",
       "      <th>Date</th>\n",
       "      <th>User</th>\n",
       "      <th>Tweet</th>\n",
       "      <th>FinalEmotion</th>\n",
       "    </tr>\n",
       "  </thead>\n",
       "  <tbody>\n",
       "    <tr>\n",
       "      <th>0</th>\n",
       "      <td>2019-05-18 06:59:40+00:00</td>\n",
       "      <td>RahulGandhi</td>\n",
       "      <td>Greetings &amp;amp; Best Wishes auspicious occasio...</td>\n",
       "      <td>Pos</td>\n",
       "    </tr>\n",
       "    <tr>\n",
       "      <th>1</th>\n",
       "      <td>2019-05-17 12:39:41+00:00</td>\n",
       "      <td>RahulGandhi</td>\n",
       "      <td>Congratulations Modi Ji. Excellent Press Confe...</td>\n",
       "      <td>Pos</td>\n",
       "    </tr>\n",
       "    <tr>\n",
       "      <th>2</th>\n",
       "      <td>2019-05-14 10:11:18+00:00</td>\n",
       "      <td>RahulGandhi</td>\n",
       "      <td>🇮🇳 🇮🇳 🇮🇳 I'm pushing new language politics. Le...</td>\n",
       "      <td>Neg</td>\n",
       "    </tr>\n",
       "    <tr>\n",
       "      <th>3</th>\n",
       "      <td>2019-05-09 16:01:12+00:00</td>\n",
       "      <td>RahulGandhi</td>\n",
       "      <td>Dear Mr Modi, Your recent statements, intervie...</td>\n",
       "      <td>Neu</td>\n",
       "    </tr>\n",
       "    <tr>\n",
       "      <th>4</th>\n",
       "      <td>2019-05-05 05:45:31+00:00</td>\n",
       "      <td>RahulGandhi</td>\n",
       "      <td>Modi Ji, The battle over. Your Karma awaits yo...</td>\n",
       "      <td>Pos</td>\n",
       "    </tr>\n",
       "    <tr>\n",
       "      <th>...</th>\n",
       "      <td>...</td>\n",
       "      <td>...</td>\n",
       "      <td>...</td>\n",
       "      <td>...</td>\n",
       "    </tr>\n",
       "    <tr>\n",
       "      <th>59</th>\n",
       "      <td>2019-01-09 15:29:53+00:00</td>\n",
       "      <td>RahulGandhi</td>\n",
       "      <td>With respect Modi Ji, culture respect women be...</td>\n",
       "      <td>Neg</td>\n",
       "    </tr>\n",
       "    <tr>\n",
       "      <th>60</th>\n",
       "      <td>2019-01-08 10:02:46+00:00</td>\n",
       "      <td>RahulGandhi</td>\n",
       "      <td>The truth Rafale destroy Mr Modi. It’s questio...</td>\n",
       "      <td>Neg</td>\n",
       "    </tr>\n",
       "    <tr>\n",
       "      <th>61</th>\n",
       "      <td>2019-01-03 06:41:57+00:00</td>\n",
       "      <td>RahulGandhi</td>\n",
       "      <td>So PM fled Parliament &amp;amp; open book Rafale e...</td>\n",
       "      <td>Neg</td>\n",
       "    </tr>\n",
       "    <tr>\n",
       "      <th>62</th>\n",
       "      <td>2019-01-02 15:21:59+00:00</td>\n",
       "      <td>RahulGandhi</td>\n",
       "      <td>Tomorrow, PM faces Open Book #RafaleDeal Exam ...</td>\n",
       "      <td>Neg</td>\n",
       "    </tr>\n",
       "    <tr>\n",
       "      <th>63</th>\n",
       "      <td>2019-01-01 02:55:42+00:00</td>\n",
       "      <td>RahulGandhi</td>\n",
       "      <td>I wish all, Happy New Year!</td>\n",
       "      <td>Pos</td>\n",
       "    </tr>\n",
       "  </tbody>\n",
       "</table>\n",
       "<p>64 rows × 4 columns</p>\n",
       "</div>"
      ],
      "text/plain": [
       "                         Date         User  \\\n",
       "0   2019-05-18 06:59:40+00:00  RahulGandhi   \n",
       "1   2019-05-17 12:39:41+00:00  RahulGandhi   \n",
       "2   2019-05-14 10:11:18+00:00  RahulGandhi   \n",
       "3   2019-05-09 16:01:12+00:00  RahulGandhi   \n",
       "4   2019-05-05 05:45:31+00:00  RahulGandhi   \n",
       "..                        ...          ...   \n",
       "59  2019-01-09 15:29:53+00:00  RahulGandhi   \n",
       "60  2019-01-08 10:02:46+00:00  RahulGandhi   \n",
       "61  2019-01-03 06:41:57+00:00  RahulGandhi   \n",
       "62  2019-01-02 15:21:59+00:00  RahulGandhi   \n",
       "63  2019-01-01 02:55:42+00:00  RahulGandhi   \n",
       "\n",
       "                                                Tweet FinalEmotion  \n",
       "0   Greetings &amp; Best Wishes auspicious occasio...          Pos  \n",
       "1   Congratulations Modi Ji. Excellent Press Confe...          Pos  \n",
       "2   🇮🇳 🇮🇳 🇮🇳 I'm pushing new language politics. Le...          Neg  \n",
       "3   Dear Mr Modi, Your recent statements, intervie...          Neu  \n",
       "4   Modi Ji, The battle over. Your Karma awaits yo...          Pos  \n",
       "..                                                ...          ...  \n",
       "59  With respect Modi Ji, culture respect women be...          Neg  \n",
       "60  The truth Rafale destroy Mr Modi. It’s questio...          Neg  \n",
       "61  So PM fled Parliament &amp; open book Rafale e...          Neg  \n",
       "62  Tomorrow, PM faces Open Book #RafaleDeal Exam ...          Neg  \n",
       "63                        I wish all, Happy New Year!          Pos  \n",
       "\n",
       "[64 rows x 4 columns]"
      ]
     },
     "execution_count": 15,
     "metadata": {},
     "output_type": "execute_result"
    }
   ],
   "source": [
    "df_Rahul['FinalEmotion'] = df_Rahul['Tweet'].apply(lambda x: sentiment_score(x))\n",
    "df_Rahul['FinalEmotion']=df_Rahul['FinalEmotion'].apply(lambda x : 'Pos' if x==5 else ('Neg' if x==1 else 'Neu'))\n",
    "df_Rahul"
   ]
  },
  {
   "cell_type": "code",
   "execution_count": 16,
   "id": "1fd86baa",
   "metadata": {
    "_kg_hide-input": false,
    "execution": {
     "iopub.execute_input": "2023-06-22T14:26:48.578556Z",
     "iopub.status.busy": "2023-06-22T14:26:48.578006Z",
     "iopub.status.idle": "2023-06-22T14:26:48.825706Z",
     "shell.execute_reply": "2023-06-22T14:26:48.824363Z"
    },
    "papermill": {
     "duration": 0.279644,
     "end_time": "2023-06-22T14:26:48.829539",
     "exception": false,
     "start_time": "2023-06-22T14:26:48.549895",
     "status": "completed"
    },
    "tags": []
   },
   "outputs": [
    {
     "data": {
      "image/png": "[encoded data removed]",
      "text/plain": [
       "<Figure size 1080x720 with 1 Axes>"
      ]
     },
     "metadata": {},
     "output_type": "display_data"
    }
   ],
   "source": [
    "plt.figure(figsize=(15,10))\n",
    "ax = sns.countplot(x=df_Rahul['FinalEmotion'],palette=['#00FF00',\"#FF0000\",'#808080'])\n",
    "ax.set_title('Rahul Gandhi\\'s Personal Tweets')\n",
    "plt.show()"
   ]
  },
  {
   "cell_type": "markdown",
   "id": "a4f1f000",
   "metadata": {
    "papermill": {
     "duration": 0.025683,
     "end_time": "2023-06-22T14:26:48.881150",
     "exception": false,
     "start_time": "2023-06-22T14:26:48.855467",
     "status": "completed"
    },
    "tags": []
   },
   "source": [
    "<a id=\"h4.2\"></a>"
   ]
  },
  {
   "cell_type": "markdown",
   "id": "1a71686b",
   "metadata": {
    "papermill": {
     "duration": 0.026258,
     "end_time": "2023-06-22T14:26:48.933514",
     "exception": false,
     "start_time": "2023-06-22T14:26:48.907256",
     "status": "completed"
    },
    "tags": []
   },
   "source": [
    "## <p style=\"background-color:lightblue;font-family:newtimeroman;font-size:200%;text-align:center;border-style: solid;border-color: black;border-radius: 15px 15px;\">4.2 Using Vader Sentiment</p>"
   ]
  },
  {
   "cell_type": "code",
   "execution_count": 17,
   "id": "fe2af5f1",
   "metadata": {
    "execution": {
     "iopub.execute_input": "2023-06-22T14:26:48.990356Z",
     "iopub.status.busy": "2023-06-22T14:26:48.989336Z",
     "iopub.status.idle": "2023-06-22T14:26:49.091569Z",
     "shell.execute_reply": "2023-06-22T14:26:49.090223Z"
    },
    "papermill": {
     "duration": 0.133814,
     "end_time": "2023-06-22T14:26:49.094852",
     "exception": false,
     "start_time": "2023-06-22T14:26:48.961038",
     "status": "completed"
    },
    "tags": []
   },
   "outputs": [],
   "source": [
    "df_Rahul['pos'] = df_Rahul['Tweet'].apply(lambda x :pos(x))\n",
    "df_Rahul['neg'] = df_Rahul['Tweet'].apply(lambda x :neg(x))\n",
    "df_Rahul['neu'] = df_Rahul['Tweet'].apply(lambda x :neu(x))\n",
    "\n",
    "ggez=[]\n",
    "for i in range(0,64):\n",
    "    ggez.append(max(df_Rahul['pos'][i],df_Rahul['neu'][i],df_Rahul['neg'][i]))\n",
    "\n",
    "df_Rahul['FinalEmotion']=ggez\n",
    "\n",
    "for i in range(0,64):\n",
    "    if df_Rahul['FinalEmotion'][i]==df_Rahul['pos'][i]:\n",
    "        df_Rahul['FinalEmotion'][i]='positive'\n",
    "    elif df_Rahul['FinalEmotion'][i]==df_Rahul['neg'][i]:\n",
    "        df_Rahul['FinalEmotion'][i]='negative' \n",
    "    elif df_Rahul['FinalEmotion'][i]==df_Rahul['neu'][i]:\n",
    "        df_Rahul['FinalEmotion'][i]='neutral'"
   ]
  },
  {
   "cell_type": "code",
   "execution_count": 18,
   "id": "7cf79ea9",
   "metadata": {
    "execution": {
     "iopub.execute_input": "2023-06-22T14:26:49.150783Z",
     "iopub.status.busy": "2023-06-22T14:26:49.149603Z",
     "iopub.status.idle": "2023-06-22T14:26:49.162314Z",
     "shell.execute_reply": "2023-06-22T14:26:49.160240Z"
    },
    "papermill": {
     "duration": 0.045965,
     "end_time": "2023-06-22T14:26:49.166125",
     "exception": false,
     "start_time": "2023-06-22T14:26:49.120160",
     "status": "completed"
    },
    "tags": []
   },
   "outputs": [
    {
     "data": {
      "text/plain": [
       "neutral     50\n",
       "positive    10\n",
       "negative     4\n",
       "Name: FinalEmotion, dtype: int64"
      ]
     },
     "execution_count": 18,
     "metadata": {},
     "output_type": "execute_result"
    }
   ],
   "source": [
    "df_Rahul['FinalEmotion'].value_counts()"
   ]
  },
  {
   "cell_type": "code",
   "execution_count": 19,
   "id": "6d4ac4a5",
   "metadata": {
    "_kg_hide-input": false,
    "execution": {
     "iopub.execute_input": "2023-06-22T14:26:49.224353Z",
     "iopub.status.busy": "2023-06-22T14:26:49.223332Z",
     "iopub.status.idle": "2023-06-22T14:26:49.419883Z",
     "shell.execute_reply": "2023-06-22T14:26:49.418435Z"
    },
    "papermill": {
     "duration": 0.229336,
     "end_time": "2023-06-22T14:26:49.422810",
     "exception": false,
     "start_time": "2023-06-22T14:26:49.193474",
     "status": "completed"
    },
    "tags": []
   },
   "outputs": [
    {
     "data": {
      "image/png": "[encoded data removed]",
      "text/plain": [
       "<Figure size 864x720 with 1 Axes>"
      ]
     },
     "metadata": {},
     "output_type": "display_data"
    }
   ],
   "source": [
    "plt.figure(figsize=(12,10))\n",
    "ax = sns.countplot(x=df_Rahul['FinalEmotion'],palette=['#808080','#00FF00',\"#FF0000\"])\n",
    "ax.set_title('Rahul Gandhi\\'s Personal Tweets')\n",
    "plt.show()"
   ]
  },
  {
   "cell_type": "markdown",
   "id": "f94815e0",
   "metadata": {
    "papermill": {
     "duration": 0.030033,
     "end_time": "2023-06-22T14:26:49.480245",
     "exception": false,
     "start_time": "2023-06-22T14:26:49.450212",
     "status": "completed"
    },
    "tags": []
   },
   "source": [
    "<a id=\"h4.3\"></a>"
   ]
  },
  {
   "cell_type": "markdown",
   "id": "7874c180",
   "metadata": {
    "papermill": {
     "duration": 0.026677,
     "end_time": "2023-06-22T14:26:49.534202",
     "exception": false,
     "start_time": "2023-06-22T14:26:49.507525",
     "status": "completed"
    },
    "tags": []
   },
   "source": [
    "## <p style=\"background-color:lightblue;font-family:newtimeroman;font-size:200%;text-align:center;border-style: solid;border-color: black;border-radius: 15px 15px;\">4.3 Using TextBlob</p>"
   ]
  },
  {
   "cell_type": "code",
   "execution_count": 20,
   "id": "e5b99e7a",
   "metadata": {
    "_kg_hide-input": false,
    "execution": {
     "iopub.execute_input": "2023-06-22T14:26:49.591404Z",
     "iopub.status.busy": "2023-06-22T14:26:49.590536Z",
     "iopub.status.idle": "2023-06-22T14:26:49.866965Z",
     "shell.execute_reply": "2023-06-22T14:26:49.865264Z"
    },
    "papermill": {
     "duration": 0.307986,
     "end_time": "2023-06-22T14:26:49.870094",
     "exception": false,
     "start_time": "2023-06-22T14:26:49.562108",
     "status": "completed"
    },
    "tags": []
   },
   "outputs": [
    {
     "data": {
      "image/png": "[encoded data removed]",
      "text/plain": [
       "<Figure size 720x720 with 1 Axes>"
      ]
     },
     "metadata": {},
     "output_type": "display_data"
    }
   ],
   "source": [
    "bloblist_desc = list()\n",
    "\n",
    "twit=df_Rahul['Tweet'].astype(str)\n",
    "for row in twit:\n",
    "    blob = TextBlob(row)\n",
    "    bloblist_desc.append((row,blob.sentiment.polarity, blob.sentiment.subjectivity))\n",
    "    twit_polarity_desc = pd.DataFrame(bloblist_desc, columns = ['sentence','sentiment','polarity'])\n",
    "    \n",
    "def f(twit_polarity_desc):\n",
    "    if twit_polarity_desc['sentiment'] > 0:\n",
    "        val = \"Positive\"\n",
    "    elif twit_polarity_desc['sentiment'] == 0:\n",
    "        val = \"Neutral\"\n",
    "    else:\n",
    "        val = \"Negative\"\n",
    "    return val\n",
    "\n",
    "twit_polarity_desc['Sentiment_Type'] = twit_polarity_desc.apply(f, axis=1)\n",
    "\n",
    "plt.figure(figsize=(10,10))\n",
    "ax = sns.countplot(x=\"Sentiment_Type\", data=twit_polarity_desc)\n",
    "ax.set_title('Rahul Gandhi\\'s Personal Tweets')\n",
    "plt.show()"
   ]
  },
  {
   "cell_type": "markdown",
   "id": "8d5b1fc7",
   "metadata": {
    "papermill": {
     "duration": 0.025598,
     "end_time": "2023-06-22T14:26:49.922411",
     "exception": false,
     "start_time": "2023-06-22T14:26:49.896813",
     "status": "completed"
    },
    "tags": []
   },
   "source": [
    "<a id=\"h5\"></a>"
   ]
  },
  {
   "cell_type": "markdown",
   "id": "9cb013c7",
   "metadata": {
    "papermill": {
     "duration": 0.026682,
     "end_time": "2023-06-22T14:26:49.976889",
     "exception": false,
     "start_time": "2023-06-22T14:26:49.950207",
     "status": "completed"
    },
    "tags": []
   },
   "source": [
    "# <p style=\"background-color:skyblue;font-family:newtimeroman;font-size:150%;text-align:center;border-style: solid;border-color: black;border-radius: 15px 15px;\">5. Comparative Study of Tweets sentiments of tweets from <br>Narendra Modi & Rahul Gandhi</p>"
   ]
  },
  {
   "cell_type": "code",
   "execution_count": 21,
   "id": "858cd724",
   "metadata": {
    "execution": {
     "iopub.execute_input": "2023-06-22T14:26:50.034318Z",
     "iopub.status.busy": "2023-06-22T14:26:50.033734Z",
     "iopub.status.idle": "2023-06-22T14:26:50.063843Z",
     "shell.execute_reply": "2023-06-22T14:26:50.062063Z"
    },
    "papermill": {
     "duration": 0.06319,
     "end_time": "2023-06-22T14:26:50.067391",
     "exception": false,
     "start_time": "2023-06-22T14:26:50.004201",
     "status": "completed"
    },
    "tags": []
   },
   "outputs": [
    {
     "data": {
      "text/html": [
       "<div>\n",
       "<style scoped>\n",
       "    .dataframe tbody tr th:only-of-type {\n",
       "        vertical-align: middle;\n",
       "    }\n",
       "\n",
       "    .dataframe tbody tr th {\n",
       "        vertical-align: top;\n",
       "    }\n",
       "\n",
       "    .dataframe thead th {\n",
       "        text-align: right;\n",
       "    }\n",
       "</style>\n",
       "<table border=\"1\" class=\"dataframe\">\n",
       "  <thead>\n",
       "    <tr style=\"text-align: right;\">\n",
       "      <th></th>\n",
       "      <th>Date</th>\n",
       "      <th>User</th>\n",
       "      <th>Tweet</th>\n",
       "      <th>pos</th>\n",
       "      <th>neg</th>\n",
       "      <th>neu</th>\n",
       "      <th>FinalEmotion</th>\n",
       "    </tr>\n",
       "  </thead>\n",
       "  <tbody>\n",
       "    <tr>\n",
       "      <th>0</th>\n",
       "      <td>2019-05-12 01:17:12+00:00</td>\n",
       "      <td>narendramodi</td>\n",
       "      <td>Yet phase 2019 Lok Sabha elections here! Urgin...</td>\n",
       "      <td>0.197</td>\n",
       "      <td>0.000</td>\n",
       "      <td>0.803</td>\n",
       "      <td>neutral</td>\n",
       "    </tr>\n",
       "    <tr>\n",
       "      <th>1</th>\n",
       "      <td>2019-05-09 02:00:26+00:00</td>\n",
       "      <td>narendramodi</td>\n",
       "      <td>Will addressing rallies today. Looking forward...</td>\n",
       "      <td>0.304</td>\n",
       "      <td>0.000</td>\n",
       "      <td>0.696</td>\n",
       "      <td>neutral</td>\n",
       "    </tr>\n",
       "    <tr>\n",
       "      <th>2</th>\n",
       "      <td>2019-05-08 13:41:51+00:00</td>\n",
       "      <td>narendramodi</td>\n",
       "      <td>Delhi given great love affection BJP. In short...</td>\n",
       "      <td>0.461</td>\n",
       "      <td>0.000</td>\n",
       "      <td>0.539</td>\n",
       "      <td>neutral</td>\n",
       "    </tr>\n",
       "    <tr>\n",
       "      <th>3</th>\n",
       "      <td>2019-05-06 01:18:46+00:00</td>\n",
       "      <td>narendramodi</td>\n",
       "      <td>Requesting voting today’s fifth phase 2019 Lok...</td>\n",
       "      <td>0.333</td>\n",
       "      <td>0.000</td>\n",
       "      <td>0.667</td>\n",
       "      <td>neutral</td>\n",
       "    </tr>\n",
       "    <tr>\n",
       "      <th>4</th>\n",
       "      <td>2019-04-29 01:18:03+00:00</td>\n",
       "      <td>narendramodi</td>\n",
       "      <td>Another phase General Elections begins today. ...</td>\n",
       "      <td>0.183</td>\n",
       "      <td>0.000</td>\n",
       "      <td>0.817</td>\n",
       "      <td>neutral</td>\n",
       "    </tr>\n",
       "    <tr>\n",
       "      <th>...</th>\n",
       "      <td>...</td>\n",
       "      <td>...</td>\n",
       "      <td>...</td>\n",
       "      <td>...</td>\n",
       "      <td>...</td>\n",
       "      <td>...</td>\n",
       "      <td>...</td>\n",
       "    </tr>\n",
       "    <tr>\n",
       "      <th>124</th>\n",
       "      <td>2019-01-09 15:29:53+00:00</td>\n",
       "      <td>RahulGandhi</td>\n",
       "      <td>With respect Modi Ji, culture respect women be...</td>\n",
       "      <td>0.337</td>\n",
       "      <td>0.100</td>\n",
       "      <td>0.564</td>\n",
       "      <td>neutral</td>\n",
       "    </tr>\n",
       "    <tr>\n",
       "      <th>125</th>\n",
       "      <td>2019-01-08 10:02:46+00:00</td>\n",
       "      <td>RahulGandhi</td>\n",
       "      <td>The truth Rafale destroy Mr Modi. It’s questio...</td>\n",
       "      <td>0.232</td>\n",
       "      <td>0.131</td>\n",
       "      <td>0.637</td>\n",
       "      <td>neutral</td>\n",
       "    </tr>\n",
       "    <tr>\n",
       "      <th>126</th>\n",
       "      <td>2019-01-03 06:41:57+00:00</td>\n",
       "      <td>RahulGandhi</td>\n",
       "      <td>So PM fled Parliament &amp;amp; open book Rafale e...</td>\n",
       "      <td>0.188</td>\n",
       "      <td>0.000</td>\n",
       "      <td>0.812</td>\n",
       "      <td>neutral</td>\n",
       "    </tr>\n",
       "    <tr>\n",
       "      <th>127</th>\n",
       "      <td>2019-01-02 15:21:59+00:00</td>\n",
       "      <td>RahulGandhi</td>\n",
       "      <td>Tomorrow, PM faces Open Book #RafaleDeal Exam ...</td>\n",
       "      <td>0.000</td>\n",
       "      <td>0.000</td>\n",
       "      <td>1.000</td>\n",
       "      <td>neutral</td>\n",
       "    </tr>\n",
       "    <tr>\n",
       "      <th>128</th>\n",
       "      <td>2019-01-01 02:55:42+00:00</td>\n",
       "      <td>RahulGandhi</td>\n",
       "      <td>I wish all, Happy New Year!</td>\n",
       "      <td>0.626</td>\n",
       "      <td>0.000</td>\n",
       "      <td>0.374</td>\n",
       "      <td>positive</td>\n",
       "    </tr>\n",
       "  </tbody>\n",
       "</table>\n",
       "<p>129 rows × 7 columns</p>\n",
       "</div>"
      ],
      "text/plain": [
       "                          Date          User  \\\n",
       "0    2019-05-12 01:17:12+00:00  narendramodi   \n",
       "1    2019-05-09 02:00:26+00:00  narendramodi   \n",
       "2    2019-05-08 13:41:51+00:00  narendramodi   \n",
       "3    2019-05-06 01:18:46+00:00  narendramodi   \n",
       "4    2019-04-29 01:18:03+00:00  narendramodi   \n",
       "..                         ...           ...   \n",
       "124  2019-01-09 15:29:53+00:00   RahulGandhi   \n",
       "125  2019-01-08 10:02:46+00:00   RahulGandhi   \n",
       "126  2019-01-03 06:41:57+00:00   RahulGandhi   \n",
       "127  2019-01-02 15:21:59+00:00   RahulGandhi   \n",
       "128  2019-01-01 02:55:42+00:00   RahulGandhi   \n",
       "\n",
       "                                                 Tweet    pos    neg    neu  \\\n",
       "0    Yet phase 2019 Lok Sabha elections here! Urgin...  0.197  0.000  0.803   \n",
       "1    Will addressing rallies today. Looking forward...  0.304  0.000  0.696   \n",
       "2    Delhi given great love affection BJP. In short...  0.461  0.000  0.539   \n",
       "3    Requesting voting today’s fifth phase 2019 Lok...  0.333  0.000  0.667   \n",
       "4    Another phase General Elections begins today. ...  0.183  0.000  0.817   \n",
       "..                                                 ...    ...    ...    ...   \n",
       "124  With respect Modi Ji, culture respect women be...  0.337  0.100  0.564   \n",
       "125  The truth Rafale destroy Mr Modi. It’s questio...  0.232  0.131  0.637   \n",
       "126  So PM fled Parliament &amp; open book Rafale e...  0.188  0.000  0.812   \n",
       "127  Tomorrow, PM faces Open Book #RafaleDeal Exam ...  0.000  0.000  1.000   \n",
       "128                        I wish all, Happy New Year!  0.626  0.000  0.374   \n",
       "\n",
       "    FinalEmotion  \n",
       "0        neutral  \n",
       "1        neutral  \n",
       "2        neutral  \n",
       "3        neutral  \n",
       "4        neutral  \n",
       "..           ...  \n",
       "124      neutral  \n",
       "125      neutral  \n",
       "126      neutral  \n",
       "127      neutral  \n",
       "128     positive  \n",
       "\n",
       "[129 rows x 7 columns]"
      ]
     },
     "execution_count": 21,
     "metadata": {},
     "output_type": "execute_result"
    }
   ],
   "source": [
    "# Combining Both The Dataframes \n",
    "\n",
    "dfNR=pd.concat([df_Modi,df_Rahul], axis=0)\n",
    "dfNR=dfNR.reset_index(drop=True)\n",
    "dfNR"
   ]
  },
  {
   "cell_type": "code",
   "execution_count": 22,
   "id": "a1702691",
   "metadata": {
    "_kg_hide-input": false,
    "execution": {
     "iopub.execute_input": "2023-06-22T14:26:50.126047Z",
     "iopub.status.busy": "2023-06-22T14:26:50.125487Z",
     "iopub.status.idle": "2023-06-22T14:26:50.325992Z",
     "shell.execute_reply": "2023-06-22T14:26:50.324522Z"
    },
    "papermill": {
     "duration": 0.233412,
     "end_time": "2023-06-22T14:26:50.329603",
     "exception": false,
     "start_time": "2023-06-22T14:26:50.096191",
     "status": "completed"
    },
    "tags": []
   },
   "outputs": [
    {
     "data": {
      "image/png": "[encoded data removed]",
      "text/plain": [
       "<Figure size 720x576 with 1 Axes>"
      ]
     },
     "metadata": {},
     "output_type": "display_data"
    }
   ],
   "source": [
    "plt.figure(figsize=(10,8))\n",
    "dfNR.groupby(['User']).count().Tweet.plot(kind='bar',title='Tweet Count - Narendra Modi vs Rahul Gandhi',edgecolor='black',color=['cornflowerblue','lightcoral'])\n",
    "plt.show()"
   ]
  },
  {
   "cell_type": "code",
   "execution_count": 23,
   "id": "c4c4b3ea",
   "metadata": {
    "_kg_hide-input": false,
    "execution": {
     "iopub.execute_input": "2023-06-22T14:26:50.388482Z",
     "iopub.status.busy": "2023-06-22T14:26:50.386813Z",
     "iopub.status.idle": "2023-06-22T14:26:50.649669Z",
     "shell.execute_reply": "2023-06-22T14:26:50.647995Z"
    },
    "papermill": {
     "duration": 0.296091,
     "end_time": "2023-06-22T14:26:50.653892",
     "exception": false,
     "start_time": "2023-06-22T14:26:50.357801",
     "status": "completed"
    },
    "tags": []
   },
   "outputs": [
    {
     "data": {
      "image/png": "[encoded data removed]",
      "text/plain": [
       "<Figure size 720x576 with 1 Axes>"
      ]
     },
     "metadata": {},
     "output_type": "display_data"
    }
   ],
   "source": [
    "plt.figure(figsize=(10,8))\n",
    "dfNR.groupby(['FinalEmotion']).count().Tweet.plot(kind='bar',title='Overall Emotion Combined',edgecolor='black',color=['cornflowerblue','lightcoral'])\n",
    "plt.show()"
   ]
  },
  {
   "cell_type": "code",
   "execution_count": 24,
   "id": "7bb6718b",
   "metadata": {
    "execution": {
     "iopub.execute_input": "2023-06-22T14:26:50.712992Z",
     "iopub.status.busy": "2023-06-22T14:26:50.712455Z",
     "iopub.status.idle": "2023-06-22T14:26:51.503570Z",
     "shell.execute_reply": "2023-06-22T14:26:51.502394Z"
    },
    "papermill": {
     "duration": 0.825251,
     "end_time": "2023-06-22T14:26:51.507425",
     "exception": false,
     "start_time": "2023-06-22T14:26:50.682174",
     "status": "completed"
    },
    "tags": []
   },
   "outputs": [
    {
     "data": {
      "image/png": "[encoded data removed]",
      "text/plain": [
       "<Figure size 864x432 with 1 Axes>"
      ]
     },
     "metadata": {},
     "output_type": "display_data"
    },
    {
     "data": {
      "image/png": "[encoded data removed]",
      "text/plain": [
       "<Figure size 792x360 with 2 Axes>"
      ]
     },
     "metadata": {},
     "output_type": "display_data"
    }
   ],
   "source": [
    "plt.figure(figsize=(12,6))\n",
    "\n",
    "dfNR[['neg','pos','neu']].sum().plot(kind='bar',title='Overall combined Emotion score sum of the tweets of both the candidate ',edgecolor='black',color=['orange','white','cornflowerblue'])\n",
    "plt.show()\n",
    "\n",
    "plt.figure(figsize=(11,5))\n",
    "plt.subplot(1,2,1)\n",
    "df_Modi[['neg','pos','neu']].sum().plot(kind='bar',title=\"Overall polarity scores for Narendra Modi's tweets\",edgecolor='black',color=['orange','white','cornflowerblue'])\n",
    "\n",
    "plt.subplot(1,2,2)\n",
    "df_Rahul[['neg','pos','neu']].sum().plot(kind='bar',title=\"Overall polarity scores for Rahul Gandhi's tweets\",edgecolor='black',color=['orange','white','cornflowerblue'])\n",
    "\n",
    "plt.tight_layout()\n",
    "plt.show()"
   ]
  },
  {
   "cell_type": "markdown",
   "id": "a72b2d9d",
   "metadata": {
    "papermill": {
     "duration": 0.028554,
     "end_time": "2023-06-22T14:26:51.576374",
     "exception": false,
     "start_time": "2023-06-22T14:26:51.547820",
     "status": "completed"
    },
    "tags": []
   },
   "source": [
    "<a id=\"h6\"></a>"
   ]
  },
  {
   "cell_type": "markdown",
   "id": "59570c6a",
   "metadata": {
    "papermill": {
     "duration": 0.030418,
     "end_time": "2023-06-22T14:26:51.639179",
     "exception": false,
     "start_time": "2023-06-22T14:26:51.608761",
     "status": "completed"
    },
    "tags": []
   },
   "source": [
    "# <p style=\"background-color:skyblue;font-family:newtimeroman;font-size:180%;text-align:center;border-style: solid;border-color: black;border-radius: 15px 15px;\">6. Results and Conclusion</p>"
   ]
  },
  {
   "cell_type": "markdown",
   "id": "b00ce9b2",
   "metadata": {
    "papermill": {
     "duration": 0.029925,
     "end_time": "2023-06-22T14:26:51.701307",
     "exception": false,
     "start_time": "2023-06-22T14:26:51.671382",
     "status": "completed"
    },
    "tags": []
   },
   "source": [
    "So conclusion from above visualizations:\n",
    "\n",
    "1. Both candidate have RELATIVELY same no. of tweets so we can assume somewhat same engagement from both sides.\n",
    "2. Though if we see the negative polarity score is more for Rahul Gandhi's tweets than Narendra Modi's tweets, It may be beneficial for both the sides as Rahul Gandhi is the leader of opposition and Modi was present PM at that time, But POSITIVE APPROACH OF MODI'S TWEETS MAY BE SLIGHTLY MORE THAN GANDHI'S NEGATIVE TWEETS.\n",
    "\n",
    "[⩞ Top ⩞](#top)\n",
    "___\n",
    "\n",
    "<span style=\"font-family:Comic Sans MS; color:navy\"><strong>Waiting for your valuable feedback</strong></span>\n",
    "<blockquote><h2><span style=\"color:navy\">T</span><span style=\"color:blue\">h</span><span style=\"color:green\">a</span><span style=\"color:red\">n</span><span style=\"color:red\">k</span> <span style=\"color:green\">y</span><span style=\"color:blue\">o</span><span style=\"color:navy\">u</span> 🙂</h2></blockquote>"
   ]
  }
 ],
 "metadata": {
  "kernelspec": {
   "display_name": "Python 3",
   "language": "python",
   "name": "python3"
  },
  "language_info": {
   "codemirror_mode": {
    "name": "ipython",
    "version": 3
   },
   "file_extension": ".py",
   "mimetype": "text/x-python",
   "name": "python",
   "nbconvert_exporter": "python",
   "pygments_lexer": "ipython3",
   "version": "3.7.12"
  },
  "papermill": {
   "default_parameters": {},
   "duration": 116.172186,
   "end_time": "2023-06-22T14:26:54.323019",
   "environment_variables": {},
   "exception": null,
   "input_path": "__notebook__.ipynb",
   "output_path": "__notebook__.ipynb",
   "parameters": {},
   "start_time": "2023-06-22T14:24:58.150833",
   "version": "2.3.4"
  },
  "widgets": {
   "application/vnd.jupyter.widget-state+json": {
    "state": {
     "00e6ec5cd195482abd5ab6343d7fbd63": {
      "model_module": "@jupyter-widgets/controls",
      "model_module_version": "1.5.0",
      "model_name": "HBoxModel",
      "state": {
       "_dom_classes": [],
       "_model_module": "@jupyter-widgets/controls",
       "_model_module_version": "1.5.0",
       "_model_name": "HBoxModel",
       "_view_count": null,
       "_view_module": "@jupyter-widgets/controls",
       "_view_module_version": "1.5.0",
       "_view_name": "HBoxView",
       "box_style": "",
       "children": [
        "IPY_MODEL_12dd9b1e3fe14a09a5ca6c7dd84185a7",
        "IPY_MODEL_1ba4bba654d445df9444ff371ee76943",
        "IPY_MODEL_46466252d2a642ba9ab6d78f8fddabf6"
       ],
       "layout": "IPY_MODEL_404109692f3b477ea58703bc54f51611"
      }
     },
     "0bb628a524d84230a4e6d9c6680008bf": {
      "model_module": "@jupyter-widgets/base",
      "model_module_version": "1.2.0",
      "model_name": "LayoutModel",
      "state": {
       "_model_module": "@jupyter-widgets/base",
       "_model_module_version": "1.2.0",
       "_model_name": "LayoutModel",
       "_view_count": null,
       "_view_module": "@jupyter-widgets/base",
       "_view_module_version": "1.2.0",
       "_view_name": "LayoutView",
       "align_content": null,
       "align_items": null,
       "align_self": null,
       "border": null,
       "bottom": null,
       "display": null,
       "flex": null,
       "flex_flow": null,
       "grid_area": null,
       "grid_auto_columns": null,
       "grid_auto_flow": null,
       "grid_auto_rows": null,
       "grid_column": null,
       "grid_gap": null,
       "grid_row": null,
       "grid_template_areas": null,
       "grid_template_columns": null,
       "grid_template_rows": null,
       "height": null,
       "justify_content": null,
       "justify_items": null,
       "left": null,
       "margin": null,
       "max_height": null,
       "max_width": null,
       "min_height": null,
       "min_width": null,
       "object_fit": null,
       "object_position": null,
       "order": null,
       "overflow": null,
       "overflow_x": null,
       "overflow_y": null,
       "padding": null,
       "right": null,
       "top": null,
       "visibility": null,
       "width": null
      }
     },
     "0ee799ae50064a0785f9c9fd70dc190d": {
      "model_module": "@jupyter-widgets/base",
      "model_module_version": "1.2.0",
      "model_name": "LayoutModel",
      "state": {
       "_model_module": "@jupyter-widgets/base",
       "_model_module_version": "1.2.0",
       "_model_name": "LayoutModel",
       "_view_count": null,
       "_view_module": "@jupyter-widgets/base",
       "_view_module_version": "1.2.0",
       "_view_name": "LayoutView",
       "align_content": null,
       "align_items": null,
       "align_self": null,
       "border": null,
       "bottom": null,
       "display": null,
       "flex": null,
       "flex_flow": null,
       "grid_area": null,
       "grid_auto_columns": null,
       "grid_auto_flow": null,
       "grid_auto_rows": null,
       "grid_column": null,
       "grid_gap": null,
       "grid_row": null,
       "grid_template_areas": null,
       "grid_template_columns": null,
       "grid_template_rows": null,
       "height": null,
       "justify_content": null,
       "justify_items": null,
       "left": null,
       "margin": null,
       "max_height": null,
       "max_width": null,
       "min_height": null,
       "min_width": null,
       "object_fit": null,
       "object_position": null,
       "order": null,
       "overflow": null,
       "overflow_x": null,
       "overflow_y": null,
       "padding": null,
       "right": null,
       "top": null,
       "visibility": null,
       "width": null
      }
     },
     "0f12f75872354659ab5fb93bfc240a8d": {
      "model_module": "@jupyter-widgets/controls",
      "model_module_version": "1.5.0",
      "model_name": "DescriptionStyleModel",
      "state": {
       "_model_module": "@jupyter-widgets/controls",
       "_model_module_version": "1.5.0",
       "_model_name": "DescriptionStyleModel",
       "_view_count": null,
       "_view_module": "@jupyter-widgets/base",
       "_view_module_version": "1.2.0",
       "_view_name": "StyleView",
       "description_width": ""
      }
     },
     "0f6eef7bf55b42b18872524d2ed0fecf": {
      "model_module": "@jupyter-widgets/controls",
      "model_module_version": "1.5.0",
      "model_name": "HTMLModel",
      "state": {
       "_dom_classes": [],
       "_model_module": "@jupyter-widgets/controls",
       "_model_module_version": "1.5.0",
       "_model_name": "HTMLModel",
       "_view_count": null,
       "_view_module": "@jupyter-widgets/controls",
       "_view_module_version": "1.5.0",
       "_view_name": "HTMLView",
       "description": "",
       "description_tooltip": null,
       "layout": "IPY_MODEL_d4bfb032a35743f3818e07672e585d6d",
       "placeholder": "​",
       "style": "IPY_MODEL_0f12f75872354659ab5fb93bfc240a8d",
       "value": "Downloading: 100%"
      }
     },
     "12dd9b1e3fe14a09a5ca6c7dd84185a7": {
      "model_module": "@jupyter-widgets/controls",
      "model_module_version": "1.5.0",
      "model_name": "HTMLModel",
      "state": {
       "_dom_classes": [],
       "_model_module": "@jupyter-widgets/controls",
       "_model_module_version": "1.5.0",
       "_model_name": "HTMLModel",
       "_view_count": null,
       "_view_module": "@jupyter-widgets/controls",
       "_view_module_version": "1.5.0",
       "_view_name": "HTMLView",
       "description": "",
       "description_tooltip": null,
       "layout": "IPY_MODEL_6a33274064af40968930a75cc6b51d5b",
       "placeholder": "​",
       "style": "IPY_MODEL_214b43da99a74a2d910c572c412b3dda",
       "value": "Downloading: "
      }
     },
     "1682e936e7f74808b7fd706da66fd345": {
      "model_module": "@jupyter-widgets/controls",
      "model_module_version": "1.5.0",
      "model_name": "FloatProgressModel",
      "state": {
       "_dom_classes": [],
       "_model_module": "@jupyter-widgets/controls",
       "_model_module_version": "1.5.0",
       "_model_name": "FloatProgressModel",
       "_view_count": null,
       "_view_module": "@jupyter-widgets/controls",
       "_view_module_version": "1.5.0",
       "_view_name": "ProgressView",
       "bar_style": "success",
       "description": "",
       "description_tooltip": null,
       "layout": "IPY_MODEL_7925574a6fbd4e3ebf282fcc0683c130",
       "max": 112.0,
       "min": 0.0,
       "orientation": "horizontal",
       "style": "IPY_MODEL_79e59e09e97f46dfa18ffd9b6e90122e",
       "value": 112.0
      }
     },
     "193652deed2d49e5b797f9883ae89a73": {
      "model_module": "@jupyter-widgets/controls",
      "model_module_version": "1.5.0",
      "model_name": "DescriptionStyleModel",
      "state": {
       "_model_module": "@jupyter-widgets/controls",
       "_model_module_version": "1.5.0",
       "_model_name": "DescriptionStyleModel",
       "_view_count": null,
       "_view_module": "@jupyter-widgets/base",
       "_view_module_version": "1.2.0",
       "_view_name": "StyleView",
       "description_width": ""
      }
     },
     "1ba4bba654d445df9444ff371ee76943": {
      "model_module": "@jupyter-widgets/controls",
      "model_module_version": "1.5.0",
      "model_name": "FloatProgressModel",
      "state": {
       "_dom_classes": [],
       "_model_module": "@jupyter-widgets/controls",
       "_model_module_version": "1.5.0",
       "_model_name": "FloatProgressModel",
       "_view_count": null,
       "_view_module": "@jupyter-widgets/controls",
       "_view_module_version": "1.5.0",
       "_view_name": "ProgressView",
       "bar_style": "success",
       "description": "",
       "description_tooltip": null,
       "layout": "IPY_MODEL_ef2984a2b077463bb6c34e3fea489b21",
       "max": 1.0,
       "min": 0.0,
       "orientation": "horizontal",
       "style": "IPY_MODEL_6209628856294a6789bd83bc75c39711",
       "value": 1.0
      }
     },
     "1d986a112d2b4523a87822604f8e941f": {
      "model_module": "@jupyter-widgets/controls",
      "model_module_version": "1.5.0",
      "model_name": "HBoxModel",
      "state": {
       "_dom_classes": [],
       "_model_module": "@jupyter-widgets/controls",
       "_model_module_version": "1.5.0",
       "_model_name": "HBoxModel",
       "_view_count": null,
       "_view_module": "@jupyter-widgets/controls",
       "_view_module_version": "1.5.0",
       "_view_name": "HBoxView",
       "box_style": "",
       "children": [
        "IPY_MODEL_773e3acc49e3440f92f67f7b84c7520a",
        "IPY_MODEL_a68fd5ad40994916aaa1f459dbfa6103",
        "IPY_MODEL_6bcdbae183a24a75a57e7f53b14eec7b"
       ],
       "layout": "IPY_MODEL_35cf85ba78e34da9af5036a48622900b"
      }
     },
     "214b43da99a74a2d910c572c412b3dda": {
      "model_module": "@jupyter-widgets/controls",
      "model_module_version": "1.5.0",
      "model_name": "DescriptionStyleModel",
      "state": {
       "_model_module": "@jupyter-widgets/controls",
       "_model_module_version": "1.5.0",
       "_model_name": "DescriptionStyleModel",
       "_view_count": null,
       "_view_module": "@jupyter-widgets/base",
       "_view_module_version": "1.2.0",
       "_view_name": "StyleView",
       "description_width": ""
      }
     },
     "26461a26ad244adf8c23fb328cca7e21": {
      "model_module": "@jupyter-widgets/controls",
      "model_module_version": "1.5.0",
      "model_name": "HBoxModel",
      "state": {
       "_dom_classes": [],
       "_model_module": "@jupyter-widgets/controls",
       "_model_module_version": "1.5.0",
       "_model_name": "HBoxModel",
       "_view_count": null,
       "_view_module": "@jupyter-widgets/controls",
       "_view_module_version": "1.5.0",
       "_view_name": "HBoxView",
       "box_style": "",
       "children": [
        "IPY_MODEL_0f6eef7bf55b42b18872524d2ed0fecf",
        "IPY_MODEL_9f716787f6b8461784a6bf1c1cfc693d",
        "IPY_MODEL_741dad430481412c84cdf78740696afc"
       ],
       "layout": "IPY_MODEL_77b0e301c1f646ee8a62a32f3739fc6e"
      }
     },
     "2bb70e0c72a842d2896820374ded5d21": {
      "model_module": "@jupyter-widgets/controls",
      "model_module_version": "1.5.0",
      "model_name": "HTMLModel",
      "state": {
       "_dom_classes": [],
       "_model_module": "@jupyter-widgets/controls",
       "_model_module_version": "1.5.0",
       "_model_name": "HTMLModel",
       "_view_count": null,
       "_view_module": "@jupyter-widgets/controls",
       "_view_module_version": "1.5.0",
       "_view_name": "HTMLView",
       "description": "",
       "description_tooltip": null,
       "layout": "IPY_MODEL_5158bcc716744e2e9b866b210d37e88f",
       "placeholder": "​",
       "style": "IPY_MODEL_3ab81051e83a48d3a82fc894b67ff049",
       "value": "Downloading: 100%"
      }
     },
     "2ee8a9a384f34d0d84a65b0a9f789879": {
      "model_module": "@jupyter-widgets/base",
      "model_module_version": "1.2.0",
      "model_name": "LayoutModel",
      "state": {
       "_model_module": "@jupyter-widgets/base",
       "_model_module_version": "1.2.0",
       "_model_name": "LayoutModel",
       "_view_count": null,
       "_view_module": "@jupyter-widgets/base",
       "_view_module_version": "1.2.0",
       "_view_name": "LayoutView",
       "align_content": null,
       "align_items": null,
       "align_self": null,
       "border": null,
       "bottom": null,
       "display": null,
       "flex": null,
       "flex_flow": null,
       "grid_area": null,
       "grid_auto_columns": null,
       "grid_auto_flow": null,
       "grid_auto_rows": null,
       "grid_column": null,
       "grid_gap": null,
       "grid_row": null,
       "grid_template_areas": null,
       "grid_template_columns": null,
       "grid_template_rows": null,
       "height": null,
       "justify_content": null,
       "justify_items": null,
       "left": null,
       "margin": null,
       "max_height": null,
       "max_width": null,
       "min_height": null,
       "min_width": null,
       "object_fit": null,
       "object_position": null,
       "order": null,
       "overflow": null,
       "overflow_x": null,
       "overflow_y": null,
       "padding": null,
       "right": null,
       "top": null,
       "visibility": null,
       "width": null
      }
     },
     "34b11fcec4dc43a494f84e1b4f60f914": {
      "model_module": "@jupyter-widgets/base",
      "model_module_version": "1.2.0",
      "model_name": "LayoutModel",
      "state": {
       "_model_module": "@jupyter-widgets/base",
       "_model_module_version": "1.2.0",
       "_model_name": "LayoutModel",
       "_view_count": null,
       "_view_module": "@jupyter-widgets/base",
       "_view_module_version": "1.2.0",
       "_view_name": "LayoutView",
       "align_content": null,
       "align_items": null,
       "align_self": null,
       "border": null,
       "bottom": null,
       "display": null,
       "flex": null,
       "flex_flow": null,
       "grid_area": null,
       "grid_auto_columns": null,
       "grid_auto_flow": null,
       "grid_auto_rows": null,
       "grid_column": null,
       "grid_gap": null,
       "grid_row": null,
       "grid_template_areas": null,
       "grid_template_columns": null,
       "grid_template_rows": null,
       "height": null,
       "justify_content": null,
       "justify_items": null,
       "left": null,
       "margin": null,
       "max_height": null,
       "max_width": null,
       "min_height": null,
       "min_width": null,
       "object_fit": null,
       "object_position": null,
       "order": null,
       "overflow": null,
       "overflow_x": null,
       "overflow_y": null,
       "padding": null,
       "right": null,
       "top": null,
       "visibility": null,
       "width": null
      }
     },
     "35cf85ba78e34da9af5036a48622900b": {
      "model_module": "@jupyter-widgets/base",
      "model_module_version": "1.2.0",
      "model_name": "LayoutModel",
      "state": {
       "_model_module": "@jupyter-widgets/base",
       "_model_module_version": "1.2.0",
       "_model_name": "LayoutModel",
       "_view_count": null,
       "_view_module": "@jupyter-widgets/base",
       "_view_module_version": "1.2.0",
       "_view_name": "LayoutView",
       "align_content": null,
       "align_items": null,
       "align_self": null,
       "border": null,
       "bottom": null,
       "display": null,
       "flex": null,
       "flex_flow": null,
       "grid_area": null,
       "grid_auto_columns": null,
       "grid_auto_flow": null,
       "grid_auto_rows": null,
       "grid_column": null,
       "grid_gap": null,
       "grid_row": null,
       "grid_template_areas": null,
       "grid_template_columns": null,
       "grid_template_rows": null,
       "height": null,
       "justify_content": null,
       "justify_items": null,
       "left": null,
       "margin": null,
       "max_height": null,
       "max_width": null,
       "min_height": null,
       "min_width": null,
       "object_fit": null,
       "object_position": null,
       "order": null,
       "overflow": null,
       "overflow_x": null,
       "overflow_y": null,
       "padding": null,
       "right": null,
       "top": null,
       "visibility": null,
       "width": null
      }
     },
     "3ab81051e83a48d3a82fc894b67ff049": {
      "model_module": "@jupyter-widgets/controls",
      "model_module_version": "1.5.0",
      "model_name": "DescriptionStyleModel",
      "state": {
       "_model_module": "@jupyter-widgets/controls",
       "_model_module_version": "1.5.0",
       "_model_name": "DescriptionStyleModel",
       "_view_count": null,
       "_view_module": "@jupyter-widgets/base",
       "_view_module_version": "1.2.0",
       "_view_name": "StyleView",
       "description_width": ""
      }
     },
     "404109692f3b477ea58703bc54f51611": {
      "model_module": "@jupyter-widgets/base",
      "model_module_version": "1.2.0",
      "model_name": "LayoutModel",
      "state": {
       "_model_module": "@jupyter-widgets/base",
       "_model_module_version": "1.2.0",
       "_model_name": "LayoutModel",
       "_view_count": null,
       "_view_module": "@jupyter-widgets/base",
       "_view_module_version": "1.2.0",
       "_view_name": "LayoutView",
       "align_content": null,
       "align_items": null,
       "align_self": null,
       "border": null,
       "bottom": null,
       "display": null,
       "flex": null,
       "flex_flow": null,
       "grid_area": null,
       "grid_auto_columns": null,
       "grid_auto_flow": null,
       "grid_auto_rows": null,
       "grid_column": null,
       "grid_gap": null,
       "grid_row": null,
       "grid_template_areas": null,
       "grid_template_columns": null,
       "grid_template_rows": null,
       "height": null,
       "justify_content": null,
       "justify_items": null,
       "left": null,
       "margin": null,
       "max_height": null,
       "max_width": null,
       "min_height": null,
       "min_width": null,
       "object_fit": null,
       "object_position": null,
       "order": null,
       "overflow": null,
       "overflow_x": null,
       "overflow_y": null,
       "padding": null,
       "right": null,
       "top": null,
       "visibility": null,
       "width": null
      }
     },
     "4418cd164d8d45968ea1f3fc631b5d5c": {
      "model_module": "@jupyter-widgets/controls",
      "model_module_version": "1.5.0",
      "model_name": "ProgressStyleModel",
      "state": {
       "_model_module": "@jupyter-widgets/controls",
       "_model_module_version": "1.5.0",
       "_model_name": "ProgressStyleModel",
       "_view_count": null,
       "_view_module": "@jupyter-widgets/base",
       "_view_module_version": "1.2.0",
       "_view_name": "StyleView",
       "bar_color": null,
       "description_width": ""
      }
     },
     "4564f139f8404bfebecef8f4ad3827a7": {
      "model_module": "@jupyter-widgets/base",
      "model_module_version": "1.2.0",
      "model_name": "LayoutModel",
      "state": {
       "_model_module": "@jupyter-widgets/base",
       "_model_module_version": "1.2.0",
       "_model_name": "LayoutModel",
       "_view_count": null,
       "_view_module": "@jupyter-widgets/base",
       "_view_module_version": "1.2.0",
       "_view_name": "LayoutView",
       "align_content": null,
       "align_items": null,
       "align_self": null,
       "border": null,
       "bottom": null,
       "display": null,
       "flex": null,
       "flex_flow": null,
       "grid_area": null,
       "grid_auto_columns": null,
       "grid_auto_flow": null,
       "grid_auto_rows": null,
       "grid_column": null,
       "grid_gap": null,
       "grid_row": null,
       "grid_template_areas": null,
       "grid_template_columns": null,
       "grid_template_rows": null,
       "height": null,
       "justify_content": null,
       "justify_items": null,
       "left": null,
       "margin": null,
       "max_height": null,
       "max_width": null,
       "min_height": null,
       "min_width": null,
       "object_fit": null,
       "object_position": null,
       "order": null,
       "overflow": null,
       "overflow_x": null,
       "overflow_y": null,
       "padding": null,
       "right": null,
       "top": null,
       "visibility": null,
       "width": null
      }
     },
     "46466252d2a642ba9ab6d78f8fddabf6": {
      "model_module": "@jupyter-widgets/controls",
      "model_module_version": "1.5.0",
      "model_name": "HTMLModel",
      "state": {
       "_dom_classes": [],
       "_model_module": "@jupyter-widgets/controls",
       "_model_module_version": "1.5.0",
       "_model_name": "HTMLModel",
       "_view_count": null,
       "_view_module": "@jupyter-widgets/controls",
       "_view_module_version": "1.5.0",
       "_view_name": "HTMLView",
       "description": "",
       "description_tooltip": null,
       "layout": "IPY_MODEL_0ee799ae50064a0785f9c9fd70dc190d",
       "placeholder": "​",
       "style": "IPY_MODEL_70208cf7b6714441980c66f3eeaffe60",
       "value": " 851k/? [00:00&lt;00:00, 3.52MB/s]"
      }
     },
     "4fa58f04ef0c4c99a7089133da139e2d": {
      "model_module": "@jupyter-widgets/controls",
      "model_module_version": "1.5.0",
      "model_name": "DescriptionStyleModel",
      "state": {
       "_model_module": "@jupyter-widgets/controls",
       "_model_module_version": "1.5.0",
       "_model_name": "DescriptionStyleModel",
       "_view_count": null,
       "_view_module": "@jupyter-widgets/base",
       "_view_module_version": "1.2.0",
       "_view_name": "StyleView",
       "description_width": ""
      }
     },
     "5158bcc716744e2e9b866b210d37e88f": {
      "model_module": "@jupyter-widgets/base",
      "model_module_version": "1.2.0",
      "model_name": "LayoutModel",
      "state": {
       "_model_module": "@jupyter-widgets/base",
       "_model_module_version": "1.2.0",
       "_model_name": "LayoutModel",
       "_view_count": null,
       "_view_module": "@jupyter-widgets/base",
       "_view_module_version": "1.2.0",
       "_view_name": "LayoutView",
       "align_content": null,
       "align_items": null,
       "align_self": null,
       "border": null,
       "bottom": null,
       "display": null,
       "flex": null,
       "flex_flow": null,
       "grid_area": null,
       "grid_auto_columns": null,
       "grid_auto_flow": null,
       "grid_auto_rows": null,
       "grid_column": null,
       "grid_gap": null,
       "grid_row": null,
       "grid_template_areas": null,
       "grid_template_columns": null,
       "grid_template_rows": null,
       "height": null,
       "justify_content": null,
       "justify_items": null,
       "left": null,
       "margin": null,
       "max_height": null,
       "max_width": null,
       "min_height": null,
       "min_width": null,
       "object_fit": null,
       "object_position": null,
       "order": null,
       "overflow": null,
       "overflow_x": null,
       "overflow_y": null,
       "padding": null,
       "right": null,
       "top": null,
       "visibility": null,
       "width": null
      }
     },
     "5608fbbe0b07469db7b80f5609e9b34d": {
      "model_module": "@jupyter-widgets/base",
      "model_module_version": "1.2.0",
      "model_name": "LayoutModel",
      "state": {
       "_model_module": "@jupyter-widgets/base",
       "_model_module_version": "1.2.0",
       "_model_name": "LayoutModel",
       "_view_count": null,
       "_view_module": "@jupyter-widgets/base",
       "_view_module_version": "1.2.0",
       "_view_name": "LayoutView",
       "align_content": null,
       "align_items": null,
       "align_self": null,
       "border": null,
       "bottom": null,
       "display": null,
       "flex": null,
       "flex_flow": null,
       "grid_area": null,
       "grid_auto_columns": null,
       "grid_auto_flow": null,
       "grid_auto_rows": null,
       "grid_column": null,
       "grid_gap": null,
       "grid_row": null,
       "grid_template_areas": null,
       "grid_template_columns": null,
       "grid_template_rows": null,
       "height": null,
       "justify_content": null,
       "justify_items": null,
       "left": null,
       "margin": null,
       "max_height": null,
       "max_width": null,
       "min_height": null,
       "min_width": null,
       "object_fit": null,
       "object_position": null,
       "order": null,
       "overflow": null,
       "overflow_x": null,
       "overflow_y": null,
       "padding": null,
       "right": null,
       "top": null,
       "visibility": null,
       "width": null
      }
     },
     "59c0b3ff13e44571b239361cf85e10c7": {
      "model_module": "@jupyter-widgets/controls",
      "model_module_version": "1.5.0",
      "model_name": "DescriptionStyleModel",
      "state": {
       "_model_module": "@jupyter-widgets/controls",
       "_model_module_version": "1.5.0",
       "_model_name": "DescriptionStyleModel",
       "_view_count": null,
       "_view_module": "@jupyter-widgets/base",
       "_view_module_version": "1.2.0",
       "_view_name": "StyleView",
       "description_width": ""
      }
     },
     "5c0b6adf8d774b09806787622cb4cc56": {
      "model_module": "@jupyter-widgets/base",
      "model_module_version": "1.2.0",
      "model_name": "LayoutModel",
      "state": {
       "_model_module": "@jupyter-widgets/base",
       "_model_module_version": "1.2.0",
       "_model_name": "LayoutModel",
       "_view_count": null,
       "_view_module": "@jupyter-widgets/base",
       "_view_module_version": "1.2.0",
       "_view_name": "LayoutView",
       "align_content": null,
       "align_items": null,
       "align_self": null,
       "border": null,
       "bottom": null,
       "display": null,
       "flex": null,
       "flex_flow": null,
       "grid_area": null,
       "grid_auto_columns": null,
       "grid_auto_flow": null,
       "grid_auto_rows": null,
       "grid_column": null,
       "grid_gap": null,
       "grid_row": null,
       "grid_template_areas": null,
       "grid_template_columns": null,
       "grid_template_rows": null,
       "height": null,
       "justify_content": null,
       "justify_items": null,
       "left": null,
       "margin": null,
       "max_height": null,
       "max_width": null,
       "min_height": null,
       "min_width": null,
       "object_fit": null,
       "object_position": null,
       "order": null,
       "overflow": null,
       "overflow_x": null,
       "overflow_y": null,
       "padding": null,
       "right": null,
       "top": null,
       "visibility": null,
       "width": null
      }
     },
     "5c152f6199924e399c9cdbe49f353a32": {
      "model_module": "@jupyter-widgets/controls",
      "model_module_version": "1.5.0",
      "model_name": "HTMLModel",
      "state": {
       "_dom_classes": [],
       "_model_module": "@jupyter-widgets/controls",
       "_model_module_version": "1.5.0",
       "_model_name": "HTMLModel",
       "_view_count": null,
       "_view_module": "@jupyter-widgets/controls",
       "_view_module_version": "1.5.0",
       "_view_name": "HTMLView",
       "description": "",
       "description_tooltip": null,
       "layout": "IPY_MODEL_5608fbbe0b07469db7b80f5609e9b34d",
       "placeholder": "​",
       "style": "IPY_MODEL_9bb1c0d7ae354dcea982689836af0bf7",
       "value": " 638M/638M [00:20&lt;00:00, 31.0MB/s]"
      }
     },
     "5e27e05c183041eeb6896026734b7c0d": {
      "model_module": "@jupyter-widgets/base",
      "model_module_version": "1.2.0",
      "model_name": "LayoutModel",
      "state": {
       "_model_module": "@jupyter-widgets/base",
       "_model_module_version": "1.2.0",
       "_model_name": "LayoutModel",
       "_view_count": null,
       "_view_module": "@jupyter-widgets/base",
       "_view_module_version": "1.2.0",
       "_view_name": "LayoutView",
       "align_content": null,
       "align_items": null,
       "align_self": null,
       "border": null,
       "bottom": null,
       "display": null,
       "flex": null,
       "flex_flow": null,
       "grid_area": null,
       "grid_auto_columns": null,
       "grid_auto_flow": null,
       "grid_auto_rows": null,
       "grid_column": null,
       "grid_gap": null,
       "grid_row": null,
       "grid_template_areas": null,
       "grid_template_columns": null,
       "grid_template_rows": null,
       "height": null,
       "justify_content": null,
       "justify_items": null,
       "left": null,
       "margin": null,
       "max_height": null,
       "max_width": null,
       "min_height": null,
       "min_width": null,
       "object_fit": null,
       "object_position": null,
       "order": null,
       "overflow": null,
       "overflow_x": null,
       "overflow_y": null,
       "padding": null,
       "right": null,
       "top": null,
       "visibility": null,
       "width": null
      }
     },
     "6209628856294a6789bd83bc75c39711": {
      "model_module": "@jupyter-widgets/controls",
      "model_module_version": "1.5.0",
      "model_name": "ProgressStyleModel",
      "state": {
       "_model_module": "@jupyter-widgets/controls",
       "_model_module_version": "1.5.0",
       "_model_name": "ProgressStyleModel",
       "_view_count": null,
       "_view_module": "@jupyter-widgets/base",
       "_view_module_version": "1.2.0",
       "_view_name": "StyleView",
       "bar_color": null,
       "description_width": ""
      }
     },
     "6a33274064af40968930a75cc6b51d5b": {
      "model_module": "@jupyter-widgets/base",
      "model_module_version": "1.2.0",
      "model_name": "LayoutModel",
      "state": {
       "_model_module": "@jupyter-widgets/base",
       "_model_module_version": "1.2.0",
       "_model_name": "LayoutModel",
       "_view_count": null,
       "_view_module": "@jupyter-widgets/base",
       "_view_module_version": "1.2.0",
       "_view_name": "LayoutView",
       "align_content": null,
       "align_items": null,
       "align_self": null,
       "border": null,
       "bottom": null,
       "display": null,
       "flex": null,
       "flex_flow": null,
       "grid_area": null,
       "grid_auto_columns": null,
       "grid_auto_flow": null,
       "grid_auto_rows": null,
       "grid_column": null,
       "grid_gap": null,
       "grid_row": null,
       "grid_template_areas": null,
       "grid_template_columns": null,
       "grid_template_rows": null,
       "height": null,
       "justify_content": null,
       "justify_items": null,
       "left": null,
       "margin": null,
       "max_height": null,
       "max_width": null,
       "min_height": null,
       "min_width": null,
       "object_fit": null,
       "object_position": null,
       "order": null,
       "overflow": null,
       "overflow_x": null,
       "overflow_y": null,
       "padding": null,
       "right": null,
       "top": null,
       "visibility": null,
       "width": null
      }
     },
     "6bcdbae183a24a75a57e7f53b14eec7b": {
      "model_module": "@jupyter-widgets/controls",
      "model_module_version": "1.5.0",
      "model_name": "HTMLModel",
      "state": {
       "_dom_classes": [],
       "_model_module": "@jupyter-widgets/controls",
       "_model_module_version": "1.5.0",
       "_model_name": "HTMLModel",
       "_view_count": null,
       "_view_module": "@jupyter-widgets/controls",
       "_view_module_version": "1.5.0",
       "_view_name": "HTMLView",
       "description": "",
       "description_tooltip": null,
       "layout": "IPY_MODEL_8a7c1e9299c64ea68a1b20a759f241f8",
       "placeholder": "​",
       "style": "IPY_MODEL_59c0b3ff13e44571b239361cf85e10c7",
       "value": " 39.0/39.0 [00:00&lt;00:00, 858B/s]"
      }
     },
     "70208cf7b6714441980c66f3eeaffe60": {
      "model_module": "@jupyter-widgets/controls",
      "model_module_version": "1.5.0",
      "model_name": "DescriptionStyleModel",
      "state": {
       "_model_module": "@jupyter-widgets/controls",
       "_model_module_version": "1.5.0",
       "_model_name": "DescriptionStyleModel",
       "_view_count": null,
       "_view_module": "@jupyter-widgets/base",
       "_view_module_version": "1.2.0",
       "_view_name": "StyleView",
       "description_width": ""
      }
     },
     "73fa0c325432409fa9601a057061db73": {
      "model_module": "@jupyter-widgets/base",
      "model_module_version": "1.2.0",
      "model_name": "LayoutModel",
      "state": {
       "_model_module": "@jupyter-widgets/base",
       "_model_module_version": "1.2.0",
       "_model_name": "LayoutModel",
       "_view_count": null,
       "_view_module": "@jupyter-widgets/base",
       "_view_module_version": "1.2.0",
       "_view_name": "LayoutView",
       "align_content": null,
       "align_items": null,
       "align_self": null,
       "border": null,
       "bottom": null,
       "display": null,
       "flex": null,
       "flex_flow": null,
       "grid_area": null,
       "grid_auto_columns": null,
       "grid_auto_flow": null,
       "grid_auto_rows": null,
       "grid_column": null,
       "grid_gap": null,
       "grid_row": null,
       "grid_template_areas": null,
       "grid_template_columns": null,
       "grid_template_rows": null,
       "height": null,
       "justify_content": null,
       "justify_items": null,
       "left": null,
       "margin": null,
       "max_height": null,
       "max_width": null,
       "min_height": null,
       "min_width": null,
       "object_fit": null,
       "object_position": null,
       "order": null,
       "overflow": null,
       "overflow_x": null,
       "overflow_y": null,
       "padding": null,
       "right": null,
       "top": null,
       "visibility": null,
       "width": null
      }
     },
     "741dad430481412c84cdf78740696afc": {
      "model_module": "@jupyter-widgets/controls",
      "model_module_version": "1.5.0",
      "model_name": "HTMLModel",
      "state": {
       "_dom_classes": [],
       "_model_module": "@jupyter-widgets/controls",
       "_model_module_version": "1.5.0",
       "_model_name": "HTMLModel",
       "_view_count": null,
       "_view_module": "@jupyter-widgets/controls",
       "_view_module_version": "1.5.0",
       "_view_name": "HTMLView",
       "description": "",
       "description_tooltip": null,
       "layout": "IPY_MODEL_5e27e05c183041eeb6896026734b7c0d",
       "placeholder": "​",
       "style": "IPY_MODEL_96aa6f55af3343c6b3457f90ca17fa9e",
       "value": " 953/953 [00:00&lt;00:00, 25.4kB/s]"
      }
     },
     "773e3acc49e3440f92f67f7b84c7520a": {
      "model_module": "@jupyter-widgets/controls",
      "model_module_version": "1.5.0",
      "model_name": "HTMLModel",
      "state": {
       "_dom_classes": [],
       "_model_module": "@jupyter-widgets/controls",
       "_model_module_version": "1.5.0",
       "_model_name": "HTMLModel",
       "_view_count": null,
       "_view_module": "@jupyter-widgets/controls",
       "_view_module_version": "1.5.0",
       "_view_name": "HTMLView",
       "description": "",
       "description_tooltip": null,
       "layout": "IPY_MODEL_e90906bac9494d898a38047f0b4b0c39",
       "placeholder": "​",
       "style": "IPY_MODEL_4fa58f04ef0c4c99a7089133da139e2d",
       "value": "Downloading: 100%"
      }
     },
     "77b0e301c1f646ee8a62a32f3739fc6e": {
      "model_module": "@jupyter-widgets/base",
      "model_module_version": "1.2.0",
      "model_name": "LayoutModel",
      "state": {
       "_model_module": "@jupyter-widgets/base",
       "_model_module_version": "1.2.0",
       "_model_name": "LayoutModel",
       "_view_count": null,
       "_view_module": "@jupyter-widgets/base",
       "_view_module_version": "1.2.0",
       "_view_name": "LayoutView",
       "align_content": null,
       "align_items": null,
       "align_self": null,
       "border": null,
       "bottom": null,
       "display": null,
       "flex": null,
       "flex_flow": null,
       "grid_area": null,
       "grid_auto_columns": null,
       "grid_auto_flow": null,
       "grid_auto_rows": null,
       "grid_column": null,
       "grid_gap": null,
       "grid_row": null,
       "grid_template_areas": null,
       "grid_template_columns": null,
       "grid_template_rows": null,
       "height": null,
       "justify_content": null,
       "justify_items": null,
       "left": null,
       "margin": null,
       "max_height": null,
       "max_width": null,
       "min_height": null,
       "min_width": null,
       "object_fit": null,
       "object_position": null,
       "order": null,
       "overflow": null,
       "overflow_x": null,
       "overflow_y": null,
       "padding": null,
       "right": null,
       "top": null,
       "visibility": null,
       "width": null
      }
     },
     "7925574a6fbd4e3ebf282fcc0683c130": {
      "model_module": "@jupyter-widgets/base",
      "model_module_version": "1.2.0",
      "model_name": "LayoutModel",
      "state": {
       "_model_module": "@jupyter-widgets/base",
       "_model_module_version": "1.2.0",
       "_model_name": "LayoutModel",
       "_view_count": null,
       "_view_module": "@jupyter-widgets/base",
       "_view_module_version": "1.2.0",
       "_view_name": "LayoutView",
       "align_content": null,
       "align_items": null,
       "align_self": null,
       "border": null,
       "bottom": null,
       "display": null,
       "flex": null,
       "flex_flow": null,
       "grid_area": null,
       "grid_auto_columns": null,
       "grid_auto_flow": null,
       "grid_auto_rows": null,
       "grid_column": null,
       "grid_gap": null,
       "grid_row": null,
       "grid_template_areas": null,
       "grid_template_columns": null,
       "grid_template_rows": null,
       "height": null,
       "justify_content": null,
       "justify_items": null,
       "left": null,
       "margin": null,
       "max_height": null,
       "max_width": null,
       "min_height": null,
       "min_width": null,
       "object_fit": null,
       "object_position": null,
       "order": null,
       "overflow": null,
       "overflow_x": null,
       "overflow_y": null,
       "padding": null,
       "right": null,
       "top": null,
       "visibility": null,
       "width": null
      }
     },
     "79e59e09e97f46dfa18ffd9b6e90122e": {
      "model_module": "@jupyter-widgets/controls",
      "model_module_version": "1.5.0",
      "model_name": "ProgressStyleModel",
      "state": {
       "_model_module": "@jupyter-widgets/controls",
       "_model_module_version": "1.5.0",
       "_model_name": "ProgressStyleModel",
       "_view_count": null,
       "_view_module": "@jupyter-widgets/base",
       "_view_module_version": "1.2.0",
       "_view_name": "StyleView",
       "bar_color": null,
       "description_width": ""
      }
     },
     "8a7c1e9299c64ea68a1b20a759f241f8": {
      "model_module": "@jupyter-widgets/base",
      "model_module_version": "1.2.0",
      "model_name": "LayoutModel",
      "state": {
       "_model_module": "@jupyter-widgets/base",
       "_model_module_version": "1.2.0",
       "_model_name": "LayoutModel",
       "_view_count": null,
       "_view_module": "@jupyter-widgets/base",
       "_view_module_version": "1.2.0",
       "_view_name": "LayoutView",
       "align_content": null,
       "align_items": null,
       "align_self": null,
       "border": null,
       "bottom": null,
       "display": null,
       "flex": null,
       "flex_flow": null,
       "grid_area": null,
       "grid_auto_columns": null,
       "grid_auto_flow": null,
       "grid_auto_rows": null,
       "grid_column": null,
       "grid_gap": null,
       "grid_row": null,
       "grid_template_areas": null,
       "grid_template_columns": null,
       "grid_template_rows": null,
       "height": null,
       "justify_content": null,
       "justify_items": null,
       "left": null,
       "margin": null,
       "max_height": null,
       "max_width": null,
       "min_height": null,
       "min_width": null,
       "object_fit": null,
       "object_position": null,
       "order": null,
       "overflow": null,
       "overflow_x": null,
       "overflow_y": null,
       "padding": null,
       "right": null,
       "top": null,
       "visibility": null,
       "width": null
      }
     },
     "904b3be5bd144ff4866fc4ff42578652": {
      "model_module": "@jupyter-widgets/base",
      "model_module_version": "1.2.0",
      "model_name": "LayoutModel",
      "state": {
       "_model_module": "@jupyter-widgets/base",
       "_model_module_version": "1.2.0",
       "_model_name": "LayoutModel",
       "_view_count": null,
       "_view_module": "@jupyter-widgets/base",
       "_view_module_version": "1.2.0",
       "_view_name": "LayoutView",
       "align_content": null,
       "align_items": null,
       "align_self": null,
       "border": null,
       "bottom": null,
       "display": null,
       "flex": null,
       "flex_flow": null,
       "grid_area": null,
       "grid_auto_columns": null,
       "grid_auto_flow": null,
       "grid_auto_rows": null,
       "grid_column": null,
       "grid_gap": null,
       "grid_row": null,
       "grid_template_areas": null,
       "grid_template_columns": null,
       "grid_template_rows": null,
       "height": null,
       "justify_content": null,
       "justify_items": null,
       "left": null,
       "margin": null,
       "max_height": null,
       "max_width": null,
       "min_height": null,
       "min_width": null,
       "object_fit": null,
       "object_position": null,
       "order": null,
       "overflow": null,
       "overflow_x": null,
       "overflow_y": null,
       "padding": null,
       "right": null,
       "top": null,
       "visibility": null,
       "width": null
      }
     },
     "93da80a0eae443e68101f467aeafb571": {
      "model_module": "@jupyter-widgets/controls",
      "model_module_version": "1.5.0",
      "model_name": "ProgressStyleModel",
      "state": {
       "_model_module": "@jupyter-widgets/controls",
       "_model_module_version": "1.5.0",
       "_model_name": "ProgressStyleModel",
       "_view_count": null,
       "_view_module": "@jupyter-widgets/base",
       "_view_module_version": "1.2.0",
       "_view_name": "StyleView",
       "bar_color": null,
       "description_width": ""
      }
     },
     "958cce05a5ec482a8435029e72383eda": {
      "model_module": "@jupyter-widgets/controls",
      "model_module_version": "1.5.0",
      "model_name": "ProgressStyleModel",
      "state": {
       "_model_module": "@jupyter-widgets/controls",
       "_model_module_version": "1.5.0",
       "_model_name": "ProgressStyleModel",
       "_view_count": null,
       "_view_module": "@jupyter-widgets/base",
       "_view_module_version": "1.2.0",
       "_view_name": "StyleView",
       "bar_color": null,
       "description_width": ""
      }
     },
     "96aa6f55af3343c6b3457f90ca17fa9e": {
      "model_module": "@jupyter-widgets/controls",
      "model_module_version": "1.5.0",
      "model_name": "DescriptionStyleModel",
      "state": {
       "_model_module": "@jupyter-widgets/controls",
       "_model_module_version": "1.5.0",
       "_model_name": "DescriptionStyleModel",
       "_view_count": null,
       "_view_module": "@jupyter-widgets/base",
       "_view_module_version": "1.2.0",
       "_view_name": "StyleView",
       "description_width": ""
      }
     },
     "9bb1c0d7ae354dcea982689836af0bf7": {
      "model_module": "@jupyter-widgets/controls",
      "model_module_version": "1.5.0",
      "model_name": "DescriptionStyleModel",
      "state": {
       "_model_module": "@jupyter-widgets/controls",
       "_model_module_version": "1.5.0",
       "_model_name": "DescriptionStyleModel",
       "_view_count": null,
       "_view_module": "@jupyter-widgets/base",
       "_view_module_version": "1.2.0",
       "_view_name": "StyleView",
       "description_width": ""
      }
     },
     "9f716787f6b8461784a6bf1c1cfc693d": {
      "model_module": "@jupyter-widgets/controls",
      "model_module_version": "1.5.0",
      "model_name": "FloatProgressModel",
      "state": {
       "_dom_classes": [],
       "_model_module": "@jupyter-widgets/controls",
       "_model_module_version": "1.5.0",
       "_model_name": "FloatProgressModel",
       "_view_count": null,
       "_view_module": "@jupyter-widgets/controls",
       "_view_module_version": "1.5.0",
       "_view_name": "ProgressView",
       "bar_style": "success",
       "description": "",
       "description_tooltip": null,
       "layout": "IPY_MODEL_4564f139f8404bfebecef8f4ad3827a7",
       "max": 953.0,
       "min": 0.0,
       "orientation": "horizontal",
       "style": "IPY_MODEL_4418cd164d8d45968ea1f3fc631b5d5c",
       "value": 953.0
      }
     },
     "a17dbaa0c14b4cb1b5814ee32965e44e": {
      "model_module": "@jupyter-widgets/controls",
      "model_module_version": "1.5.0",
      "model_name": "HBoxModel",
      "state": {
       "_dom_classes": [],
       "_model_module": "@jupyter-widgets/controls",
       "_model_module_version": "1.5.0",
       "_model_name": "HBoxModel",
       "_view_count": null,
       "_view_module": "@jupyter-widgets/controls",
       "_view_module_version": "1.5.0",
       "_view_name": "HBoxView",
       "box_style": "",
       "children": [
        "IPY_MODEL_d544e20345174835b981d1668c5f16f7",
        "IPY_MODEL_1682e936e7f74808b7fd706da66fd345",
        "IPY_MODEL_e7ca15efa2f44a4582d556d5e36a271d"
       ],
       "layout": "IPY_MODEL_73fa0c325432409fa9601a057061db73"
      }
     },
     "a68fd5ad40994916aaa1f459dbfa6103": {
      "model_module": "@jupyter-widgets/controls",
      "model_module_version": "1.5.0",
      "model_name": "FloatProgressModel",
      "state": {
       "_dom_classes": [],
       "_model_module": "@jupyter-widgets/controls",
       "_model_module_version": "1.5.0",
       "_model_name": "FloatProgressModel",
       "_view_count": null,
       "_view_module": "@jupyter-widgets/controls",
       "_view_module_version": "1.5.0",
       "_view_name": "ProgressView",
       "bar_style": "success",
       "description": "",
       "description_tooltip": null,
       "layout": "IPY_MODEL_0bb628a524d84230a4e6d9c6680008bf",
       "max": 39.0,
       "min": 0.0,
       "orientation": "horizontal",
       "style": "IPY_MODEL_958cce05a5ec482a8435029e72383eda",
       "value": 39.0
      }
     },
     "abbf52773fcd495e99cd41264d10fa53": {
      "model_module": "@jupyter-widgets/controls",
      "model_module_version": "1.5.0",
      "model_name": "DescriptionStyleModel",
      "state": {
       "_model_module": "@jupyter-widgets/controls",
       "_model_module_version": "1.5.0",
       "_model_name": "DescriptionStyleModel",
       "_view_count": null,
       "_view_module": "@jupyter-widgets/base",
       "_view_module_version": "1.2.0",
       "_view_name": "StyleView",
       "description_width": ""
      }
     },
     "c69837aab9e64396b31794f480971418": {
      "model_module": "@jupyter-widgets/controls",
      "model_module_version": "1.5.0",
      "model_name": "HBoxModel",
      "state": {
       "_dom_classes": [],
       "_model_module": "@jupyter-widgets/controls",
       "_model_module_version": "1.5.0",
       "_model_name": "HBoxModel",
       "_view_count": null,
       "_view_module": "@jupyter-widgets/controls",
       "_view_module_version": "1.5.0",
       "_view_name": "HBoxView",
       "box_style": "",
       "children": [
        "IPY_MODEL_2bb70e0c72a842d2896820374ded5d21",
        "IPY_MODEL_d907c56ca61d49899fa84c6135cf23e8",
        "IPY_MODEL_5c152f6199924e399c9cdbe49f353a32"
       ],
       "layout": "IPY_MODEL_34b11fcec4dc43a494f84e1b4f60f914"
      }
     },
     "d4bfb032a35743f3818e07672e585d6d": {
      "model_module": "@jupyter-widgets/base",
      "model_module_version": "1.2.0",
      "model_name": "LayoutModel",
      "state": {
       "_model_module": "@jupyter-widgets/base",
       "_model_module_version": "1.2.0",
       "_model_name": "LayoutModel",
       "_view_count": null,
       "_view_module": "@jupyter-widgets/base",
       "_view_module_version": "1.2.0",
       "_view_name": "LayoutView",
       "align_content": null,
       "align_items": null,
       "align_self": null,
       "border": null,
       "bottom": null,
       "display": null,
       "flex": null,
       "flex_flow": null,
       "grid_area": null,
       "grid_auto_columns": null,
       "grid_auto_flow": null,
       "grid_auto_rows": null,
       "grid_column": null,
       "grid_gap": null,
       "grid_row": null,
       "grid_template_areas": null,
       "grid_template_columns": null,
       "grid_template_rows": null,
       "height": null,
       "justify_content": null,
       "justify_items": null,
       "left": null,
       "margin": null,
       "max_height": null,
       "max_width": null,
       "min_height": null,
       "min_width": null,
       "object_fit": null,
       "object_position": null,
       "order": null,
       "overflow": null,
       "overflow_x": null,
       "overflow_y": null,
       "padding": null,
       "right": null,
       "top": null,
       "visibility": null,
       "width": null
      }
     },
     "d544e20345174835b981d1668c5f16f7": {
      "model_module": "@jupyter-widgets/controls",
      "model_module_version": "1.5.0",
      "model_name": "HTMLModel",
      "state": {
       "_dom_classes": [],
       "_model_module": "@jupyter-widgets/controls",
       "_model_module_version": "1.5.0",
       "_model_name": "HTMLModel",
       "_view_count": null,
       "_view_module": "@jupyter-widgets/controls",
       "_view_module_version": "1.5.0",
       "_view_name": "HTMLView",
       "description": "",
       "description_tooltip": null,
       "layout": "IPY_MODEL_904b3be5bd144ff4866fc4ff42578652",
       "placeholder": "​",
       "style": "IPY_MODEL_193652deed2d49e5b797f9883ae89a73",
       "value": "Downloading: 100%"
      }
     },
     "d907c56ca61d49899fa84c6135cf23e8": {
      "model_module": "@jupyter-widgets/controls",
      "model_module_version": "1.5.0",
      "model_name": "FloatProgressModel",
      "state": {
       "_dom_classes": [],
       "_model_module": "@jupyter-widgets/controls",
       "_model_module_version": "1.5.0",
       "_model_name": "FloatProgressModel",
       "_view_count": null,
       "_view_module": "@jupyter-widgets/controls",
       "_view_module_version": "1.5.0",
       "_view_name": "ProgressView",
       "bar_style": "success",
       "description": "",
       "description_tooltip": null,
       "layout": "IPY_MODEL_2ee8a9a384f34d0d84a65b0a9f789879",
       "max": 669491321.0,
       "min": 0.0,
       "orientation": "horizontal",
       "style": "IPY_MODEL_93da80a0eae443e68101f467aeafb571",
       "value": 669491321.0
      }
     },
     "e7ca15efa2f44a4582d556d5e36a271d": {
      "model_module": "@jupyter-widgets/controls",
      "model_module_version": "1.5.0",
      "model_name": "HTMLModel",
      "state": {
       "_dom_classes": [],
       "_model_module": "@jupyter-widgets/controls",
       "_model_module_version": "1.5.0",
       "_model_name": "HTMLModel",
       "_view_count": null,
       "_view_module": "@jupyter-widgets/controls",
       "_view_module_version": "1.5.0",
       "_view_name": "HTMLView",
       "description": "",
       "description_tooltip": null,
       "layout": "IPY_MODEL_5c0b6adf8d774b09806787622cb4cc56",
       "placeholder": "​",
       "style": "IPY_MODEL_abbf52773fcd495e99cd41264d10fa53",
       "value": " 112/112 [00:00&lt;00:00, 2.88kB/s]"
      }
     },
     "e90906bac9494d898a38047f0b4b0c39": {
      "model_module": "@jupyter-widgets/base",
      "model_module_version": "1.2.0",
      "model_name": "LayoutModel",
      "state": {
       "_model_module": "@jupyter-widgets/base",
       "_model_module_version": "1.2.0",
       "_model_name": "LayoutModel",
       "_view_count": null,
       "_view_module": "@jupyter-widgets/base",
       "_view_module_version": "1.2.0",
       "_view_name": "LayoutView",
       "align_content": null,
       "align_items": null,
       "align_self": null,
       "border": null,
       "bottom": null,
       "display": null,
       "flex": null,
       "flex_flow": null,
       "grid_area": null,
       "grid_auto_columns": null,
       "grid_auto_flow": null,
       "grid_auto_rows": null,
       "grid_column": null,
       "grid_gap": null,
       "grid_row": null,
       "grid_template_areas": null,
       "grid_template_columns": null,
       "grid_template_rows": null,
       "height": null,
       "justify_content": null,
       "justify_items": null,
       "left": null,
       "margin": null,
       "max_height": null,
       "max_width": null,
       "min_height": null,
       "min_width": null,
       "object_fit": null,
       "object_position": null,
       "order": null,
       "overflow": null,
       "overflow_x": null,
       "overflow_y": null,
       "padding": null,
       "right": null,
       "top": null,
       "visibility": null,
       "width": null
      }
     },
     "ef2984a2b077463bb6c34e3fea489b21": {
      "model_module": "@jupyter-widgets/base",
      "model_module_version": "1.2.0",
      "model_name": "LayoutModel",
      "state": {
       "_model_module": "@jupyter-widgets/base",
       "_model_module_version": "1.2.0",
       "_model_name": "LayoutModel",
       "_view_count": null,
       "_view_module": "@jupyter-widgets/base",
       "_view_module_version": "1.2.0",
       "_view_name": "LayoutView",
       "align_content": null,
       "align_items": null,
       "align_self": null,
       "border": null,
       "bottom": null,
       "display": null,
       "flex": null,
       "flex_flow": null,
       "grid_area": null,
       "grid_auto_columns": null,
       "grid_auto_flow": null,
       "grid_auto_rows": null,
       "grid_column": null,
       "grid_gap": null,
       "grid_row": null,
       "grid_template_areas": null,
       "grid_template_columns": null,
       "grid_template_rows": null,
       "height": null,
       "justify_content": null,
       "justify_items": null,
       "left": null,
       "margin": null,
       "max_height": null,
       "max_width": null,
       "min_height": null,
       "min_width": null,
       "object_fit": null,
       "object_position": null,
       "order": null,
       "overflow": null,
       "overflow_x": null,
       "overflow_y": null,
       "padding": null,
       "right": null,
       "top": null,
       "visibility": null,
       "width": "20px"
      }
     }
    },
    "version_major": 2,
    "version_minor": 0
   }
  }
 },
 "nbformat": 4,
 "nbformat_minor": 5
}
